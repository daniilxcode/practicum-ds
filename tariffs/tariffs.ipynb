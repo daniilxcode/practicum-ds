{
  "cells": [
    {
      "cell_type": "markdown",
      "metadata": {
        "id": "6Ih5Q8I1HU6h"
      },
      "source": [
        "# Рекомендация тарифов"
      ]
    },
    {
      "cell_type": "markdown",
      "source": [
        "## Описание проекта"
      ],
      "metadata": {
        "id": "8RHTu8lmN7CV"
      }
    },
    {
      "cell_type": "markdown",
      "metadata": {
        "id": "uC2PDzEGHU6j"
      },
      "source": [
        "Оператор мобильной связи хочет построить систему, способную проанализировать поведение клиентов и предложить им новый тариф.\n",
        "\n",
        "В распоряжении данные о поведении клиентов, которые уже перешли на новые тарифы. Нужно построить модель для задачи классификации, которая выберет подходящий тариф."
      ]
    },
    {
      "cell_type": "markdown",
      "metadata": {
        "id": "hkC6csxRHU6k"
      },
      "source": [
        "## Изучение данных"
      ]
    },
    {
      "cell_type": "code",
      "execution_count": null,
      "metadata": {
        "id": "4sq0LLD1HU6k"
      },
      "outputs": [],
      "source": [
        "import pandas as pd\n",
        "import numpy as np\n",
        "from sklearn.tree import DecisionTreeClassifier\n",
        "from sklearn.ensemble import RandomForestClassifier\n",
        "from sklearn.linear_model import LogisticRegression\n",
        "from sklearn.dummy import DummyClassifier"
      ]
    },
    {
      "cell_type": "code",
      "execution_count": null,
      "metadata": {
        "id": "dtVuwvWOHU6m"
      },
      "outputs": [],
      "source": [
        "try:\n",
        "    df = pd.read_csv('/datasets/users_behavior.csv')\n",
        "except:\n",
        "    df = pd.read_csv('https://code.s3.yandex.net/datasets/users_behavior.csv')"
      ]
    },
    {
      "cell_type": "code",
      "execution_count": null,
      "metadata": {
        "colab": {
          "base_uri": "https://localhost:8080/",
          "height": 206
        },
        "id": "EWTcv_nwHU6o",
        "outputId": "ece083c8-06ac-47e6-f9e7-be0c5e8a0d09"
      },
      "outputs": [
        {
          "output_type": "execute_result",
          "data": {
            "text/plain": [
              "   calls  minutes  messages   mb_used  is_ultra\n",
              "0   40.0   311.90      83.0  19915.42         0\n",
              "1   85.0   516.75      56.0  22696.96         0\n",
              "2   77.0   467.66      86.0  21060.45         0\n",
              "3  106.0   745.53      81.0   8437.39         1\n",
              "4   66.0   418.74       1.0  14502.75         0"
            ],
            "text/html": [
              "\n",
              "  <div id=\"df-f8ea15f8-3779-4c4d-b36b-e2ade271292e\" class=\"colab-df-container\">\n",
              "    <div>\n",
              "<style scoped>\n",
              "    .dataframe tbody tr th:only-of-type {\n",
              "        vertical-align: middle;\n",
              "    }\n",
              "\n",
              "    .dataframe tbody tr th {\n",
              "        vertical-align: top;\n",
              "    }\n",
              "\n",
              "    .dataframe thead th {\n",
              "        text-align: right;\n",
              "    }\n",
              "</style>\n",
              "<table border=\"1\" class=\"dataframe\">\n",
              "  <thead>\n",
              "    <tr style=\"text-align: right;\">\n",
              "      <th></th>\n",
              "      <th>calls</th>\n",
              "      <th>minutes</th>\n",
              "      <th>messages</th>\n",
              "      <th>mb_used</th>\n",
              "      <th>is_ultra</th>\n",
              "    </tr>\n",
              "  </thead>\n",
              "  <tbody>\n",
              "    <tr>\n",
              "      <th>0</th>\n",
              "      <td>40.0</td>\n",
              "      <td>311.90</td>\n",
              "      <td>83.0</td>\n",
              "      <td>19915.42</td>\n",
              "      <td>0</td>\n",
              "    </tr>\n",
              "    <tr>\n",
              "      <th>1</th>\n",
              "      <td>85.0</td>\n",
              "      <td>516.75</td>\n",
              "      <td>56.0</td>\n",
              "      <td>22696.96</td>\n",
              "      <td>0</td>\n",
              "    </tr>\n",
              "    <tr>\n",
              "      <th>2</th>\n",
              "      <td>77.0</td>\n",
              "      <td>467.66</td>\n",
              "      <td>86.0</td>\n",
              "      <td>21060.45</td>\n",
              "      <td>0</td>\n",
              "    </tr>\n",
              "    <tr>\n",
              "      <th>3</th>\n",
              "      <td>106.0</td>\n",
              "      <td>745.53</td>\n",
              "      <td>81.0</td>\n",
              "      <td>8437.39</td>\n",
              "      <td>1</td>\n",
              "    </tr>\n",
              "    <tr>\n",
              "      <th>4</th>\n",
              "      <td>66.0</td>\n",
              "      <td>418.74</td>\n",
              "      <td>1.0</td>\n",
              "      <td>14502.75</td>\n",
              "      <td>0</td>\n",
              "    </tr>\n",
              "  </tbody>\n",
              "</table>\n",
              "</div>\n",
              "    <div class=\"colab-df-buttons\">\n",
              "\n",
              "  <div class=\"colab-df-container\">\n",
              "    <button class=\"colab-df-convert\" onclick=\"convertToInteractive('df-f8ea15f8-3779-4c4d-b36b-e2ade271292e')\"\n",
              "            title=\"Convert this dataframe to an interactive table.\"\n",
              "            style=\"display:none;\">\n",
              "\n",
              "  <svg xmlns=\"http://www.w3.org/2000/svg\" height=\"24px\" viewBox=\"0 -960 960 960\">\n",
              "    <path d=\"M120-120v-720h720v720H120Zm60-500h600v-160H180v160Zm220 220h160v-160H400v160Zm0 220h160v-160H400v160ZM180-400h160v-160H180v160Zm440 0h160v-160H620v160ZM180-180h160v-160H180v160Zm440 0h160v-160H620v160Z\"/>\n",
              "  </svg>\n",
              "    </button>\n",
              "\n",
              "  <style>\n",
              "    .colab-df-container {\n",
              "      display:flex;\n",
              "      gap: 12px;\n",
              "    }\n",
              "\n",
              "    .colab-df-convert {\n",
              "      background-color: #E8F0FE;\n",
              "      border: none;\n",
              "      border-radius: 50%;\n",
              "      cursor: pointer;\n",
              "      display: none;\n",
              "      fill: #1967D2;\n",
              "      height: 32px;\n",
              "      padding: 0 0 0 0;\n",
              "      width: 32px;\n",
              "    }\n",
              "\n",
              "    .colab-df-convert:hover {\n",
              "      background-color: #E2EBFA;\n",
              "      box-shadow: 0px 1px 2px rgba(60, 64, 67, 0.3), 0px 1px 3px 1px rgba(60, 64, 67, 0.15);\n",
              "      fill: #174EA6;\n",
              "    }\n",
              "\n",
              "    .colab-df-buttons div {\n",
              "      margin-bottom: 4px;\n",
              "    }\n",
              "\n",
              "    [theme=dark] .colab-df-convert {\n",
              "      background-color: #3B4455;\n",
              "      fill: #D2E3FC;\n",
              "    }\n",
              "\n",
              "    [theme=dark] .colab-df-convert:hover {\n",
              "      background-color: #434B5C;\n",
              "      box-shadow: 0px 1px 3px 1px rgba(0, 0, 0, 0.15);\n",
              "      filter: drop-shadow(0px 1px 2px rgba(0, 0, 0, 0.3));\n",
              "      fill: #FFFFFF;\n",
              "    }\n",
              "  </style>\n",
              "\n",
              "    <script>\n",
              "      const buttonEl =\n",
              "        document.querySelector('#df-f8ea15f8-3779-4c4d-b36b-e2ade271292e button.colab-df-convert');\n",
              "      buttonEl.style.display =\n",
              "        google.colab.kernel.accessAllowed ? 'block' : 'none';\n",
              "\n",
              "      async function convertToInteractive(key) {\n",
              "        const element = document.querySelector('#df-f8ea15f8-3779-4c4d-b36b-e2ade271292e');\n",
              "        const dataTable =\n",
              "          await google.colab.kernel.invokeFunction('convertToInteractive',\n",
              "                                                    [key], {});\n",
              "        if (!dataTable) return;\n",
              "\n",
              "        const docLinkHtml = 'Like what you see? Visit the ' +\n",
              "          '<a target=\"_blank\" href=https://colab.research.google.com/notebooks/data_table.ipynb>data table notebook</a>'\n",
              "          + ' to learn more about interactive tables.';\n",
              "        element.innerHTML = '';\n",
              "        dataTable['output_type'] = 'display_data';\n",
              "        await google.colab.output.renderOutput(dataTable, element);\n",
              "        const docLink = document.createElement('div');\n",
              "        docLink.innerHTML = docLinkHtml;\n",
              "        element.appendChild(docLink);\n",
              "      }\n",
              "    </script>\n",
              "  </div>\n",
              "\n",
              "\n",
              "<div id=\"df-c44e3768-3ff1-4be6-9604-e033d89ff1e9\">\n",
              "  <button class=\"colab-df-quickchart\" onclick=\"quickchart('df-c44e3768-3ff1-4be6-9604-e033d89ff1e9')\"\n",
              "            title=\"Suggest charts.\"\n",
              "            style=\"display:none;\">\n",
              "\n",
              "<svg xmlns=\"http://www.w3.org/2000/svg\" height=\"24px\"viewBox=\"0 0 24 24\"\n",
              "     width=\"24px\">\n",
              "    <g>\n",
              "        <path d=\"M19 3H5c-1.1 0-2 .9-2 2v14c0 1.1.9 2 2 2h14c1.1 0 2-.9 2-2V5c0-1.1-.9-2-2-2zM9 17H7v-7h2v7zm4 0h-2V7h2v10zm4 0h-2v-4h2v4z\"/>\n",
              "    </g>\n",
              "</svg>\n",
              "  </button>\n",
              "\n",
              "<style>\n",
              "  .colab-df-quickchart {\n",
              "      --bg-color: #E8F0FE;\n",
              "      --fill-color: #1967D2;\n",
              "      --hover-bg-color: #E2EBFA;\n",
              "      --hover-fill-color: #174EA6;\n",
              "      --disabled-fill-color: #AAA;\n",
              "      --disabled-bg-color: #DDD;\n",
              "  }\n",
              "\n",
              "  [theme=dark] .colab-df-quickchart {\n",
              "      --bg-color: #3B4455;\n",
              "      --fill-color: #D2E3FC;\n",
              "      --hover-bg-color: #434B5C;\n",
              "      --hover-fill-color: #FFFFFF;\n",
              "      --disabled-bg-color: #3B4455;\n",
              "      --disabled-fill-color: #666;\n",
              "  }\n",
              "\n",
              "  .colab-df-quickchart {\n",
              "    background-color: var(--bg-color);\n",
              "    border: none;\n",
              "    border-radius: 50%;\n",
              "    cursor: pointer;\n",
              "    display: none;\n",
              "    fill: var(--fill-color);\n",
              "    height: 32px;\n",
              "    padding: 0;\n",
              "    width: 32px;\n",
              "  }\n",
              "\n",
              "  .colab-df-quickchart:hover {\n",
              "    background-color: var(--hover-bg-color);\n",
              "    box-shadow: 0 1px 2px rgba(60, 64, 67, 0.3), 0 1px 3px 1px rgba(60, 64, 67, 0.15);\n",
              "    fill: var(--button-hover-fill-color);\n",
              "  }\n",
              "\n",
              "  .colab-df-quickchart-complete:disabled,\n",
              "  .colab-df-quickchart-complete:disabled:hover {\n",
              "    background-color: var(--disabled-bg-color);\n",
              "    fill: var(--disabled-fill-color);\n",
              "    box-shadow: none;\n",
              "  }\n",
              "\n",
              "  .colab-df-spinner {\n",
              "    border: 2px solid var(--fill-color);\n",
              "    border-color: transparent;\n",
              "    border-bottom-color: var(--fill-color);\n",
              "    animation:\n",
              "      spin 1s steps(1) infinite;\n",
              "  }\n",
              "\n",
              "  @keyframes spin {\n",
              "    0% {\n",
              "      border-color: transparent;\n",
              "      border-bottom-color: var(--fill-color);\n",
              "      border-left-color: var(--fill-color);\n",
              "    }\n",
              "    20% {\n",
              "      border-color: transparent;\n",
              "      border-left-color: var(--fill-color);\n",
              "      border-top-color: var(--fill-color);\n",
              "    }\n",
              "    30% {\n",
              "      border-color: transparent;\n",
              "      border-left-color: var(--fill-color);\n",
              "      border-top-color: var(--fill-color);\n",
              "      border-right-color: var(--fill-color);\n",
              "    }\n",
              "    40% {\n",
              "      border-color: transparent;\n",
              "      border-right-color: var(--fill-color);\n",
              "      border-top-color: var(--fill-color);\n",
              "    }\n",
              "    60% {\n",
              "      border-color: transparent;\n",
              "      border-right-color: var(--fill-color);\n",
              "    }\n",
              "    80% {\n",
              "      border-color: transparent;\n",
              "      border-right-color: var(--fill-color);\n",
              "      border-bottom-color: var(--fill-color);\n",
              "    }\n",
              "    90% {\n",
              "      border-color: transparent;\n",
              "      border-bottom-color: var(--fill-color);\n",
              "    }\n",
              "  }\n",
              "</style>\n",
              "\n",
              "  <script>\n",
              "    async function quickchart(key) {\n",
              "      const quickchartButtonEl =\n",
              "        document.querySelector('#' + key + ' button');\n",
              "      quickchartButtonEl.disabled = true;  // To prevent multiple clicks.\n",
              "      quickchartButtonEl.classList.add('colab-df-spinner');\n",
              "      try {\n",
              "        const charts = await google.colab.kernel.invokeFunction(\n",
              "            'suggestCharts', [key], {});\n",
              "      } catch (error) {\n",
              "        console.error('Error during call to suggestCharts:', error);\n",
              "      }\n",
              "      quickchartButtonEl.classList.remove('colab-df-spinner');\n",
              "      quickchartButtonEl.classList.add('colab-df-quickchart-complete');\n",
              "    }\n",
              "    (() => {\n",
              "      let quickchartButtonEl =\n",
              "        document.querySelector('#df-c44e3768-3ff1-4be6-9604-e033d89ff1e9 button');\n",
              "      quickchartButtonEl.style.display =\n",
              "        google.colab.kernel.accessAllowed ? 'block' : 'none';\n",
              "    })();\n",
              "  </script>\n",
              "</div>\n",
              "    </div>\n",
              "  </div>\n"
            ]
          },
          "metadata": {},
          "execution_count": 3
        }
      ],
      "source": [
        "df.head()"
      ]
    },
    {
      "cell_type": "code",
      "execution_count": null,
      "metadata": {
        "scrolled": true,
        "colab": {
          "base_uri": "https://localhost:8080/"
        },
        "id": "6ZgzHxl_HU6p",
        "outputId": "0eedc566-2e93-4804-fbb3-47fb4099d7f9"
      },
      "outputs": [
        {
          "output_type": "stream",
          "name": "stdout",
          "text": [
            "<class 'pandas.core.frame.DataFrame'>\n",
            "RangeIndex: 3214 entries, 0 to 3213\n",
            "Data columns (total 5 columns):\n",
            " #   Column    Non-Null Count  Dtype  \n",
            "---  ------    --------------  -----  \n",
            " 0   calls     3214 non-null   float64\n",
            " 1   minutes   3214 non-null   float64\n",
            " 2   messages  3214 non-null   float64\n",
            " 3   mb_used   3214 non-null   float64\n",
            " 4   is_ultra  3214 non-null   int64  \n",
            "dtypes: float64(4), int64(1)\n",
            "memory usage: 125.7 KB\n"
          ]
        }
      ],
      "source": [
        "df.info()"
      ]
    },
    {
      "cell_type": "code",
      "source": [
        "df.duplicated().sum()"
      ],
      "metadata": {
        "colab": {
          "base_uri": "https://localhost:8080/"
        },
        "id": "jN1E0vv0Ka6l",
        "outputId": "e2a19cb8-94a0-4092-a3db-b0b0e9898338"
      },
      "execution_count": null,
      "outputs": [
        {
          "output_type": "execute_result",
          "data": {
            "text/plain": [
              "0"
            ]
          },
          "metadata": {},
          "execution_count": 5
        }
      ]
    },
    {
      "cell_type": "markdown",
      "source": [
        "Итого: Пропусков и дубликатов в данных нет, т.к. была проведена предварительная предобработка"
      ],
      "metadata": {
        "id": "4xy7_QSbIvzQ"
      }
    },
    {
      "cell_type": "markdown",
      "metadata": {
        "id": "jTcrV166HU6r"
      },
      "source": [
        "## Разделение данных на выборки"
      ]
    },
    {
      "cell_type": "code",
      "execution_count": null,
      "metadata": {
        "id": "tcKpiwEqHU6r"
      },
      "outputs": [],
      "source": [
        "seed = 4"
      ]
    },
    {
      "cell_type": "code",
      "execution_count": null,
      "metadata": {
        "id": "RwDuI6bGHU6s"
      },
      "outputs": [],
      "source": [
        "features = df.drop(['is_ultra'], axis=1)\n",
        "target = df['is_ultra']"
      ]
    },
    {
      "cell_type": "code",
      "execution_count": null,
      "metadata": {
        "id": "YkKfqnA9HU6s"
      },
      "outputs": [],
      "source": [
        "l = df.shape[0]\n",
        "indices = [int(.6*l), int(.8*l)] # 60% : 20% : 20%\n",
        "\n",
        "features_train, features_valid, features_test = \\\n",
        "    np.split(features.sample(frac=1, random_state=seed), indices)\n",
        "target_train, target_valid, target_test = \\\n",
        "    np.split(target.sample(frac=1, random_state=seed), indices)"
      ]
    },
    {
      "cell_type": "code",
      "execution_count": null,
      "metadata": {
        "colab": {
          "base_uri": "https://localhost:8080/"
        },
        "id": "MJUJ52ClHU6t",
        "outputId": "2a48e51d-6299-46cc-c0cb-2f1bc489bbce"
      },
      "outputs": [
        {
          "output_type": "execute_result",
          "data": {
            "text/plain": [
              "((1928, 4), (1928,))"
            ]
          },
          "metadata": {},
          "execution_count": 9
        }
      ],
      "source": [
        "features_train.shape, target_train.shape"
      ]
    },
    {
      "cell_type": "code",
      "execution_count": null,
      "metadata": {
        "colab": {
          "base_uri": "https://localhost:8080/"
        },
        "id": "V4thwyOTHU6t",
        "outputId": "0443ebb6-350c-435f-842c-7309341ee033"
      },
      "outputs": [
        {
          "output_type": "execute_result",
          "data": {
            "text/plain": [
              "((643, 4), (643,))"
            ]
          },
          "metadata": {},
          "execution_count": 10
        }
      ],
      "source": [
        "features_valid.shape, target_valid.shape"
      ]
    },
    {
      "cell_type": "code",
      "execution_count": null,
      "metadata": {
        "colab": {
          "base_uri": "https://localhost:8080/"
        },
        "id": "6qYOC3fIHU6u",
        "outputId": "85bc6188-8046-4f37-8b73-d568fed0cfcc"
      },
      "outputs": [
        {
          "output_type": "execute_result",
          "data": {
            "text/plain": [
              "((643, 4), (643,))"
            ]
          },
          "metadata": {},
          "execution_count": 11
        }
      ],
      "source": [
        "features_test.shape, target_test.shape"
      ]
    },
    {
      "cell_type": "markdown",
      "metadata": {
        "id": "HwpTjfbgHU6w"
      },
      "source": [
        "## Исследование моделей"
      ]
    },
    {
      "cell_type": "code",
      "execution_count": null,
      "metadata": {
        "colab": {
          "base_uri": "https://localhost:8080/"
        },
        "id": "3tPf2WNgHU6w",
        "outputId": "90cc289b-a893-40dd-86d3-a7447d129218"
      },
      "outputs": [
        {
          "output_type": "stream",
          "name": "stdout",
          "text": [
            "best depth: 6, accuracy: 0.807\n"
          ]
        }
      ],
      "source": [
        "best_accuracy = 0\n",
        "best_depth = None\n",
        "for depth in range(1, 21):\n",
        "    model = DecisionTreeClassifier(random_state=seed, max_depth=depth)\n",
        "    model.fit(features_train, target_train)\n",
        "    accuracy = model.score(features_valid, target_valid)\n",
        "    if accuracy > best_accuracy:\n",
        "        best_accuracy = accuracy\n",
        "        best_depth = depth\n",
        "\n",
        "print(f'best depth: {best_depth}, accuracy: {best_accuracy:.3f}')"
      ]
    },
    {
      "cell_type": "code",
      "execution_count": null,
      "metadata": {
        "colab": {
          "base_uri": "https://localhost:8080/"
        },
        "id": "fd1ozjwrHU6x",
        "outputId": "7100483f-c1c9-439a-c92f-cd38a02e0d99"
      },
      "outputs": [
        {
          "output_type": "stream",
          "name": "stdout",
          "text": [
            "best estimators: 50, depth: 7, accuracy: 0.813\n"
          ]
        }
      ],
      "source": [
        "best_accuracy = 0\n",
        "best_est = None\n",
        "best_depth = None\n",
        "for est in range(10, 101, 10):\n",
        "    for depth in range(1, 11, 1):\n",
        "        model = RandomForestClassifier(random_state=seed, n_estimators=est, max_depth=depth)\n",
        "        model.fit(features_train, target_train)\n",
        "        accuracy = model.score(features_valid, target_valid)\n",
        "        if accuracy > best_accuracy:\n",
        "            best_accuracy = accuracy\n",
        "            best_est = est\n",
        "            best_depth = depth\n",
        "\n",
        "print(f'best estimators: {best_est}, depth: {best_depth}, accuracy: {best_accuracy:.3f}')"
      ]
    },
    {
      "cell_type": "code",
      "execution_count": null,
      "metadata": {
        "scrolled": true,
        "colab": {
          "base_uri": "https://localhost:8080/"
        },
        "id": "geSBvab8HU6x",
        "outputId": "1f5b7cab-2660-47bf-939c-ff2c674696fd"
      },
      "outputs": [
        {
          "output_type": "stream",
          "name": "stdout",
          "text": [
            "accuracy: 0.760\n"
          ]
        }
      ],
      "source": [
        "model = LogisticRegression(random_state=seed)\n",
        "model.fit(features_train, target_train)\n",
        "accuracy = model.score(features_valid, target_valid)\n",
        "\n",
        "print(f'accuracy: {accuracy:.3f}')"
      ]
    },
    {
      "cell_type": "markdown",
      "metadata": {
        "id": "PwH_gzWxHU6y"
      },
      "source": [
        "Самая высокую точность показала модель случайного леса, она же самая медленная. Чуть-чуть меньше точность у более быстрой модели решающего дерева.\n",
        "\n",
        "Самая низкая точность у получилась у Логистической регрессии."
      ]
    },
    {
      "cell_type": "markdown",
      "metadata": {
        "id": "tyrNHb7qHU6y"
      },
      "source": [
        "## Проверка модели на тестовой выборке"
      ]
    },
    {
      "cell_type": "code",
      "execution_count": null,
      "metadata": {
        "colab": {
          "base_uri": "https://localhost:8080/"
        },
        "id": "RvqFzw-qHU6y",
        "outputId": "a719a13f-a8f0-454a-de89-a43f51a73470"
      },
      "outputs": [
        {
          "output_type": "stream",
          "name": "stdout",
          "text": [
            "accuracy: 0.801\n"
          ]
        }
      ],
      "source": [
        "model = RandomForestClassifier(random_state=seed, n_estimators=50, max_depth=7)\n",
        "model.fit(features_train, target_train)\n",
        "test_accuracy = model.score(features_test, target_test)\n",
        "\n",
        "print(f'accuracy: {test_accuracy:.3f}')"
      ]
    },
    {
      "cell_type": "markdown",
      "metadata": {
        "id": "VUbch749HU6z"
      },
      "source": [
        "## Проверка модели на адекватность"
      ]
    },
    {
      "cell_type": "code",
      "execution_count": null,
      "metadata": {
        "colab": {
          "base_uri": "https://localhost:8080/"
        },
        "id": "YnTk_qlpHU6z",
        "outputId": "048d33f0-1f07-4442-9c32-f6897bf6ff2a"
      },
      "outputs": [
        {
          "output_type": "stream",
          "name": "stdout",
          "text": [
            "Точность dummy модели: 0.689\n",
            "Модель прошла проверку.\n"
          ]
        }
      ],
      "source": [
        "dummy_accuracy = 0\n",
        "for s in [0, 1, 'uniform', 'stratified']:\n",
        "    if isinstance(s, int):\n",
        "        model = DummyClassifier(strategy='constant', constant=s)\n",
        "    else:\n",
        "        model = DummyClassifier(random_state=seed, strategy=s)\n",
        "    model.fit(features_train, target_train)\n",
        "    accuracy = model.score(features_test, target_test)\n",
        "    if accuracy > dummy_accuracy:\n",
        "        dummy_accuracy = accuracy\n",
        "\n",
        "print(f'Точность dummy модели: {dummy_accuracy:.3f}')\n",
        "if test_accuracy > dummy_accuracy:\n",
        "    print('Модель прошла проверку.')\n",
        "else:\n",
        "    print('Модель провалила проверку.')"
      ]
    },
    {
      "cell_type": "markdown",
      "source": [
        "## Выводы"
      ],
      "metadata": {
        "id": "UJ4evvqNNU8x"
      }
    },
    {
      "cell_type": "markdown",
      "source": [
        "- Были построены несколько моделей классификации и подобраны гиперпараметры для них на валидации\n",
        "- Выбрана лучшая модель и проверена точность на тестовой выборке\n",
        "- Проведено сравнение с dummy моделью\n",
        "- В результате, лучшая модель добилась необходимого качества"
      ],
      "metadata": {
        "id": "6p_3RBZ4NXz_"
      }
    },
    {
      "cell_type": "code",
      "source": [],
      "metadata": {
        "id": "VsxrwlSONXbh"
      },
      "execution_count": null,
      "outputs": []
    }
  ],
  "metadata": {
    "ExecuteTimeLog": [
      {
        "duration": 44,
        "start_time": "2023-02-10T04:05:20.168Z"
      },
      {
        "duration": 372,
        "start_time": "2023-02-10T04:05:28.748Z"
      },
      {
        "duration": 50,
        "start_time": "2023-02-10T04:05:29.122Z"
      },
      {
        "duration": 64,
        "start_time": "2023-02-10T04:05:38.629Z"
      },
      {
        "duration": 17,
        "start_time": "2023-02-10T04:05:45.956Z"
      },
      {
        "duration": 18,
        "start_time": "2023-02-10T04:05:55.660Z"
      },
      {
        "duration": 3,
        "start_time": "2023-02-10T05:36:47.986Z"
      },
      {
        "duration": 25,
        "start_time": "2023-02-10T05:36:48.203Z"
      },
      {
        "duration": 9,
        "start_time": "2023-02-10T05:36:48.407Z"
      },
      {
        "duration": 10,
        "start_time": "2023-02-10T05:36:48.839Z"
      },
      {
        "duration": 3,
        "start_time": "2023-02-10T05:36:50.815Z"
      },
      {
        "duration": 4,
        "start_time": "2023-02-10T05:36:51.231Z"
      },
      {
        "duration": 7,
        "start_time": "2023-02-10T05:36:51.632Z"
      },
      {
        "duration": 711,
        "start_time": "2023-02-10T05:47:44.804Z"
      },
      {
        "duration": 68,
        "start_time": "2023-02-10T05:52:26.865Z"
      },
      {
        "duration": 69,
        "start_time": "2023-02-10T05:55:15.218Z"
      },
      {
        "duration": 60,
        "start_time": "2023-02-10T05:55:24.046Z"
      },
      {
        "duration": 827,
        "start_time": "2023-02-10T06:01:51.252Z"
      },
      {
        "duration": 232,
        "start_time": "2023-02-10T06:02:02.734Z"
      },
      {
        "duration": 842,
        "start_time": "2023-02-10T06:02:05.933Z"
      },
      {
        "duration": 240,
        "start_time": "2023-02-10T06:02:10.052Z"
      },
      {
        "duration": 815,
        "start_time": "2023-02-10T06:02:19.572Z"
      },
      {
        "duration": 28,
        "start_time": "2023-02-10T06:02:26.749Z"
      },
      {
        "duration": 18128,
        "start_time": "2023-02-10T06:02:41.421Z"
      },
      {
        "duration": 890,
        "start_time": "2023-02-10T06:03:08.895Z"
      },
      {
        "duration": 60,
        "start_time": "2023-02-10T06:03:36.736Z"
      },
      {
        "duration": 1745,
        "start_time": "2023-02-10T06:03:50.640Z"
      },
      {
        "duration": 2036,
        "start_time": "2023-02-10T06:04:02.202Z"
      },
      {
        "duration": 47,
        "start_time": "2023-02-10T06:04:23.910Z"
      },
      {
        "duration": 1999,
        "start_time": "2023-02-10T06:04:28.373Z"
      },
      {
        "duration": 1464,
        "start_time": "2023-02-10T06:04:44.300Z"
      },
      {
        "duration": 4962,
        "start_time": "2023-02-10T06:05:03.300Z"
      },
      {
        "duration": 33,
        "start_time": "2023-02-10T06:33:27.583Z"
      },
      {
        "duration": 31,
        "start_time": "2023-02-10T06:33:34.197Z"
      },
      {
        "duration": 38,
        "start_time": "2023-02-10T06:33:39.693Z"
      },
      {
        "duration": 31,
        "start_time": "2023-02-10T06:33:45.461Z"
      },
      {
        "duration": 2,
        "start_time": "2023-02-10T07:06:51.628Z"
      },
      {
        "duration": 3,
        "start_time": "2023-02-10T07:06:54.147Z"
      },
      {
        "duration": 6,
        "start_time": "2023-02-10T07:06:54.387Z"
      },
      {
        "duration": 63,
        "start_time": "2023-02-10T07:06:55.395Z"
      },
      {
        "duration": 4746,
        "start_time": "2023-02-10T07:06:56.139Z"
      },
      {
        "duration": 22,
        "start_time": "2023-02-10T07:07:00.887Z"
      },
      {
        "duration": 3,
        "start_time": "2023-02-10T07:07:15.594Z"
      },
      {
        "duration": 4,
        "start_time": "2023-02-10T07:07:15.754Z"
      },
      {
        "duration": 7,
        "start_time": "2023-02-10T07:07:15.921Z"
      },
      {
        "duration": 61,
        "start_time": "2023-02-10T07:07:16.699Z"
      },
      {
        "duration": 4826,
        "start_time": "2023-02-10T07:07:17.242Z"
      },
      {
        "duration": 23,
        "start_time": "2023-02-10T07:07:22.069Z"
      },
      {
        "duration": 3,
        "start_time": "2023-02-10T07:07:33.465Z"
      },
      {
        "duration": 3,
        "start_time": "2023-02-10T07:07:33.626Z"
      },
      {
        "duration": 6,
        "start_time": "2023-02-10T07:07:33.802Z"
      },
      {
        "duration": 68,
        "start_time": "2023-02-10T07:07:34.346Z"
      },
      {
        "duration": 4811,
        "start_time": "2023-02-10T07:07:34.530Z"
      },
      {
        "duration": 22,
        "start_time": "2023-02-10T07:07:39.343Z"
      },
      {
        "duration": 2,
        "start_time": "2023-02-10T07:08:19.426Z"
      },
      {
        "duration": 5,
        "start_time": "2023-02-10T07:08:19.585Z"
      },
      {
        "duration": 8,
        "start_time": "2023-02-10T07:08:19.753Z"
      },
      {
        "duration": 75,
        "start_time": "2023-02-10T07:08:20.354Z"
      },
      {
        "duration": 5115,
        "start_time": "2023-02-10T07:08:21.850Z"
      },
      {
        "duration": 37,
        "start_time": "2023-02-10T07:08:26.968Z"
      },
      {
        "duration": 3,
        "start_time": "2023-02-10T07:08:45.569Z"
      },
      {
        "duration": 3,
        "start_time": "2023-02-10T07:08:45.730Z"
      },
      {
        "duration": 7,
        "start_time": "2023-02-10T07:08:45.929Z"
      },
      {
        "duration": 73,
        "start_time": "2023-02-10T07:08:46.506Z"
      },
      {
        "duration": 5040,
        "start_time": "2023-02-10T07:08:46.949Z"
      },
      {
        "duration": 37,
        "start_time": "2023-02-10T07:08:51.991Z"
      },
      {
        "duration": 3,
        "start_time": "2023-02-10T07:08:57.073Z"
      },
      {
        "duration": 4,
        "start_time": "2023-02-10T07:08:57.233Z"
      },
      {
        "duration": 7,
        "start_time": "2023-02-10T07:08:57.393Z"
      },
      {
        "duration": 66,
        "start_time": "2023-02-10T07:08:57.779Z"
      },
      {
        "duration": 5112,
        "start_time": "2023-02-10T07:08:58.394Z"
      },
      {
        "duration": 40,
        "start_time": "2023-02-10T07:09:03.508Z"
      },
      {
        "duration": 181,
        "start_time": "2023-02-10T07:11:13.706Z"
      },
      {
        "duration": 48,
        "start_time": "2023-02-10T07:11:32.689Z"
      },
      {
        "duration": 12,
        "start_time": "2023-02-10T07:11:59.026Z"
      },
      {
        "duration": 189,
        "start_time": "2023-02-10T07:12:16.073Z"
      },
      {
        "duration": 13,
        "start_time": "2023-02-10T07:12:16.265Z"
      },
      {
        "duration": 12,
        "start_time": "2023-02-10T07:12:19.954Z"
      },
      {
        "duration": 168,
        "start_time": "2023-02-10T07:12:21.313Z"
      },
      {
        "duration": 4,
        "start_time": "2023-02-10T07:12:51.577Z"
      },
      {
        "duration": 4,
        "start_time": "2023-02-10T07:12:51.738Z"
      },
      {
        "duration": 8,
        "start_time": "2023-02-10T07:12:51.938Z"
      },
      {
        "duration": 99,
        "start_time": "2023-02-10T07:12:52.570Z"
      },
      {
        "duration": 5097,
        "start_time": "2023-02-10T07:12:53.401Z"
      },
      {
        "duration": 25,
        "start_time": "2023-02-10T07:12:58.500Z"
      },
      {
        "duration": 179,
        "start_time": "2023-02-10T07:13:04.433Z"
      },
      {
        "duration": 12,
        "start_time": "2023-02-10T07:13:04.649Z"
      },
      {
        "duration": 26,
        "start_time": "2023-02-10T07:13:23.578Z"
      },
      {
        "duration": 13,
        "start_time": "2023-02-10T07:14:41.137Z"
      },
      {
        "duration": 108,
        "start_time": "2023-02-10T07:14:48.952Z"
      },
      {
        "duration": 33,
        "start_time": "2023-02-10T07:14:49.451Z"
      },
      {
        "duration": 3608,
        "start_time": "2023-02-10T07:19:19.576Z"
      },
      {
        "duration": 30336,
        "start_time": "2023-02-10T07:19:33.536Z"
      },
      {
        "duration": 2,
        "start_time": "2023-02-10T07:20:28.960Z"
      },
      {
        "duration": 3,
        "start_time": "2023-02-10T07:20:29.112Z"
      },
      {
        "duration": 6,
        "start_time": "2023-02-10T07:20:29.272Z"
      },
      {
        "duration": 62,
        "start_time": "2023-02-10T07:20:29.960Z"
      },
      {
        "duration": 12624,
        "start_time": "2023-02-10T07:20:33.248Z"
      },
      {
        "duration": 30,
        "start_time": "2023-02-10T07:20:45.874Z"
      },
      {
        "duration": 40,
        "start_time": "2023-02-10T07:21:51.101Z"
      },
      {
        "duration": 33,
        "start_time": "2023-02-10T07:21:54.775Z"
      },
      {
        "duration": 10,
        "start_time": "2023-02-10T07:22:11.865Z"
      },
      {
        "duration": 135,
        "start_time": "2023-02-10T07:22:17.656Z"
      },
      {
        "duration": 16,
        "start_time": "2023-02-10T07:22:33.226Z"
      },
      {
        "duration": 29,
        "start_time": "2023-02-10T07:22:49.353Z"
      },
      {
        "duration": 30,
        "start_time": "2023-02-10T07:22:52.272Z"
      },
      {
        "duration": 34,
        "start_time": "2023-02-10T07:22:58.703Z"
      },
      {
        "duration": 113,
        "start_time": "2023-02-10T07:23:05.457Z"
      },
      {
        "duration": 31,
        "start_time": "2023-02-10T07:23:08.050Z"
      },
      {
        "duration": 49,
        "start_time": "2023-02-10T07:23:13.560Z"
      },
      {
        "duration": 12,
        "start_time": "2023-02-10T07:23:30.674Z"
      },
      {
        "duration": 35,
        "start_time": "2023-02-10T07:23:43.035Z"
      },
      {
        "duration": 10,
        "start_time": "2023-02-10T07:23:47.140Z"
      },
      {
        "duration": 12,
        "start_time": "2023-02-10T07:23:54.335Z"
      },
      {
        "duration": 49,
        "start_time": "2023-02-10T07:24:18.626Z"
      },
      {
        "duration": 14,
        "start_time": "2023-02-10T07:24:22.601Z"
      },
      {
        "duration": 12,
        "start_time": "2023-02-10T07:24:30.921Z"
      },
      {
        "duration": 11,
        "start_time": "2023-02-10T07:24:33.736Z"
      },
      {
        "duration": 120,
        "start_time": "2023-02-10T07:24:39.287Z"
      },
      {
        "duration": 126,
        "start_time": "2023-02-10T07:24:43.524Z"
      },
      {
        "duration": 25,
        "start_time": "2023-02-10T07:24:49.592Z"
      },
      {
        "duration": 38,
        "start_time": "2023-02-10T07:24:52.416Z"
      },
      {
        "duration": 28,
        "start_time": "2023-02-10T07:25:00.992Z"
      },
      {
        "duration": 30,
        "start_time": "2023-02-10T07:25:05.101Z"
      },
      {
        "duration": 11,
        "start_time": "2023-02-10T07:25:11.088Z"
      },
      {
        "duration": 32,
        "start_time": "2023-02-10T07:25:20.016Z"
      },
      {
        "duration": 3,
        "start_time": "2023-02-10T07:26:48.040Z"
      },
      {
        "duration": 4,
        "start_time": "2023-02-10T07:26:48.245Z"
      },
      {
        "duration": 6,
        "start_time": "2023-02-10T07:26:48.432Z"
      },
      {
        "duration": 62,
        "start_time": "2023-02-10T07:26:48.913Z"
      },
      {
        "duration": 12536,
        "start_time": "2023-02-10T07:26:49.216Z"
      },
      {
        "duration": 32,
        "start_time": "2023-02-10T07:27:01.754Z"
      },
      {
        "duration": 12,
        "start_time": "2023-02-10T07:27:09.879Z"
      },
      {
        "duration": 13,
        "start_time": "2023-02-10T07:27:14.942Z"
      },
      {
        "duration": 98,
        "start_time": "2023-02-10T07:27:21.919Z"
      },
      {
        "duration": 182,
        "start_time": "2023-02-10T07:27:28.416Z"
      },
      {
        "duration": 129,
        "start_time": "2023-02-10T07:27:37.240Z"
      },
      {
        "duration": 64,
        "start_time": "2023-02-10T07:27:46.391Z"
      },
      {
        "duration": 176,
        "start_time": "2023-02-10T07:27:52.487Z"
      },
      {
        "duration": 34,
        "start_time": "2023-02-10T07:28:07.119Z"
      },
      {
        "duration": 3,
        "start_time": "2023-02-10T11:15:46.242Z"
      },
      {
        "duration": 20,
        "start_time": "2023-02-10T11:20:28.799Z"
      },
      {
        "duration": 10,
        "start_time": "2023-02-10T11:20:43.049Z"
      },
      {
        "duration": 9,
        "start_time": "2023-02-10T11:20:48.449Z"
      },
      {
        "duration": 27,
        "start_time": "2023-02-10T11:23:09.254Z"
      },
      {
        "duration": 17,
        "start_time": "2023-02-10T11:23:26.563Z"
      },
      {
        "duration": 11,
        "start_time": "2023-02-10T11:25:19.850Z"
      },
      {
        "duration": 10,
        "start_time": "2023-02-10T11:25:49.321Z"
      },
      {
        "duration": 10,
        "start_time": "2023-02-10T11:26:26.010Z"
      },
      {
        "duration": 5,
        "start_time": "2023-02-10T11:32:38.990Z"
      },
      {
        "duration": 6,
        "start_time": "2023-02-10T11:32:47.029Z"
      },
      {
        "duration": 6,
        "start_time": "2023-02-10T11:32:56.228Z"
      },
      {
        "duration": 18,
        "start_time": "2023-02-10T11:36:28.094Z"
      },
      {
        "duration": 11,
        "start_time": "2023-02-10T11:36:34.625Z"
      },
      {
        "duration": 10,
        "start_time": "2023-02-10T11:39:59.897Z"
      },
      {
        "duration": 7,
        "start_time": "2023-02-10T12:09:42.763Z"
      },
      {
        "duration": 134,
        "start_time": "2023-02-10T12:09:54.123Z"
      },
      {
        "duration": 10,
        "start_time": "2023-02-10T12:09:55.514Z"
      },
      {
        "duration": 9,
        "start_time": "2023-02-10T12:10:58.339Z"
      },
      {
        "duration": 133,
        "start_time": "2023-02-10T12:11:02.242Z"
      },
      {
        "duration": 10,
        "start_time": "2023-02-10T12:11:03.571Z"
      },
      {
        "duration": 1078,
        "start_time": "2023-02-11T02:50:15.725Z"
      },
      {
        "duration": 64,
        "start_time": "2023-02-11T02:50:16.806Z"
      },
      {
        "duration": 16,
        "start_time": "2023-02-11T02:50:16.872Z"
      },
      {
        "duration": 11,
        "start_time": "2023-02-11T02:50:16.890Z"
      },
      {
        "duration": 12,
        "start_time": "2023-02-11T02:50:16.903Z"
      },
      {
        "duration": 8,
        "start_time": "2023-02-11T02:50:16.916Z"
      },
      {
        "duration": 7,
        "start_time": "2023-02-11T02:50:16.925Z"
      },
      {
        "duration": 62,
        "start_time": "2023-02-11T02:50:16.934Z"
      },
      {
        "duration": 30896,
        "start_time": "2023-02-11T02:50:16.998Z"
      },
      {
        "duration": 41,
        "start_time": "2023-02-11T02:50:47.896Z"
      },
      {
        "duration": 138,
        "start_time": "2023-02-11T02:50:47.939Z"
      },
      {
        "duration": 11,
        "start_time": "2023-02-11T02:50:48.078Z"
      },
      {
        "duration": 182,
        "start_time": "2023-02-11T02:51:24.318Z"
      },
      {
        "duration": 888,
        "start_time": "2023-02-11T02:51:28.415Z"
      },
      {
        "duration": 12926,
        "start_time": "2023-02-11T02:51:55.397Z"
      },
      {
        "duration": 189853,
        "start_time": "2023-02-11T02:52:16.111Z"
      },
      {
        "duration": 283362,
        "start_time": "2023-02-11T03:00:48.594Z"
      },
      {
        "duration": 1739312,
        "start_time": "2023-02-11T03:35:48.152Z"
      },
      {
        "duration": 70802,
        "start_time": "2023-02-11T04:05:23.662Z"
      },
      {
        "duration": 60,
        "start_time": "2023-02-11T04:07:24.088Z"
      },
      {
        "duration": 70137,
        "start_time": "2023-02-11T04:07:24.245Z"
      },
      {
        "duration": 33,
        "start_time": "2023-02-11T04:08:34.383Z"
      },
      {
        "duration": 8740,
        "start_time": "2023-02-11T04:27:18.352Z"
      },
      {
        "duration": 15760,
        "start_time": "2023-02-11T04:27:49.589Z"
      },
      {
        "duration": 3153,
        "start_time": "2023-02-11T04:28:08.067Z"
      },
      {
        "duration": 12606,
        "start_time": "2023-02-11T04:28:49.824Z"
      },
      {
        "duration": 37990,
        "start_time": "2023-02-11T04:33:25.623Z"
      },
      {
        "duration": 59,
        "start_time": "2023-02-11T04:38:53.156Z"
      },
      {
        "duration": 38639,
        "start_time": "2023-02-11T04:38:53.304Z"
      },
      {
        "duration": 33,
        "start_time": "2023-02-11T04:39:31.945Z"
      },
      {
        "duration": 152,
        "start_time": "2023-02-11T04:39:41.863Z"
      },
      {
        "duration": 118566,
        "start_time": "2023-02-11T04:40:15.909Z"
      },
      {
        "duration": 12760,
        "start_time": "2023-02-11T04:43:31.691Z"
      },
      {
        "duration": 31458,
        "start_time": "2023-02-11T04:43:53.879Z"
      },
      {
        "duration": 8495,
        "start_time": "2023-02-11T04:44:31.473Z"
      },
      {
        "duration": 8746,
        "start_time": "2023-02-11T04:52:46.119Z"
      },
      {
        "duration": 12650,
        "start_time": "2023-02-11T06:00:58.271Z"
      },
      {
        "duration": 13943,
        "start_time": "2023-02-11T06:01:25.763Z"
      },
      {
        "duration": 17022,
        "start_time": "2023-02-11T06:01:49.161Z"
      },
      {
        "duration": 12763,
        "start_time": "2023-02-11T06:03:49.371Z"
      },
      {
        "duration": 37413,
        "start_time": "2023-02-11T06:04:31.677Z"
      },
      {
        "duration": 16647,
        "start_time": "2023-02-11T06:06:07.855Z"
      },
      {
        "duration": 30646,
        "start_time": "2023-02-11T06:06:37.854Z"
      },
      {
        "duration": 107,
        "start_time": "2023-02-11T06:36:16.255Z"
      },
      {
        "duration": 124,
        "start_time": "2023-02-11T06:36:19.687Z"
      },
      {
        "duration": 9,
        "start_time": "2023-02-11T06:36:21.374Z"
      },
      {
        "duration": 11,
        "start_time": "2023-02-11T06:36:23.461Z"
      },
      {
        "duration": 3,
        "start_time": "2023-02-11T07:42:45.230Z"
      },
      {
        "duration": 37,
        "start_time": "2023-02-11T07:42:45.235Z"
      },
      {
        "duration": 9,
        "start_time": "2023-02-11T07:42:45.274Z"
      },
      {
        "duration": 11,
        "start_time": "2023-02-11T07:42:45.285Z"
      },
      {
        "duration": 3,
        "start_time": "2023-02-11T07:42:45.297Z"
      },
      {
        "duration": 19,
        "start_time": "2023-02-11T07:42:45.301Z"
      },
      {
        "duration": 19,
        "start_time": "2023-02-11T07:42:45.322Z"
      },
      {
        "duration": 147,
        "start_time": "2023-02-11T07:42:45.343Z"
      },
      {
        "duration": 31311,
        "start_time": "2023-02-11T07:42:45.492Z"
      },
      {
        "duration": 43,
        "start_time": "2023-02-11T07:43:16.805Z"
      },
      {
        "duration": 157,
        "start_time": "2023-02-11T07:43:16.850Z"
      },
      {
        "duration": 11,
        "start_time": "2023-02-11T07:43:17.008Z"
      },
      {
        "duration": 6,
        "start_time": "2023-02-11T07:44:53.828Z"
      },
      {
        "duration": 12,
        "start_time": "2023-02-11T07:44:59.609Z"
      },
      {
        "duration": 13,
        "start_time": "2023-02-11T07:45:04.350Z"
      },
      {
        "duration": 11,
        "start_time": "2023-02-11T07:45:08.904Z"
      },
      {
        "duration": 4,
        "start_time": "2023-02-11T07:45:12.931Z"
      },
      {
        "duration": 4,
        "start_time": "2023-02-11T07:45:23.126Z"
      },
      {
        "duration": 7,
        "start_time": "2023-02-11T07:45:28.665Z"
      },
      {
        "duration": 4,
        "start_time": "2023-02-11T07:45:35.418Z"
      },
      {
        "duration": 6,
        "start_time": "2023-02-11T07:45:39.636Z"
      },
      {
        "duration": 3,
        "start_time": "2023-02-11T07:45:45.543Z"
      },
      {
        "duration": 4,
        "start_time": "2023-02-11T07:45:45.810Z"
      },
      {
        "duration": 8,
        "start_time": "2023-02-11T07:45:45.998Z"
      },
      {
        "duration": 4,
        "start_time": "2023-02-11T07:45:46.534Z"
      },
      {
        "duration": 3,
        "start_time": "2023-02-11T07:45:59.040Z"
      },
      {
        "duration": 4,
        "start_time": "2023-02-11T07:45:59.187Z"
      },
      {
        "duration": 4,
        "start_time": "2023-02-11T07:45:59.358Z"
      },
      {
        "duration": 4,
        "start_time": "2023-02-11T07:45:59.795Z"
      },
      {
        "duration": 1042,
        "start_time": "2023-02-11T09:45:18.453Z"
      },
      {
        "duration": 26,
        "start_time": "2023-02-11T09:45:19.496Z"
      },
      {
        "duration": 16,
        "start_time": "2023-02-11T09:45:19.524Z"
      },
      {
        "duration": 10,
        "start_time": "2023-02-11T09:45:19.542Z"
      },
      {
        "duration": 2,
        "start_time": "2023-02-11T09:45:19.554Z"
      },
      {
        "duration": 13,
        "start_time": "2023-02-11T09:45:19.557Z"
      },
      {
        "duration": 21,
        "start_time": "2023-02-11T09:45:19.572Z"
      },
      {
        "duration": 160,
        "start_time": "2023-02-11T09:45:19.595Z"
      },
      {
        "duration": 30819,
        "start_time": "2023-02-11T09:45:19.757Z"
      },
      {
        "duration": 31,
        "start_time": "2023-02-11T09:45:50.579Z"
      },
      {
        "duration": 145,
        "start_time": "2023-02-11T09:45:50.612Z"
      },
      {
        "duration": 10,
        "start_time": "2023-02-11T09:45:50.758Z"
      },
      {
        "duration": 9076,
        "start_time": "2023-02-11T09:46:10.075Z"
      },
      {
        "duration": 136,
        "start_time": "2023-02-11T10:11:00.265Z"
      },
      {
        "duration": 106,
        "start_time": "2023-02-11T10:11:06.593Z"
      },
      {
        "duration": 148,
        "start_time": "2023-02-11T10:11:12.704Z"
      },
      {
        "duration": 3527,
        "start_time": "2023-02-11T10:11:33.369Z"
      },
      {
        "duration": 138,
        "start_time": "2023-02-11T10:11:45.232Z"
      },
      {
        "duration": 12420,
        "start_time": "2023-02-11T10:11:51.048Z"
      },
      {
        "duration": 171,
        "start_time": "2023-02-11T10:12:20.624Z"
      },
      {
        "duration": 141,
        "start_time": "2023-02-11T10:12:25.000Z"
      },
      {
        "duration": 135,
        "start_time": "2023-02-11T10:12:29.488Z"
      },
      {
        "duration": 13,
        "start_time": "2023-02-11T10:13:17.960Z"
      },
      {
        "duration": 12,
        "start_time": "2023-02-11T10:13:21.057Z"
      },
      {
        "duration": 15,
        "start_time": "2023-02-11T10:16:00.338Z"
      },
      {
        "duration": 12,
        "start_time": "2023-02-11T10:16:03.257Z"
      },
      {
        "duration": 12,
        "start_time": "2023-02-11T10:16:07.283Z"
      },
      {
        "duration": 12,
        "start_time": "2023-02-11T10:16:10.538Z"
      },
      {
        "duration": 163,
        "start_time": "2023-02-11T10:16:47.216Z"
      },
      {
        "duration": 126,
        "start_time": "2023-02-11T10:17:18.680Z"
      },
      {
        "duration": 156,
        "start_time": "2023-02-11T10:17:24.694Z"
      },
      {
        "duration": 10,
        "start_time": "2023-02-11T10:17:49.047Z"
      },
      {
        "duration": 12,
        "start_time": "2023-02-11T10:20:52.771Z"
      },
      {
        "duration": 9,
        "start_time": "2023-02-11T10:21:25.466Z"
      },
      {
        "duration": 10,
        "start_time": "2023-02-11T10:22:29.216Z"
      },
      {
        "duration": 11,
        "start_time": "2023-02-11T10:24:45.024Z"
      },
      {
        "duration": 10,
        "start_time": "2023-02-11T10:25:31.670Z"
      },
      {
        "duration": 10,
        "start_time": "2023-02-11T10:25:34.253Z"
      },
      {
        "duration": 1005,
        "start_time": "2023-02-11T10:25:53.984Z"
      },
      {
        "duration": 26,
        "start_time": "2023-02-11T10:25:54.991Z"
      },
      {
        "duration": 15,
        "start_time": "2023-02-11T10:25:55.019Z"
      },
      {
        "duration": 9,
        "start_time": "2023-02-11T10:25:55.037Z"
      },
      {
        "duration": 2,
        "start_time": "2023-02-11T10:25:55.048Z"
      },
      {
        "duration": 4,
        "start_time": "2023-02-11T10:25:55.052Z"
      },
      {
        "duration": 8,
        "start_time": "2023-02-11T10:25:55.058Z"
      },
      {
        "duration": 165,
        "start_time": "2023-02-11T10:25:55.067Z"
      },
      {
        "duration": 12169,
        "start_time": "2023-02-11T10:25:55.233Z"
      },
      {
        "duration": 39,
        "start_time": "2023-02-11T10:26:07.404Z"
      },
      {
        "duration": 131,
        "start_time": "2023-02-11T10:26:07.444Z"
      },
      {
        "duration": 10,
        "start_time": "2023-02-11T10:26:07.576Z"
      },
      {
        "duration": 10,
        "start_time": "2023-02-11T10:26:11.343Z"
      },
      {
        "duration": 10,
        "start_time": "2023-02-11T10:26:13.382Z"
      },
      {
        "duration": 139,
        "start_time": "2023-02-11T10:26:16.071Z"
      },
      {
        "duration": 145,
        "start_time": "2023-02-11T10:26:17.326Z"
      },
      {
        "duration": 1087,
        "start_time": "2023-02-11T10:26:32.312Z"
      },
      {
        "duration": 27,
        "start_time": "2023-02-11T10:26:33.401Z"
      },
      {
        "duration": 15,
        "start_time": "2023-02-11T10:26:33.430Z"
      },
      {
        "duration": 11,
        "start_time": "2023-02-11T10:26:33.446Z"
      },
      {
        "duration": 5,
        "start_time": "2023-02-11T10:26:33.458Z"
      },
      {
        "duration": 5,
        "start_time": "2023-02-11T10:26:33.465Z"
      },
      {
        "duration": 7,
        "start_time": "2023-02-11T10:26:33.471Z"
      },
      {
        "duration": 162,
        "start_time": "2023-02-11T10:26:33.479Z"
      },
      {
        "duration": 12318,
        "start_time": "2023-02-11T10:26:33.643Z"
      },
      {
        "duration": 34,
        "start_time": "2023-02-11T10:26:45.962Z"
      },
      {
        "duration": 144,
        "start_time": "2023-02-11T10:26:45.998Z"
      },
      {
        "duration": 10,
        "start_time": "2023-02-11T10:26:46.143Z"
      },
      {
        "duration": 2171,
        "start_time": "2023-02-11T16:28:19.386Z"
      },
      {
        "duration": 64,
        "start_time": "2023-02-11T16:28:21.559Z"
      },
      {
        "duration": 19,
        "start_time": "2023-02-11T16:28:21.624Z"
      },
      {
        "duration": 12,
        "start_time": "2023-02-11T16:28:21.645Z"
      },
      {
        "duration": 3,
        "start_time": "2023-02-11T16:28:21.659Z"
      },
      {
        "duration": 9,
        "start_time": "2023-02-11T16:28:21.663Z"
      },
      {
        "duration": 12,
        "start_time": "2023-02-11T16:28:21.674Z"
      },
      {
        "duration": 191,
        "start_time": "2023-02-11T16:28:21.688Z"
      },
      {
        "duration": 17667,
        "start_time": "2023-02-11T16:28:21.881Z"
      },
      {
        "duration": 38,
        "start_time": "2023-02-11T16:28:39.550Z"
      },
      {
        "duration": 365,
        "start_time": "2023-02-11T16:28:39.590Z"
      },
      {
        "duration": 17,
        "start_time": "2023-02-11T16:28:39.958Z"
      },
      {
        "duration": 1323,
        "start_time": "2023-02-12T04:48:23.932Z"
      },
      {
        "duration": 75,
        "start_time": "2023-02-12T04:48:26.218Z"
      },
      {
        "duration": 22,
        "start_time": "2023-02-12T04:48:27.595Z"
      },
      {
        "duration": 19,
        "start_time": "2023-02-12T04:48:43.525Z"
      },
      {
        "duration": 3,
        "start_time": "2023-02-12T04:48:46.342Z"
      },
      {
        "duration": 5,
        "start_time": "2023-02-12T04:48:46.878Z"
      },
      {
        "duration": 7,
        "start_time": "2023-02-12T04:48:56.021Z"
      },
      {
        "duration": 5,
        "start_time": "2023-02-12T04:49:02.872Z"
      },
      {
        "duration": 4,
        "start_time": "2023-02-12T04:49:12.517Z"
      },
      {
        "duration": 4,
        "start_time": "2023-02-12T04:49:25.607Z"
      },
      {
        "duration": 4,
        "start_time": "2023-02-12T04:49:36.066Z"
      },
      {
        "duration": 5,
        "start_time": "2023-02-12T04:51:28.474Z"
      },
      {
        "duration": 5,
        "start_time": "2023-02-12T04:51:41.094Z"
      },
      {
        "duration": 7,
        "start_time": "2023-02-12T04:51:51.623Z"
      },
      {
        "duration": 4,
        "start_time": "2023-02-12T04:52:13.474Z"
      },
      {
        "duration": 4,
        "start_time": "2023-02-12T04:52:18.152Z"
      },
      {
        "duration": 4,
        "start_time": "2023-02-12T04:52:18.960Z"
      },
      {
        "duration": 5,
        "start_time": "2023-02-12T07:36:00.383Z"
      }
    ],
    "kernelspec": {
      "display_name": "Python 3 (ipykernel)",
      "language": "python",
      "name": "python3"
    },
    "language_info": {
      "codemirror_mode": {
        "name": "ipython",
        "version": 3
      },
      "file_extension": ".py",
      "mimetype": "text/x-python",
      "name": "python",
      "nbconvert_exporter": "python",
      "pygments_lexer": "ipython3",
      "version": "3.9.5"
    },
    "toc": {
      "base_numbering": 1,
      "nav_menu": {},
      "number_sections": true,
      "sideBar": true,
      "skip_h1_title": true,
      "title_cell": "Table of Contents",
      "title_sidebar": "Contents",
      "toc_cell": false,
      "toc_position": {},
      "toc_section_display": true,
      "toc_window_display": true
    },
    "colab": {
      "provenance": [],
      "toc_visible": true
    }
  },
  "nbformat": 4,
  "nbformat_minor": 0
}