{
  "cells": [
    {
      "cell_type": "markdown",
      "metadata": {
        "id": "3j9zVUMySZua"
      },
      "source": [
        "# Выбор локации для скважины"
      ]
    },
    {
      "cell_type": "markdown",
      "source": [
        "## Описание проекта"
      ],
      "metadata": {
        "id": "FWiWxhtISkEp"
      }
    },
    {
      "cell_type": "markdown",
      "metadata": {
        "id": "JxkCTWgfSZuc"
      },
      "source": [
        "Добывающей компании нужно решить, где бурить новую скважину.\n",
        "\n",
        "В наличии пробы нефти в трёх регионах: в каждом 10 000 месторождений, где измерили качество нефти и объём её запасов.\n",
        "\n",
        "Необходимо построить модель машинного обучения, которая поможет определить регион, где добыча принесёт наибольшую прибыль.\n",
        "Также нужно проанализировать возможную прибыль и риски техникой *Bootstrap.*"
      ]
    },
    {
      "cell_type": "markdown",
      "metadata": {
        "id": "_4x9EUdMSZue"
      },
      "source": [
        "## Загрузка и подготовка данных"
      ]
    },
    {
      "cell_type": "code",
      "execution_count": null,
      "metadata": {
        "id": "jOCsVMugSZue"
      },
      "outputs": [],
      "source": [
        "import pandas as pd\n",
        "import numpy as np\n",
        "from sklearn.linear_model import LinearRegression\n",
        "from sklearn.model_selection import train_test_split\n",
        "from sklearn.metrics import mean_squared_error\n",
        "from sklearn.preprocessing import StandardScaler, MinMaxScaler\n",
        "import matplotlib.pyplot as plt"
      ]
    },
    {
      "cell_type": "code",
      "execution_count": null,
      "metadata": {
        "id": "GaDr0sNFSZug"
      },
      "outputs": [],
      "source": [
        "try:\n",
        "    df0 = pd.read_csv('/datasets/geo_data_0.csv')\n",
        "    df1 = pd.read_csv('/datasets/geo_data_1.csv')\n",
        "    df2 = pd.read_csv('/datasets/geo_data_2.csv')\n",
        "except:\n",
        "    df0 = pd.read_csv('https://code.s3.yandex.net/datasets/geo_data_0.csv')\n",
        "    df1 = pd.read_csv('https://code.s3.yandex.net/datasets/geo_data_1.csv')\n",
        "    df2 = pd.read_csv('https://code.s3.yandex.net/datasets/geo_data_2.csv')"
      ]
    },
    {
      "cell_type": "code",
      "execution_count": null,
      "metadata": {
        "id": "FrUh_Lg_SZuh"
      },
      "outputs": [],
      "source": [
        "dfs = [df0, df1, df2]"
      ]
    },
    {
      "cell_type": "markdown",
      "metadata": {
        "id": "HzBYMEnDSZuj"
      },
      "source": [
        "Выводим общую информацию о данных."
      ]
    },
    {
      "cell_type": "code",
      "execution_count": null,
      "metadata": {
        "scrolled": false,
        "colab": {
          "base_uri": "https://localhost:8080/",
          "height": 1000
        },
        "id": "vMzpDfvnSZuk",
        "outputId": "260c818b-7783-4b7e-851d-1f3465ecbf1b"
      },
      "outputs": [
        {
          "output_type": "stream",
          "name": "stdout",
          "text": [
            "==================== Регион 0 ====================\n",
            "<class 'pandas.core.frame.DataFrame'>\n",
            "RangeIndex: 100000 entries, 0 to 99999\n",
            "Data columns (total 5 columns):\n",
            " #   Column   Non-Null Count   Dtype  \n",
            "---  ------   --------------   -----  \n",
            " 0   id       100000 non-null  object \n",
            " 1   f0       100000 non-null  float64\n",
            " 2   f1       100000 non-null  float64\n",
            " 3   f2       100000 non-null  float64\n",
            " 4   product  100000 non-null  float64\n",
            "dtypes: float64(4), object(1)\n",
            "memory usage: 3.8+ MB\n"
          ]
        },
        {
          "output_type": "display_data",
          "data": {
            "text/plain": [
              "      id        f0        f1        f2     product\n",
              "0  txEyH  0.705745 -0.497823  1.221170  105.280062\n",
              "1  2acmU  1.334711 -0.340164  4.365080   73.037750\n",
              "2  409Wp  1.022732  0.151990  1.419926   85.265647\n",
              "3  iJLyR -0.032172  0.139033  2.978566  168.620776\n",
              "4  Xdl7t  1.988431  0.155413  4.751769  154.036647"
            ],
            "text/html": [
              "\n",
              "  <div id=\"df-c4b3bed1-2ce5-40ef-944a-ec58ab51c61b\" class=\"colab-df-container\">\n",
              "    <div>\n",
              "<style scoped>\n",
              "    .dataframe tbody tr th:only-of-type {\n",
              "        vertical-align: middle;\n",
              "    }\n",
              "\n",
              "    .dataframe tbody tr th {\n",
              "        vertical-align: top;\n",
              "    }\n",
              "\n",
              "    .dataframe thead th {\n",
              "        text-align: right;\n",
              "    }\n",
              "</style>\n",
              "<table border=\"1\" class=\"dataframe\">\n",
              "  <thead>\n",
              "    <tr style=\"text-align: right;\">\n",
              "      <th></th>\n",
              "      <th>id</th>\n",
              "      <th>f0</th>\n",
              "      <th>f1</th>\n",
              "      <th>f2</th>\n",
              "      <th>product</th>\n",
              "    </tr>\n",
              "  </thead>\n",
              "  <tbody>\n",
              "    <tr>\n",
              "      <th>0</th>\n",
              "      <td>txEyH</td>\n",
              "      <td>0.705745</td>\n",
              "      <td>-0.497823</td>\n",
              "      <td>1.221170</td>\n",
              "      <td>105.280062</td>\n",
              "    </tr>\n",
              "    <tr>\n",
              "      <th>1</th>\n",
              "      <td>2acmU</td>\n",
              "      <td>1.334711</td>\n",
              "      <td>-0.340164</td>\n",
              "      <td>4.365080</td>\n",
              "      <td>73.037750</td>\n",
              "    </tr>\n",
              "    <tr>\n",
              "      <th>2</th>\n",
              "      <td>409Wp</td>\n",
              "      <td>1.022732</td>\n",
              "      <td>0.151990</td>\n",
              "      <td>1.419926</td>\n",
              "      <td>85.265647</td>\n",
              "    </tr>\n",
              "    <tr>\n",
              "      <th>3</th>\n",
              "      <td>iJLyR</td>\n",
              "      <td>-0.032172</td>\n",
              "      <td>0.139033</td>\n",
              "      <td>2.978566</td>\n",
              "      <td>168.620776</td>\n",
              "    </tr>\n",
              "    <tr>\n",
              "      <th>4</th>\n",
              "      <td>Xdl7t</td>\n",
              "      <td>1.988431</td>\n",
              "      <td>0.155413</td>\n",
              "      <td>4.751769</td>\n",
              "      <td>154.036647</td>\n",
              "    </tr>\n",
              "  </tbody>\n",
              "</table>\n",
              "</div>\n",
              "    <div class=\"colab-df-buttons\">\n",
              "\n",
              "  <div class=\"colab-df-container\">\n",
              "    <button class=\"colab-df-convert\" onclick=\"convertToInteractive('df-c4b3bed1-2ce5-40ef-944a-ec58ab51c61b')\"\n",
              "            title=\"Convert this dataframe to an interactive table.\"\n",
              "            style=\"display:none;\">\n",
              "\n",
              "  <svg xmlns=\"http://www.w3.org/2000/svg\" height=\"24px\" viewBox=\"0 -960 960 960\">\n",
              "    <path d=\"M120-120v-720h720v720H120Zm60-500h600v-160H180v160Zm220 220h160v-160H400v160Zm0 220h160v-160H400v160ZM180-400h160v-160H180v160Zm440 0h160v-160H620v160ZM180-180h160v-160H180v160Zm440 0h160v-160H620v160Z\"/>\n",
              "  </svg>\n",
              "    </button>\n",
              "\n",
              "  <style>\n",
              "    .colab-df-container {\n",
              "      display:flex;\n",
              "      gap: 12px;\n",
              "    }\n",
              "\n",
              "    .colab-df-convert {\n",
              "      background-color: #E8F0FE;\n",
              "      border: none;\n",
              "      border-radius: 50%;\n",
              "      cursor: pointer;\n",
              "      display: none;\n",
              "      fill: #1967D2;\n",
              "      height: 32px;\n",
              "      padding: 0 0 0 0;\n",
              "      width: 32px;\n",
              "    }\n",
              "\n",
              "    .colab-df-convert:hover {\n",
              "      background-color: #E2EBFA;\n",
              "      box-shadow: 0px 1px 2px rgba(60, 64, 67, 0.3), 0px 1px 3px 1px rgba(60, 64, 67, 0.15);\n",
              "      fill: #174EA6;\n",
              "    }\n",
              "\n",
              "    .colab-df-buttons div {\n",
              "      margin-bottom: 4px;\n",
              "    }\n",
              "\n",
              "    [theme=dark] .colab-df-convert {\n",
              "      background-color: #3B4455;\n",
              "      fill: #D2E3FC;\n",
              "    }\n",
              "\n",
              "    [theme=dark] .colab-df-convert:hover {\n",
              "      background-color: #434B5C;\n",
              "      box-shadow: 0px 1px 3px 1px rgba(0, 0, 0, 0.15);\n",
              "      filter: drop-shadow(0px 1px 2px rgba(0, 0, 0, 0.3));\n",
              "      fill: #FFFFFF;\n",
              "    }\n",
              "  </style>\n",
              "\n",
              "    <script>\n",
              "      const buttonEl =\n",
              "        document.querySelector('#df-c4b3bed1-2ce5-40ef-944a-ec58ab51c61b button.colab-df-convert');\n",
              "      buttonEl.style.display =\n",
              "        google.colab.kernel.accessAllowed ? 'block' : 'none';\n",
              "\n",
              "      async function convertToInteractive(key) {\n",
              "        const element = document.querySelector('#df-c4b3bed1-2ce5-40ef-944a-ec58ab51c61b');\n",
              "        const dataTable =\n",
              "          await google.colab.kernel.invokeFunction('convertToInteractive',\n",
              "                                                    [key], {});\n",
              "        if (!dataTable) return;\n",
              "\n",
              "        const docLinkHtml = 'Like what you see? Visit the ' +\n",
              "          '<a target=\"_blank\" href=https://colab.research.google.com/notebooks/data_table.ipynb>data table notebook</a>'\n",
              "          + ' to learn more about interactive tables.';\n",
              "        element.innerHTML = '';\n",
              "        dataTable['output_type'] = 'display_data';\n",
              "        await google.colab.output.renderOutput(dataTable, element);\n",
              "        const docLink = document.createElement('div');\n",
              "        docLink.innerHTML = docLinkHtml;\n",
              "        element.appendChild(docLink);\n",
              "      }\n",
              "    </script>\n",
              "  </div>\n",
              "\n",
              "\n",
              "<div id=\"df-2af6f3f9-6322-4c4f-9b13-2f08a528309f\">\n",
              "  <button class=\"colab-df-quickchart\" onclick=\"quickchart('df-2af6f3f9-6322-4c4f-9b13-2f08a528309f')\"\n",
              "            title=\"Suggest charts.\"\n",
              "            style=\"display:none;\">\n",
              "\n",
              "<svg xmlns=\"http://www.w3.org/2000/svg\" height=\"24px\"viewBox=\"0 0 24 24\"\n",
              "     width=\"24px\">\n",
              "    <g>\n",
              "        <path d=\"M19 3H5c-1.1 0-2 .9-2 2v14c0 1.1.9 2 2 2h14c1.1 0 2-.9 2-2V5c0-1.1-.9-2-2-2zM9 17H7v-7h2v7zm4 0h-2V7h2v10zm4 0h-2v-4h2v4z\"/>\n",
              "    </g>\n",
              "</svg>\n",
              "  </button>\n",
              "\n",
              "<style>\n",
              "  .colab-df-quickchart {\n",
              "      --bg-color: #E8F0FE;\n",
              "      --fill-color: #1967D2;\n",
              "      --hover-bg-color: #E2EBFA;\n",
              "      --hover-fill-color: #174EA6;\n",
              "      --disabled-fill-color: #AAA;\n",
              "      --disabled-bg-color: #DDD;\n",
              "  }\n",
              "\n",
              "  [theme=dark] .colab-df-quickchart {\n",
              "      --bg-color: #3B4455;\n",
              "      --fill-color: #D2E3FC;\n",
              "      --hover-bg-color: #434B5C;\n",
              "      --hover-fill-color: #FFFFFF;\n",
              "      --disabled-bg-color: #3B4455;\n",
              "      --disabled-fill-color: #666;\n",
              "  }\n",
              "\n",
              "  .colab-df-quickchart {\n",
              "    background-color: var(--bg-color);\n",
              "    border: none;\n",
              "    border-radius: 50%;\n",
              "    cursor: pointer;\n",
              "    display: none;\n",
              "    fill: var(--fill-color);\n",
              "    height: 32px;\n",
              "    padding: 0;\n",
              "    width: 32px;\n",
              "  }\n",
              "\n",
              "  .colab-df-quickchart:hover {\n",
              "    background-color: var(--hover-bg-color);\n",
              "    box-shadow: 0 1px 2px rgba(60, 64, 67, 0.3), 0 1px 3px 1px rgba(60, 64, 67, 0.15);\n",
              "    fill: var(--button-hover-fill-color);\n",
              "  }\n",
              "\n",
              "  .colab-df-quickchart-complete:disabled,\n",
              "  .colab-df-quickchart-complete:disabled:hover {\n",
              "    background-color: var(--disabled-bg-color);\n",
              "    fill: var(--disabled-fill-color);\n",
              "    box-shadow: none;\n",
              "  }\n",
              "\n",
              "  .colab-df-spinner {\n",
              "    border: 2px solid var(--fill-color);\n",
              "    border-color: transparent;\n",
              "    border-bottom-color: var(--fill-color);\n",
              "    animation:\n",
              "      spin 1s steps(1) infinite;\n",
              "  }\n",
              "\n",
              "  @keyframes spin {\n",
              "    0% {\n",
              "      border-color: transparent;\n",
              "      border-bottom-color: var(--fill-color);\n",
              "      border-left-color: var(--fill-color);\n",
              "    }\n",
              "    20% {\n",
              "      border-color: transparent;\n",
              "      border-left-color: var(--fill-color);\n",
              "      border-top-color: var(--fill-color);\n",
              "    }\n",
              "    30% {\n",
              "      border-color: transparent;\n",
              "      border-left-color: var(--fill-color);\n",
              "      border-top-color: var(--fill-color);\n",
              "      border-right-color: var(--fill-color);\n",
              "    }\n",
              "    40% {\n",
              "      border-color: transparent;\n",
              "      border-right-color: var(--fill-color);\n",
              "      border-top-color: var(--fill-color);\n",
              "    }\n",
              "    60% {\n",
              "      border-color: transparent;\n",
              "      border-right-color: var(--fill-color);\n",
              "    }\n",
              "    80% {\n",
              "      border-color: transparent;\n",
              "      border-right-color: var(--fill-color);\n",
              "      border-bottom-color: var(--fill-color);\n",
              "    }\n",
              "    90% {\n",
              "      border-color: transparent;\n",
              "      border-bottom-color: var(--fill-color);\n",
              "    }\n",
              "  }\n",
              "</style>\n",
              "\n",
              "  <script>\n",
              "    async function quickchart(key) {\n",
              "      const quickchartButtonEl =\n",
              "        document.querySelector('#' + key + ' button');\n",
              "      quickchartButtonEl.disabled = true;  // To prevent multiple clicks.\n",
              "      quickchartButtonEl.classList.add('colab-df-spinner');\n",
              "      try {\n",
              "        const charts = await google.colab.kernel.invokeFunction(\n",
              "            'suggestCharts', [key], {});\n",
              "      } catch (error) {\n",
              "        console.error('Error during call to suggestCharts:', error);\n",
              "      }\n",
              "      quickchartButtonEl.classList.remove('colab-df-spinner');\n",
              "      quickchartButtonEl.classList.add('colab-df-quickchart-complete');\n",
              "    }\n",
              "    (() => {\n",
              "      let quickchartButtonEl =\n",
              "        document.querySelector('#df-2af6f3f9-6322-4c4f-9b13-2f08a528309f button');\n",
              "      quickchartButtonEl.style.display =\n",
              "        google.colab.kernel.accessAllowed ? 'block' : 'none';\n",
              "    })();\n",
              "  </script>\n",
              "</div>\n",
              "    </div>\n",
              "  </div>\n"
            ]
          },
          "metadata": {}
        },
        {
          "output_type": "stream",
          "name": "stdout",
          "text": [
            "Дубликаты: 0\n",
            "\n",
            "==================== Регион 1 ====================\n",
            "<class 'pandas.core.frame.DataFrame'>\n",
            "RangeIndex: 100000 entries, 0 to 99999\n",
            "Data columns (total 5 columns):\n",
            " #   Column   Non-Null Count   Dtype  \n",
            "---  ------   --------------   -----  \n",
            " 0   id       100000 non-null  object \n",
            " 1   f0       100000 non-null  float64\n",
            " 2   f1       100000 non-null  float64\n",
            " 3   f2       100000 non-null  float64\n",
            " 4   product  100000 non-null  float64\n",
            "dtypes: float64(4), object(1)\n",
            "memory usage: 3.8+ MB\n"
          ]
        },
        {
          "output_type": "display_data",
          "data": {
            "text/plain": [
              "      id         f0         f1        f2     product\n",
              "0  kBEdx -15.001348  -8.276000 -0.005876    3.179103\n",
              "1  62mP7  14.272088  -3.475083  0.999183   26.953261\n",
              "2  vyE1P   6.263187  -5.948386  5.001160  134.766305\n",
              "3  KcrkZ -13.081196 -11.506057  4.999415  137.945408\n",
              "4  AHL4O  12.702195  -8.147433  5.004363  134.766305"
            ],
            "text/html": [
              "\n",
              "  <div id=\"df-cded7c5b-df55-4bd9-bdec-4c936dfa63f0\" class=\"colab-df-container\">\n",
              "    <div>\n",
              "<style scoped>\n",
              "    .dataframe tbody tr th:only-of-type {\n",
              "        vertical-align: middle;\n",
              "    }\n",
              "\n",
              "    .dataframe tbody tr th {\n",
              "        vertical-align: top;\n",
              "    }\n",
              "\n",
              "    .dataframe thead th {\n",
              "        text-align: right;\n",
              "    }\n",
              "</style>\n",
              "<table border=\"1\" class=\"dataframe\">\n",
              "  <thead>\n",
              "    <tr style=\"text-align: right;\">\n",
              "      <th></th>\n",
              "      <th>id</th>\n",
              "      <th>f0</th>\n",
              "      <th>f1</th>\n",
              "      <th>f2</th>\n",
              "      <th>product</th>\n",
              "    </tr>\n",
              "  </thead>\n",
              "  <tbody>\n",
              "    <tr>\n",
              "      <th>0</th>\n",
              "      <td>kBEdx</td>\n",
              "      <td>-15.001348</td>\n",
              "      <td>-8.276000</td>\n",
              "      <td>-0.005876</td>\n",
              "      <td>3.179103</td>\n",
              "    </tr>\n",
              "    <tr>\n",
              "      <th>1</th>\n",
              "      <td>62mP7</td>\n",
              "      <td>14.272088</td>\n",
              "      <td>-3.475083</td>\n",
              "      <td>0.999183</td>\n",
              "      <td>26.953261</td>\n",
              "    </tr>\n",
              "    <tr>\n",
              "      <th>2</th>\n",
              "      <td>vyE1P</td>\n",
              "      <td>6.263187</td>\n",
              "      <td>-5.948386</td>\n",
              "      <td>5.001160</td>\n",
              "      <td>134.766305</td>\n",
              "    </tr>\n",
              "    <tr>\n",
              "      <th>3</th>\n",
              "      <td>KcrkZ</td>\n",
              "      <td>-13.081196</td>\n",
              "      <td>-11.506057</td>\n",
              "      <td>4.999415</td>\n",
              "      <td>137.945408</td>\n",
              "    </tr>\n",
              "    <tr>\n",
              "      <th>4</th>\n",
              "      <td>AHL4O</td>\n",
              "      <td>12.702195</td>\n",
              "      <td>-8.147433</td>\n",
              "      <td>5.004363</td>\n",
              "      <td>134.766305</td>\n",
              "    </tr>\n",
              "  </tbody>\n",
              "</table>\n",
              "</div>\n",
              "    <div class=\"colab-df-buttons\">\n",
              "\n",
              "  <div class=\"colab-df-container\">\n",
              "    <button class=\"colab-df-convert\" onclick=\"convertToInteractive('df-cded7c5b-df55-4bd9-bdec-4c936dfa63f0')\"\n",
              "            title=\"Convert this dataframe to an interactive table.\"\n",
              "            style=\"display:none;\">\n",
              "\n",
              "  <svg xmlns=\"http://www.w3.org/2000/svg\" height=\"24px\" viewBox=\"0 -960 960 960\">\n",
              "    <path d=\"M120-120v-720h720v720H120Zm60-500h600v-160H180v160Zm220 220h160v-160H400v160Zm0 220h160v-160H400v160ZM180-400h160v-160H180v160Zm440 0h160v-160H620v160ZM180-180h160v-160H180v160Zm440 0h160v-160H620v160Z\"/>\n",
              "  </svg>\n",
              "    </button>\n",
              "\n",
              "  <style>\n",
              "    .colab-df-container {\n",
              "      display:flex;\n",
              "      gap: 12px;\n",
              "    }\n",
              "\n",
              "    .colab-df-convert {\n",
              "      background-color: #E8F0FE;\n",
              "      border: none;\n",
              "      border-radius: 50%;\n",
              "      cursor: pointer;\n",
              "      display: none;\n",
              "      fill: #1967D2;\n",
              "      height: 32px;\n",
              "      padding: 0 0 0 0;\n",
              "      width: 32px;\n",
              "    }\n",
              "\n",
              "    .colab-df-convert:hover {\n",
              "      background-color: #E2EBFA;\n",
              "      box-shadow: 0px 1px 2px rgba(60, 64, 67, 0.3), 0px 1px 3px 1px rgba(60, 64, 67, 0.15);\n",
              "      fill: #174EA6;\n",
              "    }\n",
              "\n",
              "    .colab-df-buttons div {\n",
              "      margin-bottom: 4px;\n",
              "    }\n",
              "\n",
              "    [theme=dark] .colab-df-convert {\n",
              "      background-color: #3B4455;\n",
              "      fill: #D2E3FC;\n",
              "    }\n",
              "\n",
              "    [theme=dark] .colab-df-convert:hover {\n",
              "      background-color: #434B5C;\n",
              "      box-shadow: 0px 1px 3px 1px rgba(0, 0, 0, 0.15);\n",
              "      filter: drop-shadow(0px 1px 2px rgba(0, 0, 0, 0.3));\n",
              "      fill: #FFFFFF;\n",
              "    }\n",
              "  </style>\n",
              "\n",
              "    <script>\n",
              "      const buttonEl =\n",
              "        document.querySelector('#df-cded7c5b-df55-4bd9-bdec-4c936dfa63f0 button.colab-df-convert');\n",
              "      buttonEl.style.display =\n",
              "        google.colab.kernel.accessAllowed ? 'block' : 'none';\n",
              "\n",
              "      async function convertToInteractive(key) {\n",
              "        const element = document.querySelector('#df-cded7c5b-df55-4bd9-bdec-4c936dfa63f0');\n",
              "        const dataTable =\n",
              "          await google.colab.kernel.invokeFunction('convertToInteractive',\n",
              "                                                    [key], {});\n",
              "        if (!dataTable) return;\n",
              "\n",
              "        const docLinkHtml = 'Like what you see? Visit the ' +\n",
              "          '<a target=\"_blank\" href=https://colab.research.google.com/notebooks/data_table.ipynb>data table notebook</a>'\n",
              "          + ' to learn more about interactive tables.';\n",
              "        element.innerHTML = '';\n",
              "        dataTable['output_type'] = 'display_data';\n",
              "        await google.colab.output.renderOutput(dataTable, element);\n",
              "        const docLink = document.createElement('div');\n",
              "        docLink.innerHTML = docLinkHtml;\n",
              "        element.appendChild(docLink);\n",
              "      }\n",
              "    </script>\n",
              "  </div>\n",
              "\n",
              "\n",
              "<div id=\"df-8b9b422e-fac0-46a8-ab0c-c9e2e181b827\">\n",
              "  <button class=\"colab-df-quickchart\" onclick=\"quickchart('df-8b9b422e-fac0-46a8-ab0c-c9e2e181b827')\"\n",
              "            title=\"Suggest charts.\"\n",
              "            style=\"display:none;\">\n",
              "\n",
              "<svg xmlns=\"http://www.w3.org/2000/svg\" height=\"24px\"viewBox=\"0 0 24 24\"\n",
              "     width=\"24px\">\n",
              "    <g>\n",
              "        <path d=\"M19 3H5c-1.1 0-2 .9-2 2v14c0 1.1.9 2 2 2h14c1.1 0 2-.9 2-2V5c0-1.1-.9-2-2-2zM9 17H7v-7h2v7zm4 0h-2V7h2v10zm4 0h-2v-4h2v4z\"/>\n",
              "    </g>\n",
              "</svg>\n",
              "  </button>\n",
              "\n",
              "<style>\n",
              "  .colab-df-quickchart {\n",
              "      --bg-color: #E8F0FE;\n",
              "      --fill-color: #1967D2;\n",
              "      --hover-bg-color: #E2EBFA;\n",
              "      --hover-fill-color: #174EA6;\n",
              "      --disabled-fill-color: #AAA;\n",
              "      --disabled-bg-color: #DDD;\n",
              "  }\n",
              "\n",
              "  [theme=dark] .colab-df-quickchart {\n",
              "      --bg-color: #3B4455;\n",
              "      --fill-color: #D2E3FC;\n",
              "      --hover-bg-color: #434B5C;\n",
              "      --hover-fill-color: #FFFFFF;\n",
              "      --disabled-bg-color: #3B4455;\n",
              "      --disabled-fill-color: #666;\n",
              "  }\n",
              "\n",
              "  .colab-df-quickchart {\n",
              "    background-color: var(--bg-color);\n",
              "    border: none;\n",
              "    border-radius: 50%;\n",
              "    cursor: pointer;\n",
              "    display: none;\n",
              "    fill: var(--fill-color);\n",
              "    height: 32px;\n",
              "    padding: 0;\n",
              "    width: 32px;\n",
              "  }\n",
              "\n",
              "  .colab-df-quickchart:hover {\n",
              "    background-color: var(--hover-bg-color);\n",
              "    box-shadow: 0 1px 2px rgba(60, 64, 67, 0.3), 0 1px 3px 1px rgba(60, 64, 67, 0.15);\n",
              "    fill: var(--button-hover-fill-color);\n",
              "  }\n",
              "\n",
              "  .colab-df-quickchart-complete:disabled,\n",
              "  .colab-df-quickchart-complete:disabled:hover {\n",
              "    background-color: var(--disabled-bg-color);\n",
              "    fill: var(--disabled-fill-color);\n",
              "    box-shadow: none;\n",
              "  }\n",
              "\n",
              "  .colab-df-spinner {\n",
              "    border: 2px solid var(--fill-color);\n",
              "    border-color: transparent;\n",
              "    border-bottom-color: var(--fill-color);\n",
              "    animation:\n",
              "      spin 1s steps(1) infinite;\n",
              "  }\n",
              "\n",
              "  @keyframes spin {\n",
              "    0% {\n",
              "      border-color: transparent;\n",
              "      border-bottom-color: var(--fill-color);\n",
              "      border-left-color: var(--fill-color);\n",
              "    }\n",
              "    20% {\n",
              "      border-color: transparent;\n",
              "      border-left-color: var(--fill-color);\n",
              "      border-top-color: var(--fill-color);\n",
              "    }\n",
              "    30% {\n",
              "      border-color: transparent;\n",
              "      border-left-color: var(--fill-color);\n",
              "      border-top-color: var(--fill-color);\n",
              "      border-right-color: var(--fill-color);\n",
              "    }\n",
              "    40% {\n",
              "      border-color: transparent;\n",
              "      border-right-color: var(--fill-color);\n",
              "      border-top-color: var(--fill-color);\n",
              "    }\n",
              "    60% {\n",
              "      border-color: transparent;\n",
              "      border-right-color: var(--fill-color);\n",
              "    }\n",
              "    80% {\n",
              "      border-color: transparent;\n",
              "      border-right-color: var(--fill-color);\n",
              "      border-bottom-color: var(--fill-color);\n",
              "    }\n",
              "    90% {\n",
              "      border-color: transparent;\n",
              "      border-bottom-color: var(--fill-color);\n",
              "    }\n",
              "  }\n",
              "</style>\n",
              "\n",
              "  <script>\n",
              "    async function quickchart(key) {\n",
              "      const quickchartButtonEl =\n",
              "        document.querySelector('#' + key + ' button');\n",
              "      quickchartButtonEl.disabled = true;  // To prevent multiple clicks.\n",
              "      quickchartButtonEl.classList.add('colab-df-spinner');\n",
              "      try {\n",
              "        const charts = await google.colab.kernel.invokeFunction(\n",
              "            'suggestCharts', [key], {});\n",
              "      } catch (error) {\n",
              "        console.error('Error during call to suggestCharts:', error);\n",
              "      }\n",
              "      quickchartButtonEl.classList.remove('colab-df-spinner');\n",
              "      quickchartButtonEl.classList.add('colab-df-quickchart-complete');\n",
              "    }\n",
              "    (() => {\n",
              "      let quickchartButtonEl =\n",
              "        document.querySelector('#df-8b9b422e-fac0-46a8-ab0c-c9e2e181b827 button');\n",
              "      quickchartButtonEl.style.display =\n",
              "        google.colab.kernel.accessAllowed ? 'block' : 'none';\n",
              "    })();\n",
              "  </script>\n",
              "</div>\n",
              "    </div>\n",
              "  </div>\n"
            ]
          },
          "metadata": {}
        },
        {
          "output_type": "stream",
          "name": "stdout",
          "text": [
            "Дубликаты: 0\n",
            "\n",
            "==================== Регион 2 ====================\n",
            "<class 'pandas.core.frame.DataFrame'>\n",
            "RangeIndex: 100000 entries, 0 to 99999\n",
            "Data columns (total 5 columns):\n",
            " #   Column   Non-Null Count   Dtype  \n",
            "---  ------   --------------   -----  \n",
            " 0   id       100000 non-null  object \n",
            " 1   f0       100000 non-null  float64\n",
            " 2   f1       100000 non-null  float64\n",
            " 3   f2       100000 non-null  float64\n",
            " 4   product  100000 non-null  float64\n",
            "dtypes: float64(4), object(1)\n",
            "memory usage: 3.8+ MB\n"
          ]
        },
        {
          "output_type": "display_data",
          "data": {
            "text/plain": [
              "      id        f0        f1        f2     product\n",
              "0  fwXo0 -1.146987  0.963328 -0.828965   27.758673\n",
              "1  WJtFt  0.262778  0.269839 -2.530187   56.069697\n",
              "2  ovLUW  0.194587  0.289035 -5.586433   62.871910\n",
              "3  q6cA6  2.236060 -0.553760  0.930038  114.572842\n",
              "4  WPMUX -0.515993  1.716266  5.899011  149.600746"
            ],
            "text/html": [
              "\n",
              "  <div id=\"df-981b6fcd-9dd6-4f97-aebf-50fcfdd5d11c\" class=\"colab-df-container\">\n",
              "    <div>\n",
              "<style scoped>\n",
              "    .dataframe tbody tr th:only-of-type {\n",
              "        vertical-align: middle;\n",
              "    }\n",
              "\n",
              "    .dataframe tbody tr th {\n",
              "        vertical-align: top;\n",
              "    }\n",
              "\n",
              "    .dataframe thead th {\n",
              "        text-align: right;\n",
              "    }\n",
              "</style>\n",
              "<table border=\"1\" class=\"dataframe\">\n",
              "  <thead>\n",
              "    <tr style=\"text-align: right;\">\n",
              "      <th></th>\n",
              "      <th>id</th>\n",
              "      <th>f0</th>\n",
              "      <th>f1</th>\n",
              "      <th>f2</th>\n",
              "      <th>product</th>\n",
              "    </tr>\n",
              "  </thead>\n",
              "  <tbody>\n",
              "    <tr>\n",
              "      <th>0</th>\n",
              "      <td>fwXo0</td>\n",
              "      <td>-1.146987</td>\n",
              "      <td>0.963328</td>\n",
              "      <td>-0.828965</td>\n",
              "      <td>27.758673</td>\n",
              "    </tr>\n",
              "    <tr>\n",
              "      <th>1</th>\n",
              "      <td>WJtFt</td>\n",
              "      <td>0.262778</td>\n",
              "      <td>0.269839</td>\n",
              "      <td>-2.530187</td>\n",
              "      <td>56.069697</td>\n",
              "    </tr>\n",
              "    <tr>\n",
              "      <th>2</th>\n",
              "      <td>ovLUW</td>\n",
              "      <td>0.194587</td>\n",
              "      <td>0.289035</td>\n",
              "      <td>-5.586433</td>\n",
              "      <td>62.871910</td>\n",
              "    </tr>\n",
              "    <tr>\n",
              "      <th>3</th>\n",
              "      <td>q6cA6</td>\n",
              "      <td>2.236060</td>\n",
              "      <td>-0.553760</td>\n",
              "      <td>0.930038</td>\n",
              "      <td>114.572842</td>\n",
              "    </tr>\n",
              "    <tr>\n",
              "      <th>4</th>\n",
              "      <td>WPMUX</td>\n",
              "      <td>-0.515993</td>\n",
              "      <td>1.716266</td>\n",
              "      <td>5.899011</td>\n",
              "      <td>149.600746</td>\n",
              "    </tr>\n",
              "  </tbody>\n",
              "</table>\n",
              "</div>\n",
              "    <div class=\"colab-df-buttons\">\n",
              "\n",
              "  <div class=\"colab-df-container\">\n",
              "    <button class=\"colab-df-convert\" onclick=\"convertToInteractive('df-981b6fcd-9dd6-4f97-aebf-50fcfdd5d11c')\"\n",
              "            title=\"Convert this dataframe to an interactive table.\"\n",
              "            style=\"display:none;\">\n",
              "\n",
              "  <svg xmlns=\"http://www.w3.org/2000/svg\" height=\"24px\" viewBox=\"0 -960 960 960\">\n",
              "    <path d=\"M120-120v-720h720v720H120Zm60-500h600v-160H180v160Zm220 220h160v-160H400v160Zm0 220h160v-160H400v160ZM180-400h160v-160H180v160Zm440 0h160v-160H620v160ZM180-180h160v-160H180v160Zm440 0h160v-160H620v160Z\"/>\n",
              "  </svg>\n",
              "    </button>\n",
              "\n",
              "  <style>\n",
              "    .colab-df-container {\n",
              "      display:flex;\n",
              "      gap: 12px;\n",
              "    }\n",
              "\n",
              "    .colab-df-convert {\n",
              "      background-color: #E8F0FE;\n",
              "      border: none;\n",
              "      border-radius: 50%;\n",
              "      cursor: pointer;\n",
              "      display: none;\n",
              "      fill: #1967D2;\n",
              "      height: 32px;\n",
              "      padding: 0 0 0 0;\n",
              "      width: 32px;\n",
              "    }\n",
              "\n",
              "    .colab-df-convert:hover {\n",
              "      background-color: #E2EBFA;\n",
              "      box-shadow: 0px 1px 2px rgba(60, 64, 67, 0.3), 0px 1px 3px 1px rgba(60, 64, 67, 0.15);\n",
              "      fill: #174EA6;\n",
              "    }\n",
              "\n",
              "    .colab-df-buttons div {\n",
              "      margin-bottom: 4px;\n",
              "    }\n",
              "\n",
              "    [theme=dark] .colab-df-convert {\n",
              "      background-color: #3B4455;\n",
              "      fill: #D2E3FC;\n",
              "    }\n",
              "\n",
              "    [theme=dark] .colab-df-convert:hover {\n",
              "      background-color: #434B5C;\n",
              "      box-shadow: 0px 1px 3px 1px rgba(0, 0, 0, 0.15);\n",
              "      filter: drop-shadow(0px 1px 2px rgba(0, 0, 0, 0.3));\n",
              "      fill: #FFFFFF;\n",
              "    }\n",
              "  </style>\n",
              "\n",
              "    <script>\n",
              "      const buttonEl =\n",
              "        document.querySelector('#df-981b6fcd-9dd6-4f97-aebf-50fcfdd5d11c button.colab-df-convert');\n",
              "      buttonEl.style.display =\n",
              "        google.colab.kernel.accessAllowed ? 'block' : 'none';\n",
              "\n",
              "      async function convertToInteractive(key) {\n",
              "        const element = document.querySelector('#df-981b6fcd-9dd6-4f97-aebf-50fcfdd5d11c');\n",
              "        const dataTable =\n",
              "          await google.colab.kernel.invokeFunction('convertToInteractive',\n",
              "                                                    [key], {});\n",
              "        if (!dataTable) return;\n",
              "\n",
              "        const docLinkHtml = 'Like what you see? Visit the ' +\n",
              "          '<a target=\"_blank\" href=https://colab.research.google.com/notebooks/data_table.ipynb>data table notebook</a>'\n",
              "          + ' to learn more about interactive tables.';\n",
              "        element.innerHTML = '';\n",
              "        dataTable['output_type'] = 'display_data';\n",
              "        await google.colab.output.renderOutput(dataTable, element);\n",
              "        const docLink = document.createElement('div');\n",
              "        docLink.innerHTML = docLinkHtml;\n",
              "        element.appendChild(docLink);\n",
              "      }\n",
              "    </script>\n",
              "  </div>\n",
              "\n",
              "\n",
              "<div id=\"df-3907188f-686e-4f17-8c67-ff1164c3bf57\">\n",
              "  <button class=\"colab-df-quickchart\" onclick=\"quickchart('df-3907188f-686e-4f17-8c67-ff1164c3bf57')\"\n",
              "            title=\"Suggest charts.\"\n",
              "            style=\"display:none;\">\n",
              "\n",
              "<svg xmlns=\"http://www.w3.org/2000/svg\" height=\"24px\"viewBox=\"0 0 24 24\"\n",
              "     width=\"24px\">\n",
              "    <g>\n",
              "        <path d=\"M19 3H5c-1.1 0-2 .9-2 2v14c0 1.1.9 2 2 2h14c1.1 0 2-.9 2-2V5c0-1.1-.9-2-2-2zM9 17H7v-7h2v7zm4 0h-2V7h2v10zm4 0h-2v-4h2v4z\"/>\n",
              "    </g>\n",
              "</svg>\n",
              "  </button>\n",
              "\n",
              "<style>\n",
              "  .colab-df-quickchart {\n",
              "      --bg-color: #E8F0FE;\n",
              "      --fill-color: #1967D2;\n",
              "      --hover-bg-color: #E2EBFA;\n",
              "      --hover-fill-color: #174EA6;\n",
              "      --disabled-fill-color: #AAA;\n",
              "      --disabled-bg-color: #DDD;\n",
              "  }\n",
              "\n",
              "  [theme=dark] .colab-df-quickchart {\n",
              "      --bg-color: #3B4455;\n",
              "      --fill-color: #D2E3FC;\n",
              "      --hover-bg-color: #434B5C;\n",
              "      --hover-fill-color: #FFFFFF;\n",
              "      --disabled-bg-color: #3B4455;\n",
              "      --disabled-fill-color: #666;\n",
              "  }\n",
              "\n",
              "  .colab-df-quickchart {\n",
              "    background-color: var(--bg-color);\n",
              "    border: none;\n",
              "    border-radius: 50%;\n",
              "    cursor: pointer;\n",
              "    display: none;\n",
              "    fill: var(--fill-color);\n",
              "    height: 32px;\n",
              "    padding: 0;\n",
              "    width: 32px;\n",
              "  }\n",
              "\n",
              "  .colab-df-quickchart:hover {\n",
              "    background-color: var(--hover-bg-color);\n",
              "    box-shadow: 0 1px 2px rgba(60, 64, 67, 0.3), 0 1px 3px 1px rgba(60, 64, 67, 0.15);\n",
              "    fill: var(--button-hover-fill-color);\n",
              "  }\n",
              "\n",
              "  .colab-df-quickchart-complete:disabled,\n",
              "  .colab-df-quickchart-complete:disabled:hover {\n",
              "    background-color: var(--disabled-bg-color);\n",
              "    fill: var(--disabled-fill-color);\n",
              "    box-shadow: none;\n",
              "  }\n",
              "\n",
              "  .colab-df-spinner {\n",
              "    border: 2px solid var(--fill-color);\n",
              "    border-color: transparent;\n",
              "    border-bottom-color: var(--fill-color);\n",
              "    animation:\n",
              "      spin 1s steps(1) infinite;\n",
              "  }\n",
              "\n",
              "  @keyframes spin {\n",
              "    0% {\n",
              "      border-color: transparent;\n",
              "      border-bottom-color: var(--fill-color);\n",
              "      border-left-color: var(--fill-color);\n",
              "    }\n",
              "    20% {\n",
              "      border-color: transparent;\n",
              "      border-left-color: var(--fill-color);\n",
              "      border-top-color: var(--fill-color);\n",
              "    }\n",
              "    30% {\n",
              "      border-color: transparent;\n",
              "      border-left-color: var(--fill-color);\n",
              "      border-top-color: var(--fill-color);\n",
              "      border-right-color: var(--fill-color);\n",
              "    }\n",
              "    40% {\n",
              "      border-color: transparent;\n",
              "      border-right-color: var(--fill-color);\n",
              "      border-top-color: var(--fill-color);\n",
              "    }\n",
              "    60% {\n",
              "      border-color: transparent;\n",
              "      border-right-color: var(--fill-color);\n",
              "    }\n",
              "    80% {\n",
              "      border-color: transparent;\n",
              "      border-right-color: var(--fill-color);\n",
              "      border-bottom-color: var(--fill-color);\n",
              "    }\n",
              "    90% {\n",
              "      border-color: transparent;\n",
              "      border-bottom-color: var(--fill-color);\n",
              "    }\n",
              "  }\n",
              "</style>\n",
              "\n",
              "  <script>\n",
              "    async function quickchart(key) {\n",
              "      const quickchartButtonEl =\n",
              "        document.querySelector('#' + key + ' button');\n",
              "      quickchartButtonEl.disabled = true;  // To prevent multiple clicks.\n",
              "      quickchartButtonEl.classList.add('colab-df-spinner');\n",
              "      try {\n",
              "        const charts = await google.colab.kernel.invokeFunction(\n",
              "            'suggestCharts', [key], {});\n",
              "      } catch (error) {\n",
              "        console.error('Error during call to suggestCharts:', error);\n",
              "      }\n",
              "      quickchartButtonEl.classList.remove('colab-df-spinner');\n",
              "      quickchartButtonEl.classList.add('colab-df-quickchart-complete');\n",
              "    }\n",
              "    (() => {\n",
              "      let quickchartButtonEl =\n",
              "        document.querySelector('#df-3907188f-686e-4f17-8c67-ff1164c3bf57 button');\n",
              "      quickchartButtonEl.style.display =\n",
              "        google.colab.kernel.accessAllowed ? 'block' : 'none';\n",
              "    })();\n",
              "  </script>\n",
              "</div>\n",
              "    </div>\n",
              "  </div>\n"
            ]
          },
          "metadata": {}
        },
        {
          "output_type": "stream",
          "name": "stdout",
          "text": [
            "Дубликаты: 0\n",
            "\n"
          ]
        }
      ],
      "source": [
        "for i, df in enumerate(dfs):\n",
        "    print('{:=^50}'.format(f' Регион {i} '))\n",
        "    df.info()\n",
        "    display(df.head())\n",
        "    print('Дубликаты:', df.duplicated().sum(), end='\\n\\n')"
      ]
    },
    {
      "cell_type": "markdown",
      "metadata": {
        "id": "Ne_zJHjeSZum"
      },
      "source": [
        "Пропуски и явные дубликаты в данных отсутствуют."
      ]
    },
    {
      "cell_type": "markdown",
      "metadata": {
        "id": "dbAVZF3QSZun"
      },
      "source": [
        "Отделяем признаки и целевой признак."
      ]
    },
    {
      "cell_type": "code",
      "execution_count": null,
      "metadata": {
        "id": "71RSsgCzSZuo"
      },
      "outputs": [],
      "source": [
        "data = [(df.drop(['id', 'product'], axis=1), df['product']) for df in dfs]"
      ]
    },
    {
      "cell_type": "markdown",
      "metadata": {
        "id": "3qVFgGXbSZup"
      },
      "source": [
        "Проверка корреляции признаков."
      ]
    },
    {
      "cell_type": "code",
      "execution_count": null,
      "metadata": {
        "colab": {
          "base_uri": "https://localhost:8080/",
          "height": 491
        },
        "id": "X4Hk-YkzSZup",
        "outputId": "3fef2ebf-d0fe-45f4-c3ec-91985a9ed682"
      },
      "outputs": [
        {
          "output_type": "display_data",
          "data": {
            "text/plain": [
              "<pandas.io.formats.style.Styler at 0x7b25b451c2e0>"
            ],
            "text/html": [
              "<style type=\"text/css\">\n",
              "#T_afed6_row0_col0, #T_afed6_row1_col1, #T_afed6_row2_col2, #T_afed6_row3_col3 {\n",
              "  background-color: #b40426;\n",
              "  color: #f1f1f1;\n",
              "}\n",
              "#T_afed6_row0_col1, #T_afed6_row1_col0 {\n",
              "  background-color: #97b8ff;\n",
              "  color: #000000;\n",
              "}\n",
              "#T_afed6_row0_col2, #T_afed6_row2_col0 {\n",
              "  background-color: #dcdddd;\n",
              "  color: #000000;\n",
              "}\n",
              "#T_afed6_row0_col3, #T_afed6_row3_col0 {\n",
              "  background-color: #edd1c2;\n",
              "  color: #000000;\n",
              "}\n",
              "#T_afed6_row1_col2, #T_afed6_row2_col1 {\n",
              "  background-color: #dddcdc;\n",
              "  color: #000000;\n",
              "}\n",
              "#T_afed6_row1_col3, #T_afed6_row3_col1 {\n",
              "  background-color: #c1d4f4;\n",
              "  color: #000000;\n",
              "}\n",
              "#T_afed6_row2_col3, #T_afed6_row3_col2 {\n",
              "  background-color: #f59d7e;\n",
              "  color: #000000;\n",
              "}\n",
              "</style>\n",
              "<table id=\"T_afed6\" class=\"dataframe\">\n",
              "  <thead>\n",
              "    <tr>\n",
              "      <th class=\"blank level0\" >&nbsp;</th>\n",
              "      <th id=\"T_afed6_level0_col0\" class=\"col_heading level0 col0\" >f0</th>\n",
              "      <th id=\"T_afed6_level0_col1\" class=\"col_heading level0 col1\" >f1</th>\n",
              "      <th id=\"T_afed6_level0_col2\" class=\"col_heading level0 col2\" >f2</th>\n",
              "      <th id=\"T_afed6_level0_col3\" class=\"col_heading level0 col3\" >product</th>\n",
              "    </tr>\n",
              "  </thead>\n",
              "  <tbody>\n",
              "    <tr>\n",
              "      <th id=\"T_afed6_level0_row0\" class=\"row_heading level0 row0\" >f0</th>\n",
              "      <td id=\"T_afed6_row0_col0\" class=\"data row0 col0\" >1.000000</td>\n",
              "      <td id=\"T_afed6_row0_col1\" class=\"data row0 col1\" >-0.440723</td>\n",
              "      <td id=\"T_afed6_row0_col2\" class=\"data row0 col2\" >-0.003153</td>\n",
              "      <td id=\"T_afed6_row0_col3\" class=\"data row0 col3\" >0.143536</td>\n",
              "    </tr>\n",
              "    <tr>\n",
              "      <th id=\"T_afed6_level0_row1\" class=\"row_heading level0 row1\" >f1</th>\n",
              "      <td id=\"T_afed6_row1_col0\" class=\"data row1 col0\" >-0.440723</td>\n",
              "      <td id=\"T_afed6_row1_col1\" class=\"data row1 col1\" >1.000000</td>\n",
              "      <td id=\"T_afed6_row1_col2\" class=\"data row1 col2\" >0.001724</td>\n",
              "      <td id=\"T_afed6_row1_col3\" class=\"data row1 col3\" >-0.192356</td>\n",
              "    </tr>\n",
              "    <tr>\n",
              "      <th id=\"T_afed6_level0_row2\" class=\"row_heading level0 row2\" >f2</th>\n",
              "      <td id=\"T_afed6_row2_col0\" class=\"data row2 col0\" >-0.003153</td>\n",
              "      <td id=\"T_afed6_row2_col1\" class=\"data row2 col1\" >0.001724</td>\n",
              "      <td id=\"T_afed6_row2_col2\" class=\"data row2 col2\" >1.000000</td>\n",
              "      <td id=\"T_afed6_row2_col3\" class=\"data row2 col3\" >0.483663</td>\n",
              "    </tr>\n",
              "    <tr>\n",
              "      <th id=\"T_afed6_level0_row3\" class=\"row_heading level0 row3\" >product</th>\n",
              "      <td id=\"T_afed6_row3_col0\" class=\"data row3 col0\" >0.143536</td>\n",
              "      <td id=\"T_afed6_row3_col1\" class=\"data row3 col1\" >-0.192356</td>\n",
              "      <td id=\"T_afed6_row3_col2\" class=\"data row3 col2\" >0.483663</td>\n",
              "      <td id=\"T_afed6_row3_col3\" class=\"data row3 col3\" >1.000000</td>\n",
              "    </tr>\n",
              "  </tbody>\n",
              "</table>\n"
            ]
          },
          "metadata": {}
        },
        {
          "output_type": "display_data",
          "data": {
            "text/plain": [
              "<pandas.io.formats.style.Styler at 0x7b25b451c100>"
            ],
            "text/html": [
              "<style type=\"text/css\">\n",
              "#T_9bfbe_row0_col0, #T_9bfbe_row1_col1, #T_9bfbe_row2_col2, #T_9bfbe_row2_col3, #T_9bfbe_row3_col2, #T_9bfbe_row3_col3 {\n",
              "  background-color: #b40426;\n",
              "  color: #f1f1f1;\n",
              "}\n",
              "#T_9bfbe_row0_col1, #T_9bfbe_row1_col0 {\n",
              "  background-color: #f1cdba;\n",
              "  color: #000000;\n",
              "}\n",
              "#T_9bfbe_row0_col2, #T_9bfbe_row1_col2, #T_9bfbe_row2_col0, #T_9bfbe_row2_col1 {\n",
              "  background-color: #dcdddd;\n",
              "  color: #000000;\n",
              "}\n",
              "#T_9bfbe_row0_col3, #T_9bfbe_row3_col0 {\n",
              "  background-color: #d9dce1;\n",
              "  color: #000000;\n",
              "}\n",
              "#T_9bfbe_row1_col3, #T_9bfbe_row3_col1 {\n",
              "  background-color: #dbdcde;\n",
              "  color: #000000;\n",
              "}\n",
              "</style>\n",
              "<table id=\"T_9bfbe\" class=\"dataframe\">\n",
              "  <thead>\n",
              "    <tr>\n",
              "      <th class=\"blank level0\" >&nbsp;</th>\n",
              "      <th id=\"T_9bfbe_level0_col0\" class=\"col_heading level0 col0\" >f0</th>\n",
              "      <th id=\"T_9bfbe_level0_col1\" class=\"col_heading level0 col1\" >f1</th>\n",
              "      <th id=\"T_9bfbe_level0_col2\" class=\"col_heading level0 col2\" >f2</th>\n",
              "      <th id=\"T_9bfbe_level0_col3\" class=\"col_heading level0 col3\" >product</th>\n",
              "    </tr>\n",
              "  </thead>\n",
              "  <tbody>\n",
              "    <tr>\n",
              "      <th id=\"T_9bfbe_level0_row0\" class=\"row_heading level0 row0\" >f0</th>\n",
              "      <td id=\"T_9bfbe_row0_col0\" class=\"data row0 col0\" >1.000000</td>\n",
              "      <td id=\"T_9bfbe_row0_col1\" class=\"data row0 col1\" >0.182287</td>\n",
              "      <td id=\"T_9bfbe_row0_col2\" class=\"data row0 col2\" >-0.001777</td>\n",
              "      <td id=\"T_9bfbe_row0_col3\" class=\"data row0 col3\" >-0.030491</td>\n",
              "    </tr>\n",
              "    <tr>\n",
              "      <th id=\"T_9bfbe_level0_row1\" class=\"row_heading level0 row1\" >f1</th>\n",
              "      <td id=\"T_9bfbe_row1_col0\" class=\"data row1 col0\" >0.182287</td>\n",
              "      <td id=\"T_9bfbe_row1_col1\" class=\"data row1 col1\" >1.000000</td>\n",
              "      <td id=\"T_9bfbe_row1_col2\" class=\"data row1 col2\" >-0.002595</td>\n",
              "      <td id=\"T_9bfbe_row1_col3\" class=\"data row1 col3\" >-0.010155</td>\n",
              "    </tr>\n",
              "    <tr>\n",
              "      <th id=\"T_9bfbe_level0_row2\" class=\"row_heading level0 row2\" >f2</th>\n",
              "      <td id=\"T_9bfbe_row2_col0\" class=\"data row2 col0\" >-0.001777</td>\n",
              "      <td id=\"T_9bfbe_row2_col1\" class=\"data row2 col1\" >-0.002595</td>\n",
              "      <td id=\"T_9bfbe_row2_col2\" class=\"data row2 col2\" >1.000000</td>\n",
              "      <td id=\"T_9bfbe_row2_col3\" class=\"data row2 col3\" >0.999397</td>\n",
              "    </tr>\n",
              "    <tr>\n",
              "      <th id=\"T_9bfbe_level0_row3\" class=\"row_heading level0 row3\" >product</th>\n",
              "      <td id=\"T_9bfbe_row3_col0\" class=\"data row3 col0\" >-0.030491</td>\n",
              "      <td id=\"T_9bfbe_row3_col1\" class=\"data row3 col1\" >-0.010155</td>\n",
              "      <td id=\"T_9bfbe_row3_col2\" class=\"data row3 col2\" >0.999397</td>\n",
              "      <td id=\"T_9bfbe_row3_col3\" class=\"data row3 col3\" >1.000000</td>\n",
              "    </tr>\n",
              "  </tbody>\n",
              "</table>\n"
            ]
          },
          "metadata": {}
        },
        {
          "output_type": "display_data",
          "data": {
            "text/plain": [
              "<pandas.io.formats.style.Styler at 0x7b25b451c2e0>"
            ],
            "text/html": [
              "<style type=\"text/css\">\n",
              "#T_368f2_row0_col0, #T_368f2_row1_col1, #T_368f2_row2_col2, #T_368f2_row3_col3 {\n",
              "  background-color: #b40426;\n",
              "  color: #f1f1f1;\n",
              "}\n",
              "#T_368f2_row0_col1, #T_368f2_row1_col0, #T_368f2_row1_col2, #T_368f2_row2_col1 {\n",
              "  background-color: #dddcdc;\n",
              "  color: #000000;\n",
              "}\n",
              "#T_368f2_row0_col2, #T_368f2_row0_col3, #T_368f2_row1_col3, #T_368f2_row2_col0, #T_368f2_row3_col0, #T_368f2_row3_col1 {\n",
              "  background-color: #dcdddd;\n",
              "  color: #000000;\n",
              "}\n",
              "#T_368f2_row2_col3, #T_368f2_row3_col2 {\n",
              "  background-color: #f6a385;\n",
              "  color: #000000;\n",
              "}\n",
              "</style>\n",
              "<table id=\"T_368f2\" class=\"dataframe\">\n",
              "  <thead>\n",
              "    <tr>\n",
              "      <th class=\"blank level0\" >&nbsp;</th>\n",
              "      <th id=\"T_368f2_level0_col0\" class=\"col_heading level0 col0\" >f0</th>\n",
              "      <th id=\"T_368f2_level0_col1\" class=\"col_heading level0 col1\" >f1</th>\n",
              "      <th id=\"T_368f2_level0_col2\" class=\"col_heading level0 col2\" >f2</th>\n",
              "      <th id=\"T_368f2_level0_col3\" class=\"col_heading level0 col3\" >product</th>\n",
              "    </tr>\n",
              "  </thead>\n",
              "  <tbody>\n",
              "    <tr>\n",
              "      <th id=\"T_368f2_level0_row0\" class=\"row_heading level0 row0\" >f0</th>\n",
              "      <td id=\"T_368f2_row0_col0\" class=\"data row0 col0\" >1.000000</td>\n",
              "      <td id=\"T_368f2_row0_col1\" class=\"data row0 col1\" >0.000528</td>\n",
              "      <td id=\"T_368f2_row0_col2\" class=\"data row0 col2\" >-0.000448</td>\n",
              "      <td id=\"T_368f2_row0_col3\" class=\"data row0 col3\" >-0.001987</td>\n",
              "    </tr>\n",
              "    <tr>\n",
              "      <th id=\"T_368f2_level0_row1\" class=\"row_heading level0 row1\" >f1</th>\n",
              "      <td id=\"T_368f2_row1_col0\" class=\"data row1 col0\" >0.000528</td>\n",
              "      <td id=\"T_368f2_row1_col1\" class=\"data row1 col1\" >1.000000</td>\n",
              "      <td id=\"T_368f2_row1_col2\" class=\"data row1 col2\" >0.000779</td>\n",
              "      <td id=\"T_368f2_row1_col3\" class=\"data row1 col3\" >-0.001012</td>\n",
              "    </tr>\n",
              "    <tr>\n",
              "      <th id=\"T_368f2_level0_row2\" class=\"row_heading level0 row2\" >f2</th>\n",
              "      <td id=\"T_368f2_row2_col0\" class=\"data row2 col0\" >-0.000448</td>\n",
              "      <td id=\"T_368f2_row2_col1\" class=\"data row2 col1\" >0.000779</td>\n",
              "      <td id=\"T_368f2_row2_col2\" class=\"data row2 col2\" >1.000000</td>\n",
              "      <td id=\"T_368f2_row2_col3\" class=\"data row2 col3\" >0.445871</td>\n",
              "    </tr>\n",
              "    <tr>\n",
              "      <th id=\"T_368f2_level0_row3\" class=\"row_heading level0 row3\" >product</th>\n",
              "      <td id=\"T_368f2_row3_col0\" class=\"data row3 col0\" >-0.001987</td>\n",
              "      <td id=\"T_368f2_row3_col1\" class=\"data row3 col1\" >-0.001012</td>\n",
              "      <td id=\"T_368f2_row3_col2\" class=\"data row3 col2\" >0.445871</td>\n",
              "      <td id=\"T_368f2_row3_col3\" class=\"data row3 col3\" >1.000000</td>\n",
              "    </tr>\n",
              "  </tbody>\n",
              "</table>\n"
            ]
          },
          "metadata": {}
        }
      ],
      "source": [
        "for df in dfs:\n",
        "    display(df.corr(numeric_only=True).style.background_gradient(cmap='coolwarm', vmin=-1))"
      ]
    },
    {
      "cell_type": "markdown",
      "metadata": {
        "id": "uQC9PFZfSZuq"
      },
      "source": [
        "Немного коррелируют признаки `f0` и `f1` в 0-м регионе, но не критично."
      ]
    },
    {
      "cell_type": "markdown",
      "metadata": {
        "id": "gsXriwzkSZur"
      },
      "source": [
        "## Обучение и проверка модели"
      ]
    },
    {
      "cell_type": "code",
      "execution_count": null,
      "metadata": {
        "id": "zm4AQWzaSZur"
      },
      "outputs": [],
      "source": [
        "seed = 277353"
      ]
    },
    {
      "cell_type": "code",
      "execution_count": null,
      "metadata": {
        "colab": {
          "base_uri": "https://localhost:8080/"
        },
        "id": "0i4VA1XiSZus",
        "outputId": "b2d8d26f-8f9a-4e85-9499-4f0cb7786cca"
      },
      "outputs": [
        {
          "output_type": "stream",
          "name": "stdout",
          "text": [
            "======== Регион 0 ========\n",
            "Mean: 92.38473135408651\n",
            "RMSE: 37.60350418158968\n",
            "======== Регион 1 ========\n",
            "Mean: 68.7130405804522\n",
            "RMSE: 0.8940293940385126\n",
            "======== Регион 2 ========\n",
            "Mean: 94.9446281888117\n",
            "RMSE: 40.23337037486705\n"
          ]
        }
      ],
      "source": [
        "model_results = []\n",
        "for i, (x, y) in enumerate(data):\n",
        "    print('{:=^26}'.format(f' Регион {i} '))\n",
        "\n",
        "    x_train, x_valid, y_train, y_valid = train_test_split(x,\n",
        "                                                          y,\n",
        "                                                          test_size=0.25,\n",
        "                                                          random_state=seed)\n",
        "    assert (x_train.shape[0] == y_train.shape[0] == 75000 and\n",
        "           x_valid.shape[0] == y_valid.shape[0] == 25000), \"Неправильные размеры выборок!\"\n",
        "\n",
        "    scaler = StandardScaler()\n",
        "    scaler.fit(x_train)\n",
        "    x_train = scaler.transform(x_train)\n",
        "    x_valid = scaler.transform(x_valid)\n",
        "\n",
        "    model = LinearRegression()\n",
        "    model.fit(x_train, y_train)\n",
        "    pred = model.predict(x_valid)\n",
        "\n",
        "    model_results.append((y_valid, pred))\n",
        "    print('Mean:', pred.mean())\n",
        "    print('RMSE:', mean_squared_error(y_valid, pred) ** 0.5)"
      ]
    },
    {
      "cell_type": "markdown",
      "metadata": {
        "id": "m4bAI7rbSZuu"
      },
      "source": [
        "В регионе 1, модель очень точно предсказывает объём сырья, в отличии от регионов 0 и 2, где ошибка достаточно высокая."
      ]
    },
    {
      "cell_type": "markdown",
      "metadata": {
        "id": "Ue0gPNsFSZuv"
      },
      "source": [
        "## Подготовка к расчёту прибыли"
      ]
    },
    {
      "cell_type": "code",
      "execution_count": null,
      "metadata": {
        "id": "ZvePuf_FSZuw"
      },
      "outputs": [],
      "source": [
        "POINTS = 500\n",
        "SAMPLE = 200\n",
        "BUDGET = 10e9\n",
        "PRICE = 450e3"
      ]
    },
    {
      "cell_type": "markdown",
      "metadata": {
        "id": "SL31taUkSZux"
      },
      "source": [
        "Минимальный объём сырья для безубыточной разработки скважины:"
      ]
    },
    {
      "cell_type": "code",
      "execution_count": null,
      "metadata": {
        "colab": {
          "base_uri": "https://localhost:8080/"
        },
        "id": "Gd9F_-QDSZux",
        "outputId": "350c4c68-6eb9-4c85-dc47-2794be4af14e"
      },
      "outputs": [
        {
          "output_type": "stream",
          "name": "stdout",
          "text": [
            "111.111\n"
          ]
        }
      ],
      "source": [
        "min_product = BUDGET/SAMPLE/PRICE\n",
        "print(f'{min_product:.3f}')"
      ]
    },
    {
      "cell_type": "code",
      "execution_count": null,
      "metadata": {
        "scrolled": true,
        "colab": {
          "base_uri": "https://localhost:8080/"
        },
        "id": "umhbxqdASZuy",
        "outputId": "9afa0b20-450a-462f-eb58-adbaa1dc5a3d"
      },
      "outputs": [
        {
          "output_type": "stream",
          "name": "stdout",
          "text": [
            "Средний объём сырья в регионе 0: 92.500\n",
            "Средний объём сырья в регионе 1: 68.825\n",
            "Средний объём сырья в регионе 2: 95.000\n"
          ]
        }
      ],
      "source": [
        "for i, df in enumerate(dfs):\n",
        "    m = df['product'].mean()\n",
        "    print(f'Средний объём сырья в регионе {i}: {m:.3f}')"
      ]
    },
    {
      "cell_type": "markdown",
      "metadata": {
        "id": "4VUIwJqRSZu3"
      },
      "source": [
        "Средний объём сырья по регионам значительно меньше необходимого, поэтому есть риск убытков."
      ]
    },
    {
      "cell_type": "code",
      "execution_count": null,
      "metadata": {
        "id": "uMLtYe26SZu3"
      },
      "outputs": [],
      "source": [
        "def income(valid, pred):\n",
        "    i = np.argpartition(pred, -SAMPLE)[-SAMPLE:]\n",
        "    product = np.array(valid)[i].sum()\n",
        "    return product * PRICE - BUDGET"
      ]
    },
    {
      "cell_type": "markdown",
      "source": [
        "Предварительно проверяем максимально возможную прибыль в каждом регионе"
      ],
      "metadata": {
        "id": "vUOLGm9BVPJL"
      }
    },
    {
      "cell_type": "code",
      "execution_count": null,
      "metadata": {
        "colab": {
          "base_uri": "https://localhost:8080/"
        },
        "id": "h5hLXTXvSZu5",
        "outputId": "7045eb41-eddf-4306-cd8d-7a39b56598fc"
      },
      "outputs": [
        {
          "output_type": "stream",
          "name": "stdout",
          "text": [
            "Прибыль по топ 200 скважинам 0 региона: 2.89 млрд руб\n",
            "Прибыль по топ 200 скважинам 1 региона: 2.42 млрд руб\n",
            "Прибыль по топ 200 скважинам 2 региона: 2.69 млрд руб\n"
          ]
        }
      ],
      "source": [
        "for i in range(3):\n",
        "    profit = income(*model_results[i])\n",
        "    print(f\"Прибыль по топ 200 скважинам {i} региона: {profit / 10**9:.2f} млрд руб\")"
      ]
    },
    {
      "cell_type": "markdown",
      "source": [
        "Максимально возможная прибыль больше нуля, несмотря на то что в среднем каждый регион убыточный. Значит есть смысл расчитать риски и возможную прибыль."
      ],
      "metadata": {
        "id": "L-OiEH6kVZ5q"
      }
    },
    {
      "cell_type": "markdown",
      "metadata": {
        "id": "cp8DemfNSZu6"
      },
      "source": [
        "## Расчёт прибыли и рисков"
      ]
    },
    {
      "cell_type": "code",
      "execution_count": null,
      "metadata": {
        "scrolled": false,
        "colab": {
          "base_uri": "https://localhost:8080/",
          "height": 1000
        },
        "id": "FDVBsJ8WSZu7",
        "outputId": "881dc8b6-68c8-41ef-c8c9-6803f7077039"
      },
      "outputs": [
        {
          "output_type": "stream",
          "name": "stdout",
          "text": [
            "====== Регион 0 ======\n",
            "Mean  :  389371847.06\n",
            "Lower : -101830811.62\n",
            "Upper :  873506094.16\n",
            "Risk  : 6.4%\n"
          ]
        },
        {
          "output_type": "display_data",
          "data": {
            "text/plain": [
              "<Figure size 640x480 with 1 Axes>"
            ],
            "image/png": "[encoded data removed]"
          },
          "metadata": {}
        },
        {
          "output_type": "stream",
          "name": "stdout",
          "text": [
            "====== Регион 1 ======\n",
            "Mean  :  449389350.44\n",
            "Lower :   64579881.89\n",
            "Upper :  852992311.98\n",
            "Risk  : 1.2%\n"
          ]
        },
        {
          "output_type": "display_data",
          "data": {
            "text/plain": [
              "<Figure size 640x480 with 1 Axes>"
            ],
            "image/png": "[encoded data removed]"
          },
          "metadata": {}
        },
        {
          "output_type": "stream",
          "name": "stdout",
          "text": [
            "====== Регион 2 ======\n",
            "Mean  :  351840657.90\n",
            "Lower : -137099541.78\n",
            "Upper :  895042207.51\n",
            "Risk  : 9.1%\n"
          ]
        },
        {
          "output_type": "display_data",
          "data": {
            "text/plain": [
              "<Figure size 640x480 with 1 Axes>"
            ],
            "image/png": "[encoded data removed]"
          },
          "metadata": {}
        }
      ],
      "source": [
        "state = np.random.RandomState(seed)\n",
        "for i, (valid, pred) in enumerate(model_results):\n",
        "    values = []\n",
        "    valid = valid.reset_index(drop=True)\n",
        "    for _ in range(1000):\n",
        "        v = valid.sample(POINTS, replace=True, random_state=state)\n",
        "        p = pred[v.index]\n",
        "        values.append(income(v, p))\n",
        "    values = pd.Series(values)\n",
        "\n",
        "    mean = values.mean()\n",
        "    lower = values.quantile(0.025)\n",
        "    upper = values.quantile(0.975)\n",
        "    print('{:=^22}'.format(f' Регион {i} '))\n",
        "    print(f'Mean  : {mean:>13.2f}')\n",
        "    print(f'Lower : {lower:>13.2f}')\n",
        "    print(f'Upper : {upper:>13.2f}')\n",
        "    print(f'Risk  : {(values < 0).mean()*100}%')\n",
        "    plt.hist(values, bins=30, ec='black', alpha=0.5)\n",
        "    plt.axvline(mean, c='black', ls=':')\n",
        "    plt.axvline(lower, c='black', ls='--')\n",
        "    plt.axvline(upper, c='black', ls='--')\n",
        "    plt.show()"
      ]
    },
    {
      "cell_type": "markdown",
      "metadata": {
        "id": "215Slui0SZu9"
      },
      "source": [
        "Вывод: Лучше всего для разработки подойдёт регион №1 так, как средняя прибыль здесь самая высокая, а также низкая вероятность убытков, в то время как в остальных регионах она достаточно высокая."
      ]
    },
    {
      "cell_type": "code",
      "execution_count": null,
      "metadata": {
        "id": "X37usapaSZu_"
      },
      "outputs": [],
      "source": []
    }
  ],
  "metadata": {
    "ExecuteTimeLog": [
      {
        "duration": 421,
        "start_time": "2023-03-09T10:22:08.203Z"
      },
      {
        "duration": 817,
        "start_time": "2023-03-09T10:22:08.626Z"
      },
      {
        "duration": 17,
        "start_time": "2023-03-09T10:22:17.930Z"
      },
      {
        "duration": 20,
        "start_time": "2023-03-09T10:22:24.460Z"
      },
      {
        "duration": 52,
        "start_time": "2023-03-09T10:23:32.260Z"
      },
      {
        "duration": 31,
        "start_time": "2023-03-09T10:47:42.580Z"
      },
      {
        "duration": 28,
        "start_time": "2023-03-09T10:47:49.801Z"
      },
      {
        "duration": 113,
        "start_time": "2023-03-09T10:48:20.555Z"
      },
      {
        "duration": 33,
        "start_time": "2023-03-09T11:17:03.131Z"
      },
      {
        "duration": 1301,
        "start_time": "2023-03-10T04:51:11.847Z"
      },
      {
        "duration": 917,
        "start_time": "2023-03-10T04:56:26.828Z"
      },
      {
        "duration": 3,
        "start_time": "2023-03-10T04:56:33.990Z"
      },
      {
        "duration": 198,
        "start_time": "2023-03-10T04:57:05.516Z"
      },
      {
        "duration": 205,
        "start_time": "2023-03-10T04:57:43.026Z"
      },
      {
        "duration": 195,
        "start_time": "2023-03-10T04:57:47.484Z"
      },
      {
        "duration": 218,
        "start_time": "2023-03-10T04:58:12.816Z"
      },
      {
        "duration": 221,
        "start_time": "2023-03-10T04:58:20.998Z"
      },
      {
        "duration": 240,
        "start_time": "2023-03-10T04:58:25.658Z"
      },
      {
        "duration": 236,
        "start_time": "2023-03-10T04:58:31.583Z"
      },
      {
        "duration": 211,
        "start_time": "2023-03-10T04:58:49.707Z"
      },
      {
        "duration": 227,
        "start_time": "2023-03-10T04:59:42.905Z"
      },
      {
        "duration": 116,
        "start_time": "2023-03-10T05:35:26.587Z"
      },
      {
        "duration": 221,
        "start_time": "2023-03-10T05:35:38.488Z"
      },
      {
        "duration": 11,
        "start_time": "2023-03-10T05:37:34.328Z"
      },
      {
        "duration": 209,
        "start_time": "2023-03-10T05:37:59.023Z"
      },
      {
        "duration": 210,
        "start_time": "2023-03-10T05:38:10.147Z"
      },
      {
        "duration": 5,
        "start_time": "2023-03-10T05:38:30.961Z"
      },
      {
        "duration": 228,
        "start_time": "2023-03-10T05:38:36.590Z"
      },
      {
        "duration": 238,
        "start_time": "2023-03-10T05:38:49.437Z"
      },
      {
        "duration": 219,
        "start_time": "2023-03-10T05:38:56.247Z"
      },
      {
        "duration": 227,
        "start_time": "2023-03-10T05:39:01.321Z"
      },
      {
        "duration": 280,
        "start_time": "2023-03-10T05:43:00.506Z"
      },
      {
        "duration": 248,
        "start_time": "2023-03-10T05:43:06.806Z"
      },
      {
        "duration": 211,
        "start_time": "2023-03-10T05:43:21.331Z"
      },
      {
        "duration": 261,
        "start_time": "2023-03-10T05:43:37.759Z"
      },
      {
        "duration": 215,
        "start_time": "2023-03-10T05:43:40.998Z"
      },
      {
        "duration": 242,
        "start_time": "2023-03-10T05:43:49.086Z"
      },
      {
        "duration": 230,
        "start_time": "2023-03-10T05:43:53.828Z"
      },
      {
        "duration": 236,
        "start_time": "2023-03-10T06:00:09.771Z"
      },
      {
        "duration": 226,
        "start_time": "2023-03-10T06:00:13.886Z"
      },
      {
        "duration": 243,
        "start_time": "2023-03-10T06:00:30.804Z"
      },
      {
        "duration": 233,
        "start_time": "2023-03-10T08:55:45.353Z"
      },
      {
        "duration": 221,
        "start_time": "2023-03-10T08:55:53.609Z"
      },
      {
        "duration": 238,
        "start_time": "2023-03-10T08:55:58.125Z"
      },
      {
        "duration": 227,
        "start_time": "2023-03-10T08:56:33.579Z"
      },
      {
        "duration": 215,
        "start_time": "2023-03-10T08:56:44.629Z"
      },
      {
        "duration": 17,
        "start_time": "2023-03-10T10:03:20.035Z"
      },
      {
        "duration": 3,
        "start_time": "2023-03-10T10:03:33.648Z"
      },
      {
        "duration": 22,
        "start_time": "2023-03-10T10:03:36.316Z"
      },
      {
        "duration": 28,
        "start_time": "2023-03-10T10:03:55.438Z"
      },
      {
        "duration": 93,
        "start_time": "2023-03-10T10:04:00.917Z"
      },
      {
        "duration": 51,
        "start_time": "2023-03-10T10:05:02.653Z"
      },
      {
        "duration": 36,
        "start_time": "2023-03-10T10:06:09.916Z"
      },
      {
        "duration": 4,
        "start_time": "2023-03-10T10:09:32.935Z"
      },
      {
        "duration": 309,
        "start_time": "2023-03-10T10:09:55.694Z"
      },
      {
        "duration": 168,
        "start_time": "2023-03-10T10:10:19.428Z"
      },
      {
        "duration": 12,
        "start_time": "2023-03-10T10:10:26.092Z"
      },
      {
        "duration": 119,
        "start_time": "2023-03-10T10:10:33.270Z"
      },
      {
        "duration": 129,
        "start_time": "2023-03-10T10:10:43.649Z"
      },
      {
        "duration": 211,
        "start_time": "2023-03-10T10:10:51.079Z"
      },
      {
        "duration": 11,
        "start_time": "2023-03-10T10:17:38.738Z"
      },
      {
        "duration": 3,
        "start_time": "2023-03-10T10:17:42.947Z"
      },
      {
        "duration": 30,
        "start_time": "2023-03-10T10:17:48.447Z"
      },
      {
        "duration": 80,
        "start_time": "2023-03-10T10:18:42.203Z"
      },
      {
        "duration": 35,
        "start_time": "2023-03-10T10:18:45.548Z"
      },
      {
        "duration": 113,
        "start_time": "2023-03-10T10:20:04.802Z"
      },
      {
        "duration": 124,
        "start_time": "2023-03-10T10:20:19.600Z"
      },
      {
        "duration": 53,
        "start_time": "2023-03-10T10:35:14.693Z"
      },
      {
        "duration": 48,
        "start_time": "2023-03-10T10:35:19.637Z"
      },
      {
        "duration": 48,
        "start_time": "2023-03-10T10:35:38.005Z"
      },
      {
        "duration": 183,
        "start_time": "2023-03-10T10:35:39.597Z"
      },
      {
        "duration": 29,
        "start_time": "2023-03-10T10:36:06.943Z"
      },
      {
        "duration": 296,
        "start_time": "2023-03-10T10:36:07.592Z"
      },
      {
        "duration": 186,
        "start_time": "2023-03-10T10:36:14.704Z"
      },
      {
        "duration": 39,
        "start_time": "2023-03-10T10:36:51.158Z"
      },
      {
        "duration": 272,
        "start_time": "2023-03-10T10:36:52.106Z"
      },
      {
        "duration": 374,
        "start_time": "2023-03-10T10:36:53.323Z"
      },
      {
        "duration": 406,
        "start_time": "2023-03-10T10:37:00.872Z"
      },
      {
        "duration": 35,
        "start_time": "2023-03-10T10:37:08.909Z"
      },
      {
        "duration": 276,
        "start_time": "2023-03-10T10:37:09.512Z"
      },
      {
        "duration": 209,
        "start_time": "2023-03-10T10:37:10.788Z"
      },
      {
        "duration": 3,
        "start_time": "2023-03-10T10:37:30.289Z"
      },
      {
        "duration": 38,
        "start_time": "2023-03-10T10:37:30.566Z"
      },
      {
        "duration": 286,
        "start_time": "2023-03-10T10:37:32.512Z"
      },
      {
        "duration": 271,
        "start_time": "2023-03-10T10:37:33.119Z"
      },
      {
        "duration": 209,
        "start_time": "2023-03-10T10:39:24.168Z"
      },
      {
        "duration": 176,
        "start_time": "2023-03-10T10:39:29.500Z"
      },
      {
        "duration": 43,
        "start_time": "2023-03-10T10:39:54.449Z"
      },
      {
        "duration": 153,
        "start_time": "2023-03-10T10:39:59.435Z"
      },
      {
        "duration": 364,
        "start_time": "2023-03-10T10:51:04.814Z"
      },
      {
        "duration": 172,
        "start_time": "2023-03-10T10:51:07.314Z"
      },
      {
        "duration": 309,
        "start_time": "2023-03-10T10:51:09.770Z"
      },
      {
        "duration": 182,
        "start_time": "2023-03-10T10:53:03.208Z"
      },
      {
        "duration": 298,
        "start_time": "2023-03-10T10:53:32.079Z"
      },
      {
        "duration": 375,
        "start_time": "2023-03-10T10:53:37.901Z"
      },
      {
        "duration": 3,
        "start_time": "2023-03-10T10:55:20.145Z"
      },
      {
        "duration": 323,
        "start_time": "2023-03-10T10:55:33.173Z"
      },
      {
        "duration": 3,
        "start_time": "2023-03-10T11:00:16.552Z"
      },
      {
        "duration": 27,
        "start_time": "2023-03-10T11:00:16.721Z"
      },
      {
        "duration": 157,
        "start_time": "2023-03-10T11:00:17.219Z"
      },
      {
        "duration": 262,
        "start_time": "2023-03-10T11:00:25.640Z"
      },
      {
        "duration": 339,
        "start_time": "2023-03-10T11:00:30.448Z"
      },
      {
        "duration": 3,
        "start_time": "2023-03-10T11:00:36.956Z"
      },
      {
        "duration": 33,
        "start_time": "2023-03-10T11:00:37.117Z"
      },
      {
        "duration": 184,
        "start_time": "2023-03-10T11:00:37.691Z"
      },
      {
        "duration": 317,
        "start_time": "2023-03-10T11:00:39.885Z"
      },
      {
        "duration": 282,
        "start_time": "2023-03-10T11:00:40.996Z"
      },
      {
        "duration": 3,
        "start_time": "2023-03-10T11:01:23.856Z"
      },
      {
        "duration": 1308,
        "start_time": "2023-03-10T11:01:27.629Z"
      },
      {
        "duration": 3,
        "start_time": "2023-03-10T11:02:37.120Z"
      },
      {
        "duration": 32,
        "start_time": "2023-03-10T11:02:37.267Z"
      },
      {
        "duration": 3,
        "start_time": "2023-03-10T11:03:18.192Z"
      },
      {
        "duration": 38,
        "start_time": "2023-03-10T11:03:18.390Z"
      },
      {
        "duration": 274,
        "start_time": "2023-03-10T11:03:19.118Z"
      },
      {
        "duration": 416,
        "start_time": "2023-03-10T11:03:21.371Z"
      },
      {
        "duration": 274,
        "start_time": "2023-03-10T11:03:23.115Z"
      },
      {
        "duration": 3,
        "start_time": "2023-03-10T11:03:32.301Z"
      },
      {
        "duration": 42,
        "start_time": "2023-03-10T11:03:32.466Z"
      },
      {
        "duration": 234,
        "start_time": "2023-03-10T11:03:32.952Z"
      },
      {
        "duration": 6,
        "start_time": "2023-03-10T11:03:49.171Z"
      },
      {
        "duration": 43,
        "start_time": "2023-03-10T11:03:49.365Z"
      },
      {
        "duration": 310,
        "start_time": "2023-03-10T11:03:50.095Z"
      },
      {
        "duration": 6,
        "start_time": "2023-03-10T11:03:56.386Z"
      },
      {
        "duration": 38,
        "start_time": "2023-03-10T11:03:56.548Z"
      },
      {
        "duration": 170,
        "start_time": "2023-03-10T11:03:57.320Z"
      },
      {
        "duration": 3,
        "start_time": "2023-03-10T11:04:07.111Z"
      },
      {
        "duration": 39,
        "start_time": "2023-03-10T11:04:07.258Z"
      },
      {
        "duration": 124,
        "start_time": "2023-03-10T11:04:07.849Z"
      },
      {
        "duration": 3,
        "start_time": "2023-03-10T11:04:17.450Z"
      },
      {
        "duration": 28,
        "start_time": "2023-03-10T11:04:17.595Z"
      },
      {
        "duration": 62,
        "start_time": "2023-03-10T11:04:18.123Z"
      },
      {
        "duration": 3,
        "start_time": "2023-03-10T11:04:25.340Z"
      },
      {
        "duration": 28,
        "start_time": "2023-03-10T11:04:25.489Z"
      },
      {
        "duration": 155,
        "start_time": "2023-03-10T11:04:26.043Z"
      },
      {
        "duration": 3,
        "start_time": "2023-03-10T11:04:29.221Z"
      },
      {
        "duration": 28,
        "start_time": "2023-03-10T11:04:29.402Z"
      },
      {
        "duration": 250,
        "start_time": "2023-03-10T11:04:30.526Z"
      },
      {
        "duration": 6,
        "start_time": "2023-03-10T11:04:36.678Z"
      },
      {
        "duration": 28,
        "start_time": "2023-03-10T11:04:36.832Z"
      },
      {
        "duration": 226,
        "start_time": "2023-03-10T11:04:37.148Z"
      },
      {
        "duration": 323,
        "start_time": "2023-03-10T11:04:39.661Z"
      },
      {
        "duration": 395,
        "start_time": "2023-03-10T11:04:39.987Z"
      },
      {
        "duration": 88,
        "start_time": "2023-03-10T11:05:29.613Z"
      },
      {
        "duration": 386,
        "start_time": "2023-03-10T11:05:53.991Z"
      },
      {
        "duration": 318,
        "start_time": "2023-03-10T11:05:58.572Z"
      },
      {
        "duration": 209,
        "start_time": "2023-03-10T11:06:02.881Z"
      },
      {
        "duration": 46,
        "start_time": "2023-03-11T04:18:18.400Z"
      },
      {
        "duration": 1103,
        "start_time": "2023-03-11T04:18:20.659Z"
      },
      {
        "duration": 707,
        "start_time": "2023-03-11T04:18:21.763Z"
      },
      {
        "duration": 2,
        "start_time": "2023-03-11T04:18:22.472Z"
      },
      {
        "duration": 249,
        "start_time": "2023-03-11T04:18:22.476Z"
      },
      {
        "duration": 264,
        "start_time": "2023-03-11T04:18:29.885Z"
      },
      {
        "duration": 254,
        "start_time": "2023-03-11T04:18:35.238Z"
      },
      {
        "duration": 64,
        "start_time": "2023-03-11T04:19:37.089Z"
      },
      {
        "duration": 2,
        "start_time": "2023-03-11T04:19:47.007Z"
      },
      {
        "duration": 38,
        "start_time": "2023-03-11T04:19:47.224Z"
      },
      {
        "duration": 392,
        "start_time": "2023-03-11T04:19:48.200Z"
      },
      {
        "duration": 19,
        "start_time": "2023-03-11T04:20:00.957Z"
      },
      {
        "duration": 18,
        "start_time": "2023-03-11T04:20:17.011Z"
      },
      {
        "duration": 445,
        "start_time": "2023-03-11T04:20:22.550Z"
      },
      {
        "duration": 466,
        "start_time": "2023-03-11T04:21:09.228Z"
      },
      {
        "duration": 381,
        "start_time": "2023-03-11T04:21:26.309Z"
      },
      {
        "duration": 154,
        "start_time": "2023-03-11T04:21:38.228Z"
      },
      {
        "duration": 229,
        "start_time": "2023-03-11T04:22:11.970Z"
      },
      {
        "duration": 155,
        "start_time": "2023-03-11T09:50:29.939Z"
      },
      {
        "duration": 175,
        "start_time": "2023-03-11T09:50:39.314Z"
      },
      {
        "duration": 185,
        "start_time": "2023-03-11T09:50:49.512Z"
      },
      {
        "duration": 334,
        "start_time": "2023-03-11T09:50:57.571Z"
      },
      {
        "duration": 403,
        "start_time": "2023-03-11T09:51:15.177Z"
      },
      {
        "duration": 201,
        "start_time": "2023-03-11T09:51:19.223Z"
      },
      {
        "duration": 126,
        "start_time": "2023-03-11T09:51:23.064Z"
      },
      {
        "duration": 390,
        "start_time": "2023-03-11T09:51:31.696Z"
      },
      {
        "duration": 330,
        "start_time": "2023-03-11T09:51:37.381Z"
      },
      {
        "duration": 179,
        "start_time": "2023-03-11T09:52:12.515Z"
      },
      {
        "duration": 188,
        "start_time": "2023-03-11T09:52:18.809Z"
      },
      {
        "duration": 190,
        "start_time": "2023-03-11T09:52:23.732Z"
      },
      {
        "duration": 199,
        "start_time": "2023-03-11T09:52:30.811Z"
      },
      {
        "duration": 98,
        "start_time": "2023-03-11T09:53:40.308Z"
      },
      {
        "duration": 151,
        "start_time": "2023-03-11T09:54:04.135Z"
      },
      {
        "duration": 98,
        "start_time": "2023-03-11T09:54:14.810Z"
      },
      {
        "duration": 270,
        "start_time": "2023-03-11T09:57:04.060Z"
      },
      {
        "duration": 131,
        "start_time": "2023-03-11T09:57:46.796Z"
      },
      {
        "duration": 5,
        "start_time": "2023-03-11T09:59:12.320Z"
      },
      {
        "duration": 3,
        "start_time": "2023-03-11T10:00:13.030Z"
      },
      {
        "duration": 8,
        "start_time": "2023-03-11T10:14:37.835Z"
      },
      {
        "duration": 3,
        "start_time": "2023-03-11T10:14:40.921Z"
      },
      {
        "duration": 29,
        "start_time": "2023-03-11T10:14:41.084Z"
      },
      {
        "duration": 3,
        "start_time": "2023-03-11T10:17:37.819Z"
      },
      {
        "duration": 5,
        "start_time": "2023-03-11T10:17:48.449Z"
      },
      {
        "duration": 18,
        "start_time": "2023-03-11T10:17:56.300Z"
      },
      {
        "duration": 5,
        "start_time": "2023-03-11T10:18:05.079Z"
      },
      {
        "duration": 4,
        "start_time": "2023-03-11T10:18:15.066Z"
      },
      {
        "duration": 7,
        "start_time": "2023-03-11T10:18:27.310Z"
      },
      {
        "duration": 6,
        "start_time": "2023-03-11T10:18:32.662Z"
      },
      {
        "duration": 6,
        "start_time": "2023-03-11T10:18:59.559Z"
      },
      {
        "duration": 5,
        "start_time": "2023-03-11T10:18:59.835Z"
      },
      {
        "duration": 5,
        "start_time": "2023-03-11T10:19:00.334Z"
      },
      {
        "duration": 4,
        "start_time": "2023-03-11T10:19:10.265Z"
      },
      {
        "duration": 4,
        "start_time": "2023-03-11T10:19:15.528Z"
      },
      {
        "duration": 5,
        "start_time": "2023-03-11T10:19:35.749Z"
      },
      {
        "duration": 4,
        "start_time": "2023-03-11T10:21:32.122Z"
      },
      {
        "duration": 6,
        "start_time": "2023-03-11T10:21:40.839Z"
      },
      {
        "duration": 103,
        "start_time": "2023-03-11T10:23:19.530Z"
      },
      {
        "duration": 6,
        "start_time": "2023-03-11T10:25:07.718Z"
      },
      {
        "duration": 4,
        "start_time": "2023-03-11T10:25:19.925Z"
      },
      {
        "duration": 3,
        "start_time": "2023-03-11T10:26:01.333Z"
      },
      {
        "duration": 101,
        "start_time": "2023-03-11T10:32:41.728Z"
      },
      {
        "duration": 10,
        "start_time": "2023-03-11T10:32:48.214Z"
      },
      {
        "duration": 326,
        "start_time": "2023-03-11T10:34:24.763Z"
      },
      {
        "duration": 237,
        "start_time": "2023-03-11T10:35:08.967Z"
      },
      {
        "duration": 206,
        "start_time": "2023-03-11T10:35:21.810Z"
      },
      {
        "duration": 239,
        "start_time": "2023-03-11T10:35:24.771Z"
      },
      {
        "duration": 182,
        "start_time": "2023-03-11T10:35:39.127Z"
      },
      {
        "duration": 70,
        "start_time": "2023-03-11T10:37:07.549Z"
      },
      {
        "duration": 286,
        "start_time": "2023-03-11T10:39:51.112Z"
      },
      {
        "duration": 2,
        "start_time": "2023-03-11T10:42:25.062Z"
      },
      {
        "duration": 3,
        "start_time": "2023-03-11T10:42:48.000Z"
      },
      {
        "duration": 4,
        "start_time": "2023-03-11T10:42:58.730Z"
      },
      {
        "duration": 14,
        "start_time": "2023-03-11T10:43:01.949Z"
      },
      {
        "duration": 11,
        "start_time": "2023-03-11T10:43:21.736Z"
      },
      {
        "duration": 80,
        "start_time": "2023-03-11T10:43:30.150Z"
      },
      {
        "duration": 5,
        "start_time": "2023-03-11T10:44:42.149Z"
      },
      {
        "duration": 4,
        "start_time": "2023-03-11T10:44:44.799Z"
      },
      {
        "duration": 11,
        "start_time": "2023-03-11T10:45:13.134Z"
      },
      {
        "duration": 4,
        "start_time": "2023-03-11T10:45:18.922Z"
      },
      {
        "duration": 3,
        "start_time": "2023-03-11T10:45:21.795Z"
      },
      {
        "duration": 3,
        "start_time": "2023-03-11T10:45:25.727Z"
      },
      {
        "duration": 24,
        "start_time": "2023-03-11T10:45:56.273Z"
      },
      {
        "duration": 3,
        "start_time": "2023-03-11T10:46:05.715Z"
      },
      {
        "duration": 5,
        "start_time": "2023-03-11T10:46:10.219Z"
      },
      {
        "duration": 4,
        "start_time": "2023-03-11T10:50:24.607Z"
      },
      {
        "duration": 4,
        "start_time": "2023-03-11T10:50:28.119Z"
      },
      {
        "duration": 7,
        "start_time": "2023-03-11T10:50:38.806Z"
      },
      {
        "duration": 4,
        "start_time": "2023-03-11T10:50:42.621Z"
      },
      {
        "duration": 4,
        "start_time": "2023-03-11T10:50:45.431Z"
      },
      {
        "duration": 5,
        "start_time": "2023-03-11T10:53:56.347Z"
      },
      {
        "duration": 5,
        "start_time": "2023-03-11T10:54:01.727Z"
      },
      {
        "duration": 5,
        "start_time": "2023-03-11T10:55:20.803Z"
      },
      {
        "duration": 7,
        "start_time": "2023-03-11T10:55:31.498Z"
      },
      {
        "duration": 5,
        "start_time": "2023-03-11T10:55:43.934Z"
      },
      {
        "duration": 5,
        "start_time": "2023-03-11T10:56:36.070Z"
      },
      {
        "duration": 4,
        "start_time": "2023-03-11T10:56:48.309Z"
      },
      {
        "duration": 5,
        "start_time": "2023-03-11T10:57:06.564Z"
      },
      {
        "duration": 7,
        "start_time": "2023-03-11T10:57:17.705Z"
      },
      {
        "duration": 5,
        "start_time": "2023-03-11T10:57:35.803Z"
      },
      {
        "duration": 24,
        "start_time": "2023-03-11T10:59:35.530Z"
      },
      {
        "duration": 15,
        "start_time": "2023-03-11T10:59:58.003Z"
      },
      {
        "duration": 5,
        "start_time": "2023-03-11T11:00:19.999Z"
      },
      {
        "duration": 5,
        "start_time": "2023-03-11T11:00:36.844Z"
      },
      {
        "duration": 4,
        "start_time": "2023-03-11T11:00:41.649Z"
      },
      {
        "duration": 18,
        "start_time": "2023-03-11T11:00:53.532Z"
      },
      {
        "duration": 5,
        "start_time": "2023-03-11T11:02:23.615Z"
      },
      {
        "duration": 5,
        "start_time": "2023-03-11T11:02:40.616Z"
      },
      {
        "duration": 5,
        "start_time": "2023-03-11T11:04:01.404Z"
      },
      {
        "duration": 5,
        "start_time": "2023-03-11T11:25:18.706Z"
      },
      {
        "duration": 5,
        "start_time": "2023-03-11T11:28:39.917Z"
      },
      {
        "duration": 6,
        "start_time": "2023-03-11T11:28:53.946Z"
      },
      {
        "duration": 3,
        "start_time": "2023-03-11T11:39:56.716Z"
      },
      {
        "duration": 4,
        "start_time": "2023-03-11T11:39:58.534Z"
      },
      {
        "duration": 4,
        "start_time": "2023-03-11T11:40:06.950Z"
      },
      {
        "duration": 4,
        "start_time": "2023-03-11T11:40:07.345Z"
      },
      {
        "duration": 3,
        "start_time": "2023-03-11T11:40:13.404Z"
      },
      {
        "duration": 5,
        "start_time": "2023-03-11T11:40:13.596Z"
      },
      {
        "duration": 17,
        "start_time": "2023-03-11T11:47:31.376Z"
      },
      {
        "duration": 2527,
        "start_time": "2023-03-11T11:47:51.299Z"
      },
      {
        "duration": 721,
        "start_time": "2023-03-11T11:48:19.107Z"
      },
      {
        "duration": 2495,
        "start_time": "2023-03-11T11:49:48.176Z"
      },
      {
        "duration": 2514,
        "start_time": "2023-03-11T11:50:28.114Z"
      },
      {
        "duration": 2492,
        "start_time": "2023-03-11T11:57:23.656Z"
      },
      {
        "duration": 2609,
        "start_time": "2023-03-11T11:58:34.362Z"
      },
      {
        "duration": 2662,
        "start_time": "2023-03-11T11:58:57.538Z"
      },
      {
        "duration": 2614,
        "start_time": "2023-03-11T11:59:10.337Z"
      },
      {
        "duration": 2662,
        "start_time": "2023-03-11T11:59:23.647Z"
      },
      {
        "duration": 15,
        "start_time": "2023-03-11T12:01:52.862Z"
      },
      {
        "duration": 14,
        "start_time": "2023-03-11T12:02:47.905Z"
      },
      {
        "duration": 22,
        "start_time": "2023-03-11T12:03:24.408Z"
      },
      {
        "duration": 8,
        "start_time": "2023-03-11T12:03:29.976Z"
      },
      {
        "duration": 26,
        "start_time": "2023-03-11T12:03:31.673Z"
      },
      {
        "duration": 3,
        "start_time": "2023-03-11T12:03:40.153Z"
      },
      {
        "duration": 19,
        "start_time": "2023-03-11T12:03:42.138Z"
      },
      {
        "duration": 20,
        "start_time": "2023-03-11T12:03:51.420Z"
      },
      {
        "duration": 13,
        "start_time": "2023-03-11T12:04:07.125Z"
      },
      {
        "duration": 11,
        "start_time": "2023-03-11T12:04:13.857Z"
      },
      {
        "duration": 14,
        "start_time": "2023-03-11T12:04:45.008Z"
      },
      {
        "duration": 16,
        "start_time": "2023-03-11T12:05:26.308Z"
      },
      {
        "duration": 698,
        "start_time": "2023-03-11T12:06:06.705Z"
      },
      {
        "duration": 3,
        "start_time": "2023-03-11T12:06:48.415Z"
      },
      {
        "duration": 22,
        "start_time": "2023-03-11T12:06:49.109Z"
      },
      {
        "duration": 242,
        "start_time": "2023-03-11T12:07:08.463Z"
      },
      {
        "duration": 3,
        "start_time": "2023-03-11T12:07:17.204Z"
      },
      {
        "duration": 6,
        "start_time": "2023-03-11T12:07:17.398Z"
      },
      {
        "duration": 25,
        "start_time": "2023-03-11T12:07:28.700Z"
      },
      {
        "duration": 3,
        "start_time": "2023-03-11T12:07:54.957Z"
      },
      {
        "duration": 5,
        "start_time": "2023-03-11T12:07:55.310Z"
      },
      {
        "duration": 427,
        "start_time": "2023-03-11T12:07:56.307Z"
      },
      {
        "duration": 654,
        "start_time": "2023-03-11T12:08:18.318Z"
      },
      {
        "duration": 316,
        "start_time": "2023-03-11T12:08:31.583Z"
      },
      {
        "duration": 6,
        "start_time": "2023-03-11T12:08:35.979Z"
      },
      {
        "duration": 11,
        "start_time": "2023-03-11T12:08:42.526Z"
      },
      {
        "duration": 782,
        "start_time": "2023-03-11T12:08:46.055Z"
      },
      {
        "duration": 369,
        "start_time": "2023-03-11T12:09:26.571Z"
      },
      {
        "duration": 326,
        "start_time": "2023-03-11T12:09:32.537Z"
      },
      {
        "duration": 361,
        "start_time": "2023-03-11T12:11:12.284Z"
      },
      {
        "duration": 332,
        "start_time": "2023-03-11T12:11:17.169Z"
      },
      {
        "duration": 326,
        "start_time": "2023-03-11T12:19:16.270Z"
      },
      {
        "duration": 7,
        "start_time": "2023-03-12T03:08:33.363Z"
      },
      {
        "duration": 56,
        "start_time": "2023-03-12T03:08:33.922Z"
      },
      {
        "duration": 1236,
        "start_time": "2023-03-12T03:08:41.105Z"
      },
      {
        "duration": 1013,
        "start_time": "2023-03-12T03:08:42.354Z"
      },
      {
        "duration": 4,
        "start_time": "2023-03-12T03:08:43.368Z"
      },
      {
        "duration": 334,
        "start_time": "2023-03-12T03:08:43.374Z"
      },
      {
        "duration": 2,
        "start_time": "2023-03-12T03:08:43.710Z"
      },
      {
        "duration": 9,
        "start_time": "2023-03-12T03:08:43.713Z"
      },
      {
        "duration": 374,
        "start_time": "2023-03-12T03:08:43.723Z"
      },
      {
        "duration": 7,
        "start_time": "2023-03-12T03:08:44.098Z"
      },
      {
        "duration": 47,
        "start_time": "2023-03-12T03:08:44.110Z"
      },
      {
        "duration": 13,
        "start_time": "2023-03-12T03:08:44.159Z"
      },
      {
        "duration": 12,
        "start_time": "2023-03-12T03:08:44.174Z"
      },
      {
        "duration": 62,
        "start_time": "2023-03-12T03:08:44.198Z"
      },
      {
        "duration": 9,
        "start_time": "2023-03-12T03:08:44.261Z"
      },
      {
        "duration": 478,
        "start_time": "2023-03-12T03:08:44.272Z"
      },
      {
        "duration": 479,
        "start_time": "2023-03-12T03:29:24.562Z"
      },
      {
        "duration": 145,
        "start_time": "2023-03-12T03:29:28.354Z"
      },
      {
        "duration": 521,
        "start_time": "2023-03-12T03:29:33.224Z"
      },
      {
        "duration": 136,
        "start_time": "2023-03-12T03:29:44.010Z"
      },
      {
        "duration": 388,
        "start_time": "2023-03-12T03:29:47.568Z"
      },
      {
        "duration": 263,
        "start_time": "2023-03-12T03:29:51.304Z"
      },
      {
        "duration": 403,
        "start_time": "2023-03-12T03:29:57.548Z"
      },
      {
        "duration": 413,
        "start_time": "2023-03-12T03:30:15.676Z"
      },
      {
        "duration": 114,
        "start_time": "2023-03-12T03:30:30.844Z"
      },
      {
        "duration": 392,
        "start_time": "2023-03-12T03:30:39.953Z"
      },
      {
        "duration": 155,
        "start_time": "2023-03-12T03:30:51.638Z"
      },
      {
        "duration": 201,
        "start_time": "2023-03-12T03:30:56.544Z"
      },
      {
        "duration": 139,
        "start_time": "2023-03-12T03:31:14.234Z"
      },
      {
        "duration": 180,
        "start_time": "2023-03-12T03:31:18.941Z"
      },
      {
        "duration": 494,
        "start_time": "2023-03-12T03:32:59.209Z"
      },
      {
        "duration": 390,
        "start_time": "2023-03-12T03:33:04.447Z"
      },
      {
        "duration": 421,
        "start_time": "2023-03-12T03:33:08.318Z"
      },
      {
        "duration": 416,
        "start_time": "2023-03-12T03:33:11.100Z"
      },
      {
        "duration": 377,
        "start_time": "2023-03-12T03:33:20.198Z"
      },
      {
        "duration": 421,
        "start_time": "2023-03-12T03:33:28.722Z"
      },
      {
        "duration": 399,
        "start_time": "2023-03-12T03:34:08.618Z"
      },
      {
        "duration": 382,
        "start_time": "2023-03-12T03:35:05.139Z"
      },
      {
        "duration": 408,
        "start_time": "2023-03-12T03:35:10.567Z"
      },
      {
        "duration": 437,
        "start_time": "2023-03-12T03:35:32.574Z"
      },
      {
        "duration": 374,
        "start_time": "2023-03-12T03:35:35.444Z"
      },
      {
        "duration": 450,
        "start_time": "2023-03-12T03:40:20.400Z"
      },
      {
        "duration": 361,
        "start_time": "2023-03-12T03:40:28.443Z"
      },
      {
        "duration": 137,
        "start_time": "2023-03-12T03:40:32.338Z"
      },
      {
        "duration": 460,
        "start_time": "2023-03-12T03:40:35.875Z"
      },
      {
        "duration": 432,
        "start_time": "2023-03-12T03:40:54.601Z"
      },
      {
        "duration": 380,
        "start_time": "2023-03-12T03:41:02.630Z"
      },
      {
        "duration": 359,
        "start_time": "2023-03-12T03:41:08.501Z"
      },
      {
        "duration": 375,
        "start_time": "2023-03-12T03:41:16.471Z"
      },
      {
        "duration": 388,
        "start_time": "2023-03-12T03:41:25.809Z"
      },
      {
        "duration": 416,
        "start_time": "2023-03-12T03:41:32.876Z"
      },
      {
        "duration": 496,
        "start_time": "2023-03-12T03:42:06.149Z"
      },
      {
        "duration": 393,
        "start_time": "2023-03-12T03:42:15.170Z"
      },
      {
        "duration": 432,
        "start_time": "2023-03-12T03:42:21.015Z"
      },
      {
        "duration": 405,
        "start_time": "2023-03-12T03:42:39.569Z"
      },
      {
        "duration": 468,
        "start_time": "2023-03-12T03:43:00.141Z"
      },
      {
        "duration": 411,
        "start_time": "2023-03-12T03:45:59.690Z"
      },
      {
        "duration": 414,
        "start_time": "2023-03-12T03:46:38.677Z"
      },
      {
        "duration": 406,
        "start_time": "2023-03-12T03:47:02.995Z"
      },
      {
        "duration": 373,
        "start_time": "2023-03-12T03:47:27.351Z"
      },
      {
        "duration": 369,
        "start_time": "2023-03-12T03:47:32.464Z"
      },
      {
        "duration": 399,
        "start_time": "2023-03-12T03:47:38.020Z"
      },
      {
        "duration": 459,
        "start_time": "2023-03-12T03:47:50.898Z"
      },
      {
        "duration": 396,
        "start_time": "2023-03-12T03:47:56.941Z"
      },
      {
        "duration": 445,
        "start_time": "2023-03-12T03:50:00.821Z"
      },
      {
        "duration": 401,
        "start_time": "2023-03-12T03:50:10.039Z"
      },
      {
        "duration": 396,
        "start_time": "2023-03-12T03:50:21.445Z"
      },
      {
        "duration": 460,
        "start_time": "2023-03-12T03:50:28.433Z"
      },
      {
        "duration": 421,
        "start_time": "2023-03-12T03:50:36.476Z"
      },
      {
        "duration": 385,
        "start_time": "2023-03-12T03:50:41.344Z"
      },
      {
        "duration": 389,
        "start_time": "2023-03-12T03:50:49.454Z"
      },
      {
        "duration": 393,
        "start_time": "2023-03-12T03:51:05.152Z"
      },
      {
        "duration": 414,
        "start_time": "2023-03-12T03:51:09.926Z"
      },
      {
        "duration": 458,
        "start_time": "2023-03-12T03:51:21.568Z"
      },
      {
        "duration": 462,
        "start_time": "2023-03-12T03:51:24.871Z"
      },
      {
        "duration": 639,
        "start_time": "2023-03-12T03:51:30.294Z"
      },
      {
        "duration": 125,
        "start_time": "2023-03-12T03:52:30.734Z"
      },
      {
        "duration": 465,
        "start_time": "2023-03-12T03:52:34.778Z"
      },
      {
        "duration": 404,
        "start_time": "2023-03-12T03:52:43.070Z"
      },
      {
        "duration": 387,
        "start_time": "2023-03-12T03:54:23.265Z"
      },
      {
        "duration": 372,
        "start_time": "2023-03-12T03:54:39.342Z"
      },
      {
        "duration": 483,
        "start_time": "2023-03-12T03:55:01.195Z"
      },
      {
        "duration": 399,
        "start_time": "2023-03-12T03:55:46.269Z"
      },
      {
        "duration": 474,
        "start_time": "2023-03-12T03:55:57.727Z"
      },
      {
        "duration": 446,
        "start_time": "2023-03-12T03:57:21.725Z"
      },
      {
        "duration": 539,
        "start_time": "2023-03-12T03:57:24.958Z"
      },
      {
        "duration": 494,
        "start_time": "2023-03-12T03:57:34.947Z"
      },
      {
        "duration": 403,
        "start_time": "2023-03-12T03:57:43.764Z"
      },
      {
        "duration": 391,
        "start_time": "2023-03-12T03:57:50.999Z"
      },
      {
        "duration": 430,
        "start_time": "2023-03-12T04:27:31.475Z"
      },
      {
        "duration": 377,
        "start_time": "2023-03-12T04:30:30.278Z"
      },
      {
        "duration": 1347,
        "start_time": "2023-03-12T07:15:22.869Z"
      },
      {
        "duration": 624,
        "start_time": "2023-03-12T07:15:24.217Z"
      },
      {
        "duration": 4,
        "start_time": "2023-03-12T07:15:24.853Z"
      },
      {
        "duration": 269,
        "start_time": "2023-03-12T07:15:24.858Z"
      },
      {
        "duration": 5,
        "start_time": "2023-03-12T07:15:25.129Z"
      },
      {
        "duration": 124,
        "start_time": "2023-03-12T07:15:25.136Z"
      },
      {
        "duration": 460,
        "start_time": "2023-03-12T07:15:25.262Z"
      },
      {
        "duration": 12,
        "start_time": "2023-03-12T07:15:25.741Z"
      },
      {
        "duration": 100,
        "start_time": "2023-03-12T07:15:25.769Z"
      },
      {
        "duration": 7,
        "start_time": "2023-03-12T07:15:25.871Z"
      },
      {
        "duration": 136,
        "start_time": "2023-03-12T07:15:25.908Z"
      },
      {
        "duration": 68,
        "start_time": "2023-03-12T07:15:26.045Z"
      },
      {
        "duration": 52,
        "start_time": "2023-03-12T07:15:26.116Z"
      },
      {
        "duration": 557,
        "start_time": "2023-03-12T07:15:26.171Z"
      },
      {
        "duration": 1460,
        "start_time": "2023-03-12T07:15:54.918Z"
      },
      {
        "duration": 562,
        "start_time": "2023-03-12T07:15:56.380Z"
      },
      {
        "duration": 3,
        "start_time": "2023-03-12T07:15:56.943Z"
      },
      {
        "duration": 309,
        "start_time": "2023-03-12T07:15:56.948Z"
      },
      {
        "duration": 3,
        "start_time": "2023-03-12T07:15:57.263Z"
      },
      {
        "duration": 90,
        "start_time": "2023-03-12T07:15:57.270Z"
      },
      {
        "duration": 357,
        "start_time": "2023-03-12T07:15:57.362Z"
      },
      {
        "duration": 4,
        "start_time": "2023-03-12T07:15:57.741Z"
      },
      {
        "duration": 75,
        "start_time": "2023-03-12T07:15:57.788Z"
      },
      {
        "duration": 10,
        "start_time": "2023-03-12T07:15:57.864Z"
      },
      {
        "duration": 46,
        "start_time": "2023-03-12T07:15:57.876Z"
      },
      {
        "duration": 20,
        "start_time": "2023-03-12T07:15:57.934Z"
      },
      {
        "duration": 8,
        "start_time": "2023-03-12T07:15:57.956Z"
      },
      {
        "duration": 417,
        "start_time": "2023-03-12T07:15:57.967Z"
      },
      {
        "duration": 56,
        "start_time": "2023-03-13T11:52:55.991Z"
      },
      {
        "duration": 1096,
        "start_time": "2023-03-13T11:53:39.323Z"
      },
      {
        "duration": 3903,
        "start_time": "2023-03-13T11:53:41.047Z"
      },
      {
        "duration": 5,
        "start_time": "2023-03-13T11:53:44.952Z"
      },
      {
        "duration": 213,
        "start_time": "2023-03-13T11:53:44.960Z"
      },
      {
        "duration": 8,
        "start_time": "2023-03-13T11:53:51.607Z"
      },
      {
        "duration": 5,
        "start_time": "2023-03-13T11:54:22.388Z"
      },
      {
        "duration": 4,
        "start_time": "2023-03-13T11:54:27.103Z"
      },
      {
        "duration": 2,
        "start_time": "2023-03-13T11:54:44.551Z"
      },
      {
        "duration": 294,
        "start_time": "2023-03-13T11:54:44.784Z"
      },
      {
        "duration": 13,
        "start_time": "2023-03-13T11:54:55.280Z"
      },
      {
        "duration": 12,
        "start_time": "2023-03-13T11:54:55.668Z"
      },
      {
        "duration": 2,
        "start_time": "2023-03-13T11:55:15.615Z"
      },
      {
        "duration": 10,
        "start_time": "2023-03-13T11:55:16.883Z"
      },
      {
        "duration": 6,
        "start_time": "2023-03-13T11:55:18.415Z"
      },
      {
        "duration": 5,
        "start_time": "2023-03-13T11:55:20.089Z"
      },
      {
        "duration": 12,
        "start_time": "2023-03-13T11:55:24.376Z"
      },
      {
        "duration": 8,
        "start_time": "2023-03-13T11:55:25.303Z"
      },
      {
        "duration": 422,
        "start_time": "2023-03-13T11:55:29.415Z"
      },
      {
        "duration": 399,
        "start_time": "2023-03-13T11:56:31.445Z"
      },
      {
        "duration": 63,
        "start_time": "2023-03-14T02:28:41.542Z"
      },
      {
        "duration": 1204,
        "start_time": "2023-03-14T02:29:27.118Z"
      },
      {
        "duration": 712,
        "start_time": "2023-03-14T02:29:28.324Z"
      },
      {
        "duration": 3,
        "start_time": "2023-03-14T02:29:29.038Z"
      },
      {
        "duration": 211,
        "start_time": "2023-03-14T02:29:29.043Z"
      },
      {
        "duration": 26,
        "start_time": "2023-03-14T02:29:29.256Z"
      },
      {
        "duration": 7,
        "start_time": "2023-03-14T02:29:29.284Z"
      },
      {
        "duration": 135,
        "start_time": "2023-03-14T02:29:29.292Z"
      },
      {
        "duration": 0,
        "start_time": "2023-03-14T02:29:29.429Z"
      },
      {
        "duration": 0,
        "start_time": "2023-03-14T02:29:29.430Z"
      },
      {
        "duration": 0,
        "start_time": "2023-03-14T02:29:29.432Z"
      },
      {
        "duration": 0,
        "start_time": "2023-03-14T02:29:29.433Z"
      },
      {
        "duration": 0,
        "start_time": "2023-03-14T02:29:29.435Z"
      },
      {
        "duration": 0,
        "start_time": "2023-03-14T02:29:29.435Z"
      },
      {
        "duration": 0,
        "start_time": "2023-03-14T02:29:29.436Z"
      },
      {
        "duration": 426,
        "start_time": "2023-03-14T02:29:40.865Z"
      },
      {
        "duration": 24,
        "start_time": "2023-03-14T02:29:52.365Z"
      },
      {
        "duration": 403,
        "start_time": "2023-03-14T02:30:02.972Z"
      },
      {
        "duration": 98,
        "start_time": "2023-03-14T02:31:28.680Z"
      },
      {
        "duration": 23,
        "start_time": "2023-03-14T02:31:36.944Z"
      },
      {
        "duration": 302,
        "start_time": "2023-03-14T02:31:45.294Z"
      },
      {
        "duration": 376,
        "start_time": "2023-03-14T02:32:05.206Z"
      },
      {
        "duration": 289,
        "start_time": "2023-03-14T02:32:29.611Z"
      },
      {
        "duration": 1257,
        "start_time": "2023-03-14T02:32:41.982Z"
      },
      {
        "duration": 433,
        "start_time": "2023-03-14T02:32:43.241Z"
      },
      {
        "duration": 4,
        "start_time": "2023-03-14T02:32:43.676Z"
      },
      {
        "duration": 255,
        "start_time": "2023-03-14T02:32:43.682Z"
      },
      {
        "duration": 9,
        "start_time": "2023-03-14T02:32:43.941Z"
      },
      {
        "duration": 21,
        "start_time": "2023-03-14T02:32:43.952Z"
      },
      {
        "duration": 315,
        "start_time": "2023-03-14T02:32:43.975Z"
      },
      {
        "duration": 4,
        "start_time": "2023-03-14T02:32:44.292Z"
      },
      {
        "duration": 183,
        "start_time": "2023-03-14T02:32:44.299Z"
      },
      {
        "duration": 13,
        "start_time": "2023-03-14T02:32:44.486Z"
      },
      {
        "duration": 14,
        "start_time": "2023-03-14T02:32:44.501Z"
      },
      {
        "duration": 9,
        "start_time": "2023-03-14T02:32:44.517Z"
      },
      {
        "duration": 7,
        "start_time": "2023-03-14T02:32:44.528Z"
      },
      {
        "duration": 470,
        "start_time": "2023-03-14T02:32:44.537Z"
      },
      {
        "duration": 371,
        "start_time": "2023-03-14T09:32:19.714Z"
      },
      {
        "duration": 365,
        "start_time": "2023-03-14T09:32:26.813Z"
      },
      {
        "duration": 340,
        "start_time": "2023-03-14T09:32:48.144Z"
      },
      {
        "duration": 430,
        "start_time": "2023-03-14T09:33:04.948Z"
      },
      {
        "duration": 360,
        "start_time": "2023-03-14T09:33:10.328Z"
      },
      {
        "duration": 297,
        "start_time": "2023-03-14T09:40:21.663Z"
      },
      {
        "duration": 519,
        "start_time": "2023-03-14T09:42:56.455Z"
      },
      {
        "duration": 813,
        "start_time": "2023-03-14T09:43:01.061Z"
      },
      {
        "duration": 569,
        "start_time": "2023-03-14T09:43:58.713Z"
      },
      {
        "duration": 546,
        "start_time": "2023-03-14T09:44:23.128Z"
      },
      {
        "duration": 436,
        "start_time": "2023-03-14T09:49:20.053Z"
      },
      {
        "duration": 360,
        "start_time": "2023-03-14T09:50:24.725Z"
      },
      {
        "duration": 1017,
        "start_time": "2023-03-14T09:54:41.055Z"
      },
      {
        "duration": 884,
        "start_time": "2023-03-14T09:54:55.290Z"
      },
      {
        "duration": 848,
        "start_time": "2023-03-14T09:56:29.726Z"
      },
      {
        "duration": 728,
        "start_time": "2023-03-14T09:56:36.350Z"
      },
      {
        "duration": 881,
        "start_time": "2023-03-14T09:56:56.202Z"
      },
      {
        "duration": 913,
        "start_time": "2023-03-14T09:57:21.465Z"
      },
      {
        "duration": 694,
        "start_time": "2023-03-14T09:58:36.397Z"
      },
      {
        "duration": 927,
        "start_time": "2023-03-14T09:58:46.850Z"
      },
      {
        "duration": 718,
        "start_time": "2023-03-14T09:59:00.468Z"
      },
      {
        "duration": 149,
        "start_time": "2023-03-14T09:59:28.226Z"
      },
      {
        "duration": 75,
        "start_time": "2023-03-14T09:59:39.431Z"
      },
      {
        "duration": 3,
        "start_time": "2023-03-14T10:05:06.371Z"
      },
      {
        "duration": 440,
        "start_time": "2023-03-14T10:05:06.646Z"
      },
      {
        "duration": 3,
        "start_time": "2023-03-14T10:05:13.159Z"
      },
      {
        "duration": 364,
        "start_time": "2023-03-14T10:05:13.425Z"
      },
      {
        "duration": 406,
        "start_time": "2023-03-14T10:05:15.279Z"
      },
      {
        "duration": 358,
        "start_time": "2023-03-14T10:05:16.431Z"
      },
      {
        "duration": 448,
        "start_time": "2023-03-14T10:05:17.539Z"
      },
      {
        "duration": 2,
        "start_time": "2023-03-14T10:05:22.257Z"
      },
      {
        "duration": 376,
        "start_time": "2023-03-14T10:05:22.501Z"
      },
      {
        "duration": 2,
        "start_time": "2023-03-14T10:05:27.337Z"
      },
      {
        "duration": 383,
        "start_time": "2023-03-14T10:05:27.599Z"
      },
      {
        "duration": 3,
        "start_time": "2023-03-14T10:05:32.232Z"
      },
      {
        "duration": 417,
        "start_time": "2023-03-14T10:05:33.960Z"
      },
      {
        "duration": 3,
        "start_time": "2023-03-14T10:08:28.546Z"
      },
      {
        "duration": 261,
        "start_time": "2023-03-14T10:08:28.725Z"
      },
      {
        "duration": 3,
        "start_time": "2023-03-14T10:08:30.178Z"
      },
      {
        "duration": 4,
        "start_time": "2023-03-14T10:08:30.825Z"
      },
      {
        "duration": 6,
        "start_time": "2023-03-14T10:08:31.513Z"
      },
      {
        "duration": 5,
        "start_time": "2023-03-14T10:08:32.440Z"
      },
      {
        "duration": 3,
        "start_time": "2023-03-14T10:08:34.653Z"
      },
      {
        "duration": 6,
        "start_time": "2023-03-14T10:08:34.802Z"
      },
      {
        "duration": 426,
        "start_time": "2023-03-14T10:08:36.226Z"
      },
      {
        "duration": 210,
        "start_time": "2023-03-14T10:13:40.147Z"
      },
      {
        "duration": 208,
        "start_time": "2023-03-14T10:14:08.643Z"
      },
      {
        "duration": 116,
        "start_time": "2023-03-14T10:22:48.759Z"
      },
      {
        "duration": 476,
        "start_time": "2023-03-14T10:22:58.701Z"
      },
      {
        "duration": 628,
        "start_time": "2023-03-14T10:24:20.245Z"
      },
      {
        "duration": 387,
        "start_time": "2023-03-14T10:27:32.294Z"
      },
      {
        "duration": 3,
        "start_time": "2023-03-14T10:39:19.354Z"
      },
      {
        "duration": 369,
        "start_time": "2023-03-14T10:41:32.807Z"
      },
      {
        "duration": 412,
        "start_time": "2023-03-14T10:41:37.374Z"
      },
      {
        "duration": 1242,
        "start_time": "2023-03-14T11:16:52.557Z"
      },
      {
        "duration": 432,
        "start_time": "2023-03-14T11:16:53.801Z"
      },
      {
        "duration": 3,
        "start_time": "2023-03-14T11:16:54.236Z"
      },
      {
        "duration": 247,
        "start_time": "2023-03-14T11:16:54.242Z"
      },
      {
        "duration": 10,
        "start_time": "2023-03-14T11:16:54.491Z"
      },
      {
        "duration": 11,
        "start_time": "2023-03-14T11:16:54.503Z"
      },
      {
        "duration": 468,
        "start_time": "2023-03-14T11:16:54.515Z"
      },
      {
        "duration": 88,
        "start_time": "2023-03-14T11:16:54.985Z"
      },
      {
        "duration": 5,
        "start_time": "2023-03-14T11:16:55.076Z"
      },
      {
        "duration": 92,
        "start_time": "2023-03-14T11:16:55.085Z"
      },
      {
        "duration": 4,
        "start_time": "2023-03-14T11:16:55.179Z"
      },
      {
        "duration": 422,
        "start_time": "2023-03-14T11:16:55.184Z"
      },
      {
        "duration": 1187,
        "start_time": "2023-03-14T11:20:16.735Z"
      },
      {
        "duration": 431,
        "start_time": "2023-03-14T11:20:17.924Z"
      },
      {
        "duration": 3,
        "start_time": "2023-03-14T11:20:18.357Z"
      },
      {
        "duration": 250,
        "start_time": "2023-03-14T11:20:18.362Z"
      },
      {
        "duration": 11,
        "start_time": "2023-03-14T11:20:18.615Z"
      },
      {
        "duration": 13,
        "start_time": "2023-03-14T11:20:18.629Z"
      },
      {
        "duration": 530,
        "start_time": "2023-03-14T11:20:18.644Z"
      },
      {
        "duration": 92,
        "start_time": "2023-03-14T11:20:19.181Z"
      },
      {
        "duration": 10,
        "start_time": "2023-03-14T11:20:19.275Z"
      },
      {
        "duration": 6,
        "start_time": "2023-03-14T11:20:19.287Z"
      },
      {
        "duration": 11,
        "start_time": "2023-03-14T11:20:19.295Z"
      },
      {
        "duration": 423,
        "start_time": "2023-03-14T11:20:19.308Z"
      },
      {
        "duration": 1147,
        "start_time": "2023-03-14T11:20:36.422Z"
      },
      {
        "duration": 414,
        "start_time": "2023-03-14T11:20:37.572Z"
      },
      {
        "duration": 2,
        "start_time": "2023-03-14T11:20:37.988Z"
      },
      {
        "duration": 229,
        "start_time": "2023-03-14T11:20:37.992Z"
      },
      {
        "duration": 10,
        "start_time": "2023-03-14T11:20:38.223Z"
      },
      {
        "duration": 8,
        "start_time": "2023-03-14T11:20:38.235Z"
      },
      {
        "duration": 441,
        "start_time": "2023-03-14T11:20:38.245Z"
      },
      {
        "duration": 85,
        "start_time": "2023-03-14T11:20:38.689Z"
      },
      {
        "duration": 110,
        "start_time": "2023-03-14T11:20:38.777Z"
      },
      {
        "duration": 13,
        "start_time": "2023-03-14T11:20:38.890Z"
      },
      {
        "duration": 13,
        "start_time": "2023-03-14T11:20:38.905Z"
      },
      {
        "duration": 431,
        "start_time": "2023-03-14T11:20:38.920Z"
      },
      {
        "duration": 1174,
        "start_time": "2023-03-14T11:20:56.011Z"
      },
      {
        "duration": 438,
        "start_time": "2023-03-14T11:20:57.188Z"
      },
      {
        "duration": 3,
        "start_time": "2023-03-14T11:20:57.628Z"
      },
      {
        "duration": 241,
        "start_time": "2023-03-14T11:20:57.633Z"
      },
      {
        "duration": 12,
        "start_time": "2023-03-14T11:20:57.877Z"
      },
      {
        "duration": 10,
        "start_time": "2023-03-14T11:20:57.891Z"
      },
      {
        "duration": 472,
        "start_time": "2023-03-14T11:20:57.903Z"
      },
      {
        "duration": 3,
        "start_time": "2023-03-14T11:20:58.377Z"
      },
      {
        "duration": 98,
        "start_time": "2023-03-14T11:20:58.383Z"
      },
      {
        "duration": 6,
        "start_time": "2023-03-14T11:20:58.483Z"
      },
      {
        "duration": 7,
        "start_time": "2023-03-14T11:20:58.490Z"
      },
      {
        "duration": 445,
        "start_time": "2023-03-14T11:20:58.499Z"
      },
      {
        "duration": 1172,
        "start_time": "2023-03-15T11:06:12.642Z"
      },
      {
        "duration": 602,
        "start_time": "2023-03-15T11:06:13.815Z"
      },
      {
        "duration": 3,
        "start_time": "2023-03-15T11:06:14.419Z"
      },
      {
        "duration": 199,
        "start_time": "2023-03-15T11:06:14.423Z"
      },
      {
        "duration": 9,
        "start_time": "2023-03-15T11:06:14.624Z"
      },
      {
        "duration": 9,
        "start_time": "2023-03-15T11:06:14.634Z"
      },
      {
        "duration": 425,
        "start_time": "2023-03-15T11:06:14.645Z"
      },
      {
        "duration": 84,
        "start_time": "2023-03-15T11:06:15.073Z"
      },
      {
        "duration": 100,
        "start_time": "2023-03-15T11:06:15.160Z"
      },
      {
        "duration": 85,
        "start_time": "2023-03-15T11:06:15.262Z"
      },
      {
        "duration": 12,
        "start_time": "2023-03-15T11:06:15.349Z"
      },
      {
        "duration": 475,
        "start_time": "2023-03-15T11:06:15.363Z"
      },
      {
        "duration": 3,
        "start_time": "2023-03-15T11:06:29.096Z"
      },
      {
        "duration": 1247,
        "start_time": "2023-03-15T11:06:29.775Z"
      },
      {
        "duration": 4,
        "start_time": "2023-03-15T11:06:43.004Z"
      },
      {
        "duration": 4,
        "start_time": "2023-03-15T11:06:48.524Z"
      },
      {
        "duration": 10211,
        "start_time": "2023-03-15T11:06:49.157Z"
      },
      {
        "duration": 3546,
        "start_time": "2023-03-15T11:08:08.314Z"
      },
      {
        "duration": 4,
        "start_time": "2023-03-15T11:08:16.024Z"
      },
      {
        "duration": 5,
        "start_time": "2023-03-15T11:08:19.476Z"
      },
      {
        "duration": 3,
        "start_time": "2023-03-15T11:08:24.319Z"
      },
      {
        "duration": 5,
        "start_time": "2023-03-15T11:08:27.307Z"
      },
      {
        "duration": 6,
        "start_time": "2023-03-15T11:08:42.445Z"
      },
      {
        "duration": 4,
        "start_time": "2023-03-15T11:08:46.458Z"
      },
      {
        "duration": 6,
        "start_time": "2023-03-15T11:08:59.424Z"
      },
      {
        "duration": 10,
        "start_time": "2023-03-15T11:10:04.365Z"
      },
      {
        "duration": 9,
        "start_time": "2023-03-15T11:10:29.465Z"
      },
      {
        "duration": 8,
        "start_time": "2023-03-15T11:10:41.825Z"
      },
      {
        "duration": 8,
        "start_time": "2023-03-15T11:10:50.144Z"
      },
      {
        "duration": 4,
        "start_time": "2023-03-15T11:10:54.844Z"
      },
      {
        "duration": 4,
        "start_time": "2023-03-15T11:11:53.837Z"
      },
      {
        "duration": 1151,
        "start_time": "2023-03-15T11:12:15.876Z"
      },
      {
        "duration": 399,
        "start_time": "2023-03-15T11:12:17.029Z"
      },
      {
        "duration": 3,
        "start_time": "2023-03-15T11:12:17.430Z"
      },
      {
        "duration": 222,
        "start_time": "2023-03-15T11:12:17.435Z"
      },
      {
        "duration": 10,
        "start_time": "2023-03-15T11:12:17.659Z"
      },
      {
        "duration": 9,
        "start_time": "2023-03-15T11:12:17.671Z"
      },
      {
        "duration": 387,
        "start_time": "2023-03-15T11:12:17.682Z"
      },
      {
        "duration": 3,
        "start_time": "2023-03-15T11:12:18.071Z"
      },
      {
        "duration": 187,
        "start_time": "2023-03-15T11:12:18.076Z"
      },
      {
        "duration": 8,
        "start_time": "2023-03-15T11:12:18.265Z"
      },
      {
        "duration": 13,
        "start_time": "2023-03-15T11:12:18.275Z"
      },
      {
        "duration": 382,
        "start_time": "2023-03-15T11:12:18.290Z"
      },
      {
        "duration": 4,
        "start_time": "2023-03-15T11:13:30.905Z"
      },
      {
        "duration": 8,
        "start_time": "2023-03-15T11:16:54.910Z"
      },
      {
        "duration": 5,
        "start_time": "2023-03-15T11:18:37.076Z"
      },
      {
        "duration": 4,
        "start_time": "2023-03-15T11:18:51.545Z"
      },
      {
        "duration": 59,
        "start_time": "2023-03-16T07:28:34.535Z"
      },
      {
        "duration": 1163,
        "start_time": "2023-03-16T07:28:43.835Z"
      },
      {
        "duration": 665,
        "start_time": "2023-03-16T07:28:45.001Z"
      },
      {
        "duration": 3,
        "start_time": "2023-03-16T07:28:45.668Z"
      },
      {
        "duration": 271,
        "start_time": "2023-03-16T07:28:45.674Z"
      },
      {
        "duration": 10,
        "start_time": "2023-03-16T07:28:45.946Z"
      },
      {
        "duration": 139,
        "start_time": "2023-03-16T07:28:45.973Z"
      },
      {
        "duration": 3,
        "start_time": "2023-03-16T07:28:46.113Z"
      },
      {
        "duration": 379,
        "start_time": "2023-03-16T07:28:46.118Z"
      },
      {
        "duration": 3,
        "start_time": "2023-03-16T07:28:46.575Z"
      },
      {
        "duration": 103,
        "start_time": "2023-03-16T07:28:46.582Z"
      },
      {
        "duration": 14,
        "start_time": "2023-03-16T07:28:46.687Z"
      },
      {
        "duration": 7,
        "start_time": "2023-03-16T07:28:46.703Z"
      },
      {
        "duration": 18,
        "start_time": "2023-03-16T07:28:46.712Z"
      },
      {
        "duration": 5,
        "start_time": "2023-03-16T07:28:46.732Z"
      },
      {
        "duration": 514,
        "start_time": "2023-03-16T07:28:46.739Z"
      },
      {
        "duration": 33,
        "start_time": "2023-03-16T07:28:57.499Z"
      },
      {
        "duration": 127,
        "start_time": "2023-03-16T07:50:23.338Z"
      },
      {
        "duration": 20,
        "start_time": "2023-03-16T07:50:36.931Z"
      },
      {
        "duration": 27,
        "start_time": "2023-03-16T07:50:48.577Z"
      },
      {
        "duration": 460,
        "start_time": "2023-03-16T07:50:55.386Z"
      },
      {
        "duration": 24,
        "start_time": "2023-03-16T07:51:11.200Z"
      },
      {
        "duration": 21,
        "start_time": "2023-03-16T07:52:42.149Z"
      },
      {
        "duration": 22,
        "start_time": "2023-03-16T07:52:51.986Z"
      },
      {
        "duration": 8455,
        "start_time": "2023-03-16T07:53:13.299Z"
      },
      {
        "duration": 8334,
        "start_time": "2023-03-16T07:53:37.656Z"
      },
      {
        "duration": 7593,
        "start_time": "2023-03-16T08:30:24.834Z"
      },
      {
        "duration": 5,
        "start_time": "2023-03-16T09:43:55.155Z"
      },
      {
        "duration": 4,
        "start_time": "2023-03-16T09:44:03.827Z"
      },
      {
        "duration": 105,
        "start_time": "2023-03-16T09:44:19.123Z"
      },
      {
        "duration": 15,
        "start_time": "2023-03-16T09:44:33.035Z"
      },
      {
        "duration": 6,
        "start_time": "2023-03-16T09:44:38.345Z"
      },
      {
        "duration": 12,
        "start_time": "2023-03-16T09:44:48.007Z"
      },
      {
        "duration": 6,
        "start_time": "2023-03-16T09:44:53.423Z"
      },
      {
        "duration": 7,
        "start_time": "2023-03-16T09:44:59.972Z"
      },
      {
        "duration": 4,
        "start_time": "2023-03-16T09:45:08.411Z"
      },
      {
        "duration": 7,
        "start_time": "2023-03-16T09:45:11.735Z"
      },
      {
        "duration": 7,
        "start_time": "2023-03-16T09:45:23.403Z"
      },
      {
        "duration": 7,
        "start_time": "2023-03-16T09:45:25.754Z"
      },
      {
        "duration": 335,
        "start_time": "2023-03-16T11:17:42.782Z"
      },
      {
        "duration": 14,
        "start_time": "2023-03-16T11:18:07.477Z"
      },
      {
        "duration": 17,
        "start_time": "2023-03-16T11:36:06.394Z"
      },
      {
        "duration": 18,
        "start_time": "2023-03-16T11:36:26.029Z"
      },
      {
        "duration": 170,
        "start_time": "2023-03-16T11:39:51.589Z"
      },
      {
        "duration": 404,
        "start_time": "2023-03-16T11:40:19.221Z"
      },
      {
        "duration": 319,
        "start_time": "2023-03-16T11:52:04.202Z"
      },
      {
        "duration": 1468,
        "start_time": "2023-03-17T07:40:22.194Z"
      },
      {
        "duration": 644,
        "start_time": "2023-03-17T07:40:26.202Z"
      },
      {
        "duration": 3,
        "start_time": "2023-03-17T07:40:26.848Z"
      },
      {
        "duration": 204,
        "start_time": "2023-03-17T07:40:27.204Z"
      },
      {
        "duration": 36,
        "start_time": "2023-03-17T07:40:55.709Z"
      },
      {
        "duration": 105,
        "start_time": "2023-03-17T07:42:11.744Z"
      },
      {
        "duration": 10,
        "start_time": "2023-03-17T07:42:19.603Z"
      },
      {
        "duration": 498,
        "start_time": "2023-03-17T07:42:20.448Z"
      },
      {
        "duration": 44,
        "start_time": "2023-03-17T07:42:28.256Z"
      },
      {
        "duration": 77,
        "start_time": "2023-03-17T07:42:49.019Z"
      },
      {
        "duration": 49,
        "start_time": "2023-03-17T07:42:51.942Z"
      },
      {
        "duration": 45,
        "start_time": "2023-03-17T07:43:11.924Z"
      },
      {
        "duration": 56,
        "start_time": "2023-03-17T07:43:16.046Z"
      },
      {
        "duration": 55,
        "start_time": "2023-03-17T07:43:22.652Z"
      },
      {
        "duration": 34,
        "start_time": "2023-03-17T07:43:30.523Z"
      },
      {
        "duration": 43,
        "start_time": "2023-03-17T07:43:36.113Z"
      },
      {
        "duration": 32,
        "start_time": "2023-03-17T07:43:46.935Z"
      },
      {
        "duration": 48,
        "start_time": "2023-03-17T07:43:50.558Z"
      },
      {
        "duration": 39,
        "start_time": "2023-03-17T07:44:06.236Z"
      },
      {
        "duration": 64,
        "start_time": "2023-03-17T07:44:10.961Z"
      },
      {
        "duration": 821,
        "start_time": "2023-03-17T07:45:10.975Z"
      },
      {
        "duration": 41,
        "start_time": "2023-03-17T07:45:21.597Z"
      },
      {
        "duration": 43,
        "start_time": "2023-03-17T08:00:32.768Z"
      },
      {
        "duration": 41,
        "start_time": "2023-03-17T08:02:02.998Z"
      },
      {
        "duration": 42,
        "start_time": "2023-03-17T08:02:18.237Z"
      },
      {
        "duration": 41,
        "start_time": "2023-03-17T08:07:17.615Z"
      },
      {
        "duration": 43,
        "start_time": "2023-03-17T08:07:24.952Z"
      },
      {
        "duration": 44,
        "start_time": "2023-03-17T08:07:31.381Z"
      },
      {
        "duration": 46,
        "start_time": "2023-03-17T08:07:37.112Z"
      },
      {
        "duration": 56,
        "start_time": "2023-03-17T08:07:40.613Z"
      },
      {
        "duration": 43,
        "start_time": "2023-03-17T08:07:43.997Z"
      },
      {
        "duration": 57,
        "start_time": "2023-03-17T08:08:03.769Z"
      },
      {
        "duration": 42,
        "start_time": "2023-03-17T08:08:08.016Z"
      },
      {
        "duration": 57,
        "start_time": "2023-03-17T08:09:33.437Z"
      },
      {
        "duration": 58,
        "start_time": "2023-03-17T08:09:41.624Z"
      },
      {
        "duration": 41,
        "start_time": "2023-03-17T08:09:48.004Z"
      },
      {
        "duration": 43,
        "start_time": "2023-03-17T08:18:02.831Z"
      },
      {
        "duration": 45,
        "start_time": "2023-03-17T08:20:28.715Z"
      },
      {
        "duration": 43,
        "start_time": "2023-03-17T08:20:34.226Z"
      },
      {
        "duration": 54,
        "start_time": "2023-03-17T08:20:42.136Z"
      },
      {
        "duration": 42,
        "start_time": "2023-03-17T08:20:45.161Z"
      },
      {
        "duration": 54,
        "start_time": "2023-03-17T08:20:51.161Z"
      },
      {
        "duration": 60,
        "start_time": "2023-03-17T08:22:41.613Z"
      },
      {
        "duration": 58,
        "start_time": "2023-03-17T08:22:45.808Z"
      },
      {
        "duration": 55,
        "start_time": "2023-03-17T09:28:01.221Z"
      },
      {
        "duration": 52,
        "start_time": "2023-03-17T09:28:09.615Z"
      },
      {
        "duration": 44,
        "start_time": "2023-03-17T09:28:15.429Z"
      },
      {
        "duration": 53,
        "start_time": "2023-03-17T09:30:15.343Z"
      },
      {
        "duration": 51,
        "start_time": "2023-03-17T09:32:28.872Z"
      },
      {
        "duration": 58,
        "start_time": "2023-03-17T09:32:37.952Z"
      },
      {
        "duration": 61,
        "start_time": "2023-03-17T09:33:04.455Z"
      },
      {
        "duration": 60,
        "start_time": "2023-03-17T09:33:12.131Z"
      },
      {
        "duration": 49,
        "start_time": "2023-03-17T09:33:15.346Z"
      },
      {
        "duration": 67,
        "start_time": "2023-03-17T09:33:18.467Z"
      },
      {
        "duration": 26,
        "start_time": "2023-03-17T09:33:36.440Z"
      },
      {
        "duration": 65,
        "start_time": "2023-03-17T09:33:38.976Z"
      },
      {
        "duration": 54,
        "start_time": "2023-03-17T09:33:52.670Z"
      },
      {
        "duration": 22,
        "start_time": "2023-03-17T09:36:52.867Z"
      },
      {
        "duration": 2,
        "start_time": "2023-03-17T09:36:56.910Z"
      },
      {
        "duration": 272,
        "start_time": "2023-03-17T09:36:58.132Z"
      },
      {
        "duration": 258,
        "start_time": "2023-03-17T09:37:07.331Z"
      },
      {
        "duration": 299,
        "start_time": "2023-03-17T09:37:15.193Z"
      },
      {
        "duration": 129,
        "start_time": "2023-03-17T09:37:26.164Z"
      },
      {
        "duration": 420,
        "start_time": "2023-03-17T09:37:29.782Z"
      },
      {
        "duration": 294,
        "start_time": "2023-03-17T09:37:40.892Z"
      },
      {
        "duration": 335,
        "start_time": "2023-03-17T09:40:15.872Z"
      },
      {
        "duration": 236,
        "start_time": "2023-03-17T09:44:28.163Z"
      },
      {
        "duration": 1127,
        "start_time": "2023-03-17T10:42:09.507Z"
      },
      {
        "duration": 408,
        "start_time": "2023-03-17T10:42:10.636Z"
      },
      {
        "duration": 3,
        "start_time": "2023-03-17T10:42:11.046Z"
      },
      {
        "duration": 230,
        "start_time": "2023-03-17T10:42:11.050Z"
      },
      {
        "duration": 10,
        "start_time": "2023-03-17T10:42:11.284Z"
      },
      {
        "duration": 368,
        "start_time": "2023-03-17T10:42:11.295Z"
      },
      {
        "duration": 3,
        "start_time": "2023-03-17T10:42:11.664Z"
      },
      {
        "duration": 407,
        "start_time": "2023-03-17T10:42:11.679Z"
      },
      {
        "duration": 10,
        "start_time": "2023-03-17T10:42:12.092Z"
      },
      {
        "duration": 103,
        "start_time": "2023-03-17T10:42:12.107Z"
      },
      {
        "duration": 8,
        "start_time": "2023-03-17T10:42:12.212Z"
      },
      {
        "duration": 4,
        "start_time": "2023-03-17T10:42:12.222Z"
      },
      {
        "duration": 19,
        "start_time": "2023-03-17T10:42:12.228Z"
      },
      {
        "duration": 6,
        "start_time": "2023-03-17T10:42:12.250Z"
      },
      {
        "duration": 428,
        "start_time": "2023-03-17T10:42:12.258Z"
      },
      {
        "duration": 367,
        "start_time": "2023-03-17T10:53:47.692Z"
      },
      {
        "duration": 161,
        "start_time": "2023-03-17T10:54:16.494Z"
      },
      {
        "duration": 250,
        "start_time": "2023-03-17T10:54:23.010Z"
      },
      {
        "duration": 540,
        "start_time": "2023-03-17T10:54:26.799Z"
      },
      {
        "duration": 722,
        "start_time": "2023-03-17T10:54:38.899Z"
      },
      {
        "duration": 264,
        "start_time": "2023-03-17T10:54:43.528Z"
      },
      {
        "duration": 361,
        "start_time": "2023-03-17T10:55:06.267Z"
      },
      {
        "duration": 735,
        "start_time": "2023-03-17T10:55:17.106Z"
      },
      {
        "duration": 755,
        "start_time": "2023-03-17T11:03:40.160Z"
      },
      {
        "duration": 346,
        "start_time": "2023-03-17T11:06:18.062Z"
      },
      {
        "duration": 995,
        "start_time": "2023-03-17T11:06:24.135Z"
      },
      {
        "duration": 1382,
        "start_time": "2023-03-17T11:06:35.308Z"
      },
      {
        "duration": 339,
        "start_time": "2023-03-17T11:07:06.650Z"
      },
      {
        "duration": 1020,
        "start_time": "2023-03-17T11:07:13.605Z"
      },
      {
        "duration": 1123,
        "start_time": "2023-03-17T11:07:29.723Z"
      },
      {
        "duration": 1065,
        "start_time": "2023-03-17T11:07:32.761Z"
      },
      {
        "duration": 430,
        "start_time": "2023-03-17T11:07:36.075Z"
      },
      {
        "duration": 1123,
        "start_time": "2023-03-17T11:07:47.102Z"
      },
      {
        "duration": 1024,
        "start_time": "2023-03-17T11:08:00.605Z"
      },
      {
        "duration": 1173,
        "start_time": "2023-03-17T11:08:07.036Z"
      },
      {
        "duration": 1180,
        "start_time": "2023-03-17T11:08:15.149Z"
      },
      {
        "duration": 353,
        "start_time": "2023-03-17T11:09:00.907Z"
      },
      {
        "duration": 355,
        "start_time": "2023-03-17T11:09:04.636Z"
      },
      {
        "duration": 324,
        "start_time": "2023-03-17T11:09:08.120Z"
      },
      {
        "duration": 1253,
        "start_time": "2023-03-17T11:09:13.108Z"
      },
      {
        "duration": 1107,
        "start_time": "2023-03-17T11:12:11.219Z"
      },
      {
        "duration": 1343,
        "start_time": "2023-03-17T11:12:15.310Z"
      },
      {
        "duration": 1002,
        "start_time": "2023-03-17T11:12:40.040Z"
      },
      {
        "duration": 1018,
        "start_time": "2023-03-17T11:12:49.015Z"
      },
      {
        "duration": 1109,
        "start_time": "2023-03-17T11:13:26.828Z"
      },
      {
        "duration": 1024,
        "start_time": "2023-03-17T11:13:42.120Z"
      },
      {
        "duration": 1219,
        "start_time": "2023-03-17T11:15:10.715Z"
      },
      {
        "duration": 1191,
        "start_time": "2023-03-17T11:17:54.841Z"
      },
      {
        "duration": 1192,
        "start_time": "2023-03-17T11:18:29.052Z"
      },
      {
        "duration": 1220,
        "start_time": "2023-03-17T11:18:32.721Z"
      },
      {
        "duration": 1223,
        "start_time": "2023-03-17T11:18:36.327Z"
      },
      {
        "duration": 1037,
        "start_time": "2023-03-17T11:18:39.714Z"
      },
      {
        "duration": 1306,
        "start_time": "2023-03-17T11:18:48.158Z"
      },
      {
        "duration": 1248,
        "start_time": "2023-03-17T11:19:29.014Z"
      },
      {
        "duration": 1098,
        "start_time": "2023-03-17T11:19:57.452Z"
      },
      {
        "duration": 1302,
        "start_time": "2023-03-17T11:20:00.935Z"
      },
      {
        "duration": 1159,
        "start_time": "2023-03-17T11:20:38.266Z"
      },
      {
        "duration": 1184,
        "start_time": "2023-03-17T11:20:44.673Z"
      },
      {
        "duration": 1165,
        "start_time": "2023-03-17T11:20:50.675Z"
      },
      {
        "duration": 1181,
        "start_time": "2023-03-17T11:21:19.971Z"
      },
      {
        "duration": 1120,
        "start_time": "2023-03-17T11:42:22.512Z"
      },
      {
        "duration": 1051,
        "start_time": "2023-03-17T11:42:26.076Z"
      },
      {
        "duration": 1261,
        "start_time": "2023-03-17T11:42:34.862Z"
      },
      {
        "duration": 992,
        "start_time": "2023-03-17T11:42:41.623Z"
      },
      {
        "duration": 1029,
        "start_time": "2023-03-17T11:42:48.094Z"
      },
      {
        "duration": 1197,
        "start_time": "2023-03-17T11:51:10.545Z"
      },
      {
        "duration": 1281,
        "start_time": "2023-03-17T11:51:15.550Z"
      },
      {
        "duration": 1064,
        "start_time": "2023-03-17T11:51:28.365Z"
      },
      {
        "duration": 1059,
        "start_time": "2023-03-17T11:51:39.130Z"
      },
      {
        "duration": 1119,
        "start_time": "2023-03-17T11:51:49.244Z"
      },
      {
        "duration": 3,
        "start_time": "2023-03-17T11:52:55.340Z"
      },
      {
        "duration": 309,
        "start_time": "2023-03-17T11:55:12.017Z"
      },
      {
        "duration": 420,
        "start_time": "2023-03-17T11:55:18.521Z"
      },
      {
        "duration": 3,
        "start_time": "2023-03-17T12:02:36.367Z"
      },
      {
        "duration": 1015,
        "start_time": "2023-03-17T12:05:22.102Z"
      },
      {
        "duration": 350,
        "start_time": "2023-03-17T12:05:23.119Z"
      },
      {
        "duration": 3,
        "start_time": "2023-03-17T12:05:23.470Z"
      },
      {
        "duration": 195,
        "start_time": "2023-03-17T12:05:23.474Z"
      },
      {
        "duration": 18,
        "start_time": "2023-03-17T12:05:23.671Z"
      },
      {
        "duration": 372,
        "start_time": "2023-03-17T12:05:23.690Z"
      },
      {
        "duration": 3,
        "start_time": "2023-03-17T12:05:24.063Z"
      },
      {
        "duration": 238,
        "start_time": "2023-03-17T12:05:24.067Z"
      },
      {
        "duration": 3,
        "start_time": "2023-03-17T12:05:24.307Z"
      },
      {
        "duration": 198,
        "start_time": "2023-03-17T12:05:24.311Z"
      },
      {
        "duration": 7,
        "start_time": "2023-03-17T12:05:24.511Z"
      },
      {
        "duration": 5,
        "start_time": "2023-03-17T12:05:24.520Z"
      },
      {
        "duration": 11,
        "start_time": "2023-03-17T12:05:24.527Z"
      },
      {
        "duration": 4,
        "start_time": "2023-03-17T12:05:24.540Z"
      },
      {
        "duration": 1085,
        "start_time": "2023-03-17T12:05:24.546Z"
      },
      {
        "duration": 51,
        "start_time": "2023-03-18T02:44:05.980Z"
      },
      {
        "duration": 1211,
        "start_time": "2023-03-18T02:44:10.470Z"
      },
      {
        "duration": 661,
        "start_time": "2023-03-18T02:44:11.683Z"
      },
      {
        "duration": 3,
        "start_time": "2023-03-18T02:44:12.346Z"
      },
      {
        "duration": 257,
        "start_time": "2023-03-18T02:44:12.351Z"
      },
      {
        "duration": 9,
        "start_time": "2023-03-18T02:44:12.611Z"
      },
      {
        "duration": 556,
        "start_time": "2023-03-18T02:44:12.622Z"
      },
      {
        "duration": 3,
        "start_time": "2023-03-18T02:44:13.180Z"
      },
      {
        "duration": 491,
        "start_time": "2023-03-18T02:44:13.185Z"
      },
      {
        "duration": 3,
        "start_time": "2023-03-18T02:44:13.679Z"
      },
      {
        "duration": 12,
        "start_time": "2023-03-18T02:44:13.773Z"
      },
      {
        "duration": 7,
        "start_time": "2023-03-18T02:44:13.872Z"
      },
      {
        "duration": 4,
        "start_time": "2023-03-18T02:44:13.880Z"
      },
      {
        "duration": 14,
        "start_time": "2023-03-18T02:44:13.885Z"
      },
      {
        "duration": 6,
        "start_time": "2023-03-18T02:44:13.901Z"
      },
      {
        "duration": 1386,
        "start_time": "2023-03-18T02:44:13.909Z"
      },
      {
        "duration": 54,
        "start_time": "2023-03-18T07:53:45.171Z"
      },
      {
        "duration": 1173,
        "start_time": "2023-03-18T07:53:51.663Z"
      },
      {
        "duration": 1672,
        "start_time": "2023-03-18T07:53:52.838Z"
      },
      {
        "duration": 3,
        "start_time": "2023-03-18T07:53:54.511Z"
      },
      {
        "duration": 205,
        "start_time": "2023-03-18T07:53:54.516Z"
      },
      {
        "duration": 10,
        "start_time": "2023-03-18T07:53:54.722Z"
      },
      {
        "duration": 523,
        "start_time": "2023-03-18T07:53:57.410Z"
      }
    ],
    "kernelspec": {
      "display_name": "Python 3 (ipykernel)",
      "language": "python",
      "name": "python3"
    },
    "language_info": {
      "codemirror_mode": {
        "name": "ipython",
        "version": 3
      },
      "file_extension": ".py",
      "mimetype": "text/x-python",
      "name": "python",
      "nbconvert_exporter": "python",
      "pygments_lexer": "ipython3",
      "version": "3.9.5"
    },
    "toc": {
      "base_numbering": 1,
      "nav_menu": {},
      "number_sections": true,
      "sideBar": true,
      "skip_h1_title": true,
      "title_cell": "Table of Contents",
      "title_sidebar": "Contents",
      "toc_cell": false,
      "toc_position": {},
      "toc_section_display": true,
      "toc_window_display": false
    },
    "colab": {
      "provenance": [],
      "toc_visible": true
    }
  },
  "nbformat": 4,
  "nbformat_minor": 0
}