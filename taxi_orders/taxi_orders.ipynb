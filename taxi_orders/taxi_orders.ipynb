{
  "cells": [
    {
      "cell_type": "markdown",
      "metadata": {
        "id": "cuRM6rhdYmtK"
      },
      "source": [
        "#  Прогнозирование заказов такси"
      ]
    },
    {
      "cell_type": "markdown",
      "metadata": {
        "id": "DuQ-RapZYmtL"
      },
      "source": [
        "Компания такси хочет привлекать больше водителей в период пиковой нагрузки.\n",
        "\n",
        "В наличии исторические данные о заказах такси в аэропортах. Нужно построить модель для прогноза количества заказов на следующий час.\n",
        "\n",
        "План работы:\n",
        "1. Загрузить данные и выполнить их ресемплирование по одному часу\n",
        "1. Проанализировать данные\n",
        "1. Обучить разные модели с различными гиперпараметрами\n",
        "1. Проверить модель на тестовой выборке и сделать выводы"
      ]
    },
    {
      "cell_type": "markdown",
      "metadata": {
        "id": "GImzDW8tYmtM"
      },
      "source": [
        "## Подготовка"
      ]
    },
    {
      "cell_type": "code",
      "execution_count": null,
      "metadata": {
        "scrolled": true,
        "id": "cPBlETzTYmtM"
      },
      "outputs": [],
      "source": [
        "!pip install scikit-learn==1.2.2 category_encoders==2.6.1 optuna==3.1.1"
      ]
    },
    {
      "cell_type": "code",
      "execution_count": null,
      "metadata": {
        "id": "G1zKohLPYmtO"
      },
      "outputs": [],
      "source": [
        "import pandas as pd\n",
        "import numpy as np\n",
        "from statsmodels.tsa.seasonal import seasonal_decompose\n",
        "import matplotlib.pyplot as plt\n",
        "from sklearn.model_selection import train_test_split\n",
        "from sklearn.metrics import mean_squared_error\n",
        "from sklearn.linear_model import LinearRegression, Ridge\n",
        "from sklearn.tree import DecisionTreeRegressor\n",
        "from sklearn.ensemble import RandomForestRegressor, HistGradientBoostingRegressor\n",
        "from sklearn.dummy import DummyRegressor\n",
        "from sklearn.preprocessing import StandardScaler\n",
        "from category_encoders import OneHotEncoder, TargetEncoder\n",
        "import optuna\n",
        "import warnings\n",
        "import joblib"
      ]
    },
    {
      "cell_type": "code",
      "execution_count": null,
      "metadata": {
        "id": "0s6w2vakYmtP"
      },
      "outputs": [],
      "source": [
        "SEED = abs(hash('Back to the Future')) % (2**32)"
      ]
    },
    {
      "cell_type": "code",
      "execution_count": null,
      "metadata": {
        "id": "ZPRR7ov_YmtR"
      },
      "outputs": [],
      "source": [
        "optuna.logging.set_verbosity(optuna.logging.ERROR)"
      ]
    },
    {
      "cell_type": "markdown",
      "metadata": {
        "id": "RjyX-siTYmtT"
      },
      "source": [
        "Загружаем датасет"
      ]
    },
    {
      "cell_type": "code",
      "execution_count": null,
      "metadata": {
        "scrolled": false,
        "id": "1JyhcKYsYmtT"
      },
      "outputs": [],
      "source": [
        "df = pd.read_csv('/datasets/taxi.csv', parse_dates=[0], index_col=0)"
      ]
    },
    {
      "cell_type": "code",
      "execution_count": null,
      "metadata": {
        "id": "Hb-jww7ZYmtU",
        "outputId": "f7a27ffb-acde-4822-e7ef-884059a74926"
      },
      "outputs": [
        {
          "name": "stdout",
          "output_type": "stream",
          "text": [
            "<class 'pandas.core.frame.DataFrame'>\n",
            "DatetimeIndex: 26496 entries, 2018-03-01 00:00:00 to 2018-08-31 23:50:00\n",
            "Data columns (total 1 columns):\n",
            " #   Column      Non-Null Count  Dtype\n",
            "---  ------      --------------  -----\n",
            " 0   num_orders  26496 non-null  int64\n",
            "dtypes: int64(1)\n",
            "memory usage: 414.0 KB\n"
          ]
        }
      ],
      "source": [
        "df.info()"
      ]
    },
    {
      "cell_type": "code",
      "execution_count": null,
      "metadata": {
        "id": "lTetlMMGYmtV",
        "outputId": "9816a106-8a02-41a9-b58b-839afa4764c7"
      },
      "outputs": [
        {
          "data": {
            "text/html": [
              "<div>\n",
              "<style scoped>\n",
              "    .dataframe tbody tr th:only-of-type {\n",
              "        vertical-align: middle;\n",
              "    }\n",
              "\n",
              "    .dataframe tbody tr th {\n",
              "        vertical-align: top;\n",
              "    }\n",
              "\n",
              "    .dataframe thead th {\n",
              "        text-align: right;\n",
              "    }\n",
              "</style>\n",
              "<table border=\"1\" class=\"dataframe\">\n",
              "  <thead>\n",
              "    <tr style=\"text-align: right;\">\n",
              "      <th></th>\n",
              "      <th>num_orders</th>\n",
              "    </tr>\n",
              "    <tr>\n",
              "      <th>datetime</th>\n",
              "      <th></th>\n",
              "    </tr>\n",
              "  </thead>\n",
              "  <tbody>\n",
              "    <tr>\n",
              "      <th>2018-03-01 00:00:00</th>\n",
              "      <td>9</td>\n",
              "    </tr>\n",
              "    <tr>\n",
              "      <th>2018-03-01 00:10:00</th>\n",
              "      <td>14</td>\n",
              "    </tr>\n",
              "    <tr>\n",
              "      <th>2018-03-01 00:20:00</th>\n",
              "      <td>28</td>\n",
              "    </tr>\n",
              "    <tr>\n",
              "      <th>2018-03-01 00:30:00</th>\n",
              "      <td>20</td>\n",
              "    </tr>\n",
              "    <tr>\n",
              "      <th>2018-03-01 00:40:00</th>\n",
              "      <td>32</td>\n",
              "    </tr>\n",
              "  </tbody>\n",
              "</table>\n",
              "</div>"
            ],
            "text/plain": [
              "                     num_orders\n",
              "datetime                       \n",
              "2018-03-01 00:00:00           9\n",
              "2018-03-01 00:10:00          14\n",
              "2018-03-01 00:20:00          28\n",
              "2018-03-01 00:30:00          20\n",
              "2018-03-01 00:40:00          32"
            ]
          },
          "execution_count": 7,
          "metadata": {},
          "output_type": "execute_result"
        }
      ],
      "source": [
        "df.head()"
      ]
    },
    {
      "cell_type": "markdown",
      "metadata": {
        "id": "jMYeQOKuYmtV"
      },
      "source": [
        "Ресемплируем по одному часу"
      ]
    },
    {
      "cell_type": "code",
      "execution_count": null,
      "metadata": {
        "id": "vwLiXr7AYmtW",
        "outputId": "0c7dacaf-12e1-4083-a4bd-716a4e8474e2"
      },
      "outputs": [
        {
          "data": {
            "text/html": [
              "<div>\n",
              "<style scoped>\n",
              "    .dataframe tbody tr th:only-of-type {\n",
              "        vertical-align: middle;\n",
              "    }\n",
              "\n",
              "    .dataframe tbody tr th {\n",
              "        vertical-align: top;\n",
              "    }\n",
              "\n",
              "    .dataframe thead th {\n",
              "        text-align: right;\n",
              "    }\n",
              "</style>\n",
              "<table border=\"1\" class=\"dataframe\">\n",
              "  <thead>\n",
              "    <tr style=\"text-align: right;\">\n",
              "      <th></th>\n",
              "      <th>num_orders</th>\n",
              "    </tr>\n",
              "    <tr>\n",
              "      <th>datetime</th>\n",
              "      <th></th>\n",
              "    </tr>\n",
              "  </thead>\n",
              "  <tbody>\n",
              "    <tr>\n",
              "      <th>2018-03-01 00:00:00</th>\n",
              "      <td>124</td>\n",
              "    </tr>\n",
              "    <tr>\n",
              "      <th>2018-03-01 01:00:00</th>\n",
              "      <td>85</td>\n",
              "    </tr>\n",
              "    <tr>\n",
              "      <th>2018-03-01 02:00:00</th>\n",
              "      <td>71</td>\n",
              "    </tr>\n",
              "    <tr>\n",
              "      <th>2018-03-01 03:00:00</th>\n",
              "      <td>66</td>\n",
              "    </tr>\n",
              "    <tr>\n",
              "      <th>2018-03-01 04:00:00</th>\n",
              "      <td>43</td>\n",
              "    </tr>\n",
              "  </tbody>\n",
              "</table>\n",
              "</div>"
            ],
            "text/plain": [
              "                     num_orders\n",
              "datetime                       \n",
              "2018-03-01 00:00:00         124\n",
              "2018-03-01 01:00:00          85\n",
              "2018-03-01 02:00:00          71\n",
              "2018-03-01 03:00:00          66\n",
              "2018-03-01 04:00:00          43"
            ]
          },
          "execution_count": 8,
          "metadata": {},
          "output_type": "execute_result"
        }
      ],
      "source": [
        "df = df.resample('1H').sum()\n",
        "df[:5]"
      ]
    },
    {
      "cell_type": "markdown",
      "metadata": {
        "id": "Iq3NNeSVYmtX"
      },
      "source": [
        "## Анализ"
      ]
    },
    {
      "cell_type": "markdown",
      "metadata": {
        "id": "Zl_wEZL6YmtX"
      },
      "source": [
        "Чтобы проанализировать данные, сделаем декомпозицию временного ряда"
      ]
    },
    {
      "cell_type": "code",
      "execution_count": null,
      "metadata": {
        "id": "wtp5KBNeYmtX",
        "outputId": "fc28e0ab-220e-49af-ee11-6237b4b73fc3"
      },
      "outputs": [
        {
          "data": {
            "image/png": "[encoded data removed]",
            "text/plain": [
              "<Figure size 648x432 with 1 Axes>"
            ]
          },
          "metadata": {
            "needs_background": "light"
          },
          "output_type": "display_data"
        },
        {
          "data": {
            "image/png": "[encoded data removed]",
            "text/plain": [
              "<Figure size 648x432 with 1 Axes>"
            ]
          },
          "metadata": {
            "needs_background": "light"
          },
          "output_type": "display_data"
        },
        {
          "data": {
            "image/png": "[encoded data removed]",
            "text/plain": [
              "<Figure size 648x432 with 1 Axes>"
            ]
          },
          "metadata": {
            "needs_background": "light"
          },
          "output_type": "display_data"
        }
      ],
      "source": [
        "decomposed = seasonal_decompose(df)\n",
        "\n",
        "plt.figure(figsize=(9, 6))\n",
        "decomposed.trend.plot(title='Trend')\n",
        "rol = decomposed.trend.rolling(24*7, center=True)\n",
        "mean = rol.mean()\n",
        "std = rol.std()\n",
        "mean.plot(label='mean')\n",
        "std.plot(label='std')\n",
        "plt.fill_between(df.index, mean-std, mean+std, alpha=0.3)\n",
        "plt.legend()\n",
        "plt.minorticks_off()\n",
        "plt.show()\n",
        "\n",
        "plt.figure(figsize=(9, 6))\n",
        "decomposed.seasonal['2018-03-01':'2018-03-02 00:00'].plot(title='Seasonal')\n",
        "d = pd.date_range('2018-03-01', '2018-03-02', freq='2H')\n",
        "plt.xticks(d, d.strftime('%H:%M'))\n",
        "plt.grid()\n",
        "plt.minorticks_off()\n",
        "plt.show()\n",
        "\n",
        "plt.figure(figsize=(9, 6))\n",
        "decomposed.resid.plot(title='Resid')\n",
        "plt.minorticks_off()\n",
        "plt.show()"
      ]
    },
    {
      "cell_type": "markdown",
      "metadata": {
        "id": "phNclXGDYmtY"
      },
      "source": [
        "В общем, тренд идёт на увеличение кол-ва заказов. С марта по апрель тренд в среднем почти не меняется. Также заметны небольшие просадки в начале мая, с конца мая по начало июня, в начале августа.\n",
        "\n",
        "Сезонность - дневная.\n",
        "Пик заказов такси приходятся на 00:00, 9:00-10:00 и 16:00.\n",
        "Тогда как меньше всего заказов 5:00-7:00, 12:00 и 18:00."
      ]
    },
    {
      "cell_type": "markdown",
      "metadata": {
        "id": "L0YipBfrYmtZ"
      },
      "source": [
        "## Обучение"
      ]
    },
    {
      "cell_type": "markdown",
      "metadata": {
        "id": "1WS7bH-gYmtZ"
      },
      "source": [
        "Добавим несколько функций для более удобной работы"
      ]
    },
    {
      "cell_type": "code",
      "execution_count": null,
      "metadata": {
        "id": "pjgu1JpUYmtZ"
      },
      "outputs": [],
      "source": [
        "def make_features(df, lags=0, rols=0):\n",
        "    df = df.copy()\n",
        "\n",
        "    df['month'] = df.index.month\n",
        "    df['dayofweek'] = df.index.dayofweek\n",
        "    df['day'] = df.index.day\n",
        "    df['hour'] = df.index.hour\n",
        "\n",
        "    for i in range(1, lags + 1):\n",
        "        df[f'lag_{i}'] = df['num_orders'].shift(i)\n",
        "\n",
        "    if rols > 0:\n",
        "        df['rolling_mean'] = df['num_orders'].shift(1).rolling(rols).mean()\n",
        "\n",
        "    return df"
      ]
    },
    {
      "cell_type": "code",
      "execution_count": null,
      "metadata": {
        "id": "Fad_pXCFYmta"
      },
      "outputs": [],
      "source": [
        "def sample_split(df, test=False, scale=True):\n",
        "    df = df.dropna()\n",
        "    x, y = df.drop(['num_orders'], axis=1), df['num_orders']\n",
        "\n",
        "    xtrain, xvalid, ytrain, yvalid = train_test_split(x, y, test_size=0.2, shuffle=False)\n",
        "    xvalid, xtest, yvalid, ytest = train_test_split(xvalid, yvalid, test_size=0.5, shuffle=False)\n",
        "\n",
        "    if scale:\n",
        "        scaler = StandardScaler()\n",
        "        xtrain = scaler.fit_transform(xtrain)\n",
        "        xvalid = scaler.transform(xvalid)\n",
        "        xtest = scaler.transform(xtest)\n",
        "\n",
        "    if test:\n",
        "        return (np.vstack((xtrain, xvalid)),\n",
        "                np.hstack((ytrain, yvalid)),\n",
        "                xtest,\n",
        "                ytest)\n",
        "    return xtrain, ytrain, xvalid, yvalid"
      ]
    },
    {
      "cell_type": "code",
      "execution_count": null,
      "metadata": {
        "id": "Uol2hiqFYmtb"
      },
      "outputs": [],
      "source": [
        "def rmse(model, lags=0, rols=0, test=False, scale=True, plot=False):\n",
        "    _df = make_features(df, lags, rols)\n",
        "    x, y, xt, yt = sample_split(_df, test, scale)\n",
        "    model.fit(x, y)\n",
        "    pred = model.predict(xt)\n",
        "\n",
        "    if plot:\n",
        "        plt.figure(figsize=(9, 6))\n",
        "        plt.plot(yt, label='y_true')\n",
        "        plt.plot(yt.index, pred, label='y_pred')\n",
        "        d = pd.date_range(yt.index[0], yt.index[-1], freq='2D')\n",
        "        plt.xticks(d, d.strftime('%d %b'))\n",
        "        plt.minorticks_on()\n",
        "        plt.tick_params(which='minor', left=False)\n",
        "        plt.legend()\n",
        "        plt.show()\n",
        "\n",
        "    return mean_squared_error(yt, pred) ** 0.5"
      ]
    },
    {
      "cell_type": "code",
      "execution_count": null,
      "metadata": {
        "id": "EDZUx_vWYmtc"
      },
      "outputs": [],
      "source": [
        "try:\n",
        "    res = joblib.load('res.pkl')\n",
        "except FileNotFoundError:\n",
        "    res = pd.DataFrame(columns=['RMSE', 'trial'])"
      ]
    },
    {
      "cell_type": "code",
      "execution_count": null,
      "metadata": {
        "id": "7JiZzHmtYmtc"
      },
      "outputs": [],
      "source": [
        "def optimize(name, model_fn, n_trials=None, timeout=None):\n",
        "    if name in res.index:\n",
        "        value, trial = res.loc[name]\n",
        "    else:\n",
        "        sampler = optuna.samplers.TPESampler(seed=SEED)\n",
        "        study = optuna.create_study(sampler=sampler, direction='minimize')\n",
        "\n",
        "        with warnings.catch_warnings():\n",
        "            warnings.simplefilter('ignore')\n",
        "            study.optimize(lambda t: rmse(model_fn(t),\n",
        "                                          t.suggest_int('lags', 24, 24*7*4, 24),\n",
        "                                          t.suggest_int('rols', 24, 24*7*4, 24)),\n",
        "                           n_trials=n_trials,\n",
        "                           timeout=timeout,\n",
        "                           show_progress_bar=True)\n",
        "\n",
        "        trial = study.best_trial\n",
        "        value = study.best_trial.value\n",
        "\n",
        "        res.loc[name] = value, trial\n",
        "\n",
        "    print(f'params: {trial.params}')\n",
        "    print(f'RMSE: {value:.2f}')"
      ]
    },
    {
      "cell_type": "markdown",
      "metadata": {
        "id": "BA2rNmYcYmtc"
      },
      "source": [
        "Обучаем модели"
      ]
    },
    {
      "cell_type": "code",
      "execution_count": null,
      "metadata": {
        "id": "z0sJ-T0qYmtc",
        "outputId": "c3f1d62a-d6bb-4021-929a-02c1e0bcd566"
      },
      "outputs": [
        {
          "name": "stdout",
          "output_type": "stream",
          "text": [
            "params: {'lags': 336, 'rols': 216}\n",
            "RMSE: 28.77\n"
          ]
        }
      ],
      "source": [
        "optimize('Linear', lambda _: LinearRegression(), n_trials=75)"
      ]
    },
    {
      "cell_type": "code",
      "execution_count": null,
      "metadata": {
        "id": "Nd6ol0hrYmtd",
        "outputId": "80e2573d-990a-4ee6-83d7-b0643225c388"
      },
      "outputs": [
        {
          "name": "stdout",
          "output_type": "stream",
          "text": [
            "params: {'lags': 336, 'rols': 48}\n",
            "RMSE: 28.76\n"
          ]
        }
      ],
      "source": [
        "optimize('Ridge', lambda _: Ridge(), n_trials=75)"
      ]
    },
    {
      "cell_type": "code",
      "execution_count": null,
      "metadata": {
        "id": "Iw4FqUUGYmtd",
        "outputId": "dbb67b7c-7942-4e73-c594-a01be4b084c1"
      },
      "outputs": [
        {
          "name": "stdout",
          "output_type": "stream",
          "text": [
            "params: {'alpha': 1.2227758788645013, 'solver': 'lbfgs', 'max_iter': 70462, 'tol': 0.0001536854564061805, 'lags': 504, 'rols': 120}\n",
            "RMSE: 28.07\n"
          ]
        }
      ],
      "source": [
        "def ridge(trial):\n",
        "    params = {\n",
        "        'alpha': trial.suggest_float('alpha', 0.01, 100, log=True),\n",
        "        'solver': trial.suggest_categorical('solver',\n",
        "                                            ['svd', 'cholesky', 'lsqr', 'sparse_cg', 'lbfgs']),\n",
        "        'max_iter': trial.suggest_int('max_iter', 1, 100_000),\n",
        "    }\n",
        "    if params['solver'] == 'lbfgs':\n",
        "        params['positive'] = True\n",
        "    if params['solver'] not in {'svd', 'cholesky'}:\n",
        "        params['tol'] = trial.suggest_float('tol', 1e-6, 1, log=True)\n",
        "    return Ridge(**params)\n",
        "optimize('Ridge Tuned', ridge, n_trials=75)"
      ]
    },
    {
      "cell_type": "code",
      "execution_count": null,
      "metadata": {
        "id": "WuvUzXH6Ymte",
        "outputId": "5141c221-7670-4eae-cd11-ad7eec91dfed"
      },
      "outputs": [
        {
          "name": "stdout",
          "output_type": "stream",
          "text": [
            "params: {'lags': 624, 'rols': 72}\n",
            "RMSE: 38.57\n"
          ]
        }
      ],
      "source": [
        "optimize('Decision Tree',\n",
        "         lambda _: DecisionTreeRegressor(random_state=SEED),\n",
        "         n_trials=50)"
      ]
    },
    {
      "cell_type": "code",
      "execution_count": null,
      "metadata": {
        "id": "LWrV_K52Ymte",
        "outputId": "1231cd50-6308-4260-8b9f-46056b0076c0"
      },
      "outputs": [
        {
          "name": "stdout",
          "output_type": "stream",
          "text": [
            "params: {'max_depth': 42, 'min_samples_split': 30, 'min_samples_leaf': 23, 'lags': 264, 'rols': 288}\n",
            "RMSE: 33.01\n"
          ]
        }
      ],
      "source": [
        "def decision_tree(trial):\n",
        "    params = {\n",
        "        'max_depth': trial.suggest_int('max_depth', 1, 50),\n",
        "        'min_samples_split': trial.suggest_int('min_samples_split', 2, 30),\n",
        "        'min_samples_leaf': trial.suggest_int('min_samples_leaf', 1, 30),\n",
        "    }\n",
        "    return DecisionTreeRegressor(random_state=SEED, **params)\n",
        "optimize('Decision Tree Tuned', decision_tree, n_trials=50)"
      ]
    },
    {
      "cell_type": "code",
      "execution_count": null,
      "metadata": {
        "id": "j8uE2npQYmtf",
        "outputId": "75fead77-b210-4ee0-f490-ee76f8803391"
      },
      "outputs": [
        {
          "name": "stdout",
          "output_type": "stream",
          "text": [
            "params: {'lags': 504, 'rols': 408}\n",
            "RMSE: 29.77\n"
          ]
        }
      ],
      "source": [
        "optimize('Random Forest',\n",
        "         lambda _: RandomForestRegressor(random_state=SEED),\n",
        "         n_trials=25)"
      ]
    },
    {
      "cell_type": "code",
      "execution_count": null,
      "metadata": {
        "id": "a28ZKksyYmtf",
        "outputId": "450611c8-9445-4356-b075-6b888520dd43"
      },
      "outputs": [
        {
          "name": "stdout",
          "output_type": "stream",
          "text": [
            "params: {'n_estimators': 166, 'max_depth': 28, 'min_samples_split': 4, 'min_samples_leaf': 8, 'lags': 504, 'rols': 144}\n",
            "RMSE: 29.68\n"
          ]
        }
      ],
      "source": [
        "def random_forest(trial):\n",
        "    params = {\n",
        "        'n_estimators': trial.suggest_int('n_estimators', 1, 200),\n",
        "        'max_depth': trial.suggest_int('max_depth', 1, 50),\n",
        "        'min_samples_split': trial.suggest_int('min_samples_split', 2, 15),\n",
        "        'min_samples_leaf': trial.suggest_int('min_samples_leaf', 1, 15),\n",
        "    }\n",
        "    return RandomForestRegressor(random_state=SEED, **params)\n",
        "optimize('Random Forest Tuned', random_forest, n_trials=25)"
      ]
    },
    {
      "cell_type": "code",
      "execution_count": null,
      "metadata": {
        "id": "ehp0CacwYmtg",
        "outputId": "dea9e7de-71ed-431e-fc28-a295836f869e"
      },
      "outputs": [
        {
          "name": "stdout",
          "output_type": "stream",
          "text": [
            "params: {'lags': 504, 'rols': 192}\n",
            "RMSE: 28.77\n"
          ]
        }
      ],
      "source": [
        "optimize('Hist Gradient Boosting',\n",
        "         lambda _: HistGradientBoostingRegressor(random_state=SEED),\n",
        "         n_trials=75)"
      ]
    },
    {
      "cell_type": "code",
      "execution_count": null,
      "metadata": {
        "id": "CRbJr42IYmtg",
        "outputId": "dc52bf4e-5846-40ef-f3ed-c42ad5eb3a02"
      },
      "outputs": [
        {
          "name": "stdout",
          "output_type": "stream",
          "text": [
            "params: {'learning_rate': 0.08906286490973916, 'max_iter': 261, 'max_leaf_nodes': 190, 'max_depth': 45, 'min_samples_leaf': 48, 'lags': 288, 'rols': 168}\n",
            "RMSE: 29.06\n"
          ]
        }
      ],
      "source": [
        "def hist_gradient_boosting(trial):\n",
        "    params = {\n",
        "        'learning_rate': trial.suggest_float('learning_rate', 0.01, 1),\n",
        "        'max_iter': trial.suggest_int('max_iter', 1, 500),\n",
        "        'max_leaf_nodes': trial.suggest_int('max_leaf_nodes', 2, 300),\n",
        "        'max_depth': trial.suggest_int('max_depth', 1, 50),\n",
        "        'min_samples_leaf': trial.suggest_int('min_samples_leaf', 1, 50),\n",
        "    }\n",
        "    return HistGradientBoostingRegressor(random_state=SEED, **params)\n",
        "optimize('Hist Gradient Boosting Tuned', hist_gradient_boosting, n_trials=75)"
      ]
    },
    {
      "cell_type": "code",
      "execution_count": null,
      "metadata": {
        "id": "0dkLpo98Ymth"
      },
      "outputs": [],
      "source": [
        "_ = joblib.dump(res, 'res.pkl')"
      ]
    },
    {
      "cell_type": "code",
      "execution_count": null,
      "metadata": {
        "id": "0-DO55Y8Ymth",
        "outputId": "e6fec0a3-d83e-4a97-f350-c6ef378019c2"
      },
      "outputs": [
        {
          "data": {
            "text/html": [
              "<style  type=\"text/css\" >\n",
              "#T_74704_row2_col0{\n",
              "            background-color:  lightgreen;\n",
              "        }</style><table id=\"T_74704_\" ><thead>    <tr>        <th class=\"blank level0\" ></th>        <th class=\"col_heading level0 col0\" >RMSE</th>    </tr></thead><tbody>\n",
              "                <tr>\n",
              "                        <th id=\"T_74704_level0_row0\" class=\"row_heading level0 row0\" >Linear</th>\n",
              "                        <td id=\"T_74704_row0_col0\" class=\"data row0 col0\" >28.77</td>\n",
              "            </tr>\n",
              "            <tr>\n",
              "                        <th id=\"T_74704_level0_row1\" class=\"row_heading level0 row1\" >Ridge</th>\n",
              "                        <td id=\"T_74704_row1_col0\" class=\"data row1 col0\" >28.76</td>\n",
              "            </tr>\n",
              "            <tr>\n",
              "                        <th id=\"T_74704_level0_row2\" class=\"row_heading level0 row2\" >Ridge Tuned</th>\n",
              "                        <td id=\"T_74704_row2_col0\" class=\"data row2 col0\" >28.07</td>\n",
              "            </tr>\n",
              "            <tr>\n",
              "                        <th id=\"T_74704_level0_row3\" class=\"row_heading level0 row3\" >Decision Tree</th>\n",
              "                        <td id=\"T_74704_row3_col0\" class=\"data row3 col0\" >38.57</td>\n",
              "            </tr>\n",
              "            <tr>\n",
              "                        <th id=\"T_74704_level0_row4\" class=\"row_heading level0 row4\" >Decision Tree Tuned</th>\n",
              "                        <td id=\"T_74704_row4_col0\" class=\"data row4 col0\" >33.01</td>\n",
              "            </tr>\n",
              "            <tr>\n",
              "                        <th id=\"T_74704_level0_row5\" class=\"row_heading level0 row5\" >Random Forest</th>\n",
              "                        <td id=\"T_74704_row5_col0\" class=\"data row5 col0\" >29.77</td>\n",
              "            </tr>\n",
              "            <tr>\n",
              "                        <th id=\"T_74704_level0_row6\" class=\"row_heading level0 row6\" >Random Forest Tuned</th>\n",
              "                        <td id=\"T_74704_row6_col0\" class=\"data row6 col0\" >29.68</td>\n",
              "            </tr>\n",
              "            <tr>\n",
              "                        <th id=\"T_74704_level0_row7\" class=\"row_heading level0 row7\" >Hist Gradient Boosting</th>\n",
              "                        <td id=\"T_74704_row7_col0\" class=\"data row7 col0\" >28.77</td>\n",
              "            </tr>\n",
              "            <tr>\n",
              "                        <th id=\"T_74704_level0_row8\" class=\"row_heading level0 row8\" >Hist Gradient Boosting Tuned</th>\n",
              "                        <td id=\"T_74704_row8_col0\" class=\"data row8 col0\" >29.06</td>\n",
              "            </tr>\n",
              "    </tbody></table>"
            ],
            "text/plain": [
              "<pandas.io.formats.style.Styler at 0x7f61f0867130>"
            ]
          },
          "execution_count": 25,
          "metadata": {},
          "output_type": "execute_result"
        }
      ],
      "source": [
        "res['RMSE'].to_frame().style.set_precision(2).highlight_min(color='lightgreen')"
      ]
    },
    {
      "cell_type": "markdown",
      "metadata": {
        "id": "JNxM_loDYmti"
      },
      "source": [
        "Самый низкий RMSE получился у **Ridge** с подобраными гиперпараметрами."
      ]
    },
    {
      "cell_type": "markdown",
      "metadata": {
        "id": "8G8W0jm-Ymti"
      },
      "source": [
        "## Тестирование"
      ]
    },
    {
      "cell_type": "markdown",
      "metadata": {
        "id": "fkAYpgKEYmti"
      },
      "source": [
        "Считаем RMSE лучшей модели на тестовой выборке и визуализируем результаты"
      ]
    },
    {
      "cell_type": "code",
      "execution_count": null,
      "metadata": {
        "scrolled": false,
        "id": "TOR-zMUtYmtj",
        "outputId": "6607c2a3-4721-4049-ff93-ce29eebb8e59"
      },
      "outputs": [
        {
          "data": {
            "image/png": "[encoded data removed]",
            "text/plain": [
              "<Figure size 648x432 with 1 Axes>"
            ]
          },
          "metadata": {
            "needs_background": "light"
          },
          "output_type": "display_data"
        },
        {
          "data": {
            "text/plain": [
              "33.71135062893284"
            ]
          },
          "execution_count": 26,
          "metadata": {},
          "output_type": "execute_result"
        }
      ],
      "source": [
        "trial = res.loc['Ridge Tuned'].trial\n",
        "rmse(ridge(trial), trial.params['lags'], trial.params['rols'], test=True, plot=True)"
      ]
    },
    {
      "cell_type": "markdown",
      "metadata": {
        "id": "3Tj2a3P_Ymtj"
      },
      "source": [
        "Проверим модель на адекватность, сравнив её с предсказанием средним, медианой и предыдущим значением ряда"
      ]
    },
    {
      "cell_type": "code",
      "execution_count": null,
      "metadata": {
        "id": "khlYkXXWYmtj",
        "outputId": "b5f3d4ac-d6a5-425f-bf4b-1c6dffe56aef"
      },
      "outputs": [
        {
          "data": {
            "text/plain": [
              "58.856486242815066"
            ]
          },
          "execution_count": 27,
          "metadata": {},
          "output_type": "execute_result"
        }
      ],
      "source": [
        "class DummyPrevious():\n",
        "    def __init__(self, lag_col):\n",
        "        self.lag_col = lag_col\n",
        "\n",
        "    def fit(self, x, y=None):\n",
        "        return self\n",
        "\n",
        "    def predict(self, x):\n",
        "        if isinstance(x, pd.DataFrame):\n",
        "            if isinstance(self.lag_col, int):\n",
        "                x = x.values\n",
        "            else:\n",
        "                return x[self.lag_col]\n",
        "        return x[:, self.lag_col]\n",
        "\n",
        "rmse(DummyPrevious('lag_1'), lags=1, test=True, scale=False)"
      ]
    },
    {
      "cell_type": "markdown",
      "metadata": {
        "id": "PIqbctXXYmtj"
      },
      "source": [
        "Качество полученной модели на 75% лучше dummy модели, предсказывающей предыдущее значение ряда."
      ]
    },
    {
      "cell_type": "markdown",
      "metadata": {
        "id": "0V-nsh4WYmtk"
      },
      "source": [
        "Итоги:\n",
        "- Данные проанализированы и выделены периоды пиковой активности клиентов\n",
        "- Обучены различные модели для предсказания кол-ва заказов и подобраны гиперпараметры для них\n",
        "- Проведено сравнение метрики RMSE и выбрана лучшая модель\n",
        "- Проверено, что итоговая модель удовлетворяет критерию качества на тестовой выборке\n",
        "- Проверена адекватность модели (сравнение качества с dummy моделями)"
      ]
    },
    {
      "cell_type": "code",
      "execution_count": null,
      "metadata": {
        "id": "mBaqzPMVYmtn"
      },
      "outputs": [],
      "source": []
    }
  ],
  "metadata": {
    "ExecuteTimeLog": [
      {
        "duration": 454,
        "start_time": "2023-05-18T00:41:45.537Z"
      },
      {
        "duration": 121,
        "start_time": "2023-05-18T00:42:15.875Z"
      },
      {
        "duration": 127,
        "start_time": "2023-05-18T00:42:38.378Z"
      },
      {
        "duration": 14,
        "start_time": "2023-05-18T00:45:53.935Z"
      },
      {
        "duration": 54,
        "start_time": "2023-05-18T00:45:56.927Z"
      },
      {
        "duration": 49,
        "start_time": "2023-05-18T00:46:02.947Z"
      },
      {
        "duration": 53,
        "start_time": "2023-05-18T00:46:10.539Z"
      },
      {
        "duration": 55,
        "start_time": "2023-05-18T00:48:21.995Z"
      },
      {
        "duration": 8,
        "start_time": "2023-05-18T00:49:28.475Z"
      },
      {
        "duration": 10,
        "start_time": "2023-05-18T00:49:42.519Z"
      },
      {
        "duration": 7,
        "start_time": "2023-05-18T00:50:03.742Z"
      },
      {
        "duration": 15,
        "start_time": "2023-05-18T00:50:08.420Z"
      },
      {
        "duration": 9,
        "start_time": "2023-05-18T00:51:35.924Z"
      },
      {
        "duration": 604,
        "start_time": "2023-05-18T01:00:12.441Z"
      },
      {
        "duration": 449,
        "start_time": "2023-05-18T01:08:51.610Z"
      },
      {
        "duration": 7,
        "start_time": "2023-05-18T01:09:24.387Z"
      },
      {
        "duration": 3,
        "start_time": "2023-05-18T01:09:28.247Z"
      },
      {
        "duration": 6,
        "start_time": "2023-05-18T01:11:38.205Z"
      },
      {
        "duration": 197,
        "start_time": "2023-05-18T01:11:46.882Z"
      },
      {
        "duration": 184,
        "start_time": "2023-05-18T01:11:54.796Z"
      },
      {
        "duration": 188,
        "start_time": "2023-05-18T01:11:59.865Z"
      },
      {
        "duration": 299,
        "start_time": "2023-05-18T01:12:22.377Z"
      },
      {
        "duration": 226,
        "start_time": "2023-05-18T01:12:26.470Z"
      },
      {
        "duration": 186,
        "start_time": "2023-05-18T01:12:34.204Z"
      },
      {
        "duration": 193,
        "start_time": "2023-05-18T01:12:36.894Z"
      },
      {
        "duration": 2,
        "start_time": "2023-05-18T01:13:12.436Z"
      },
      {
        "duration": 570,
        "start_time": "2023-05-18T01:15:01.116Z"
      },
      {
        "duration": 1253,
        "start_time": "2023-05-18T01:15:36.573Z"
      },
      {
        "duration": 1283,
        "start_time": "2023-05-18T01:15:45.089Z"
      },
      {
        "duration": 879,
        "start_time": "2023-05-18T01:16:09.598Z"
      },
      {
        "duration": 532,
        "start_time": "2023-05-18T01:17:03.419Z"
      },
      {
        "duration": 583,
        "start_time": "2023-05-18T01:17:11.108Z"
      },
      {
        "duration": 9,
        "start_time": "2023-05-18T01:18:01.384Z"
      },
      {
        "duration": 561,
        "start_time": "2023-05-18T01:18:06.328Z"
      },
      {
        "duration": 611,
        "start_time": "2023-05-18T01:18:20.594Z"
      },
      {
        "duration": 529,
        "start_time": "2023-05-18T01:18:34.537Z"
      },
      {
        "duration": 518,
        "start_time": "2023-05-18T01:18:46.046Z"
      },
      {
        "duration": 607,
        "start_time": "2023-05-18T01:18:56.012Z"
      },
      {
        "duration": 508,
        "start_time": "2023-05-18T01:19:16.930Z"
      },
      {
        "duration": 490,
        "start_time": "2023-05-18T01:19:53.124Z"
      },
      {
        "duration": 184,
        "start_time": "2023-05-18T01:28:04.212Z"
      },
      {
        "duration": 480,
        "start_time": "2023-05-18T01:28:12.949Z"
      },
      {
        "duration": 186,
        "start_time": "2023-05-18T01:28:18.894Z"
      },
      {
        "duration": 207,
        "start_time": "2023-05-18T01:28:33.936Z"
      },
      {
        "duration": 189,
        "start_time": "2023-05-18T01:28:47.281Z"
      },
      {
        "duration": 195,
        "start_time": "2023-05-18T01:28:50.499Z"
      },
      {
        "duration": 189,
        "start_time": "2023-05-18T01:28:58.930Z"
      },
      {
        "duration": 184,
        "start_time": "2023-05-18T01:29:06.353Z"
      },
      {
        "duration": 300,
        "start_time": "2023-05-18T01:29:11.373Z"
      },
      {
        "duration": 236,
        "start_time": "2023-05-18T01:29:14.960Z"
      },
      {
        "duration": 179,
        "start_time": "2023-05-18T01:29:58.585Z"
      },
      {
        "duration": 545,
        "start_time": "2023-05-18T03:33:11.635Z"
      },
      {
        "duration": 520,
        "start_time": "2023-05-18T03:33:22.179Z"
      },
      {
        "duration": 640,
        "start_time": "2023-05-18T03:43:46.430Z"
      },
      {
        "duration": 207,
        "start_time": "2023-05-18T03:44:46.744Z"
      },
      {
        "duration": 569,
        "start_time": "2023-05-18T03:45:01.727Z"
      },
      {
        "duration": 505,
        "start_time": "2023-05-18T03:45:10.270Z"
      },
      {
        "duration": 666,
        "start_time": "2023-05-18T03:45:17.546Z"
      },
      {
        "duration": 744,
        "start_time": "2023-05-18T03:46:20.524Z"
      },
      {
        "duration": 721,
        "start_time": "2023-05-18T03:46:26.610Z"
      },
      {
        "duration": 912,
        "start_time": "2023-05-18T03:46:33.845Z"
      },
      {
        "duration": 739,
        "start_time": "2023-05-18T03:46:49.763Z"
      },
      {
        "duration": 733,
        "start_time": "2023-05-18T03:46:57.202Z"
      },
      {
        "duration": 839,
        "start_time": "2023-05-18T03:47:03.260Z"
      },
      {
        "duration": 753,
        "start_time": "2023-05-18T03:47:08.357Z"
      },
      {
        "duration": 733,
        "start_time": "2023-05-18T03:47:12.667Z"
      },
      {
        "duration": 580,
        "start_time": "2023-05-18T03:47:19.490Z"
      },
      {
        "duration": 452,
        "start_time": "2023-05-18T03:47:23.093Z"
      },
      {
        "duration": 780,
        "start_time": "2023-05-18T03:47:30.295Z"
      },
      {
        "duration": 749,
        "start_time": "2023-05-18T03:47:45.119Z"
      },
      {
        "duration": 885,
        "start_time": "2023-05-18T03:48:03.613Z"
      },
      {
        "duration": 742,
        "start_time": "2023-05-18T03:48:07.959Z"
      },
      {
        "duration": 768,
        "start_time": "2023-05-18T03:48:12.365Z"
      },
      {
        "duration": 902,
        "start_time": "2023-05-18T03:48:17.709Z"
      },
      {
        "duration": 732,
        "start_time": "2023-05-18T03:48:28.806Z"
      },
      {
        "duration": 738,
        "start_time": "2023-05-18T03:48:41.692Z"
      },
      {
        "duration": 888,
        "start_time": "2023-05-18T03:49:40.382Z"
      },
      {
        "duration": 734,
        "start_time": "2023-05-18T03:49:49.363Z"
      },
      {
        "duration": 762,
        "start_time": "2023-05-18T03:49:57.796Z"
      },
      {
        "duration": 943,
        "start_time": "2023-05-18T03:50:05.420Z"
      },
      {
        "duration": 215,
        "start_time": "2023-05-18T03:50:21.520Z"
      },
      {
        "duration": 691,
        "start_time": "2023-05-18T03:50:33.695Z"
      },
      {
        "duration": 888,
        "start_time": "2023-05-18T03:50:53.531Z"
      },
      {
        "duration": 796,
        "start_time": "2023-05-18T03:51:02.730Z"
      },
      {
        "duration": 780,
        "start_time": "2023-05-18T03:51:24.820Z"
      },
      {
        "duration": 924,
        "start_time": "2023-05-18T03:51:41.191Z"
      },
      {
        "duration": 897,
        "start_time": "2023-05-18T03:51:47.976Z"
      },
      {
        "duration": 759,
        "start_time": "2023-05-18T03:51:51.222Z"
      },
      {
        "duration": 929,
        "start_time": "2023-05-18T03:52:00.720Z"
      },
      {
        "duration": 829,
        "start_time": "2023-05-18T03:52:04.615Z"
      },
      {
        "duration": 868,
        "start_time": "2023-05-18T03:52:15.313Z"
      },
      {
        "duration": 942,
        "start_time": "2023-05-18T03:52:25.421Z"
      },
      {
        "duration": 781,
        "start_time": "2023-05-18T03:52:32.564Z"
      },
      {
        "duration": 257,
        "start_time": "2023-05-18T04:59:21.062Z"
      },
      {
        "duration": 3,
        "start_time": "2023-05-18T06:59:08.152Z"
      },
      {
        "duration": 5,
        "start_time": "2023-05-18T06:59:10.940Z"
      },
      {
        "duration": 3,
        "start_time": "2023-05-18T06:59:24.458Z"
      },
      {
        "duration": 6,
        "start_time": "2023-05-18T06:59:27.057Z"
      },
      {
        "duration": 6,
        "start_time": "2023-05-18T06:59:30.205Z"
      },
      {
        "duration": 27,
        "start_time": "2023-05-18T07:05:56.047Z"
      },
      {
        "duration": 3,
        "start_time": "2023-05-18T07:06:04.880Z"
      },
      {
        "duration": 12,
        "start_time": "2023-05-18T07:06:11.983Z"
      },
      {
        "duration": 14,
        "start_time": "2023-05-18T07:06:56.447Z"
      },
      {
        "duration": 4,
        "start_time": "2023-05-18T07:07:03.773Z"
      },
      {
        "duration": 8,
        "start_time": "2023-05-18T07:07:05.657Z"
      },
      {
        "duration": 10,
        "start_time": "2023-05-18T07:07:16.245Z"
      },
      {
        "duration": 4,
        "start_time": "2023-05-18T07:07:28.643Z"
      },
      {
        "duration": 7,
        "start_time": "2023-05-18T07:07:30.071Z"
      },
      {
        "duration": 12,
        "start_time": "2023-05-18T07:07:43.594Z"
      },
      {
        "duration": 5,
        "start_time": "2023-05-18T07:07:45.987Z"
      },
      {
        "duration": 2,
        "start_time": "2023-05-18T07:07:53.590Z"
      },
      {
        "duration": 4,
        "start_time": "2023-05-18T07:07:59.293Z"
      },
      {
        "duration": 6,
        "start_time": "2023-05-18T07:09:13.175Z"
      },
      {
        "duration": 6,
        "start_time": "2023-05-18T07:09:19.496Z"
      },
      {
        "duration": 3,
        "start_time": "2023-05-18T07:09:24.959Z"
      },
      {
        "duration": 4,
        "start_time": "2023-05-18T07:09:33.513Z"
      },
      {
        "duration": 3,
        "start_time": "2023-05-18T07:09:37.112Z"
      },
      {
        "duration": 5,
        "start_time": "2023-05-18T09:38:45.646Z"
      },
      {
        "duration": 12,
        "start_time": "2023-05-18T09:38:54.690Z"
      },
      {
        "duration": 12,
        "start_time": "2023-05-18T09:39:05.094Z"
      },
      {
        "duration": 9,
        "start_time": "2023-05-18T09:39:25.702Z"
      },
      {
        "duration": 11,
        "start_time": "2023-05-18T09:40:44.289Z"
      },
      {
        "duration": 9,
        "start_time": "2023-05-18T09:40:47.665Z"
      },
      {
        "duration": 9,
        "start_time": "2023-05-18T09:40:51.442Z"
      },
      {
        "duration": 4,
        "start_time": "2023-05-18T11:19:36.283Z"
      },
      {
        "duration": 11,
        "start_time": "2023-05-18T11:19:39.242Z"
      },
      {
        "duration": 10,
        "start_time": "2023-05-18T11:19:42.224Z"
      },
      {
        "duration": 10,
        "start_time": "2023-05-18T11:19:47.950Z"
      },
      {
        "duration": 7,
        "start_time": "2023-05-18T11:20:44.083Z"
      },
      {
        "duration": 7,
        "start_time": "2023-05-18T11:20:46.254Z"
      },
      {
        "duration": 12,
        "start_time": "2023-05-18T11:20:51.553Z"
      },
      {
        "duration": 11,
        "start_time": "2023-05-18T11:23:50.049Z"
      },
      {
        "duration": 4,
        "start_time": "2023-05-18T11:24:16.554Z"
      },
      {
        "duration": 95,
        "start_time": "2023-05-18T11:32:45.165Z"
      },
      {
        "duration": 4,
        "start_time": "2023-05-18T11:32:48.253Z"
      },
      {
        "duration": 11,
        "start_time": "2023-05-18T11:33:03.775Z"
      },
      {
        "duration": 8,
        "start_time": "2023-05-18T11:33:10.845Z"
      },
      {
        "duration": 17,
        "start_time": "2023-05-18T11:37:28.545Z"
      },
      {
        "duration": 4,
        "start_time": "2023-05-18T11:37:34.899Z"
      },
      {
        "duration": 9,
        "start_time": "2023-05-18T11:37:36.157Z"
      },
      {
        "duration": 24,
        "start_time": "2023-05-18T11:37:41.545Z"
      },
      {
        "duration": 5,
        "start_time": "2023-05-18T11:40:51.080Z"
      },
      {
        "duration": 34,
        "start_time": "2023-05-18T11:40:59.581Z"
      },
      {
        "duration": 7,
        "start_time": "2023-05-18T11:41:23.949Z"
      },
      {
        "duration": 24,
        "start_time": "2023-05-18T11:41:31.993Z"
      },
      {
        "duration": 24,
        "start_time": "2023-05-18T11:41:38.029Z"
      },
      {
        "duration": 18,
        "start_time": "2023-05-18T11:41:43.008Z"
      },
      {
        "duration": 4,
        "start_time": "2023-05-18T11:42:30.496Z"
      },
      {
        "duration": 3,
        "start_time": "2023-05-18T11:42:53.371Z"
      },
      {
        "duration": 6,
        "start_time": "2023-05-18T11:43:00.079Z"
      },
      {
        "duration": 6,
        "start_time": "2023-05-18T11:43:52.176Z"
      },
      {
        "duration": 20,
        "start_time": "2023-05-18T11:44:03.601Z"
      },
      {
        "duration": 18,
        "start_time": "2023-05-18T11:48:28.106Z"
      },
      {
        "duration": 8,
        "start_time": "2023-05-18T12:01:05.771Z"
      },
      {
        "duration": 4,
        "start_time": "2023-05-18T12:02:02.399Z"
      },
      {
        "duration": 24,
        "start_time": "2023-05-18T12:02:55.981Z"
      },
      {
        "duration": 7,
        "start_time": "2023-05-18T12:05:09.781Z"
      },
      {
        "duration": 21,
        "start_time": "2023-05-18T12:05:10.345Z"
      },
      {
        "duration": 14,
        "start_time": "2023-05-18T12:05:23.657Z"
      },
      {
        "duration": 18,
        "start_time": "2023-05-18T12:05:28.033Z"
      },
      {
        "duration": 22,
        "start_time": "2023-05-18T12:05:36.679Z"
      },
      {
        "duration": 21,
        "start_time": "2023-05-18T12:05:45.528Z"
      },
      {
        "duration": 13,
        "start_time": "2023-05-18T12:05:55.730Z"
      },
      {
        "duration": 6,
        "start_time": "2023-05-18T12:06:54.054Z"
      },
      {
        "duration": 19,
        "start_time": "2023-05-18T12:06:54.261Z"
      },
      {
        "duration": 6,
        "start_time": "2023-05-18T12:06:59.257Z"
      },
      {
        "duration": 9,
        "start_time": "2023-05-18T12:07:04.302Z"
      },
      {
        "duration": 108,
        "start_time": "2023-05-19T03:18:54.543Z"
      },
      {
        "duration": 2277,
        "start_time": "2023-05-19T03:19:04.232Z"
      },
      {
        "duration": 442,
        "start_time": "2023-05-19T03:19:06.516Z"
      },
      {
        "duration": 22,
        "start_time": "2023-05-19T03:19:08.357Z"
      },
      {
        "duration": 9,
        "start_time": "2023-05-19T03:19:18.833Z"
      },
      {
        "duration": 7,
        "start_time": "2023-05-19T03:29:16.216Z"
      },
      {
        "duration": 7,
        "start_time": "2023-05-19T03:32:39.190Z"
      },
      {
        "duration": 7,
        "start_time": "2023-05-19T03:33:17.994Z"
      },
      {
        "duration": 6225,
        "start_time": "2023-05-19T04:44:01.339Z"
      },
      {
        "duration": 35,
        "start_time": "2023-05-19T04:44:53.715Z"
      },
      {
        "duration": 58,
        "start_time": "2023-05-19T04:45:16.065Z"
      },
      {
        "duration": 116,
        "start_time": "2023-05-19T04:45:41.543Z"
      },
      {
        "duration": 29,
        "start_time": "2023-05-19T04:45:43.356Z"
      },
      {
        "duration": 5,
        "start_time": "2023-05-19T04:45:48.964Z"
      },
      {
        "duration": 17,
        "start_time": "2023-05-19T04:45:50.419Z"
      },
      {
        "duration": 8127,
        "start_time": "2023-05-19T04:47:10.690Z"
      },
      {
        "duration": 42,
        "start_time": "2023-05-19T04:47:23.457Z"
      },
      {
        "duration": 7380,
        "start_time": "2023-05-19T07:24:26.898Z"
      },
      {
        "duration": 100074,
        "start_time": "2023-05-19T07:26:08.701Z"
      },
      {
        "duration": 49,
        "start_time": "2023-05-19T07:40:55.912Z"
      },
      {
        "duration": 5588,
        "start_time": "2023-05-19T07:49:54.611Z"
      },
      {
        "duration": 504,
        "start_time": "2023-05-19T07:50:00.203Z"
      },
      {
        "duration": 9,
        "start_time": "2023-05-19T07:52:08.717Z"
      },
      {
        "duration": 3,
        "start_time": "2023-05-19T08:00:05.146Z"
      },
      {
        "duration": 4,
        "start_time": "2023-05-19T08:00:09.260Z"
      },
      {
        "duration": 18,
        "start_time": "2023-05-19T08:00:39.601Z"
      },
      {
        "duration": 5,
        "start_time": "2023-05-19T08:01:42.014Z"
      },
      {
        "duration": 5,
        "start_time": "2023-05-19T08:02:50.955Z"
      },
      {
        "duration": 3,
        "start_time": "2023-05-19T08:04:13.109Z"
      },
      {
        "duration": 5,
        "start_time": "2023-05-19T08:04:13.441Z"
      },
      {
        "duration": 3,
        "start_time": "2023-05-19T08:04:35.811Z"
      },
      {
        "duration": 1365,
        "start_time": "2023-05-19T08:05:46.768Z"
      },
      {
        "duration": 11,
        "start_time": "2023-05-19T08:05:59.618Z"
      },
      {
        "duration": 17,
        "start_time": "2023-05-19T08:06:13.800Z"
      },
      {
        "duration": 3,
        "start_time": "2023-05-19T08:06:27.796Z"
      },
      {
        "duration": 7,
        "start_time": "2023-05-19T08:06:33.195Z"
      },
      {
        "duration": 9,
        "start_time": "2023-05-19T08:06:40.990Z"
      },
      {
        "duration": 28,
        "start_time": "2023-05-19T08:07:15.472Z"
      },
      {
        "duration": 360370,
        "start_time": "2023-05-19T08:08:26.357Z"
      },
      {
        "duration": 8,
        "start_time": "2023-05-19T08:19:41.504Z"
      },
      {
        "duration": 4,
        "start_time": "2023-05-19T08:20:53.195Z"
      },
      {
        "duration": 28,
        "start_time": "2023-05-19T08:22:48.608Z"
      },
      {
        "duration": 108,
        "start_time": "2023-05-19T08:22:51.503Z"
      },
      {
        "duration": 34,
        "start_time": "2023-05-19T08:22:56.660Z"
      },
      {
        "duration": 47,
        "start_time": "2023-05-19T08:23:29.843Z"
      },
      {
        "duration": 126,
        "start_time": "2023-05-19T08:23:30.051Z"
      },
      {
        "duration": 54,
        "start_time": "2023-05-19T08:23:40.116Z"
      },
      {
        "duration": 168,
        "start_time": "2023-05-19T08:23:40.447Z"
      },
      {
        "duration": 94,
        "start_time": "2023-05-19T08:23:45.418Z"
      },
      {
        "duration": 704,
        "start_time": "2023-05-19T08:23:45.575Z"
      },
      {
        "duration": 105,
        "start_time": "2023-05-19T08:23:51.554Z"
      },
      {
        "duration": 1503,
        "start_time": "2023-05-19T08:23:52.018Z"
      },
      {
        "duration": 14,
        "start_time": "2023-05-19T08:25:27.239Z"
      },
      {
        "duration": 10,
        "start_time": "2023-05-19T08:25:28.087Z"
      },
      {
        "duration": 15,
        "start_time": "2023-05-19T08:25:28.490Z"
      },
      {
        "duration": 1176,
        "start_time": "2023-05-19T08:25:28.814Z"
      },
      {
        "duration": 6,
        "start_time": "2023-05-19T08:26:09.751Z"
      },
      {
        "duration": 5,
        "start_time": "2023-05-19T08:26:09.928Z"
      },
      {
        "duration": 7,
        "start_time": "2023-05-19T08:26:10.258Z"
      },
      {
        "duration": 301147,
        "start_time": "2023-05-19T08:26:10.571Z"
      },
      {
        "duration": 14,
        "start_time": "2023-05-19T08:31:55.930Z"
      },
      {
        "duration": 824,
        "start_time": "2023-05-19T08:32:33.928Z"
      },
      {
        "duration": 17,
        "start_time": "2023-05-19T08:32:56.746Z"
      },
      {
        "duration": 118,
        "start_time": "2023-05-19T08:33:48.958Z"
      },
      {
        "duration": 6,
        "start_time": "2023-05-19T08:35:36.153Z"
      },
      {
        "duration": 13,
        "start_time": "2023-05-19T08:36:18.092Z"
      },
      {
        "duration": 7,
        "start_time": "2023-05-19T08:36:20.747Z"
      },
      {
        "duration": 15,
        "start_time": "2023-05-19T08:36:22.141Z"
      },
      {
        "duration": 903261,
        "start_time": "2023-05-19T08:36:31.893Z"
      },
      {
        "duration": 10,
        "start_time": "2023-05-19T08:52:15.301Z"
      },
      {
        "duration": 1921,
        "start_time": "2023-05-19T08:52:16.220Z"
      },
      {
        "duration": 56,
        "start_time": "2023-05-19T08:52:21.298Z"
      },
      {
        "duration": 11,
        "start_time": "2023-05-19T09:38:44.397Z"
      },
      {
        "duration": 5985,
        "start_time": "2023-05-19T09:39:29.921Z"
      },
      {
        "duration": 9341,
        "start_time": "2023-05-19T09:40:08.101Z"
      },
      {
        "duration": 6,
        "start_time": "2023-05-19T09:41:08.331Z"
      },
      {
        "duration": 23,
        "start_time": "2023-05-19T09:41:08.889Z"
      },
      {
        "duration": 42,
        "start_time": "2023-05-19T09:41:16.637Z"
      },
      {
        "duration": 9,
        "start_time": "2023-05-19T09:41:19.442Z"
      },
      {
        "duration": 943711,
        "start_time": "2023-05-19T09:41:22.892Z"
      },
      {
        "duration": 29,
        "start_time": "2023-05-19T10:00:50.319Z"
      },
      {
        "duration": 17,
        "start_time": "2023-05-19T10:01:00.652Z"
      },
      {
        "duration": 30,
        "start_time": "2023-05-19T10:01:12.321Z"
      },
      {
        "duration": 33,
        "start_time": "2023-05-19T10:01:18.917Z"
      },
      {
        "duration": 43,
        "start_time": "2023-05-19T10:01:32.166Z"
      },
      {
        "duration": 2191,
        "start_time": "2023-05-19T10:02:30.240Z"
      },
      {
        "duration": 726,
        "start_time": "2023-05-19T10:02:49.042Z"
      },
      {
        "duration": 42,
        "start_time": "2023-05-19T10:03:07.970Z"
      },
      {
        "duration": 37,
        "start_time": "2023-05-19T10:03:11.153Z"
      },
      {
        "duration": 39,
        "start_time": "2023-05-19T10:04:38.658Z"
      },
      {
        "duration": 19,
        "start_time": "2023-05-19T10:05:30.247Z"
      },
      {
        "duration": 36,
        "start_time": "2023-05-19T10:05:44.547Z"
      },
      {
        "duration": 5,
        "start_time": "2023-05-19T10:06:03.845Z"
      },
      {
        "duration": 3796,
        "start_time": "2023-05-19T10:06:05.969Z"
      },
      {
        "duration": 7,
        "start_time": "2023-05-19T10:07:50.632Z"
      },
      {
        "duration": 5,
        "start_time": "2023-05-19T10:08:05.846Z"
      },
      {
        "duration": 8,
        "start_time": "2023-05-19T10:09:46.825Z"
      },
      {
        "duration": 4,
        "start_time": "2023-05-19T10:10:37.159Z"
      },
      {
        "duration": 5,
        "start_time": "2023-05-19T10:10:41.045Z"
      },
      {
        "duration": 4,
        "start_time": "2023-05-19T10:10:45.743Z"
      },
      {
        "duration": 9,
        "start_time": "2023-05-19T10:10:50.840Z"
      },
      {
        "duration": 4,
        "start_time": "2023-05-19T10:11:35.245Z"
      },
      {
        "duration": 15,
        "start_time": "2023-05-19T10:11:38.148Z"
      },
      {
        "duration": 4,
        "start_time": "2023-05-19T10:12:20.145Z"
      },
      {
        "duration": 3,
        "start_time": "2023-05-19T10:12:24.960Z"
      },
      {
        "duration": 30,
        "start_time": "2023-05-19T10:12:28.057Z"
      },
      {
        "duration": 6,
        "start_time": "2023-05-19T10:12:34.137Z"
      },
      {
        "duration": 934513,
        "start_time": "2023-05-19T10:12:37.043Z"
      },
      {
        "duration": 9,
        "start_time": "2023-05-19T10:30:12.434Z"
      },
      {
        "duration": 8,
        "start_time": "2023-05-19T10:30:45.943Z"
      },
      {
        "duration": 4789,
        "start_time": "2023-05-20T02:02:20.961Z"
      },
      {
        "duration": 105,
        "start_time": "2023-05-20T02:02:25.753Z"
      },
      {
        "duration": 1790,
        "start_time": "2023-05-20T02:02:30.354Z"
      },
      {
        "duration": 8046,
        "start_time": "2023-05-20T02:42:34.835Z"
      },
      {
        "duration": 16,
        "start_time": "2023-05-20T02:42:42.883Z"
      },
      {
        "duration": 12,
        "start_time": "2023-05-20T02:43:54.878Z"
      },
      {
        "duration": 1653,
        "start_time": "2023-05-20T02:44:11.675Z"
      },
      {
        "duration": 3,
        "start_time": "2023-05-20T02:44:16.975Z"
      },
      {
        "duration": 6,
        "start_time": "2023-05-20T02:44:21.060Z"
      },
      {
        "duration": 136,
        "start_time": "2023-05-20T03:38:54.893Z"
      },
      {
        "duration": 17,
        "start_time": "2023-05-20T03:38:56.588Z"
      },
      {
        "duration": 5,
        "start_time": "2023-05-20T03:38:56.770Z"
      },
      {
        "duration": 4,
        "start_time": "2023-05-20T03:38:56.977Z"
      },
      {
        "duration": 323,
        "start_time": "2023-05-20T03:38:57.833Z"
      },
      {
        "duration": 208,
        "start_time": "2023-05-20T03:38:58.159Z"
      },
      {
        "duration": 907,
        "start_time": "2023-05-20T03:38:58.369Z"
      },
      {
        "duration": 7,
        "start_time": "2023-05-20T03:39:18.604Z"
      },
      {
        "duration": 3,
        "start_time": "2023-05-20T03:39:19.033Z"
      },
      {
        "duration": 4,
        "start_time": "2023-05-20T03:39:23.321Z"
      },
      {
        "duration": 65630,
        "start_time": "2023-05-20T03:39:27.170Z"
      },
      {
        "duration": 5,
        "start_time": "2023-05-20T03:40:32.801Z"
      },
      {
        "duration": 144330,
        "start_time": "2023-05-20T03:41:47.083Z"
      },
      {
        "duration": 78235,
        "start_time": "2023-05-20T03:44:53.274Z"
      },
      {
        "duration": 102,
        "start_time": "2023-05-20T03:55:36.535Z"
      },
      {
        "duration": 27,
        "start_time": "2023-05-20T03:55:40.292Z"
      },
      {
        "duration": 11,
        "start_time": "2023-05-20T03:55:44.041Z"
      },
      {
        "duration": 4,
        "start_time": "2023-05-20T03:56:04.940Z"
      },
      {
        "duration": 73837,
        "start_time": "2023-05-20T03:56:10.387Z"
      },
      {
        "duration": 151731,
        "start_time": "2023-05-20T03:57:47.379Z"
      },
      {
        "duration": 14,
        "start_time": "2023-05-20T04:13:22.823Z"
      },
      {
        "duration": 3856,
        "start_time": "2023-05-20T04:13:33.664Z"
      },
      {
        "duration": 196679,
        "start_time": "2023-05-20T04:13:57.464Z"
      },
      {
        "duration": 5,
        "start_time": "2023-05-20T04:19:24.554Z"
      },
      {
        "duration": 158,
        "start_time": "2023-05-20T04:55:02.148Z"
      },
      {
        "duration": 4,
        "start_time": "2023-05-20T04:56:26.787Z"
      },
      {
        "duration": 1090,
        "start_time": "2023-05-20T04:56:47.410Z"
      },
      {
        "duration": 530,
        "start_time": "2023-05-20T04:59:59.608Z"
      },
      {
        "duration": 653,
        "start_time": "2023-05-20T05:03:37.702Z"
      },
      {
        "duration": 5,
        "start_time": "2023-05-20T05:13:54.145Z"
      },
      {
        "duration": 4,
        "start_time": "2023-05-20T05:13:56.445Z"
      },
      {
        "duration": 203,
        "start_time": "2023-05-20T05:13:59.382Z"
      },
      {
        "duration": 191,
        "start_time": "2023-05-20T05:21:25.231Z"
      },
      {
        "duration": 200,
        "start_time": "2023-05-20T05:21:29.412Z"
      },
      {
        "duration": 195,
        "start_time": "2023-05-20T05:21:32.596Z"
      },
      {
        "duration": 194,
        "start_time": "2023-05-20T05:21:37.519Z"
      },
      {
        "duration": 290,
        "start_time": "2023-05-20T05:21:42.648Z"
      },
      {
        "duration": 218,
        "start_time": "2023-05-20T05:21:45.636Z"
      },
      {
        "duration": 4,
        "start_time": "2023-05-20T05:22:17.566Z"
      },
      {
        "duration": 226,
        "start_time": "2023-05-20T05:22:22.295Z"
      },
      {
        "duration": 197,
        "start_time": "2023-05-20T05:22:41.080Z"
      },
      {
        "duration": 218,
        "start_time": "2023-05-20T05:22:43.724Z"
      },
      {
        "duration": 207,
        "start_time": "2023-05-20T05:22:46.252Z"
      },
      {
        "duration": 206,
        "start_time": "2023-05-20T05:22:48.704Z"
      },
      {
        "duration": 295,
        "start_time": "2023-05-20T05:22:51.545Z"
      },
      {
        "duration": 201,
        "start_time": "2023-05-20T05:22:54.085Z"
      },
      {
        "duration": 209,
        "start_time": "2023-05-20T05:22:57.114Z"
      },
      {
        "duration": 218,
        "start_time": "2023-05-20T05:23:04.385Z"
      },
      {
        "duration": 202,
        "start_time": "2023-05-20T05:23:07.536Z"
      },
      {
        "duration": 214,
        "start_time": "2023-05-20T05:23:10.110Z"
      },
      {
        "duration": 190,
        "start_time": "2023-05-20T05:23:12.954Z"
      },
      {
        "duration": 224,
        "start_time": "2023-05-20T05:23:15.047Z"
      },
      {
        "duration": 223,
        "start_time": "2023-05-20T05:23:17.960Z"
      },
      {
        "duration": 298,
        "start_time": "2023-05-20T05:23:21.647Z"
      },
      {
        "duration": 4,
        "start_time": "2023-05-20T05:24:46.051Z"
      },
      {
        "duration": 4,
        "start_time": "2023-05-20T05:24:56.613Z"
      },
      {
        "duration": 5,
        "start_time": "2023-05-20T05:29:50.835Z"
      },
      {
        "duration": 4,
        "start_time": "2023-05-20T05:31:50.324Z"
      },
      {
        "duration": 5,
        "start_time": "2023-05-20T05:33:42.916Z"
      },
      {
        "duration": 9,
        "start_time": "2023-05-20T05:33:48.313Z"
      },
      {
        "duration": 54465,
        "start_time": "2023-05-20T05:34:08.568Z"
      },
      {
        "duration": 10,
        "start_time": "2023-05-20T05:35:03.099Z"
      },
      {
        "duration": 4,
        "start_time": "2023-05-20T05:35:53.089Z"
      },
      {
        "duration": 4,
        "start_time": "2023-05-20T05:35:54.424Z"
      },
      {
        "duration": 71259,
        "start_time": "2023-05-20T05:35:55.849Z"
      },
      {
        "duration": 4,
        "start_time": "2023-05-20T05:37:57.320Z"
      },
      {
        "duration": 4,
        "start_time": "2023-05-20T05:38:10.850Z"
      },
      {
        "duration": 4,
        "start_time": "2023-05-20T05:38:14.447Z"
      },
      {
        "duration": 4,
        "start_time": "2023-05-20T05:38:17.573Z"
      },
      {
        "duration": 3,
        "start_time": "2023-05-20T05:38:29.965Z"
      },
      {
        "duration": 4,
        "start_time": "2023-05-20T05:38:36.855Z"
      },
      {
        "duration": 8,
        "start_time": "2023-05-20T05:38:37.005Z"
      },
      {
        "duration": 148397,
        "start_time": "2023-05-20T05:38:37.120Z"
      },
      {
        "duration": 6,
        "start_time": "2023-05-20T05:41:05.522Z"
      },
      {
        "duration": 4,
        "start_time": "2023-05-20T05:41:30.085Z"
      },
      {
        "duration": 5,
        "start_time": "2023-05-20T05:41:35.437Z"
      },
      {
        "duration": 5,
        "start_time": "2023-05-20T05:41:35.801Z"
      },
      {
        "duration": 335187,
        "start_time": "2023-05-20T05:41:36.022Z"
      },
      {
        "duration": 4,
        "start_time": "2023-05-20T05:47:46.030Z"
      },
      {
        "duration": 3,
        "start_time": "2023-05-20T05:47:54.822Z"
      },
      {
        "duration": 4,
        "start_time": "2023-05-20T05:47:54.989Z"
      },
      {
        "duration": 248977,
        "start_time": "2023-05-20T05:47:55.422Z"
      },
      {
        "duration": 9,
        "start_time": "2023-05-20T05:52:04.401Z"
      },
      {
        "duration": 786,
        "start_time": "2023-05-20T05:52:04.414Z"
      },
      {
        "duration": 698,
        "start_time": "2023-05-20T05:52:05.202Z"
      },
      {
        "duration": 33706,
        "start_time": "2023-05-20T05:52:05.901Z"
      },
      {
        "duration": 2176,
        "start_time": "2023-05-20T05:52:39.612Z"
      },
      {
        "duration": 4,
        "start_time": "2023-05-20T05:52:44.937Z"
      },
      {
        "duration": 4,
        "start_time": "2023-05-20T05:52:49.291Z"
      },
      {
        "duration": 3,
        "start_time": "2023-05-20T05:52:51.262Z"
      },
      {
        "duration": 4,
        "start_time": "2023-05-20T05:52:59.334Z"
      },
      {
        "duration": 4,
        "start_time": "2023-05-20T05:52:59.487Z"
      },
      {
        "duration": 88986,
        "start_time": "2023-05-20T05:52:59.625Z"
      },
      {
        "duration": 4,
        "start_time": "2023-05-20T05:54:33.335Z"
      },
      {
        "duration": 4,
        "start_time": "2023-05-20T05:54:39.072Z"
      },
      {
        "duration": 4,
        "start_time": "2023-05-20T05:54:57.096Z"
      },
      {
        "duration": 4,
        "start_time": "2023-05-20T05:54:57.255Z"
      },
      {
        "duration": 117835,
        "start_time": "2023-05-20T05:54:57.472Z"
      },
      {
        "duration": 4,
        "start_time": "2023-05-20T05:57:05.959Z"
      },
      {
        "duration": 5,
        "start_time": "2023-05-20T05:57:13.656Z"
      },
      {
        "duration": 5,
        "start_time": "2023-05-20T05:57:13.815Z"
      },
      {
        "duration": 118126,
        "start_time": "2023-05-20T05:57:13.976Z"
      },
      {
        "duration": 4,
        "start_time": "2023-05-20T06:00:26.954Z"
      },
      {
        "duration": 4,
        "start_time": "2023-05-20T06:00:41.435Z"
      },
      {
        "duration": 6,
        "start_time": "2023-05-20T06:00:50.896Z"
      },
      {
        "duration": 4,
        "start_time": "2023-05-20T06:00:51.040Z"
      },
      {
        "duration": 116831,
        "start_time": "2023-05-20T06:00:51.170Z"
      },
      {
        "duration": 93,
        "start_time": "2023-05-20T06:02:48.003Z"
      },
      {
        "duration": 5,
        "start_time": "2023-05-20T06:03:53.399Z"
      },
      {
        "duration": 985,
        "start_time": "2023-05-20T06:04:28.316Z"
      },
      {
        "duration": 4,
        "start_time": "2023-05-20T06:04:35.152Z"
      },
      {
        "duration": 4,
        "start_time": "2023-05-20T06:05:12.744Z"
      },
      {
        "duration": 4,
        "start_time": "2023-05-20T06:05:12.919Z"
      },
      {
        "duration": 113845,
        "start_time": "2023-05-20T06:05:13.151Z"
      },
      {
        "duration": 4,
        "start_time": "2023-05-20T06:30:08.130Z"
      },
      {
        "duration": 4,
        "start_time": "2023-05-20T06:31:49.853Z"
      },
      {
        "duration": 5,
        "start_time": "2023-05-20T06:31:58.253Z"
      },
      {
        "duration": 4,
        "start_time": "2023-05-20T06:31:59.086Z"
      },
      {
        "duration": 110753,
        "start_time": "2023-05-20T06:31:59.246Z"
      },
      {
        "duration": 4,
        "start_time": "2023-05-20T06:34:23.372Z"
      },
      {
        "duration": 5,
        "start_time": "2023-05-20T06:34:31.232Z"
      },
      {
        "duration": 5,
        "start_time": "2023-05-20T06:34:31.396Z"
      },
      {
        "duration": 108474,
        "start_time": "2023-05-20T06:34:31.729Z"
      },
      {
        "duration": 4,
        "start_time": "2023-05-20T06:38:18.714Z"
      },
      {
        "duration": 4,
        "start_time": "2023-05-20T06:38:37.003Z"
      },
      {
        "duration": 3,
        "start_time": "2023-05-20T06:38:51.113Z"
      },
      {
        "duration": 5,
        "start_time": "2023-05-20T06:39:11.898Z"
      },
      {
        "duration": 4,
        "start_time": "2023-05-20T06:39:12.281Z"
      },
      {
        "duration": 216847,
        "start_time": "2023-05-20T06:39:12.459Z"
      },
      {
        "duration": 3,
        "start_time": "2023-05-20T06:43:45.561Z"
      },
      {
        "duration": 430,
        "start_time": "2023-05-20T06:45:36.380Z"
      },
      {
        "duration": 208,
        "start_time": "2023-05-20T06:45:44.016Z"
      },
      {
        "duration": 62594,
        "start_time": "2023-05-20T06:46:24.204Z"
      },
      {
        "duration": 2162,
        "start_time": "2023-05-20T06:47:27.974Z"
      },
      {
        "duration": 21,
        "start_time": "2023-05-20T06:47:30.223Z"
      },
      {
        "duration": 4,
        "start_time": "2023-05-20T06:47:34.062Z"
      },
      {
        "duration": 136641,
        "start_time": "2023-05-20T06:48:46.456Z"
      },
      {
        "duration": 4,
        "start_time": "2023-05-20T06:51:03.099Z"
      },
      {
        "duration": 75,
        "start_time": "2023-05-20T06:54:01.239Z"
      },
      {
        "duration": 829,
        "start_time": "2023-05-20T06:54:05.222Z"
      },
      {
        "duration": 271357,
        "start_time": "2023-05-20T06:56:14.652Z"
      },
      {
        "duration": 7,
        "start_time": "2023-05-20T07:00:46.011Z"
      },
      {
        "duration": 5418,
        "start_time": "2023-05-20T07:00:46.099Z"
      },
      {
        "duration": 26,
        "start_time": "2023-05-20T07:00:51.519Z"
      },
      {
        "duration": 777,
        "start_time": "2023-05-20T07:02:45.725Z"
      },
      {
        "duration": 89,
        "start_time": "2023-05-20T07:07:15.918Z"
      },
      {
        "duration": 91992,
        "start_time": "2023-05-20T07:08:06.717Z"
      },
      {
        "duration": 4,
        "start_time": "2023-05-20T07:10:36.547Z"
      },
      {
        "duration": 838,
        "start_time": "2023-05-20T07:10:37.532Z"
      },
      {
        "duration": 15,
        "start_time": "2023-05-20T07:10:57.710Z"
      },
      {
        "duration": 1067,
        "start_time": "2023-05-20T07:11:50.140Z"
      },
      {
        "duration": 4,
        "start_time": "2023-05-20T07:11:58.124Z"
      },
      {
        "duration": 877,
        "start_time": "2023-05-20T07:11:58.740Z"
      },
      {
        "duration": 21,
        "start_time": "2023-05-20T07:11:59.620Z"
      },
      {
        "duration": 889,
        "start_time": "2023-05-20T07:12:11.172Z"
      },
      {
        "duration": 14,
        "start_time": "2023-05-20T07:12:12.063Z"
      },
      {
        "duration": 894,
        "start_time": "2023-05-20T07:12:15.251Z"
      },
      {
        "duration": 877,
        "start_time": "2023-05-20T07:12:25.380Z"
      },
      {
        "duration": 910,
        "start_time": "2023-05-20T07:12:36.163Z"
      },
      {
        "duration": 24,
        "start_time": "2023-05-20T07:12:37.075Z"
      },
      {
        "duration": 870,
        "start_time": "2023-05-20T07:12:40.475Z"
      },
      {
        "duration": 3,
        "start_time": "2023-05-20T07:16:01.736Z"
      },
      {
        "duration": 230,
        "start_time": "2023-05-20T07:17:25.621Z"
      },
      {
        "duration": 196,
        "start_time": "2023-05-20T07:17:32.945Z"
      },
      {
        "duration": 200,
        "start_time": "2023-05-20T07:17:38.901Z"
      },
      {
        "duration": 5,
        "start_time": "2023-05-20T07:23:46.726Z"
      },
      {
        "duration": 4,
        "start_time": "2023-05-20T07:23:58.412Z"
      },
      {
        "duration": 3,
        "start_time": "2023-05-20T07:26:55.801Z"
      },
      {
        "duration": 3,
        "start_time": "2023-05-20T07:27:13.049Z"
      },
      {
        "duration": 25,
        "start_time": "2023-05-20T07:27:13.217Z"
      },
      {
        "duration": 29,
        "start_time": "2023-05-20T07:27:48.051Z"
      },
      {
        "duration": 29,
        "start_time": "2023-05-20T07:27:53.697Z"
      },
      {
        "duration": 4,
        "start_time": "2023-05-20T07:28:00.856Z"
      },
      {
        "duration": 6,
        "start_time": "2023-05-20T07:28:01.831Z"
      },
      {
        "duration": 3,
        "start_time": "2023-05-20T07:28:02.279Z"
      },
      {
        "duration": 9905,
        "start_time": "2023-05-20T07:28:02.719Z"
      },
      {
        "duration": 143418,
        "start_time": "2023-05-20T07:28:16.991Z"
      },
      {
        "duration": 183887,
        "start_time": "2023-05-20T07:35:01.513Z"
      },
      {
        "duration": 23,
        "start_time": "2023-05-20T07:38:05.402Z"
      },
      {
        "duration": 8,
        "start_time": "2023-05-20T08:05:33.405Z"
      },
      {
        "duration": 8336,
        "start_time": "2023-05-20T08:06:51.713Z"
      },
      {
        "duration": 5,
        "start_time": "2023-05-20T08:07:15.166Z"
      },
      {
        "duration": 3,
        "start_time": "2023-05-20T08:07:19.882Z"
      },
      {
        "duration": 181912,
        "start_time": "2023-05-20T08:07:34.387Z"
      },
      {
        "duration": 230497,
        "start_time": "2023-05-20T08:10:36.305Z"
      },
      {
        "duration": 111317,
        "start_time": "2023-05-20T08:14:26.807Z"
      },
      {
        "duration": 70880,
        "start_time": "2023-05-20T08:16:18.126Z"
      },
      {
        "duration": 3524951,
        "start_time": "2023-05-20T08:17:57.436Z"
      },
      {
        "duration": 1914563,
        "start_time": "2023-05-20T09:16:42.389Z"
      },
      {
        "duration": 237506,
        "start_time": "2023-05-20T09:48:36.954Z"
      },
      {
        "duration": 517995,
        "start_time": "2023-05-20T09:52:34.463Z"
      },
      {
        "duration": 1573504,
        "start_time": "2023-05-20T10:01:12.459Z"
      },
      {
        "duration": 8,
        "start_time": "2023-05-20T10:27:25.965Z"
      },
      {
        "duration": 30,
        "start_time": "2023-05-20T10:27:25.974Z"
      },
      {
        "duration": 2977,
        "start_time": "2023-05-20T10:33:17.308Z"
      },
      {
        "duration": 18,
        "start_time": "2023-05-20T10:33:20.287Z"
      },
      {
        "duration": 0,
        "start_time": "2023-05-20T10:33:20.307Z"
      },
      {
        "duration": 1608,
        "start_time": "2023-05-20T10:33:38.073Z"
      },
      {
        "duration": 3,
        "start_time": "2023-05-20T10:33:43.956Z"
      },
      {
        "duration": 4,
        "start_time": "2023-05-20T10:33:44.765Z"
      },
      {
        "duration": 59,
        "start_time": "2023-05-20T10:33:46.733Z"
      },
      {
        "duration": 14,
        "start_time": "2023-05-20T10:33:49.652Z"
      },
      {
        "duration": 6,
        "start_time": "2023-05-20T10:33:52.675Z"
      },
      {
        "duration": 10,
        "start_time": "2023-05-20T10:33:53.204Z"
      },
      {
        "duration": 250,
        "start_time": "2023-05-20T10:34:07.436Z"
      },
      {
        "duration": 207,
        "start_time": "2023-05-20T10:34:09.828Z"
      },
      {
        "duration": 1002,
        "start_time": "2023-05-20T10:34:27.549Z"
      },
      {
        "duration": 3,
        "start_time": "2023-05-20T10:35:23.045Z"
      },
      {
        "duration": 4,
        "start_time": "2023-05-20T10:35:24.148Z"
      },
      {
        "duration": 6,
        "start_time": "2023-05-20T10:35:25.815Z"
      },
      {
        "duration": 4,
        "start_time": "2023-05-20T10:40:38.865Z"
      },
      {
        "duration": 20,
        "start_time": "2023-05-20T10:40:42.443Z"
      },
      {
        "duration": 13,
        "start_time": "2023-05-20T10:40:49.352Z"
      },
      {
        "duration": 147,
        "start_time": "2023-05-20T10:41:06.280Z"
      },
      {
        "duration": 25,
        "start_time": "2023-05-20T10:41:12.357Z"
      },
      {
        "duration": 28,
        "start_time": "2023-05-20T10:41:42.852Z"
      },
      {
        "duration": 32,
        "start_time": "2023-05-20T10:41:46.121Z"
      },
      {
        "duration": 24,
        "start_time": "2023-05-20T10:41:48.311Z"
      },
      {
        "duration": 21,
        "start_time": "2023-05-20T10:41:55.734Z"
      },
      {
        "duration": 18,
        "start_time": "2023-05-20T10:41:59.522Z"
      },
      {
        "duration": 26,
        "start_time": "2023-05-20T10:42:05.123Z"
      },
      {
        "duration": 36,
        "start_time": "2023-05-20T10:42:09.494Z"
      },
      {
        "duration": 34,
        "start_time": "2023-05-20T10:42:12.424Z"
      },
      {
        "duration": 13,
        "start_time": "2023-05-20T10:47:05.011Z"
      },
      {
        "duration": 5,
        "start_time": "2023-05-20T10:47:05.154Z"
      },
      {
        "duration": 25,
        "start_time": "2023-05-20T10:47:08.530Z"
      },
      {
        "duration": 136,
        "start_time": "2023-05-20T10:47:13.989Z"
      },
      {
        "duration": 127,
        "start_time": "2023-05-20T10:47:21.849Z"
      },
      {
        "duration": 105,
        "start_time": "2023-05-20T10:47:24.529Z"
      },
      {
        "duration": 150,
        "start_time": "2023-05-20T10:47:38.393Z"
      },
      {
        "duration": 176,
        "start_time": "2023-05-20T10:47:44.553Z"
      },
      {
        "duration": 34,
        "start_time": "2023-05-20T10:47:58.516Z"
      },
      {
        "duration": 3,
        "start_time": "2023-05-20T10:48:41.754Z"
      },
      {
        "duration": 5,
        "start_time": "2023-05-20T10:48:41.954Z"
      },
      {
        "duration": 6,
        "start_time": "2023-05-20T10:48:44.627Z"
      },
      {
        "duration": 220633,
        "start_time": "2023-05-20T10:48:47.971Z"
      },
      {
        "duration": 234610,
        "start_time": "2023-05-20T10:52:28.611Z"
      },
      {
        "duration": 328383,
        "start_time": "2023-05-20T10:56:23.223Z"
      },
      {
        "duration": 0,
        "start_time": "2023-05-20T11:01:51.612Z"
      },
      {
        "duration": 0,
        "start_time": "2023-05-20T11:01:51.616Z"
      },
      {
        "duration": 3,
        "start_time": "2023-05-20T11:01:58.340Z"
      },
      {
        "duration": 7,
        "start_time": "2023-05-20T11:01:59.315Z"
      },
      {
        "duration": 827008,
        "start_time": "2023-05-20T11:02:15.440Z"
      },
      {
        "duration": 494765,
        "start_time": "2023-05-20T11:16:02.453Z"
      },
      {
        "duration": 5,
        "start_time": "2023-05-20T11:25:03.762Z"
      },
      {
        "duration": 445151,
        "start_time": "2023-05-20T11:25:13.067Z"
      },
      {
        "duration": 8,
        "start_time": "2023-05-20T11:32:47.339Z"
      },
      {
        "duration": 467668,
        "start_time": "2023-05-20T11:32:53.234Z"
      },
      {
        "duration": 7,
        "start_time": "2023-05-20T11:41:14.645Z"
      },
      {
        "duration": 651976,
        "start_time": "2023-05-20T11:41:22.828Z"
      },
      {
        "duration": 6,
        "start_time": "2023-05-20T11:59:00.751Z"
      },
      {
        "duration": 468261,
        "start_time": "2023-05-20T11:59:15.139Z"
      },
      {
        "duration": 10,
        "start_time": "2023-05-20T12:10:22.430Z"
      },
      {
        "duration": 267976,
        "start_time": "2023-05-20T12:10:27.520Z"
      },
      {
        "duration": 12,
        "start_time": "2023-05-20T12:15:47.117Z"
      },
      {
        "duration": 10,
        "start_time": "2023-05-20T12:16:15.841Z"
      },
      {
        "duration": 6137,
        "start_time": "2023-05-20T12:16:24.394Z"
      },
      {
        "duration": 5069,
        "start_time": "2023-05-20T12:16:48.341Z"
      },
      {
        "duration": 344826,
        "start_time": "2023-05-20T12:17:07.973Z"
      },
      {
        "duration": 72,
        "start_time": "2023-05-20T12:24:20.950Z"
      },
      {
        "duration": 123925,
        "start_time": "2023-05-20T12:24:37.013Z"
      },
      {
        "duration": 195901,
        "start_time": "2023-05-20T12:26:40.940Z"
      },
      {
        "duration": 100934,
        "start_time": "2023-05-20T12:29:56.844Z"
      },
      {
        "duration": 18,
        "start_time": "2023-05-20T12:31:45.015Z"
      },
      {
        "duration": 9340,
        "start_time": "2023-05-20T12:31:54.069Z"
      },
      {
        "duration": 453972,
        "start_time": "2023-05-20T12:32:28.024Z"
      },
      {
        "duration": 535431,
        "start_time": "2023-05-20T12:40:01.999Z"
      },
      {
        "duration": 263665,
        "start_time": "2023-05-20T12:48:57.435Z"
      },
      {
        "duration": 78512,
        "start_time": "2023-05-20T12:53:21.102Z"
      },
      {
        "duration": 181729,
        "start_time": "2023-05-20T12:54:39.617Z"
      },
      {
        "duration": 101787,
        "start_time": "2023-05-20T12:57:41.348Z"
      },
      {
        "duration": 12,
        "start_time": "2023-05-21T07:07:09.062Z"
      },
      {
        "duration": 6801,
        "start_time": "2023-05-21T07:07:11.962Z"
      },
      {
        "duration": 1788,
        "start_time": "2023-05-21T07:07:40.454Z"
      },
      {
        "duration": 3,
        "start_time": "2023-05-21T07:07:42.244Z"
      },
      {
        "duration": 11,
        "start_time": "2023-05-21T07:07:42.248Z"
      },
      {
        "duration": 163,
        "start_time": "2023-05-21T07:07:42.261Z"
      },
      {
        "duration": 13,
        "start_time": "2023-05-21T07:07:42.425Z"
      },
      {
        "duration": 5,
        "start_time": "2023-05-21T07:07:42.439Z"
      },
      {
        "duration": 5,
        "start_time": "2023-05-21T07:07:42.858Z"
      },
      {
        "duration": 229,
        "start_time": "2023-05-21T07:07:45.090Z"
      },
      {
        "duration": 207,
        "start_time": "2023-05-21T07:07:45.321Z"
      },
      {
        "duration": 986,
        "start_time": "2023-05-21T07:07:45.530Z"
      },
      {
        "duration": 4,
        "start_time": "2023-05-21T07:14:16.765Z"
      },
      {
        "duration": 5,
        "start_time": "2023-05-21T07:14:18.366Z"
      },
      {
        "duration": 3,
        "start_time": "2023-05-21T07:14:26.190Z"
      },
      {
        "duration": 91018,
        "start_time": "2023-05-21T07:15:44.066Z"
      },
      {
        "duration": 145177,
        "start_time": "2023-05-21T07:17:15.086Z"
      },
      {
        "duration": 113967,
        "start_time": "2023-05-21T07:19:40.265Z"
      },
      {
        "duration": 75446,
        "start_time": "2023-05-21T07:21:46.270Z"
      },
      {
        "duration": 412457,
        "start_time": "2023-05-21T07:23:01.718Z"
      },
      {
        "duration": 0,
        "start_time": "2023-05-21T07:29:54.177Z"
      },
      {
        "duration": 0,
        "start_time": "2023-05-21T07:29:54.179Z"
      },
      {
        "duration": 3,
        "start_time": "2023-05-21T07:31:06.692Z"
      },
      {
        "duration": 5,
        "start_time": "2023-05-21T07:31:10.150Z"
      },
      {
        "duration": 4,
        "start_time": "2023-05-21T07:31:22.688Z"
      },
      {
        "duration": 6,
        "start_time": "2023-05-21T07:31:25.762Z"
      },
      {
        "duration": 3,
        "start_time": "2023-05-21T07:31:40.258Z"
      },
      {
        "duration": 5,
        "start_time": "2023-05-21T07:31:40.762Z"
      },
      {
        "duration": 7,
        "start_time": "2023-05-21T07:32:03.062Z"
      },
      {
        "duration": 7,
        "start_time": "2023-05-21T07:32:03.562Z"
      },
      {
        "duration": 3,
        "start_time": "2023-05-21T07:32:07.789Z"
      },
      {
        "duration": 13,
        "start_time": "2023-05-21T07:32:07.970Z"
      },
      {
        "duration": 7,
        "start_time": "2023-05-21T07:32:08.190Z"
      },
      {
        "duration": 5,
        "start_time": "2023-05-21T07:32:50.106Z"
      },
      {
        "duration": 3,
        "start_time": "2023-05-21T07:33:02.965Z"
      },
      {
        "duration": 4,
        "start_time": "2023-05-21T07:33:03.595Z"
      },
      {
        "duration": 3,
        "start_time": "2023-05-21T07:33:08.362Z"
      },
      {
        "duration": 5,
        "start_time": "2023-05-21T07:33:08.698Z"
      },
      {
        "duration": 3,
        "start_time": "2023-05-21T07:33:12.474Z"
      },
      {
        "duration": 4,
        "start_time": "2023-05-21T07:33:14.450Z"
      },
      {
        "duration": 4,
        "start_time": "2023-05-21T07:33:16.807Z"
      },
      {
        "duration": 5,
        "start_time": "2023-05-21T07:33:17.265Z"
      },
      {
        "duration": 7,
        "start_time": "2023-05-21T07:33:26.202Z"
      },
      {
        "duration": 6,
        "start_time": "2023-05-21T07:33:59.074Z"
      },
      {
        "duration": 14,
        "start_time": "2023-05-21T07:34:36.706Z"
      },
      {
        "duration": 4,
        "start_time": "2023-05-21T07:34:44.762Z"
      },
      {
        "duration": 3,
        "start_time": "2023-05-21T07:34:55.822Z"
      },
      {
        "duration": 6,
        "start_time": "2023-05-21T07:34:56.954Z"
      },
      {
        "duration": 4,
        "start_time": "2023-05-21T07:35:00.006Z"
      },
      {
        "duration": 4,
        "start_time": "2023-05-21T07:35:02.908Z"
      },
      {
        "duration": 8,
        "start_time": "2023-05-21T07:35:03.106Z"
      },
      {
        "duration": 5,
        "start_time": "2023-05-21T07:35:03.516Z"
      },
      {
        "duration": 882,
        "start_time": "2023-05-21T07:36:10.610Z"
      },
      {
        "duration": 842,
        "start_time": "2023-05-21T07:36:26.311Z"
      },
      {
        "duration": 993,
        "start_time": "2023-05-21T07:36:41.815Z"
      },
      {
        "duration": 804,
        "start_time": "2023-05-21T07:36:48.861Z"
      },
      {
        "duration": 950,
        "start_time": "2023-05-21T07:39:24.087Z"
      },
      {
        "duration": 842,
        "start_time": "2023-05-21T07:39:37.315Z"
      },
      {
        "duration": 917,
        "start_time": "2023-05-21T07:40:59.188Z"
      },
      {
        "duration": 871,
        "start_time": "2023-05-21T07:41:53.986Z"
      },
      {
        "duration": 915,
        "start_time": "2023-05-21T07:42:09.670Z"
      },
      {
        "duration": 801,
        "start_time": "2023-05-21T07:42:42.358Z"
      },
      {
        "duration": 940,
        "start_time": "2023-05-21T07:42:48.358Z"
      },
      {
        "duration": 909,
        "start_time": "2023-05-21T07:42:53.393Z"
      },
      {
        "duration": 891,
        "start_time": "2023-05-21T07:43:56.718Z"
      },
      {
        "duration": 873,
        "start_time": "2023-05-21T07:45:58.189Z"
      },
      {
        "duration": 53,
        "start_time": "2023-05-21T07:52:44.612Z"
      },
      {
        "duration": 1218,
        "start_time": "2023-05-21T07:52:48.574Z"
      },
      {
        "duration": 5,
        "start_time": "2023-05-21T07:53:54.982Z"
      },
      {
        "duration": 13,
        "start_time": "2023-05-21T07:54:07.792Z"
      },
      {
        "duration": 5,
        "start_time": "2023-05-21T07:54:18.746Z"
      },
      {
        "duration": 5,
        "start_time": "2023-05-21T07:54:24.264Z"
      },
      {
        "duration": 6,
        "start_time": "2023-05-21T07:54:26.276Z"
      },
      {
        "duration": 5,
        "start_time": "2023-05-21T07:54:30.346Z"
      },
      {
        "duration": 6,
        "start_time": "2023-05-21T07:54:36.518Z"
      },
      {
        "duration": 6,
        "start_time": "2023-05-21T07:54:41.177Z"
      },
      {
        "duration": 5,
        "start_time": "2023-05-21T07:54:43.593Z"
      },
      {
        "duration": 4,
        "start_time": "2023-05-21T07:55:04.238Z"
      },
      {
        "duration": 898,
        "start_time": "2023-05-21T07:55:12.269Z"
      },
      {
        "duration": 1055,
        "start_time": "2023-05-21T07:55:33.511Z"
      },
      {
        "duration": 846,
        "start_time": "2023-05-21T07:55:49.858Z"
      },
      {
        "duration": 1141,
        "start_time": "2023-05-21T07:56:34.154Z"
      },
      {
        "duration": 50,
        "start_time": "2023-05-21T07:56:46.693Z"
      },
      {
        "duration": 4,
        "start_time": "2023-05-21T07:56:49.462Z"
      },
      {
        "duration": 4,
        "start_time": "2023-05-21T07:56:52.258Z"
      },
      {
        "duration": 10,
        "start_time": "2023-05-21T07:56:54.461Z"
      },
      {
        "duration": 13,
        "start_time": "2023-05-21T07:56:56.372Z"
      },
      {
        "duration": 4,
        "start_time": "2023-05-21T07:57:02.007Z"
      },
      {
        "duration": 959,
        "start_time": "2023-05-21T07:57:07.315Z"
      },
      {
        "duration": 1198,
        "start_time": "2023-05-21T07:57:15.994Z"
      },
      {
        "duration": 979,
        "start_time": "2023-05-21T07:57:31.272Z"
      },
      {
        "duration": 4,
        "start_time": "2023-05-21T07:57:53.411Z"
      },
      {
        "duration": 5,
        "start_time": "2023-05-21T08:00:04.381Z"
      },
      {
        "duration": 4,
        "start_time": "2023-05-21T08:00:08.416Z"
      },
      {
        "duration": 4,
        "start_time": "2023-05-21T08:00:11.746Z"
      },
      {
        "duration": 981,
        "start_time": "2023-05-21T08:00:21.554Z"
      },
      {
        "duration": 4,
        "start_time": "2023-05-21T08:00:33.481Z"
      },
      {
        "duration": 3,
        "start_time": "2023-05-21T08:00:51.450Z"
      },
      {
        "duration": 4,
        "start_time": "2023-05-21T08:01:36.101Z"
      },
      {
        "duration": 10,
        "start_time": "2023-05-21T08:01:40.798Z"
      },
      {
        "duration": 14,
        "start_time": "2023-05-21T08:01:45.955Z"
      },
      {
        "duration": 195,
        "start_time": "2023-05-21T08:02:02.198Z"
      },
      {
        "duration": 181,
        "start_time": "2023-05-21T08:02:11.517Z"
      },
      {
        "duration": 5,
        "start_time": "2023-05-21T08:02:15.576Z"
      },
      {
        "duration": 4,
        "start_time": "2023-05-21T08:02:22.262Z"
      },
      {
        "duration": 4,
        "start_time": "2023-05-21T08:02:25.862Z"
      },
      {
        "duration": 4,
        "start_time": "2023-05-21T08:02:35.175Z"
      },
      {
        "duration": 4,
        "start_time": "2023-05-21T08:02:40.324Z"
      },
      {
        "duration": 4,
        "start_time": "2023-05-21T08:02:48.485Z"
      },
      {
        "duration": 4,
        "start_time": "2023-05-21T08:02:54.418Z"
      },
      {
        "duration": 4,
        "start_time": "2023-05-21T08:02:59.263Z"
      },
      {
        "duration": 4,
        "start_time": "2023-05-21T08:03:02.962Z"
      },
      {
        "duration": 12,
        "start_time": "2023-05-21T08:03:30.353Z"
      },
      {
        "duration": 10,
        "start_time": "2023-05-21T08:03:34.891Z"
      },
      {
        "duration": 5,
        "start_time": "2023-05-21T08:16:44.779Z"
      },
      {
        "duration": 4,
        "start_time": "2023-05-21T08:16:54.481Z"
      },
      {
        "duration": 5,
        "start_time": "2023-05-21T08:16:59.007Z"
      },
      {
        "duration": 5,
        "start_time": "2023-05-21T08:17:03.666Z"
      },
      {
        "duration": 5,
        "start_time": "2023-05-21T08:17:07.623Z"
      },
      {
        "duration": 895,
        "start_time": "2023-05-21T08:17:15.886Z"
      },
      {
        "duration": 1002,
        "start_time": "2023-05-21T08:17:29.621Z"
      },
      {
        "duration": 914,
        "start_time": "2023-05-21T08:17:42.017Z"
      },
      {
        "duration": 942,
        "start_time": "2023-05-21T08:17:50.474Z"
      },
      {
        "duration": 874,
        "start_time": "2023-05-21T08:17:58.354Z"
      },
      {
        "duration": 1082,
        "start_time": "2023-05-21T08:18:06.815Z"
      },
      {
        "duration": 859,
        "start_time": "2023-05-21T08:18:21.089Z"
      },
      {
        "duration": 1083,
        "start_time": "2023-05-21T08:18:58.174Z"
      },
      {
        "duration": 1029,
        "start_time": "2023-05-21T08:19:19.590Z"
      },
      {
        "duration": 1071,
        "start_time": "2023-05-21T08:19:29.680Z"
      },
      {
        "duration": 991,
        "start_time": "2023-05-21T08:19:41.898Z"
      },
      {
        "duration": 814,
        "start_time": "2023-05-21T08:22:08.098Z"
      },
      {
        "duration": 849,
        "start_time": "2023-05-21T08:22:19.666Z"
      },
      {
        "duration": 780,
        "start_time": "2023-05-21T08:24:53.624Z"
      },
      {
        "duration": 1102,
        "start_time": "2023-05-21T08:25:26.070Z"
      },
      {
        "duration": 1015,
        "start_time": "2023-05-21T08:25:43.391Z"
      },
      {
        "duration": 977,
        "start_time": "2023-05-21T08:25:54.616Z"
      },
      {
        "duration": 876,
        "start_time": "2023-05-21T08:26:24.966Z"
      },
      {
        "duration": 971,
        "start_time": "2023-05-21T08:26:30.323Z"
      },
      {
        "duration": 953,
        "start_time": "2023-05-21T08:26:35.779Z"
      },
      {
        "duration": 1019,
        "start_time": "2023-05-21T08:27:01.409Z"
      },
      {
        "duration": 989,
        "start_time": "2023-05-21T08:27:18.169Z"
      },
      {
        "duration": 1137,
        "start_time": "2023-05-21T08:28:27.276Z"
      },
      {
        "duration": 853,
        "start_time": "2023-05-21T08:28:34.494Z"
      },
      {
        "duration": 985,
        "start_time": "2023-05-21T08:28:41.913Z"
      },
      {
        "duration": 843,
        "start_time": "2023-05-21T08:28:51.074Z"
      },
      {
        "duration": 911,
        "start_time": "2023-05-21T08:28:56.316Z"
      },
      {
        "duration": 896,
        "start_time": "2023-05-21T08:29:27.425Z"
      },
      {
        "duration": 912,
        "start_time": "2023-05-21T08:29:32.578Z"
      },
      {
        "duration": 857,
        "start_time": "2023-05-21T08:29:59.358Z"
      },
      {
        "duration": 950,
        "start_time": "2023-05-21T08:30:12.121Z"
      },
      {
        "duration": 840,
        "start_time": "2023-05-21T08:30:18.900Z"
      },
      {
        "duration": 892,
        "start_time": "2023-05-21T08:30:28.651Z"
      },
      {
        "duration": 835,
        "start_time": "2023-05-21T08:30:41.078Z"
      },
      {
        "duration": 956,
        "start_time": "2023-05-21T08:30:53.820Z"
      },
      {
        "duration": 838,
        "start_time": "2023-05-21T08:31:36.511Z"
      },
      {
        "duration": 942,
        "start_time": "2023-05-21T08:31:51.653Z"
      },
      {
        "duration": 767,
        "start_time": "2023-05-21T08:31:56.766Z"
      },
      {
        "duration": 951,
        "start_time": "2023-05-21T08:43:19.462Z"
      },
      {
        "duration": 3,
        "start_time": "2023-05-21T08:45:14.297Z"
      },
      {
        "duration": 6,
        "start_time": "2023-05-21T08:45:23.266Z"
      },
      {
        "duration": 4,
        "start_time": "2023-05-21T08:45:25.566Z"
      },
      {
        "duration": 7,
        "start_time": "2023-05-21T08:45:25.694Z"
      },
      {
        "duration": 41,
        "start_time": "2023-05-21T08:45:38.207Z"
      },
      {
        "duration": 9,
        "start_time": "2023-05-21T08:45:50.571Z"
      },
      {
        "duration": 17,
        "start_time": "2023-05-21T08:45:57.962Z"
      },
      {
        "duration": 12,
        "start_time": "2023-05-21T08:46:00.874Z"
      },
      {
        "duration": 12,
        "start_time": "2023-05-21T08:46:04.190Z"
      },
      {
        "duration": 11,
        "start_time": "2023-05-21T08:46:59.783Z"
      },
      {
        "duration": 3,
        "start_time": "2023-05-21T08:47:20.291Z"
      },
      {
        "duration": 11,
        "start_time": "2023-05-21T08:47:23.984Z"
      },
      {
        "duration": 1559,
        "start_time": "2023-05-21T08:49:09.886Z"
      },
      {
        "duration": 4,
        "start_time": "2023-05-21T08:49:11.447Z"
      },
      {
        "duration": 5,
        "start_time": "2023-05-21T08:49:11.452Z"
      },
      {
        "duration": 52,
        "start_time": "2023-05-21T08:49:11.482Z"
      },
      {
        "duration": 10,
        "start_time": "2023-05-21T08:49:21.519Z"
      },
      {
        "duration": 9,
        "start_time": "2023-05-21T08:49:22.362Z"
      },
      {
        "duration": 13,
        "start_time": "2023-05-21T08:49:29.742Z"
      },
      {
        "duration": 4,
        "start_time": "2023-05-21T08:49:35.729Z"
      },
      {
        "duration": 4,
        "start_time": "2023-05-21T08:49:37.058Z"
      },
      {
        "duration": 865,
        "start_time": "2023-05-21T08:49:42.370Z"
      },
      {
        "duration": 3,
        "start_time": "2023-05-21T08:49:46.774Z"
      },
      {
        "duration": 4,
        "start_time": "2023-05-21T08:50:24.919Z"
      },
      {
        "duration": 2127,
        "start_time": "2023-05-21T08:52:14.590Z"
      },
      {
        "duration": 1427,
        "start_time": "2023-05-21T08:52:16.719Z"
      },
      {
        "duration": 2,
        "start_time": "2023-05-21T08:52:18.148Z"
      },
      {
        "duration": 5,
        "start_time": "2023-05-21T08:52:18.152Z"
      },
      {
        "duration": 48,
        "start_time": "2023-05-21T08:52:18.159Z"
      },
      {
        "duration": 9,
        "start_time": "2023-05-21T08:52:18.209Z"
      },
      {
        "duration": 9,
        "start_time": "2023-05-21T08:52:18.220Z"
      },
      {
        "duration": 15,
        "start_time": "2023-05-21T08:52:18.230Z"
      },
      {
        "duration": 3,
        "start_time": "2023-05-21T08:52:18.246Z"
      },
      {
        "duration": 5,
        "start_time": "2023-05-21T08:52:18.251Z"
      },
      {
        "duration": 830,
        "start_time": "2023-05-21T08:52:18.257Z"
      },
      {
        "duration": 3,
        "start_time": "2023-05-21T08:52:19.089Z"
      },
      {
        "duration": 4,
        "start_time": "2023-05-21T08:52:19.094Z"
      },
      {
        "duration": 5,
        "start_time": "2023-05-21T08:52:19.099Z"
      },
      {
        "duration": 92710,
        "start_time": "2023-05-21T08:52:56.066Z"
      },
      {
        "duration": 206,
        "start_time": "2023-05-21T08:54:28.778Z"
      },
      {
        "duration": 35127,
        "start_time": "2023-05-21T08:55:25.686Z"
      },
      {
        "duration": 42189,
        "start_time": "2023-05-21T08:56:30.887Z"
      },
      {
        "duration": 37191,
        "start_time": "2023-05-21T08:57:13.078Z"
      },
      {
        "duration": 0,
        "start_time": "2023-05-21T08:57:50.271Z"
      },
      {
        "duration": 2200,
        "start_time": "2023-05-21T08:58:10.767Z"
      },
      {
        "duration": 1553,
        "start_time": "2023-05-21T08:58:12.969Z"
      },
      {
        "duration": 2,
        "start_time": "2023-05-21T08:58:14.524Z"
      },
      {
        "duration": 6,
        "start_time": "2023-05-21T08:58:14.528Z"
      },
      {
        "duration": 52,
        "start_time": "2023-05-21T08:58:14.536Z"
      },
      {
        "duration": 9,
        "start_time": "2023-05-21T08:58:14.590Z"
      },
      {
        "duration": 9,
        "start_time": "2023-05-21T08:58:14.601Z"
      },
      {
        "duration": 10,
        "start_time": "2023-05-21T08:58:14.611Z"
      },
      {
        "duration": 7,
        "start_time": "2023-05-21T08:58:14.622Z"
      },
      {
        "duration": 4,
        "start_time": "2023-05-21T08:58:14.631Z"
      },
      {
        "duration": 884,
        "start_time": "2023-05-21T08:58:14.636Z"
      },
      {
        "duration": 3,
        "start_time": "2023-05-21T08:58:15.522Z"
      },
      {
        "duration": 4,
        "start_time": "2023-05-21T08:58:15.526Z"
      },
      {
        "duration": 6,
        "start_time": "2023-05-21T08:58:15.532Z"
      },
      {
        "duration": 12279,
        "start_time": "2023-05-21T08:58:15.539Z"
      },
      {
        "duration": 0,
        "start_time": "2023-05-21T08:58:27.820Z"
      },
      {
        "duration": 0,
        "start_time": "2023-05-21T08:58:27.822Z"
      },
      {
        "duration": 2465,
        "start_time": "2023-05-21T08:58:30.001Z"
      },
      {
        "duration": 1526,
        "start_time": "2023-05-21T08:58:40.394Z"
      },
      {
        "duration": 2351,
        "start_time": "2023-05-21T08:59:47.874Z"
      },
      {
        "duration": 1535,
        "start_time": "2023-05-21T08:59:50.227Z"
      },
      {
        "duration": 3,
        "start_time": "2023-05-21T08:59:51.763Z"
      },
      {
        "duration": 10,
        "start_time": "2023-05-21T08:59:51.767Z"
      },
      {
        "duration": 63,
        "start_time": "2023-05-21T08:59:51.779Z"
      },
      {
        "duration": 9,
        "start_time": "2023-05-21T08:59:51.844Z"
      },
      {
        "duration": 9,
        "start_time": "2023-05-21T08:59:51.855Z"
      },
      {
        "duration": 20,
        "start_time": "2023-05-21T08:59:51.865Z"
      },
      {
        "duration": 9,
        "start_time": "2023-05-21T08:59:51.887Z"
      },
      {
        "duration": 5,
        "start_time": "2023-05-21T08:59:51.899Z"
      },
      {
        "duration": 909,
        "start_time": "2023-05-21T08:59:51.906Z"
      },
      {
        "duration": 3,
        "start_time": "2023-05-21T08:59:52.817Z"
      },
      {
        "duration": 15,
        "start_time": "2023-05-21T08:59:52.821Z"
      },
      {
        "duration": 17,
        "start_time": "2023-05-21T08:59:52.838Z"
      },
      {
        "duration": 3,
        "start_time": "2023-05-21T09:00:58.824Z"
      },
      {
        "duration": 4,
        "start_time": "2023-05-21T09:01:09.989Z"
      },
      {
        "duration": 6,
        "start_time": "2023-05-21T09:01:12.295Z"
      },
      {
        "duration": 5,
        "start_time": "2023-05-21T09:01:20.666Z"
      },
      {
        "duration": 8,
        "start_time": "2023-05-21T09:01:21.087Z"
      },
      {
        "duration": 4,
        "start_time": "2023-05-21T09:01:39.265Z"
      },
      {
        "duration": 6,
        "start_time": "2023-05-21T09:01:56.329Z"
      },
      {
        "duration": 137,
        "start_time": "2023-05-21T09:02:10.470Z"
      },
      {
        "duration": 5,
        "start_time": "2023-05-21T09:02:30.599Z"
      },
      {
        "duration": 8,
        "start_time": "2023-05-21T09:02:31.981Z"
      },
      {
        "duration": 4,
        "start_time": "2023-05-21T09:02:35.420Z"
      },
      {
        "duration": 3,
        "start_time": "2023-05-21T09:02:40.974Z"
      },
      {
        "duration": 7,
        "start_time": "2023-05-21T09:02:41.210Z"
      },
      {
        "duration": 4,
        "start_time": "2023-05-21T09:02:55.220Z"
      },
      {
        "duration": 5,
        "start_time": "2023-05-21T09:03:01.366Z"
      },
      {
        "duration": 4,
        "start_time": "2023-05-21T09:03:18.523Z"
      },
      {
        "duration": 6,
        "start_time": "2023-05-21T09:03:19.178Z"
      },
      {
        "duration": 3,
        "start_time": "2023-05-21T09:03:23.366Z"
      },
      {
        "duration": 16,
        "start_time": "2023-05-21T09:03:27.683Z"
      },
      {
        "duration": 17,
        "start_time": "2023-05-21T09:03:34.478Z"
      },
      {
        "duration": 12,
        "start_time": "2023-05-21T09:03:42.381Z"
      },
      {
        "duration": 3,
        "start_time": "2023-05-21T09:03:47.022Z"
      },
      {
        "duration": 7,
        "start_time": "2023-05-21T09:03:48.596Z"
      },
      {
        "duration": 3,
        "start_time": "2023-05-21T09:03:52.177Z"
      },
      {
        "duration": 6,
        "start_time": "2023-05-21T09:03:52.829Z"
      },
      {
        "duration": 4,
        "start_time": "2023-05-21T09:03:59.362Z"
      },
      {
        "duration": 10,
        "start_time": "2023-05-21T09:04:09.274Z"
      },
      {
        "duration": 714,
        "start_time": "2023-05-21T09:04:17.454Z"
      },
      {
        "duration": 5,
        "start_time": "2023-05-21T09:04:21.714Z"
      },
      {
        "duration": 6,
        "start_time": "2023-05-21T09:04:50.722Z"
      },
      {
        "duration": 4,
        "start_time": "2023-05-21T09:04:58.367Z"
      },
      {
        "duration": 5,
        "start_time": "2023-05-21T09:05:04.812Z"
      },
      {
        "duration": 4,
        "start_time": "2023-05-21T09:05:09.662Z"
      },
      {
        "duration": 4,
        "start_time": "2023-05-21T09:05:12.105Z"
      },
      {
        "duration": 3,
        "start_time": "2023-05-21T09:05:21.206Z"
      },
      {
        "duration": 693,
        "start_time": "2023-05-21T09:05:36.894Z"
      },
      {
        "duration": 749,
        "start_time": "2023-05-21T09:05:55.887Z"
      },
      {
        "duration": 7,
        "start_time": "2023-05-21T09:05:59.896Z"
      },
      {
        "duration": 677,
        "start_time": "2023-05-21T09:06:06.666Z"
      },
      {
        "duration": 4,
        "start_time": "2023-05-21T09:06:10.572Z"
      },
      {
        "duration": 5,
        "start_time": "2023-05-21T09:06:22.985Z"
      },
      {
        "duration": 5,
        "start_time": "2023-05-21T09:06:27.511Z"
      },
      {
        "duration": 9,
        "start_time": "2023-05-21T09:06:50.858Z"
      },
      {
        "duration": 12,
        "start_time": "2023-05-21T09:07:03.506Z"
      },
      {
        "duration": 14,
        "start_time": "2023-05-21T09:07:06.695Z"
      },
      {
        "duration": 12,
        "start_time": "2023-05-21T09:07:16.558Z"
      },
      {
        "duration": 12,
        "start_time": "2023-05-21T09:07:35.512Z"
      },
      {
        "duration": 14,
        "start_time": "2023-05-21T09:07:42.867Z"
      },
      {
        "duration": 4,
        "start_time": "2023-05-21T09:08:12.517Z"
      },
      {
        "duration": 6,
        "start_time": "2023-05-21T09:08:19.674Z"
      },
      {
        "duration": 5,
        "start_time": "2023-05-21T09:10:21.105Z"
      },
      {
        "duration": 32,
        "start_time": "2023-05-21T09:11:10.668Z"
      },
      {
        "duration": 11,
        "start_time": "2023-05-21T09:11:38.579Z"
      },
      {
        "duration": 87,
        "start_time": "2023-05-21T09:11:45.360Z"
      },
      {
        "duration": 38,
        "start_time": "2023-05-21T09:11:50.274Z"
      },
      {
        "duration": 6,
        "start_time": "2023-05-21T09:11:50.498Z"
      },
      {
        "duration": 20,
        "start_time": "2023-05-21T09:12:02.250Z"
      },
      {
        "duration": 8,
        "start_time": "2023-05-21T09:12:04.181Z"
      },
      {
        "duration": 45,
        "start_time": "2023-05-21T09:12:05.508Z"
      },
      {
        "duration": 635,
        "start_time": "2023-05-21T09:13:02.080Z"
      },
      {
        "duration": 31,
        "start_time": "2023-05-21T09:13:04.190Z"
      },
      {
        "duration": 29,
        "start_time": "2023-05-21T09:13:05.736Z"
      },
      {
        "duration": 80,
        "start_time": "2023-05-21T09:13:06.923Z"
      },
      {
        "duration": 34,
        "start_time": "2023-05-21T09:13:07.093Z"
      },
      {
        "duration": 605,
        "start_time": "2023-05-21T09:13:08.857Z"
      },
      {
        "duration": 38,
        "start_time": "2023-05-21T09:13:16.763Z"
      },
      {
        "duration": 24,
        "start_time": "2023-05-21T09:13:19.440Z"
      },
      {
        "duration": 32,
        "start_time": "2023-05-21T09:13:21.186Z"
      },
      {
        "duration": 10,
        "start_time": "2023-05-21T09:13:33.506Z"
      },
      {
        "duration": 4,
        "start_time": "2023-05-21T09:13:42.482Z"
      },
      {
        "duration": 5,
        "start_time": "2023-05-21T09:16:25.662Z"
      },
      {
        "duration": 59,
        "start_time": "2023-05-21T09:16:26.205Z"
      },
      {
        "duration": 3,
        "start_time": "2023-05-21T09:16:43.460Z"
      },
      {
        "duration": 5,
        "start_time": "2023-05-21T09:17:11.263Z"
      },
      {
        "duration": 42617,
        "start_time": "2023-05-21T09:17:13.260Z"
      },
      {
        "duration": 16,
        "start_time": "2023-05-21T09:18:08.897Z"
      },
      {
        "duration": 7,
        "start_time": "2023-05-21T09:18:50.094Z"
      },
      {
        "duration": 5,
        "start_time": "2023-05-21T09:18:56.845Z"
      },
      {
        "duration": 5,
        "start_time": "2023-05-21T09:18:59.412Z"
      },
      {
        "duration": 3,
        "start_time": "2023-05-21T09:19:07.487Z"
      },
      {
        "duration": 3,
        "start_time": "2023-05-21T09:19:09.763Z"
      },
      {
        "duration": 4,
        "start_time": "2023-05-21T09:19:12.559Z"
      },
      {
        "duration": 3,
        "start_time": "2023-05-21T09:19:15.424Z"
      },
      {
        "duration": 4,
        "start_time": "2023-05-21T09:19:21.359Z"
      },
      {
        "duration": 47,
        "start_time": "2023-05-21T09:19:27.986Z"
      },
      {
        "duration": 4,
        "start_time": "2023-05-21T09:19:30.497Z"
      },
      {
        "duration": 5,
        "start_time": "2023-05-21T09:19:57.713Z"
      },
      {
        "duration": 6,
        "start_time": "2023-05-21T09:20:03.985Z"
      },
      {
        "duration": 4,
        "start_time": "2023-05-21T09:20:06.157Z"
      },
      {
        "duration": 3,
        "start_time": "2023-05-21T09:20:08.871Z"
      },
      {
        "duration": 2174,
        "start_time": "2023-05-21T09:21:27.364Z"
      },
      {
        "duration": 1439,
        "start_time": "2023-05-21T09:21:29.540Z"
      },
      {
        "duration": 2,
        "start_time": "2023-05-21T09:21:30.981Z"
      },
      {
        "duration": 39,
        "start_time": "2023-05-21T09:21:30.985Z"
      },
      {
        "duration": 81,
        "start_time": "2023-05-21T09:21:31.026Z"
      },
      {
        "duration": 10,
        "start_time": "2023-05-21T09:21:31.108Z"
      },
      {
        "duration": 40,
        "start_time": "2023-05-21T09:21:31.119Z"
      },
      {
        "duration": 43,
        "start_time": "2023-05-21T09:21:31.161Z"
      },
      {
        "duration": 15,
        "start_time": "2023-05-21T09:21:31.205Z"
      },
      {
        "duration": 48,
        "start_time": "2023-05-21T09:21:31.221Z"
      },
      {
        "duration": 905,
        "start_time": "2023-05-21T09:21:31.271Z"
      },
      {
        "duration": 40,
        "start_time": "2023-05-21T09:21:32.178Z"
      },
      {
        "duration": 3,
        "start_time": "2023-05-21T09:21:32.219Z"
      },
      {
        "duration": 5,
        "start_time": "2023-05-21T09:21:32.224Z"
      },
      {
        "duration": 54843,
        "start_time": "2023-05-21T09:21:33.927Z"
      },
      {
        "duration": 0,
        "start_time": "2023-05-21T09:22:28.773Z"
      },
      {
        "duration": 6,
        "start_time": "2023-05-21T09:23:47.163Z"
      },
      {
        "duration": 2187,
        "start_time": "2023-05-21T09:24:03.863Z"
      },
      {
        "duration": 1528,
        "start_time": "2023-05-21T09:24:06.052Z"
      },
      {
        "duration": 2,
        "start_time": "2023-05-21T09:24:07.582Z"
      },
      {
        "duration": 5,
        "start_time": "2023-05-21T09:24:07.586Z"
      },
      {
        "duration": 49,
        "start_time": "2023-05-21T09:24:07.592Z"
      },
      {
        "duration": 9,
        "start_time": "2023-05-21T09:24:07.643Z"
      },
      {
        "duration": 9,
        "start_time": "2023-05-21T09:24:07.653Z"
      },
      {
        "duration": 11,
        "start_time": "2023-05-21T09:24:07.663Z"
      },
      {
        "duration": 4,
        "start_time": "2023-05-21T09:24:07.675Z"
      },
      {
        "duration": 9,
        "start_time": "2023-05-21T09:24:07.681Z"
      },
      {
        "duration": 873,
        "start_time": "2023-05-21T09:24:07.691Z"
      },
      {
        "duration": 23,
        "start_time": "2023-05-21T09:24:08.565Z"
      },
      {
        "duration": 4,
        "start_time": "2023-05-21T09:24:08.589Z"
      },
      {
        "duration": 5,
        "start_time": "2023-05-21T09:25:03.093Z"
      },
      {
        "duration": 86621,
        "start_time": "2023-05-21T09:25:03.562Z"
      },
      {
        "duration": 59892,
        "start_time": "2023-05-21T09:26:30.186Z"
      },
      {
        "duration": 91936,
        "start_time": "2023-05-21T09:27:32.541Z"
      },
      {
        "duration": 49699,
        "start_time": "2023-05-21T09:29:04.480Z"
      },
      {
        "duration": 66895,
        "start_time": "2023-05-21T09:29:54.181Z"
      },
      {
        "duration": 61197,
        "start_time": "2023-05-21T09:31:01.079Z"
      },
      {
        "duration": 31802,
        "start_time": "2023-05-21T09:32:02.278Z"
      },
      {
        "duration": 1551861,
        "start_time": "2023-05-21T09:32:34.082Z"
      },
      {
        "duration": 1270240,
        "start_time": "2023-05-21T09:58:25.945Z"
      },
      {
        "duration": 55,
        "start_time": "2023-05-21T10:19:36.189Z"
      },
      {
        "duration": 0,
        "start_time": "2023-05-21T10:19:36.246Z"
      },
      {
        "duration": 0,
        "start_time": "2023-05-21T10:19:36.247Z"
      },
      {
        "duration": 0,
        "start_time": "2023-05-21T10:19:36.248Z"
      },
      {
        "duration": 345909,
        "start_time": "2023-05-21T10:21:25.396Z"
      },
      {
        "duration": 718047,
        "start_time": "2023-05-21T10:27:11.306Z"
      },
      {
        "duration": 83,
        "start_time": "2023-05-21T10:39:09.354Z"
      },
      {
        "duration": 52,
        "start_time": "2023-05-21T10:39:09.439Z"
      },
      {
        "duration": 5,
        "start_time": "2023-05-21T10:42:32.219Z"
      },
      {
        "duration": 15,
        "start_time": "2023-05-21T10:42:36.974Z"
      },
      {
        "duration": 6,
        "start_time": "2023-05-21T10:43:11.505Z"
      },
      {
        "duration": 127,
        "start_time": "2023-05-21T10:44:02.296Z"
      },
      {
        "duration": 393,
        "start_time": "2023-05-21T10:46:10.847Z"
      },
      {
        "duration": 11,
        "start_time": "2023-05-21T10:46:20.658Z"
      },
      {
        "duration": 4,
        "start_time": "2023-05-21T10:46:29.293Z"
      },
      {
        "duration": 10,
        "start_time": "2023-05-21T10:48:24.278Z"
      },
      {
        "duration": 2,
        "start_time": "2023-05-21T10:48:32.585Z"
      },
      {
        "duration": 7,
        "start_time": "2023-05-21T10:48:33.084Z"
      },
      {
        "duration": 6,
        "start_time": "2023-05-21T10:48:36.810Z"
      },
      {
        "duration": 4,
        "start_time": "2023-05-21T10:48:49.770Z"
      },
      {
        "duration": 5,
        "start_time": "2023-05-21T10:49:00.796Z"
      },
      {
        "duration": 4,
        "start_time": "2023-05-21T10:53:56.462Z"
      },
      {
        "duration": 4,
        "start_time": "2023-05-21T10:54:19.586Z"
      },
      {
        "duration": 723,
        "start_time": "2023-05-21T10:54:52.852Z"
      },
      {
        "duration": 770,
        "start_time": "2023-05-21T10:55:04.113Z"
      },
      {
        "duration": 494,
        "start_time": "2023-05-21T10:55:10.992Z"
      },
      {
        "duration": 7,
        "start_time": "2023-05-21T10:55:42.158Z"
      },
      {
        "duration": 98,
        "start_time": "2023-05-21T10:55:48.867Z"
      },
      {
        "duration": 4,
        "start_time": "2023-05-21T10:55:54.554Z"
      },
      {
        "duration": 5,
        "start_time": "2023-05-21T10:59:18.554Z"
      },
      {
        "duration": 3,
        "start_time": "2023-05-21T11:00:05.846Z"
      },
      {
        "duration": 922,
        "start_time": "2023-05-21T11:00:27.254Z"
      },
      {
        "duration": 1502,
        "start_time": "2023-05-21T11:00:28.179Z"
      },
      {
        "duration": 17,
        "start_time": "2023-05-21T11:00:50.692Z"
      },
      {
        "duration": 733,
        "start_time": "2023-05-21T11:01:06.446Z"
      },
      {
        "duration": 1010,
        "start_time": "2023-05-21T11:01:41.367Z"
      },
      {
        "duration": 367,
        "start_time": "2023-05-21T11:06:13.510Z"
      },
      {
        "duration": 538,
        "start_time": "2023-05-21T11:06:26.246Z"
      },
      {
        "duration": 10,
        "start_time": "2023-05-21T11:07:45.768Z"
      },
      {
        "duration": 9,
        "start_time": "2023-05-21T11:07:57.678Z"
      },
      {
        "duration": 10,
        "start_time": "2023-05-21T11:08:09.312Z"
      },
      {
        "duration": 9,
        "start_time": "2023-05-21T11:09:00.284Z"
      },
      {
        "duration": 8,
        "start_time": "2023-05-21T11:09:12.970Z"
      },
      {
        "duration": 9,
        "start_time": "2023-05-21T11:09:15.456Z"
      },
      {
        "duration": 4,
        "start_time": "2023-05-21T11:09:24.394Z"
      },
      {
        "duration": 57,
        "start_time": "2023-05-21T11:09:26.163Z"
      },
      {
        "duration": 84,
        "start_time": "2023-05-21T11:09:31.258Z"
      },
      {
        "duration": 2283,
        "start_time": "2023-05-21T11:09:54.404Z"
      },
      {
        "duration": 2479,
        "start_time": "2023-05-21T11:09:56.690Z"
      },
      {
        "duration": 5,
        "start_time": "2023-05-21T11:09:59.170Z"
      },
      {
        "duration": 5,
        "start_time": "2023-05-21T11:09:59.177Z"
      },
      {
        "duration": 61,
        "start_time": "2023-05-21T11:09:59.184Z"
      },
      {
        "duration": 12,
        "start_time": "2023-05-21T11:09:59.247Z"
      },
      {
        "duration": 10,
        "start_time": "2023-05-21T11:09:59.260Z"
      },
      {
        "duration": 13,
        "start_time": "2023-05-21T11:09:59.271Z"
      },
      {
        "duration": 3,
        "start_time": "2023-05-21T11:09:59.286Z"
      },
      {
        "duration": 7,
        "start_time": "2023-05-21T11:09:59.291Z"
      },
      {
        "duration": 893,
        "start_time": "2023-05-21T11:09:59.299Z"
      },
      {
        "duration": 28,
        "start_time": "2023-05-21T11:10:00.194Z"
      },
      {
        "duration": 3,
        "start_time": "2023-05-21T11:10:00.223Z"
      },
      {
        "duration": 9,
        "start_time": "2023-05-21T11:10:00.229Z"
      },
      {
        "duration": 35,
        "start_time": "2023-05-21T11:10:00.239Z"
      },
      {
        "duration": 32,
        "start_time": "2023-05-21T11:10:00.275Z"
      },
      {
        "duration": 15,
        "start_time": "2023-05-21T11:10:00.309Z"
      },
      {
        "duration": 28,
        "start_time": "2023-05-21T11:10:00.326Z"
      },
      {
        "duration": 24,
        "start_time": "2023-05-21T11:10:00.355Z"
      },
      {
        "duration": 30,
        "start_time": "2023-05-21T11:10:00.381Z"
      },
      {
        "duration": 24,
        "start_time": "2023-05-21T11:10:00.412Z"
      },
      {
        "duration": 19,
        "start_time": "2023-05-21T11:10:00.438Z"
      },
      {
        "duration": 23,
        "start_time": "2023-05-21T11:10:00.459Z"
      },
      {
        "duration": 97,
        "start_time": "2023-05-21T11:10:00.484Z"
      },
      {
        "duration": 44,
        "start_time": "2023-05-21T11:10:00.582Z"
      },
      {
        "duration": 651,
        "start_time": "2023-05-21T11:10:00.628Z"
      },
      {
        "duration": 6,
        "start_time": "2023-05-21T11:11:45.970Z"
      },
      {
        "duration": 126,
        "start_time": "2023-05-21T11:11:52.962Z"
      },
      {
        "duration": 5,
        "start_time": "2023-05-21T11:11:59.654Z"
      },
      {
        "duration": 9,
        "start_time": "2023-05-21T11:12:06.739Z"
      },
      {
        "duration": 11,
        "start_time": "2023-05-21T11:12:10.368Z"
      },
      {
        "duration": 13,
        "start_time": "2023-05-21T11:18:09.919Z"
      },
      {
        "duration": 992,
        "start_time": "2023-05-21T11:18:23.397Z"
      },
      {
        "duration": 655,
        "start_time": "2023-05-21T11:19:54.028Z"
      },
      {
        "duration": 4,
        "start_time": "2023-05-21T11:34:09.370Z"
      },
      {
        "duration": 12,
        "start_time": "2023-05-21T11:34:36.260Z"
      },
      {
        "duration": 24,
        "start_time": "2023-05-21T11:34:40.449Z"
      },
      {
        "duration": 22,
        "start_time": "2023-05-21T11:34:44.547Z"
      },
      {
        "duration": 22,
        "start_time": "2023-05-21T11:34:47.952Z"
      },
      {
        "duration": 23,
        "start_time": "2023-05-21T11:34:52.741Z"
      },
      {
        "duration": 154,
        "start_time": "2023-05-21T11:34:57.135Z"
      },
      {
        "duration": 3291,
        "start_time": "2023-05-21T11:35:01.274Z"
      },
      {
        "duration": 250,
        "start_time": "2023-05-21T11:35:07.046Z"
      },
      {
        "duration": 23,
        "start_time": "2023-05-21T11:35:16.139Z"
      },
      {
        "duration": 31,
        "start_time": "2023-05-21T11:35:17.568Z"
      },
      {
        "duration": 28,
        "start_time": "2023-05-21T11:35:28.673Z"
      },
      {
        "duration": 25,
        "start_time": "2023-05-21T11:35:34.693Z"
      },
      {
        "duration": 23,
        "start_time": "2023-05-21T11:35:37.233Z"
      },
      {
        "duration": 24,
        "start_time": "2023-05-21T11:35:40.630Z"
      },
      {
        "duration": 417,
        "start_time": "2023-05-21T11:35:44.122Z"
      },
      {
        "duration": 388,
        "start_time": "2023-05-21T11:35:49.007Z"
      },
      {
        "duration": 268,
        "start_time": "2023-05-21T11:35:54.120Z"
      },
      {
        "duration": 23,
        "start_time": "2023-05-21T11:36:00.030Z"
      },
      {
        "duration": 36,
        "start_time": "2023-05-21T11:36:54.872Z"
      },
      {
        "duration": 26,
        "start_time": "2023-05-21T11:37:00.398Z"
      },
      {
        "duration": 4,
        "start_time": "2023-05-21T11:37:53.924Z"
      },
      {
        "duration": 3,
        "start_time": "2023-05-21T11:38:01.816Z"
      },
      {
        "duration": 20,
        "start_time": "2023-05-21T11:38:07.027Z"
      },
      {
        "duration": 17,
        "start_time": "2023-05-21T11:38:08.829Z"
      },
      {
        "duration": 19,
        "start_time": "2023-05-21T11:38:10.854Z"
      },
      {
        "duration": 24,
        "start_time": "2023-05-21T11:38:24.702Z"
      },
      {
        "duration": 21,
        "start_time": "2023-05-21T11:38:31.539Z"
      },
      {
        "duration": 10,
        "start_time": "2023-05-21T11:38:35.573Z"
      },
      {
        "duration": 24,
        "start_time": "2023-05-21T11:38:38.224Z"
      },
      {
        "duration": 20,
        "start_time": "2023-05-21T11:38:44.478Z"
      },
      {
        "duration": 21,
        "start_time": "2023-05-21T11:38:52.225Z"
      },
      {
        "duration": 19,
        "start_time": "2023-05-21T11:39:07.801Z"
      },
      {
        "duration": 19,
        "start_time": "2023-05-21T11:39:11.404Z"
      },
      {
        "duration": 19,
        "start_time": "2023-05-21T11:39:17.549Z"
      },
      {
        "duration": 11,
        "start_time": "2023-05-21T11:52:26.932Z"
      },
      {
        "duration": 97,
        "start_time": "2023-05-21T11:52:31.937Z"
      },
      {
        "duration": 70,
        "start_time": "2023-05-21T11:52:47.442Z"
      },
      {
        "duration": 29,
        "start_time": "2023-05-21T11:53:34.050Z"
      },
      {
        "duration": 18,
        "start_time": "2023-05-21T11:53:48.954Z"
      },
      {
        "duration": 55,
        "start_time": "2023-05-21T11:55:46.970Z"
      },
      {
        "duration": 3,
        "start_time": "2023-05-21T12:01:11.772Z"
      },
      {
        "duration": 29,
        "start_time": "2023-05-21T12:01:19.551Z"
      },
      {
        "duration": 4,
        "start_time": "2023-05-21T12:01:27.849Z"
      },
      {
        "duration": 33,
        "start_time": "2023-05-21T12:01:28.550Z"
      },
      {
        "duration": 7,
        "start_time": "2023-05-21T12:02:26.298Z"
      },
      {
        "duration": 14,
        "start_time": "2023-05-21T12:02:29.614Z"
      },
      {
        "duration": 10,
        "start_time": "2023-05-21T12:02:32.906Z"
      },
      {
        "duration": 4,
        "start_time": "2023-05-21T12:02:35.752Z"
      },
      {
        "duration": 4,
        "start_time": "2023-05-21T12:02:41.962Z"
      },
      {
        "duration": 5,
        "start_time": "2023-05-21T12:02:53.868Z"
      },
      {
        "duration": 20,
        "start_time": "2023-05-21T12:03:09.414Z"
      },
      {
        "duration": 12,
        "start_time": "2023-05-21T12:03:14.714Z"
      },
      {
        "duration": 10,
        "start_time": "2023-05-21T12:03:41.951Z"
      },
      {
        "duration": 4,
        "start_time": "2023-05-21T12:03:51.246Z"
      },
      {
        "duration": 36,
        "start_time": "2023-05-21T12:03:51.444Z"
      },
      {
        "duration": 6,
        "start_time": "2023-05-21T12:04:09.973Z"
      },
      {
        "duration": 28,
        "start_time": "2023-05-21T12:04:10.370Z"
      },
      {
        "duration": 5,
        "start_time": "2023-05-21T12:04:26.206Z"
      },
      {
        "duration": 5,
        "start_time": "2023-05-21T12:04:31.646Z"
      },
      {
        "duration": 6,
        "start_time": "2023-05-21T12:04:37.214Z"
      },
      {
        "duration": 7,
        "start_time": "2023-05-21T12:05:07.771Z"
      },
      {
        "duration": 3,
        "start_time": "2023-05-21T12:08:13.007Z"
      },
      {
        "duration": 30,
        "start_time": "2023-05-21T12:08:22.534Z"
      },
      {
        "duration": 4,
        "start_time": "2023-05-21T12:08:46.438Z"
      },
      {
        "duration": 5,
        "start_time": "2023-05-21T12:08:52.109Z"
      },
      {
        "duration": 9,
        "start_time": "2023-05-21T12:09:06.502Z"
      },
      {
        "duration": 7,
        "start_time": "2023-05-21T12:09:10.309Z"
      },
      {
        "duration": 4,
        "start_time": "2023-05-21T12:09:14.627Z"
      },
      {
        "duration": 32,
        "start_time": "2023-05-21T12:09:36.803Z"
      },
      {
        "duration": 3,
        "start_time": "2023-05-21T12:09:42.806Z"
      },
      {
        "duration": 34,
        "start_time": "2023-05-21T12:09:42.962Z"
      },
      {
        "duration": 4,
        "start_time": "2023-05-21T12:09:45.959Z"
      },
      {
        "duration": 21,
        "start_time": "2023-05-21T12:09:46.109Z"
      },
      {
        "duration": 21,
        "start_time": "2023-05-21T12:09:49.253Z"
      },
      {
        "duration": 23,
        "start_time": "2023-05-21T12:09:52.502Z"
      },
      {
        "duration": 20,
        "start_time": "2023-05-21T12:09:56.012Z"
      },
      {
        "duration": 21,
        "start_time": "2023-05-21T12:09:59.305Z"
      },
      {
        "duration": 3,
        "start_time": "2023-05-21T12:10:16.111Z"
      },
      {
        "duration": 21,
        "start_time": "2023-05-21T12:10:16.543Z"
      },
      {
        "duration": 5,
        "start_time": "2023-05-21T12:10:54.103Z"
      },
      {
        "duration": 10,
        "start_time": "2023-05-21T12:11:13.053Z"
      },
      {
        "duration": 4,
        "start_time": "2023-05-21T12:11:23.654Z"
      },
      {
        "duration": 23,
        "start_time": "2023-05-21T12:12:26.155Z"
      },
      {
        "duration": 8,
        "start_time": "2023-05-21T12:12:44.607Z"
      },
      {
        "duration": 6,
        "start_time": "2023-05-21T12:12:59.006Z"
      },
      {
        "duration": 6,
        "start_time": "2023-05-21T12:13:04.724Z"
      },
      {
        "duration": 6,
        "start_time": "2023-05-21T12:13:07.207Z"
      },
      {
        "duration": 24,
        "start_time": "2023-05-21T12:14:40.509Z"
      },
      {
        "duration": 7,
        "start_time": "2023-05-21T12:14:41.704Z"
      },
      {
        "duration": 6,
        "start_time": "2023-05-21T12:14:59.314Z"
      },
      {
        "duration": 11,
        "start_time": "2023-05-21T12:15:05.349Z"
      },
      {
        "duration": 34,
        "start_time": "2023-05-21T12:15:17.662Z"
      },
      {
        "duration": 23,
        "start_time": "2023-05-21T12:15:58.212Z"
      },
      {
        "duration": 4,
        "start_time": "2023-05-21T12:16:06.462Z"
      },
      {
        "duration": 5,
        "start_time": "2023-05-21T12:17:16.009Z"
      },
      {
        "duration": 4,
        "start_time": "2023-05-21T12:17:30.504Z"
      },
      {
        "duration": 3,
        "start_time": "2023-05-21T12:18:12.612Z"
      },
      {
        "duration": 23,
        "start_time": "2023-05-21T12:18:21.962Z"
      },
      {
        "duration": 387,
        "start_time": "2023-05-21T12:18:27.458Z"
      },
      {
        "duration": 411,
        "start_time": "2023-05-21T12:18:37.755Z"
      },
      {
        "duration": 3,
        "start_time": "2023-05-21T12:18:52.196Z"
      },
      {
        "duration": 883,
        "start_time": "2023-05-21T12:18:53.330Z"
      },
      {
        "duration": 4,
        "start_time": "2023-05-21T12:19:05.271Z"
      },
      {
        "duration": 763,
        "start_time": "2023-05-21T12:19:05.954Z"
      },
      {
        "duration": 4,
        "start_time": "2023-05-21T12:20:04.365Z"
      },
      {
        "duration": 10,
        "start_time": "2023-05-21T12:20:10.358Z"
      },
      {
        "duration": 5,
        "start_time": "2023-05-21T12:20:21.907Z"
      },
      {
        "duration": 4,
        "start_time": "2023-05-21T12:21:22.506Z"
      },
      {
        "duration": 15,
        "start_time": "2023-05-21T12:21:24.769Z"
      },
      {
        "duration": 16,
        "start_time": "2023-05-21T12:21:32.756Z"
      },
      {
        "duration": 23,
        "start_time": "2023-05-21T12:21:37.659Z"
      },
      {
        "duration": 17,
        "start_time": "2023-05-21T12:21:41.164Z"
      },
      {
        "duration": 23,
        "start_time": "2023-05-21T12:21:45.460Z"
      },
      {
        "duration": 14,
        "start_time": "2023-05-21T12:21:48.327Z"
      },
      {
        "duration": 21,
        "start_time": "2023-05-21T12:22:01.030Z"
      },
      {
        "duration": 14,
        "start_time": "2023-05-21T12:22:13.006Z"
      },
      {
        "duration": 4,
        "start_time": "2023-05-21T12:22:55.854Z"
      },
      {
        "duration": 15,
        "start_time": "2023-05-21T12:23:00.002Z"
      },
      {
        "duration": 6,
        "start_time": "2023-05-21T12:23:04.196Z"
      },
      {
        "duration": 394,
        "start_time": "2023-05-21T12:23:04.350Z"
      },
      {
        "duration": 4,
        "start_time": "2023-05-21T12:23:06.451Z"
      },
      {
        "duration": 14,
        "start_time": "2023-05-21T12:23:06.549Z"
      },
      {
        "duration": 14,
        "start_time": "2023-05-21T12:23:10.754Z"
      },
      {
        "duration": 15,
        "start_time": "2023-05-21T12:23:12.855Z"
      },
      {
        "duration": 16,
        "start_time": "2023-05-21T12:23:20.052Z"
      },
      {
        "duration": 22,
        "start_time": "2023-05-21T12:23:53.990Z"
      },
      {
        "duration": 864,
        "start_time": "2023-05-21T12:26:48.410Z"
      },
      {
        "duration": 1117,
        "start_time": "2023-05-21T12:27:05.903Z"
      },
      {
        "duration": 972,
        "start_time": "2023-05-21T12:27:47.050Z"
      },
      {
        "duration": 1080,
        "start_time": "2023-05-21T12:30:08.165Z"
      },
      {
        "duration": 949,
        "start_time": "2023-05-21T12:30:56.266Z"
      },
      {
        "duration": 34,
        "start_time": "2023-05-21T13:03:02.802Z"
      },
      {
        "duration": 21,
        "start_time": "2023-05-21T13:03:20.913Z"
      },
      {
        "duration": 16,
        "start_time": "2023-05-21T13:03:25.352Z"
      },
      {
        "duration": 16,
        "start_time": "2023-05-21T13:03:36.906Z"
      },
      {
        "duration": 44,
        "start_time": "2023-05-21T23:53:27.963Z"
      },
      {
        "duration": 1614,
        "start_time": "2023-05-21T23:53:32.778Z"
      },
      {
        "duration": 7116,
        "start_time": "2023-05-21T23:53:36.922Z"
      },
      {
        "duration": 2252,
        "start_time": "2023-05-21T23:53:51.618Z"
      },
      {
        "duration": 1535,
        "start_time": "2023-05-21T23:53:53.872Z"
      },
      {
        "duration": 3,
        "start_time": "2023-05-21T23:53:55.408Z"
      },
      {
        "duration": 11,
        "start_time": "2023-05-21T23:53:55.413Z"
      },
      {
        "duration": 115,
        "start_time": "2023-05-21T23:53:55.425Z"
      },
      {
        "duration": 9,
        "start_time": "2023-05-21T23:53:55.542Z"
      },
      {
        "duration": 22,
        "start_time": "2023-05-21T23:53:55.553Z"
      },
      {
        "duration": 15,
        "start_time": "2023-05-21T23:53:55.577Z"
      },
      {
        "duration": 871,
        "start_time": "2023-05-21T23:53:55.593Z"
      },
      {
        "duration": 4,
        "start_time": "2023-05-21T23:53:56.467Z"
      },
      {
        "duration": 9,
        "start_time": "2023-05-21T23:53:56.473Z"
      },
      {
        "duration": 5,
        "start_time": "2023-05-21T23:53:56.483Z"
      },
      {
        "duration": 52,
        "start_time": "2023-05-21T23:53:56.495Z"
      },
      {
        "duration": 5,
        "start_time": "2023-05-21T23:53:56.549Z"
      },
      {
        "duration": 7,
        "start_time": "2023-05-21T23:53:56.555Z"
      },
      {
        "duration": 12,
        "start_time": "2023-05-21T23:53:56.564Z"
      },
      {
        "duration": 20,
        "start_time": "2023-05-21T23:53:56.578Z"
      },
      {
        "duration": 9,
        "start_time": "2023-05-21T23:53:56.599Z"
      },
      {
        "duration": 17,
        "start_time": "2023-05-21T23:53:56.610Z"
      },
      {
        "duration": 9,
        "start_time": "2023-05-21T23:53:56.629Z"
      },
      {
        "duration": 10,
        "start_time": "2023-05-21T23:53:56.639Z"
      },
      {
        "duration": 10,
        "start_time": "2023-05-21T23:53:56.650Z"
      },
      {
        "duration": 8,
        "start_time": "2023-05-21T23:53:56.661Z"
      },
      {
        "duration": 57,
        "start_time": "2023-05-21T23:53:56.670Z"
      },
      {
        "duration": 41,
        "start_time": "2023-05-21T23:53:56.728Z"
      },
      {
        "duration": 626,
        "start_time": "2023-05-21T23:53:56.770Z"
      },
      {
        "duration": 110,
        "start_time": "2023-05-21T23:53:57.398Z"
      },
      {
        "duration": 25,
        "start_time": "2023-05-21T23:53:57.511Z"
      },
      {
        "duration": 14,
        "start_time": "2023-05-21T23:53:57.538Z"
      },
      {
        "duration": 4,
        "start_time": "2023-05-22T00:06:27.380Z"
      },
      {
        "duration": 561,
        "start_time": "2023-05-22T00:06:28.137Z"
      },
      {
        "duration": 630,
        "start_time": "2023-05-22T00:06:36.567Z"
      },
      {
        "duration": 546,
        "start_time": "2023-05-22T00:06:43.652Z"
      },
      {
        "duration": 4,
        "start_time": "2023-05-22T00:08:30.389Z"
      },
      {
        "duration": 545,
        "start_time": "2023-05-22T00:08:30.553Z"
      },
      {
        "duration": 4,
        "start_time": "2023-05-22T00:09:51.995Z"
      },
      {
        "duration": 4,
        "start_time": "2023-05-22T00:09:56.424Z"
      },
      {
        "duration": 3,
        "start_time": "2023-05-22T00:10:03.969Z"
      },
      {
        "duration": 589,
        "start_time": "2023-05-22T00:10:05.605Z"
      },
      {
        "duration": 576,
        "start_time": "2023-05-22T00:10:17.221Z"
      },
      {
        "duration": 676,
        "start_time": "2023-05-22T00:10:22.921Z"
      },
      {
        "duration": 120,
        "start_time": "2023-05-22T01:02:02.677Z"
      },
      {
        "duration": 9,
        "start_time": "2023-05-22T01:02:15.709Z"
      },
      {
        "duration": 4,
        "start_time": "2023-05-22T01:02:39.711Z"
      },
      {
        "duration": 3,
        "start_time": "2023-05-22T01:03:31.501Z"
      },
      {
        "duration": 3,
        "start_time": "2023-05-22T01:03:35.275Z"
      },
      {
        "duration": 3,
        "start_time": "2023-05-22T01:03:46.729Z"
      },
      {
        "duration": 3,
        "start_time": "2023-05-22T01:03:47.059Z"
      },
      {
        "duration": 4,
        "start_time": "2023-05-22T01:03:52.942Z"
      },
      {
        "duration": 4,
        "start_time": "2023-05-22T01:03:53.079Z"
      },
      {
        "duration": 2,
        "start_time": "2023-05-22T01:03:59.644Z"
      },
      {
        "duration": 4,
        "start_time": "2023-05-22T01:04:04.490Z"
      },
      {
        "duration": 3,
        "start_time": "2023-05-22T01:04:08.588Z"
      },
      {
        "duration": 3,
        "start_time": "2023-05-22T01:04:08.715Z"
      },
      {
        "duration": 4,
        "start_time": "2023-05-22T01:04:20.500Z"
      },
      {
        "duration": 4,
        "start_time": "2023-05-22T01:04:20.976Z"
      },
      {
        "duration": 4,
        "start_time": "2023-05-22T01:05:05.499Z"
      },
      {
        "duration": 3,
        "start_time": "2023-05-22T01:05:05.634Z"
      },
      {
        "duration": 3,
        "start_time": "2023-05-22T01:05:12.034Z"
      },
      {
        "duration": 3,
        "start_time": "2023-05-22T01:05:27.899Z"
      },
      {
        "duration": 3,
        "start_time": "2023-05-22T01:05:32.737Z"
      },
      {
        "duration": 9,
        "start_time": "2023-05-22T01:05:39.002Z"
      },
      {
        "duration": 4,
        "start_time": "2023-05-22T01:05:48.996Z"
      },
      {
        "duration": 4,
        "start_time": "2023-05-22T01:05:55.742Z"
      },
      {
        "duration": 4,
        "start_time": "2023-05-22T01:05:58.176Z"
      },
      {
        "duration": 4,
        "start_time": "2023-05-22T01:06:12.583Z"
      },
      {
        "duration": 4,
        "start_time": "2023-05-22T01:06:25.254Z"
      },
      {
        "duration": 10,
        "start_time": "2023-05-22T01:06:32.265Z"
      },
      {
        "duration": 103,
        "start_time": "2023-05-22T01:06:41.297Z"
      },
      {
        "duration": 97,
        "start_time": "2023-05-22T01:06:47.620Z"
      },
      {
        "duration": 109,
        "start_time": "2023-05-22T01:07:03.588Z"
      },
      {
        "duration": 118,
        "start_time": "2023-05-22T01:07:15.598Z"
      },
      {
        "duration": 104,
        "start_time": "2023-05-22T01:07:25.698Z"
      },
      {
        "duration": 114,
        "start_time": "2023-05-22T01:07:30.957Z"
      },
      {
        "duration": 103,
        "start_time": "2023-05-22T01:07:34.228Z"
      },
      {
        "duration": 104,
        "start_time": "2023-05-22T01:07:36.665Z"
      },
      {
        "duration": 98,
        "start_time": "2023-05-22T01:07:38.722Z"
      },
      {
        "duration": 965,
        "start_time": "2023-05-22T01:08:57.284Z"
      },
      {
        "duration": 1222,
        "start_time": "2023-05-22T01:09:39.665Z"
      },
      {
        "duration": 875,
        "start_time": "2023-05-22T01:09:54.351Z"
      },
      {
        "duration": 1037,
        "start_time": "2023-05-22T03:43:56.460Z"
      },
      {
        "duration": 617,
        "start_time": "2023-05-22T03:44:12.283Z"
      },
      {
        "duration": 4,
        "start_time": "2023-05-22T03:52:17.370Z"
      },
      {
        "duration": 5,
        "start_time": "2023-05-22T03:52:27.081Z"
      },
      {
        "duration": 5,
        "start_time": "2023-05-22T03:52:31.423Z"
      },
      {
        "duration": 5,
        "start_time": "2023-05-22T03:52:48.327Z"
      },
      {
        "duration": 4,
        "start_time": "2023-05-22T03:52:52.610Z"
      },
      {
        "duration": 119,
        "start_time": "2023-05-22T06:45:05.417Z"
      },
      {
        "duration": 5,
        "start_time": "2023-05-22T10:35:33.949Z"
      },
      {
        "duration": 478,
        "start_time": "2023-05-22T10:35:41.226Z"
      },
      {
        "duration": 1126,
        "start_time": "2023-05-22T10:36:23.375Z"
      },
      {
        "duration": 613,
        "start_time": "2023-05-22T10:55:04.091Z"
      },
      {
        "duration": 1019,
        "start_time": "2023-05-22T10:55:29.180Z"
      },
      {
        "duration": 5,
        "start_time": "2023-05-22T10:55:37.782Z"
      },
      {
        "duration": 645,
        "start_time": "2023-05-22T10:55:44.449Z"
      },
      {
        "duration": 907,
        "start_time": "2023-05-22T10:55:45.097Z"
      },
      {
        "duration": 752,
        "start_time": "2023-05-22T10:56:20.050Z"
      },
      {
        "duration": 2168,
        "start_time": "2023-05-22T10:56:27.235Z"
      },
      {
        "duration": 1684,
        "start_time": "2023-05-22T10:56:29.406Z"
      },
      {
        "duration": 4,
        "start_time": "2023-05-22T10:56:31.091Z"
      },
      {
        "duration": 68,
        "start_time": "2023-05-22T10:56:31.096Z"
      },
      {
        "duration": 92,
        "start_time": "2023-05-22T10:56:31.166Z"
      },
      {
        "duration": 11,
        "start_time": "2023-05-22T10:56:31.259Z"
      },
      {
        "duration": 36,
        "start_time": "2023-05-22T10:56:31.272Z"
      },
      {
        "duration": 54,
        "start_time": "2023-05-22T10:56:31.309Z"
      },
      {
        "duration": 971,
        "start_time": "2023-05-22T10:56:31.365Z"
      },
      {
        "duration": 4,
        "start_time": "2023-05-22T10:56:32.338Z"
      },
      {
        "duration": 20,
        "start_time": "2023-05-22T10:56:32.344Z"
      },
      {
        "duration": 17,
        "start_time": "2023-05-22T10:56:32.366Z"
      },
      {
        "duration": 83,
        "start_time": "2023-05-22T10:56:32.385Z"
      },
      {
        "duration": 4,
        "start_time": "2023-05-22T10:56:32.470Z"
      },
      {
        "duration": 15,
        "start_time": "2023-05-22T10:56:32.476Z"
      },
      {
        "duration": 15,
        "start_time": "2023-05-22T10:56:32.493Z"
      },
      {
        "duration": 17,
        "start_time": "2023-05-22T10:56:32.510Z"
      },
      {
        "duration": 9,
        "start_time": "2023-05-22T10:56:32.528Z"
      },
      {
        "duration": 12,
        "start_time": "2023-05-22T10:56:32.538Z"
      },
      {
        "duration": 83,
        "start_time": "2023-05-22T10:56:32.551Z"
      },
      {
        "duration": 53,
        "start_time": "2023-05-22T10:56:32.636Z"
      },
      {
        "duration": 49,
        "start_time": "2023-05-22T10:56:32.691Z"
      },
      {
        "duration": 16,
        "start_time": "2023-05-22T10:56:32.741Z"
      },
      {
        "duration": 144,
        "start_time": "2023-05-22T10:56:32.759Z"
      },
      {
        "duration": 41,
        "start_time": "2023-05-22T10:56:32.905Z"
      },
      {
        "duration": 655,
        "start_time": "2023-05-22T10:56:32.947Z"
      },
      {
        "duration": 107,
        "start_time": "2023-05-22T10:56:33.604Z"
      },
      {
        "duration": 17,
        "start_time": "2023-05-22T10:56:33.714Z"
      },
      {
        "duration": 62,
        "start_time": "2023-05-22T10:56:33.733Z"
      },
      {
        "duration": 3,
        "start_time": "2023-05-22T11:30:53.543Z"
      },
      {
        "duration": 4,
        "start_time": "2023-05-22T11:31:07.194Z"
      },
      {
        "duration": 4,
        "start_time": "2023-05-22T11:31:13.802Z"
      },
      {
        "duration": 4,
        "start_time": "2023-05-22T11:31:28.377Z"
      },
      {
        "duration": 4,
        "start_time": "2023-05-22T11:31:32.900Z"
      },
      {
        "duration": 2436,
        "start_time": "2023-05-22T11:31:50.085Z"
      },
      {
        "duration": 1571,
        "start_time": "2023-05-22T11:31:52.524Z"
      },
      {
        "duration": 3,
        "start_time": "2023-05-22T11:31:54.096Z"
      },
      {
        "duration": 10,
        "start_time": "2023-05-22T11:31:54.100Z"
      },
      {
        "duration": 51,
        "start_time": "2023-05-22T11:31:54.113Z"
      },
      {
        "duration": 10,
        "start_time": "2023-05-22T11:31:54.165Z"
      },
      {
        "duration": 10,
        "start_time": "2023-05-22T11:31:54.177Z"
      },
      {
        "duration": 13,
        "start_time": "2023-05-22T11:31:54.188Z"
      },
      {
        "duration": 1063,
        "start_time": "2023-05-22T11:31:54.203Z"
      },
      {
        "duration": 5,
        "start_time": "2023-05-22T11:31:55.268Z"
      },
      {
        "duration": 25,
        "start_time": "2023-05-22T11:31:55.274Z"
      },
      {
        "duration": 32,
        "start_time": "2023-05-22T11:31:55.300Z"
      },
      {
        "duration": 103,
        "start_time": "2023-05-22T11:31:55.334Z"
      },
      {
        "duration": 5,
        "start_time": "2023-05-22T11:31:55.440Z"
      },
      {
        "duration": 7,
        "start_time": "2023-05-22T11:31:55.446Z"
      },
      {
        "duration": 7,
        "start_time": "2023-05-22T11:31:55.455Z"
      },
      {
        "duration": 11,
        "start_time": "2023-05-22T11:31:55.463Z"
      },
      {
        "duration": 8,
        "start_time": "2023-05-22T11:31:55.475Z"
      },
      {
        "duration": 8,
        "start_time": "2023-05-22T11:31:55.484Z"
      },
      {
        "duration": 9,
        "start_time": "2023-05-22T11:31:55.494Z"
      },
      {
        "duration": 7,
        "start_time": "2023-05-22T11:31:55.504Z"
      },
      {
        "duration": 11,
        "start_time": "2023-05-22T11:31:55.513Z"
      },
      {
        "duration": 7,
        "start_time": "2023-05-22T11:31:55.525Z"
      },
      {
        "duration": 51,
        "start_time": "2023-05-22T11:31:55.534Z"
      },
      {
        "duration": 50,
        "start_time": "2023-05-22T11:31:55.587Z"
      },
      {
        "duration": 662,
        "start_time": "2023-05-22T11:31:55.639Z"
      },
      {
        "duration": 111,
        "start_time": "2023-05-22T11:31:56.303Z"
      },
      {
        "duration": 93,
        "start_time": "2023-05-22T11:31:56.416Z"
      },
      {
        "duration": 18,
        "start_time": "2023-05-22T11:31:56.510Z"
      },
      {
        "duration": 13,
        "start_time": "2023-05-23T04:21:04.610Z"
      },
      {
        "duration": 3,
        "start_time": "2023-05-23T04:21:51.501Z"
      },
      {
        "duration": 47,
        "start_time": "2023-05-23T04:33:51.564Z"
      },
      {
        "duration": 9326,
        "start_time": "2023-05-23T04:33:57.834Z"
      },
      {
        "duration": 1825,
        "start_time": "2023-05-23T04:34:07.162Z"
      },
      {
        "duration": 4,
        "start_time": "2023-05-23T04:34:08.989Z"
      },
      {
        "duration": 27,
        "start_time": "2023-05-23T04:34:08.996Z"
      },
      {
        "duration": 160,
        "start_time": "2023-05-23T04:34:09.025Z"
      },
      {
        "duration": 11,
        "start_time": "2023-05-23T04:34:09.187Z"
      },
      {
        "duration": 19,
        "start_time": "2023-05-23T04:34:09.200Z"
      },
      {
        "duration": 23,
        "start_time": "2023-05-23T04:34:09.220Z"
      },
      {
        "duration": 1016,
        "start_time": "2023-05-23T04:34:09.245Z"
      },
      {
        "duration": 4,
        "start_time": "2023-05-23T04:34:10.264Z"
      },
      {
        "duration": 104,
        "start_time": "2023-05-23T04:34:10.269Z"
      },
      {
        "duration": 5,
        "start_time": "2023-05-23T04:34:10.375Z"
      },
      {
        "duration": 71,
        "start_time": "2023-05-23T04:34:10.381Z"
      },
      {
        "duration": 5,
        "start_time": "2023-05-23T04:34:10.453Z"
      },
      {
        "duration": 8,
        "start_time": "2023-05-23T04:34:10.460Z"
      },
      {
        "duration": 7,
        "start_time": "2023-05-23T04:34:10.470Z"
      },
      {
        "duration": 7,
        "start_time": "2023-05-23T04:34:10.478Z"
      },
      {
        "duration": 6,
        "start_time": "2023-05-23T04:34:10.487Z"
      },
      {
        "duration": 6,
        "start_time": "2023-05-23T04:34:10.495Z"
      },
      {
        "duration": 12,
        "start_time": "2023-05-23T04:34:10.503Z"
      },
      {
        "duration": 7,
        "start_time": "2023-05-23T04:34:10.517Z"
      },
      {
        "duration": 6,
        "start_time": "2023-05-23T04:34:10.526Z"
      },
      {
        "duration": 9,
        "start_time": "2023-05-23T04:34:10.534Z"
      },
      {
        "duration": 50,
        "start_time": "2023-05-23T04:34:10.545Z"
      },
      {
        "duration": 44,
        "start_time": "2023-05-23T04:34:10.596Z"
      },
      {
        "duration": 684,
        "start_time": "2023-05-23T04:34:10.642Z"
      },
      {
        "duration": 3,
        "start_time": "2023-05-23T04:34:20.691Z"
      },
      {
        "duration": 4,
        "start_time": "2023-05-23T04:38:05.530Z"
      },
      {
        "duration": 974,
        "start_time": "2023-05-23T04:38:09.054Z"
      },
      {
        "duration": 4,
        "start_time": "2023-05-23T04:38:59.481Z"
      },
      {
        "duration": 867,
        "start_time": "2023-05-23T04:39:03.735Z"
      },
      {
        "duration": 653,
        "start_time": "2023-05-23T04:40:00.374Z"
      },
      {
        "duration": 819,
        "start_time": "2023-05-23T04:40:36.110Z"
      },
      {
        "duration": 587,
        "start_time": "2023-05-23T04:40:52.338Z"
      },
      {
        "duration": 7,
        "start_time": "2023-05-23T04:41:00.246Z"
      },
      {
        "duration": 1152,
        "start_time": "2023-05-23T04:41:10.205Z"
      },
      {
        "duration": 275,
        "start_time": "2023-05-23T04:41:13.203Z"
      },
      {
        "duration": 167,
        "start_time": "2023-05-23T04:41:38.116Z"
      },
      {
        "duration": 194,
        "start_time": "2023-05-23T04:41:44.691Z"
      },
      {
        "duration": 200,
        "start_time": "2023-05-23T04:43:00.032Z"
      },
      {
        "duration": 205,
        "start_time": "2023-05-23T04:43:06.299Z"
      },
      {
        "duration": 261,
        "start_time": "2023-05-23T04:43:26.887Z"
      },
      {
        "duration": 186,
        "start_time": "2023-05-23T04:43:45.276Z"
      },
      {
        "duration": 229,
        "start_time": "2023-05-23T04:44:04.903Z"
      },
      {
        "duration": 196,
        "start_time": "2023-05-23T04:45:11.962Z"
      },
      {
        "duration": 182,
        "start_time": "2023-05-23T04:45:58.143Z"
      },
      {
        "duration": 4656,
        "start_time": "2023-05-23T04:46:09.318Z"
      },
      {
        "duration": 1380,
        "start_time": "2023-05-23T04:46:21.069Z"
      },
      {
        "duration": 1351,
        "start_time": "2023-05-23T04:46:31.884Z"
      },
      {
        "duration": 5,
        "start_time": "2023-05-23T04:46:41.747Z"
      },
      {
        "duration": 5,
        "start_time": "2023-05-23T04:46:44.081Z"
      },
      {
        "duration": 1552,
        "start_time": "2023-05-23T04:46:54.355Z"
      },
      {
        "duration": 6,
        "start_time": "2023-05-23T04:47:00.855Z"
      },
      {
        "duration": 5,
        "start_time": "2023-05-23T04:47:06.204Z"
      },
      {
        "duration": 8,
        "start_time": "2023-05-23T04:47:26.113Z"
      },
      {
        "duration": 184,
        "start_time": "2023-05-23T04:47:38.109Z"
      },
      {
        "duration": 216,
        "start_time": "2023-05-23T04:47:51.076Z"
      },
      {
        "duration": 221,
        "start_time": "2023-05-23T04:48:21.809Z"
      },
      {
        "duration": 10,
        "start_time": "2023-05-23T04:48:51.142Z"
      },
      {
        "duration": 8,
        "start_time": "2023-05-23T04:48:57.606Z"
      },
      {
        "duration": 4,
        "start_time": "2023-05-23T04:57:58.474Z"
      },
      {
        "duration": 3,
        "start_time": "2023-05-23T04:58:02.797Z"
      },
      {
        "duration": 6,
        "start_time": "2023-05-23T04:58:18.201Z"
      },
      {
        "duration": 5,
        "start_time": "2023-05-23T04:58:39.890Z"
      },
      {
        "duration": 5,
        "start_time": "2023-05-23T04:58:43.983Z"
      },
      {
        "duration": 6,
        "start_time": "2023-05-23T04:58:48.117Z"
      },
      {
        "duration": 6,
        "start_time": "2023-05-23T04:58:54.661Z"
      },
      {
        "duration": 6,
        "start_time": "2023-05-23T04:59:11.919Z"
      },
      {
        "duration": 248,
        "start_time": "2023-05-23T04:59:27.698Z"
      },
      {
        "duration": 239,
        "start_time": "2023-05-23T04:59:43.005Z"
      },
      {
        "duration": 248,
        "start_time": "2023-05-23T04:59:48.666Z"
      },
      {
        "duration": 204,
        "start_time": "2023-05-23T04:59:55.108Z"
      },
      {
        "duration": 223,
        "start_time": "2023-05-23T05:00:20.683Z"
      },
      {
        "duration": 220,
        "start_time": "2023-05-23T05:00:29.470Z"
      },
      {
        "duration": 202,
        "start_time": "2023-05-23T05:00:38.174Z"
      },
      {
        "duration": 371,
        "start_time": "2023-05-23T05:01:26.962Z"
      },
      {
        "duration": 314,
        "start_time": "2023-05-23T05:01:40.743Z"
      },
      {
        "duration": 316,
        "start_time": "2023-05-23T05:01:46.768Z"
      },
      {
        "duration": 182,
        "start_time": "2023-05-23T05:02:10.292Z"
      },
      {
        "duration": 196,
        "start_time": "2023-05-23T05:02:15.594Z"
      },
      {
        "duration": 298,
        "start_time": "2023-05-23T05:02:23.198Z"
      },
      {
        "duration": 383,
        "start_time": "2023-05-23T05:02:35.755Z"
      },
      {
        "duration": 200,
        "start_time": "2023-05-23T05:03:46.398Z"
      },
      {
        "duration": 201,
        "start_time": "2023-05-23T05:03:54.080Z"
      },
      {
        "duration": 308,
        "start_time": "2023-05-23T05:04:19.001Z"
      },
      {
        "duration": 306,
        "start_time": "2023-05-23T05:04:24.327Z"
      },
      {
        "duration": 439,
        "start_time": "2023-05-23T05:05:18.539Z"
      },
      {
        "duration": 274,
        "start_time": "2023-05-23T05:05:33.631Z"
      },
      {
        "duration": 263,
        "start_time": "2023-05-23T05:05:45.782Z"
      },
      {
        "duration": 427,
        "start_time": "2023-05-23T05:05:49.110Z"
      },
      {
        "duration": 328,
        "start_time": "2023-05-23T05:05:59.625Z"
      },
      {
        "duration": 446,
        "start_time": "2023-05-23T05:06:05.759Z"
      },
      {
        "duration": 208,
        "start_time": "2023-05-23T05:06:46.837Z"
      },
      {
        "duration": 211,
        "start_time": "2023-05-23T05:06:50.652Z"
      },
      {
        "duration": 347,
        "start_time": "2023-05-23T05:06:58.227Z"
      },
      {
        "duration": 351,
        "start_time": "2023-05-23T05:07:04.801Z"
      },
      {
        "duration": 48,
        "start_time": "2023-05-23T05:07:11.055Z"
      },
      {
        "duration": 333,
        "start_time": "2023-05-23T05:07:14.236Z"
      },
      {
        "duration": 322,
        "start_time": "2023-05-23T05:07:53.280Z"
      },
      {
        "duration": 279,
        "start_time": "2023-05-23T05:08:32.469Z"
      },
      {
        "duration": 275,
        "start_time": "2023-05-23T05:08:44.194Z"
      },
      {
        "duration": 317,
        "start_time": "2023-05-23T05:08:48.817Z"
      },
      {
        "duration": 237,
        "start_time": "2023-05-23T05:08:54.608Z"
      },
      {
        "duration": 270,
        "start_time": "2023-05-23T05:09:02.280Z"
      },
      {
        "duration": 456,
        "start_time": "2023-05-23T05:09:06.020Z"
      },
      {
        "duration": 187,
        "start_time": "2023-05-23T05:11:00.124Z"
      },
      {
        "duration": 209,
        "start_time": "2023-05-23T05:11:11.347Z"
      },
      {
        "duration": 415,
        "start_time": "2023-05-23T05:11:44.541Z"
      },
      {
        "duration": 260,
        "start_time": "2023-05-23T05:11:49.877Z"
      },
      {
        "duration": 239,
        "start_time": "2023-05-23T05:12:15.871Z"
      },
      {
        "duration": 210,
        "start_time": "2023-05-23T05:12:23.863Z"
      },
      {
        "duration": 275,
        "start_time": "2023-05-23T05:12:31.685Z"
      },
      {
        "duration": 229,
        "start_time": "2023-05-23T05:16:52.182Z"
      },
      {
        "duration": 254,
        "start_time": "2023-05-23T05:17:06.495Z"
      },
      {
        "duration": 283,
        "start_time": "2023-05-23T05:17:10.021Z"
      },
      {
        "duration": 317,
        "start_time": "2023-05-23T05:17:34.675Z"
      },
      {
        "duration": 255,
        "start_time": "2023-05-23T05:17:41.566Z"
      },
      {
        "duration": 449,
        "start_time": "2023-05-23T05:17:55.429Z"
      },
      {
        "duration": 314,
        "start_time": "2023-05-23T05:18:05.834Z"
      },
      {
        "duration": 322,
        "start_time": "2023-05-23T05:18:18.292Z"
      },
      {
        "duration": 285,
        "start_time": "2023-05-23T05:18:22.105Z"
      },
      {
        "duration": 286,
        "start_time": "2023-05-23T05:18:50.000Z"
      },
      {
        "duration": 280,
        "start_time": "2023-05-23T05:18:56.964Z"
      },
      {
        "duration": 1350,
        "start_time": "2023-05-23T05:20:07.756Z"
      },
      {
        "duration": 2475,
        "start_time": "2023-05-23T05:20:14.646Z"
      },
      {
        "duration": 1617,
        "start_time": "2023-05-23T05:20:17.124Z"
      },
      {
        "duration": 3,
        "start_time": "2023-05-23T05:20:18.743Z"
      },
      {
        "duration": 14,
        "start_time": "2023-05-23T05:20:18.748Z"
      },
      {
        "duration": 55,
        "start_time": "2023-05-23T05:20:18.764Z"
      },
      {
        "duration": 17,
        "start_time": "2023-05-23T05:20:18.821Z"
      },
      {
        "duration": 13,
        "start_time": "2023-05-23T05:20:18.840Z"
      },
      {
        "duration": 15,
        "start_time": "2023-05-23T05:20:18.855Z"
      },
      {
        "duration": 1152,
        "start_time": "2023-05-23T05:20:18.875Z"
      },
      {
        "duration": 6,
        "start_time": "2023-05-23T05:20:20.033Z"
      },
      {
        "duration": 23,
        "start_time": "2023-05-23T05:20:20.041Z"
      },
      {
        "duration": 41,
        "start_time": "2023-05-23T05:20:20.066Z"
      },
      {
        "duration": 86,
        "start_time": "2023-05-23T05:20:20.109Z"
      },
      {
        "duration": 6,
        "start_time": "2023-05-23T05:20:20.197Z"
      },
      {
        "duration": 15,
        "start_time": "2023-05-23T05:20:20.204Z"
      },
      {
        "duration": 14,
        "start_time": "2023-05-23T05:20:20.220Z"
      },
      {
        "duration": 11,
        "start_time": "2023-05-23T05:20:20.236Z"
      },
      {
        "duration": 13,
        "start_time": "2023-05-23T05:20:20.248Z"
      },
      {
        "duration": 8,
        "start_time": "2023-05-23T05:20:20.263Z"
      },
      {
        "duration": 7,
        "start_time": "2023-05-23T05:20:20.272Z"
      },
      {
        "duration": 11,
        "start_time": "2023-05-23T05:20:20.280Z"
      },
      {
        "duration": 10,
        "start_time": "2023-05-23T05:20:20.292Z"
      },
      {
        "duration": 11,
        "start_time": "2023-05-23T05:20:20.304Z"
      },
      {
        "duration": 67,
        "start_time": "2023-05-23T05:20:20.316Z"
      },
      {
        "duration": 57,
        "start_time": "2023-05-23T05:20:20.384Z"
      },
      {
        "duration": 1202,
        "start_time": "2023-05-23T05:20:20.443Z"
      },
      {
        "duration": 91,
        "start_time": "2023-05-23T05:20:21.647Z"
      },
      {
        "duration": 20,
        "start_time": "2023-05-23T05:20:21.743Z"
      },
      {
        "duration": 72,
        "start_time": "2023-05-23T05:20:21.764Z"
      },
      {
        "duration": 1463,
        "start_time": "2023-05-23T05:20:21.841Z"
      },
      {
        "duration": 8,
        "start_time": "2023-05-23T05:21:41.747Z"
      },
      {
        "duration": 8,
        "start_time": "2023-05-23T05:21:53.522Z"
      },
      {
        "duration": 1225,
        "start_time": "2023-05-23T05:22:02.579Z"
      },
      {
        "duration": 2468,
        "start_time": "2023-05-23T05:22:20.529Z"
      },
      {
        "duration": 1676,
        "start_time": "2023-05-23T05:22:23.000Z"
      },
      {
        "duration": 3,
        "start_time": "2023-05-23T05:22:24.678Z"
      },
      {
        "duration": 16,
        "start_time": "2023-05-23T05:22:24.682Z"
      },
      {
        "duration": 86,
        "start_time": "2023-05-23T05:22:24.701Z"
      },
      {
        "duration": 11,
        "start_time": "2023-05-23T05:22:24.789Z"
      },
      {
        "duration": 30,
        "start_time": "2023-05-23T05:22:24.802Z"
      },
      {
        "duration": 24,
        "start_time": "2023-05-23T05:22:24.838Z"
      },
      {
        "duration": 1129,
        "start_time": "2023-05-23T05:22:24.865Z"
      },
      {
        "duration": 5,
        "start_time": "2023-05-23T05:22:25.995Z"
      },
      {
        "duration": 9,
        "start_time": "2023-05-23T05:22:26.002Z"
      },
      {
        "duration": 14,
        "start_time": "2023-05-23T05:22:26.013Z"
      },
      {
        "duration": 838,
        "start_time": "2023-05-23T05:22:26.033Z"
      },
      {
        "duration": 5,
        "start_time": "2023-05-23T05:22:26.873Z"
      },
      {
        "duration": 11,
        "start_time": "2023-05-23T05:22:26.880Z"
      },
      {
        "duration": 23,
        "start_time": "2023-05-23T05:22:26.894Z"
      },
      {
        "duration": 9,
        "start_time": "2023-05-23T05:22:26.919Z"
      },
      {
        "duration": 28,
        "start_time": "2023-05-23T05:22:26.937Z"
      },
      {
        "duration": 20,
        "start_time": "2023-05-23T05:22:26.967Z"
      },
      {
        "duration": 6,
        "start_time": "2023-05-23T05:22:26.989Z"
      },
      {
        "duration": 6,
        "start_time": "2023-05-23T05:22:26.997Z"
      },
      {
        "duration": 6,
        "start_time": "2023-05-23T05:22:27.004Z"
      },
      {
        "duration": 5,
        "start_time": "2023-05-23T05:22:27.012Z"
      },
      {
        "duration": 65,
        "start_time": "2023-05-23T05:22:27.019Z"
      },
      {
        "duration": 79,
        "start_time": "2023-05-23T05:22:27.086Z"
      },
      {
        "duration": 2414,
        "start_time": "2023-05-23T05:22:27.166Z"
      },
      {
        "duration": 30,
        "start_time": "2023-05-23T05:22:29.631Z"
      },
      {
        "duration": 24,
        "start_time": "2023-05-23T05:22:29.663Z"
      },
      {
        "duration": 53,
        "start_time": "2023-05-23T05:22:29.689Z"
      },
      {
        "duration": 292,
        "start_time": "2023-05-23T05:22:36.019Z"
      },
      {
        "duration": 19,
        "start_time": "2023-05-23T05:22:41.162Z"
      },
      {
        "duration": 332,
        "start_time": "2023-05-23T05:22:43.965Z"
      },
      {
        "duration": 328,
        "start_time": "2023-05-23T05:23:01.619Z"
      },
      {
        "duration": 363,
        "start_time": "2023-05-23T05:23:01.951Z"
      },
      {
        "duration": 308,
        "start_time": "2023-05-23T05:23:08.613Z"
      },
      {
        "duration": 17,
        "start_time": "2023-05-23T05:23:54.767Z"
      },
      {
        "duration": 1224,
        "start_time": "2023-05-23T05:23:59.470Z"
      },
      {
        "duration": 1058,
        "start_time": "2023-05-23T05:24:35.070Z"
      },
      {
        "duration": 981,
        "start_time": "2023-05-23T05:26:07.096Z"
      },
      {
        "duration": 2398,
        "start_time": "2023-05-23T05:26:13.510Z"
      },
      {
        "duration": 1641,
        "start_time": "2023-05-23T05:26:15.911Z"
      },
      {
        "duration": 3,
        "start_time": "2023-05-23T05:26:17.554Z"
      },
      {
        "duration": 21,
        "start_time": "2023-05-23T05:26:17.559Z"
      },
      {
        "duration": 56,
        "start_time": "2023-05-23T05:26:17.582Z"
      },
      {
        "duration": 16,
        "start_time": "2023-05-23T05:26:17.640Z"
      },
      {
        "duration": 12,
        "start_time": "2023-05-23T05:26:17.658Z"
      },
      {
        "duration": 28,
        "start_time": "2023-05-23T05:26:17.672Z"
      },
      {
        "duration": 1055,
        "start_time": "2023-05-23T05:26:17.701Z"
      },
      {
        "duration": 4,
        "start_time": "2023-05-23T05:26:18.759Z"
      },
      {
        "duration": 7,
        "start_time": "2023-05-23T05:26:18.765Z"
      },
      {
        "duration": 10,
        "start_time": "2023-05-23T05:26:18.774Z"
      },
      {
        "duration": 55,
        "start_time": "2023-05-23T05:26:18.786Z"
      },
      {
        "duration": 8,
        "start_time": "2023-05-23T05:26:18.844Z"
      },
      {
        "duration": 7,
        "start_time": "2023-05-23T05:26:18.854Z"
      },
      {
        "duration": 7,
        "start_time": "2023-05-23T05:26:18.863Z"
      },
      {
        "duration": 11,
        "start_time": "2023-05-23T05:26:18.872Z"
      },
      {
        "duration": 13,
        "start_time": "2023-05-23T05:26:18.885Z"
      },
      {
        "duration": 7,
        "start_time": "2023-05-23T05:26:18.900Z"
      },
      {
        "duration": 9,
        "start_time": "2023-05-23T05:26:18.926Z"
      },
      {
        "duration": 19,
        "start_time": "2023-05-23T05:26:18.938Z"
      },
      {
        "duration": 6,
        "start_time": "2023-05-23T05:26:18.959Z"
      },
      {
        "duration": 9,
        "start_time": "2023-05-23T05:26:18.967Z"
      },
      {
        "duration": 74,
        "start_time": "2023-05-23T05:26:18.978Z"
      },
      {
        "duration": 52,
        "start_time": "2023-05-23T05:26:19.054Z"
      },
      {
        "duration": 1319,
        "start_time": "2023-05-23T05:26:19.107Z"
      },
      {
        "duration": 16,
        "start_time": "2023-05-23T05:26:20.428Z"
      }
    ],
    "kernelspec": {
      "display_name": "Python 3 (ipykernel)",
      "language": "python",
      "name": "python3"
    },
    "language_info": {
      "codemirror_mode": {
        "name": "ipython",
        "version": 3
      },
      "file_extension": ".py",
      "mimetype": "text/x-python",
      "name": "python",
      "nbconvert_exporter": "python",
      "pygments_lexer": "ipython3",
      "version": "3.9.5"
    },
    "toc": {
      "base_numbering": 1,
      "nav_menu": {},
      "number_sections": true,
      "sideBar": true,
      "skip_h1_title": true,
      "title_cell": "Содержание",
      "title_sidebar": "Contents",
      "toc_cell": true,
      "toc_position": {
        "height": "calc(100% - 180px)",
        "left": "10px",
        "top": "150px",
        "width": "165px"
      },
      "toc_section_display": true,
      "toc_window_display": true
    },
    "colab": {
      "provenance": [],
      "toc_visible": true
    }
  },
  "nbformat": 4,
  "nbformat_minor": 0
}