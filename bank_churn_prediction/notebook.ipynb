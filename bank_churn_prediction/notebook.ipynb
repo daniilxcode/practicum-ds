{
  "cells": [
    {
      "cell_type": "markdown",
      "metadata": {
        "id": "TR-o3QJ_Pvu7"
      },
      "source": [
        "# Прогноз оттока клиентов"
      ]
    },
    {
      "cell_type": "markdown",
      "metadata": {
        "id": "fzv71xFNPvu8"
      },
      "source": [
        "Из «Бета-Банка» стали уходить клиенты. Каждый месяц. Немного, но заметно. Банковские маркетологи посчитали: сохранять текущих клиентов дешевле, чем привлекать новых.\n",
        "\n",
        "Нужно спрогнозировать, уйдёт клиент из банка в ближайшее время или нет. Вам предоставлены исторические данные о поведении клиентов и расторжении договоров с банком.\n",
        "\n",
        "Необходимо построить модель с предельно большим значением *F1*-меры. Нужно довести метрику минимум до 0.59.\n",
        "\n",
        "Дополнительно нужно измерять *AUC-ROC* и сравнивать её значение с *F1*-мерой.\n",
        "\n",
        "Источник данных: [https://www.kaggle.com/barelydedicated/bank-customer-churn-modeling](https://www.kaggle.com/barelydedicated/bank-customer-churn-modeling)"
      ]
    },
    {
      "cell_type": "markdown",
      "metadata": {
        "id": "ynUNbmyXPvu9"
      },
      "source": [
        "## Подготовка данных"
      ]
    },
    {
      "cell_type": "code",
      "execution_count": null,
      "metadata": {
        "id": "-SfOl85tPvu-"
      },
      "outputs": [],
      "source": [
        "!pip install scikit-learn==1.1.3"
      ]
    },
    {
      "cell_type": "code",
      "execution_count": null,
      "metadata": {
        "id": "NRxsd0trPvvA"
      },
      "outputs": [],
      "source": [
        "import pandas as pd\n",
        "import re\n",
        "from sklearn.model_selection import train_test_split\n",
        "from sklearn.preprocessing import StandardScaler, OneHotEncoder\n",
        "from sklearn.linear_model import LogisticRegression\n",
        "from sklearn.tree import DecisionTreeClassifier\n",
        "from sklearn.ensemble import RandomForestClassifier\n",
        "from sklearn.dummy import DummyClassifier\n",
        "from sklearn.metrics import f1_score, roc_auc_score, recall_score\n",
        "from sklearn.utils import shuffle"
      ]
    },
    {
      "cell_type": "code",
      "execution_count": null,
      "metadata": {
        "id": "eVpY4IRBPvvA"
      },
      "outputs": [],
      "source": [
        "df = pd.read_csv('/datasets/Churn.csv')"
      ]
    },
    {
      "cell_type": "code",
      "execution_count": null,
      "metadata": {
        "id": "mAXpKmXKPvvB",
        "outputId": "2fc8526f-041c-4395-c139-9a07c8d7be4f"
      },
      "outputs": [
        {
          "data": {
            "text/html": [
              "<div>\n",
              "<style scoped>\n",
              "    .dataframe tbody tr th:only-of-type {\n",
              "        vertical-align: middle;\n",
              "    }\n",
              "\n",
              "    .dataframe tbody tr th {\n",
              "        vertical-align: top;\n",
              "    }\n",
              "\n",
              "    .dataframe thead th {\n",
              "        text-align: right;\n",
              "    }\n",
              "</style>\n",
              "<table border=\"1\" class=\"dataframe\">\n",
              "  <thead>\n",
              "    <tr style=\"text-align: right;\">\n",
              "      <th></th>\n",
              "      <th>RowNumber</th>\n",
              "      <th>CustomerId</th>\n",
              "      <th>Surname</th>\n",
              "      <th>CreditScore</th>\n",
              "      <th>Geography</th>\n",
              "      <th>Gender</th>\n",
              "      <th>Age</th>\n",
              "      <th>Tenure</th>\n",
              "      <th>Balance</th>\n",
              "      <th>NumOfProducts</th>\n",
              "      <th>HasCrCard</th>\n",
              "      <th>IsActiveMember</th>\n",
              "      <th>EstimatedSalary</th>\n",
              "      <th>Exited</th>\n",
              "    </tr>\n",
              "  </thead>\n",
              "  <tbody>\n",
              "    <tr>\n",
              "      <th>0</th>\n",
              "      <td>1</td>\n",
              "      <td>15634602</td>\n",
              "      <td>Hargrave</td>\n",
              "      <td>619</td>\n",
              "      <td>France</td>\n",
              "      <td>Female</td>\n",
              "      <td>42</td>\n",
              "      <td>2.0</td>\n",
              "      <td>0.00</td>\n",
              "      <td>1</td>\n",
              "      <td>1</td>\n",
              "      <td>1</td>\n",
              "      <td>101348.88</td>\n",
              "      <td>1</td>\n",
              "    </tr>\n",
              "    <tr>\n",
              "      <th>1</th>\n",
              "      <td>2</td>\n",
              "      <td>15647311</td>\n",
              "      <td>Hill</td>\n",
              "      <td>608</td>\n",
              "      <td>Spain</td>\n",
              "      <td>Female</td>\n",
              "      <td>41</td>\n",
              "      <td>1.0</td>\n",
              "      <td>83807.86</td>\n",
              "      <td>1</td>\n",
              "      <td>0</td>\n",
              "      <td>1</td>\n",
              "      <td>112542.58</td>\n",
              "      <td>0</td>\n",
              "    </tr>\n",
              "    <tr>\n",
              "      <th>2</th>\n",
              "      <td>3</td>\n",
              "      <td>15619304</td>\n",
              "      <td>Onio</td>\n",
              "      <td>502</td>\n",
              "      <td>France</td>\n",
              "      <td>Female</td>\n",
              "      <td>42</td>\n",
              "      <td>8.0</td>\n",
              "      <td>159660.80</td>\n",
              "      <td>3</td>\n",
              "      <td>1</td>\n",
              "      <td>0</td>\n",
              "      <td>113931.57</td>\n",
              "      <td>1</td>\n",
              "    </tr>\n",
              "    <tr>\n",
              "      <th>3</th>\n",
              "      <td>4</td>\n",
              "      <td>15701354</td>\n",
              "      <td>Boni</td>\n",
              "      <td>699</td>\n",
              "      <td>France</td>\n",
              "      <td>Female</td>\n",
              "      <td>39</td>\n",
              "      <td>1.0</td>\n",
              "      <td>0.00</td>\n",
              "      <td>2</td>\n",
              "      <td>0</td>\n",
              "      <td>0</td>\n",
              "      <td>93826.63</td>\n",
              "      <td>0</td>\n",
              "    </tr>\n",
              "    <tr>\n",
              "      <th>4</th>\n",
              "      <td>5</td>\n",
              "      <td>15737888</td>\n",
              "      <td>Mitchell</td>\n",
              "      <td>850</td>\n",
              "      <td>Spain</td>\n",
              "      <td>Female</td>\n",
              "      <td>43</td>\n",
              "      <td>2.0</td>\n",
              "      <td>125510.82</td>\n",
              "      <td>1</td>\n",
              "      <td>1</td>\n",
              "      <td>1</td>\n",
              "      <td>79084.10</td>\n",
              "      <td>0</td>\n",
              "    </tr>\n",
              "  </tbody>\n",
              "</table>\n",
              "</div>"
            ],
            "text/plain": [
              "   RowNumber  CustomerId   Surname  CreditScore Geography  Gender  Age  \\\n",
              "0          1    15634602  Hargrave          619    France  Female   42   \n",
              "1          2    15647311      Hill          608     Spain  Female   41   \n",
              "2          3    15619304      Onio          502    France  Female   42   \n",
              "3          4    15701354      Boni          699    France  Female   39   \n",
              "4          5    15737888  Mitchell          850     Spain  Female   43   \n",
              "\n",
              "   Tenure    Balance  NumOfProducts  HasCrCard  IsActiveMember  \\\n",
              "0     2.0       0.00              1          1               1   \n",
              "1     1.0   83807.86              1          0               1   \n",
              "2     8.0  159660.80              3          1               0   \n",
              "3     1.0       0.00              2          0               0   \n",
              "4     2.0  125510.82              1          1               1   \n",
              "\n",
              "   EstimatedSalary  Exited  \n",
              "0        101348.88       1  \n",
              "1        112542.58       0  \n",
              "2        113931.57       1  \n",
              "3         93826.63       0  \n",
              "4         79084.10       0  "
            ]
          },
          "execution_count": 4,
          "metadata": {},
          "output_type": "execute_result"
        }
      ],
      "source": [
        "df.head()"
      ]
    },
    {
      "cell_type": "code",
      "execution_count": null,
      "metadata": {
        "id": "uvSXeD9jPvvC",
        "outputId": "71b88c9d-0620-4a45-fd0f-223d848370a0"
      },
      "outputs": [
        {
          "name": "stdout",
          "output_type": "stream",
          "text": [
            "<class 'pandas.core.frame.DataFrame'>\n",
            "RangeIndex: 10000 entries, 0 to 9999\n",
            "Data columns (total 14 columns):\n",
            " #   Column           Non-Null Count  Dtype  \n",
            "---  ------           --------------  -----  \n",
            " 0   RowNumber        10000 non-null  int64  \n",
            " 1   CustomerId       10000 non-null  int64  \n",
            " 2   Surname          10000 non-null  object \n",
            " 3   CreditScore      10000 non-null  int64  \n",
            " 4   Geography        10000 non-null  object \n",
            " 5   Gender           10000 non-null  object \n",
            " 6   Age              10000 non-null  int64  \n",
            " 7   Tenure           9091 non-null   float64\n",
            " 8   Balance          10000 non-null  float64\n",
            " 9   NumOfProducts    10000 non-null  int64  \n",
            " 10  HasCrCard        10000 non-null  int64  \n",
            " 11  IsActiveMember   10000 non-null  int64  \n",
            " 12  EstimatedSalary  10000 non-null  float64\n",
            " 13  Exited           10000 non-null  int64  \n",
            "dtypes: float64(3), int64(8), object(3)\n",
            "memory usage: 1.1+ MB\n"
          ]
        }
      ],
      "source": [
        "df.info()"
      ]
    },
    {
      "cell_type": "code",
      "execution_count": null,
      "metadata": {
        "id": "dc6mzeaHPvvC",
        "outputId": "15c6f144-21ba-451a-b841-2d652dea9918"
      },
      "outputs": [
        {
          "data": {
            "text/plain": [
              "0"
            ]
          },
          "execution_count": 6,
          "metadata": {},
          "output_type": "execute_result"
        }
      ],
      "source": [
        "df.duplicated().sum()"
      ]
    },
    {
      "cell_type": "code",
      "execution_count": null,
      "metadata": {
        "id": "vqMFFcllPvvD",
        "outputId": "6d01c999-a563-4831-e2af-6ff32ddc6196"
      },
      "outputs": [
        {
          "data": {
            "text/plain": [
              "Index(['row_number', 'customer_id', 'surname', 'credit_score', 'geography',\n",
              "       'gender', 'age', 'tenure', 'balance', 'num_of_products', 'has_cr_card',\n",
              "       'is_active_member', 'estimated_salary', 'exited'],\n",
              "      dtype='object')"
            ]
          },
          "execution_count": 7,
          "metadata": {},
          "output_type": "execute_result"
        }
      ],
      "source": [
        "pat = re.compile('(?<!^)(?=[A-Z])')\n",
        "df = df.rename(lambda s: pat.sub('_', s).lower(), axis=1)\n",
        "df.columns"
      ]
    },
    {
      "cell_type": "markdown",
      "metadata": {
        "id": "gJ1yfpaXPvvE"
      },
      "source": [
        "Удаляем лишние данные, они не помогут модели выявить закономерности."
      ]
    },
    {
      "cell_type": "code",
      "execution_count": null,
      "metadata": {
        "id": "Z0ftT6PwPvvE"
      },
      "outputs": [],
      "source": [
        "df = df.drop(['row_number', 'customer_id', 'surname'], axis=1)"
      ]
    },
    {
      "cell_type": "markdown",
      "metadata": {
        "id": "fUNUwyB8PvvF"
      },
      "source": [
        "Удаляем пропуски"
      ]
    },
    {
      "cell_type": "code",
      "execution_count": null,
      "metadata": {
        "id": "sobzN2Z8PvvF",
        "outputId": "13c696f9-a7fc-4ee1-9cfb-39ac83c15340"
      },
      "outputs": [
        {
          "data": {
            "text/plain": [
              "0.0909"
            ]
          },
          "execution_count": 9,
          "metadata": {},
          "output_type": "execute_result"
        }
      ],
      "source": [
        "df['tenure'].isna().mean()"
      ]
    },
    {
      "cell_type": "code",
      "execution_count": null,
      "metadata": {
        "id": "_bebXtkfPvvH"
      },
      "outputs": [],
      "source": [
        "df = df.dropna(subset=['tenure']).reset_index(drop=True)"
      ]
    },
    {
      "cell_type": "markdown",
      "metadata": {
        "id": "8Xq79qNYPvvI"
      },
      "source": [
        "Отделяем целевой признак."
      ]
    },
    {
      "cell_type": "code",
      "execution_count": null,
      "metadata": {
        "id": "k4nZLZnRPvvI"
      },
      "outputs": [],
      "source": [
        "features = df.drop(['exited'], axis=1)\n",
        "target = df['exited']"
      ]
    },
    {
      "cell_type": "markdown",
      "metadata": {
        "id": "331FP3q_PvvJ"
      },
      "source": [
        "Разделяем данные на обучающую, валидационную и тестовую выборки."
      ]
    },
    {
      "cell_type": "code",
      "execution_count": null,
      "metadata": {
        "id": "jHD9ndcwPvvJ"
      },
      "outputs": [],
      "source": [
        "seed = 0"
      ]
    },
    {
      "cell_type": "code",
      "execution_count": null,
      "metadata": {
        "id": "Cl-nK_9WPvvJ"
      },
      "outputs": [],
      "source": [
        "features_train, _features, target_train, _target = train_test_split(\n",
        "    features, target, test_size=0.4, random_state=seed)\n",
        "features_valid, features_test, target_valid, target_test = train_test_split(\n",
        "    _features, _target, test_size=0.5, random_state=seed)"
      ]
    },
    {
      "cell_type": "code",
      "execution_count": null,
      "metadata": {
        "id": "LQygsqKfPvvK",
        "outputId": "d2edbb5e-64e4-4078-a34d-03718dd90f34"
      },
      "outputs": [
        {
          "name": "stdout",
          "output_type": "stream",
          "text": [
            "(5454, 10) (5454,)\n",
            "(1818, 10) (1818,)\n",
            "(1819, 10) (1819,)\n"
          ]
        }
      ],
      "source": [
        "print(features_train.shape, target_train.shape)\n",
        "print(features_valid.shape, target_valid.shape)\n",
        "print(features_test.shape, target_test.shape)"
      ]
    },
    {
      "cell_type": "markdown",
      "metadata": {
        "id": "4FJS_4_mPvvK"
      },
      "source": [
        "Преобразовываем категориальные признаки в численные методом One-Hot Encoding."
      ]
    },
    {
      "cell_type": "code",
      "execution_count": null,
      "metadata": {
        "id": "Pi4Clu88PvvK"
      },
      "outputs": [],
      "source": [
        "columns = ['gender', 'geography']\n",
        "\n",
        "ohe = OneHotEncoder(drop='first', handle_unknown='ignore', sparse=False)\n",
        "ohe.fit(features_train[columns])\n",
        "\n",
        "new_columns = ohe.get_feature_names_out()\n",
        "\n",
        "features_train[new_columns] = ohe.transform(features_train[columns])\n",
        "features_train = features_train.drop(columns, axis=1)\n",
        "\n",
        "features_valid[new_columns] = ohe.transform(features_valid[columns])\n",
        "features_valid = features_valid.drop(columns, axis=1)\n",
        "\n",
        "features_test[new_columns] = ohe.transform(features_test[columns])\n",
        "features_test = features_test.drop(columns, axis=1)"
      ]
    },
    {
      "cell_type": "code",
      "execution_count": null,
      "metadata": {
        "id": "01E7a2hdPvvL",
        "outputId": "ce1e23a0-3b63-4fba-ceb7-971c4ae98fdb"
      },
      "outputs": [
        {
          "name": "stdout",
          "output_type": "stream",
          "text": [
            "<class 'pandas.core.frame.DataFrame'>\n",
            "Int64Index: 5454 entries, 8425 to 2732\n",
            "Data columns (total 11 columns):\n",
            " #   Column             Non-Null Count  Dtype  \n",
            "---  ------             --------------  -----  \n",
            " 0   credit_score       5454 non-null   int64  \n",
            " 1   age                5454 non-null   int64  \n",
            " 2   tenure             5454 non-null   float64\n",
            " 3   balance            5454 non-null   float64\n",
            " 4   num_of_products    5454 non-null   int64  \n",
            " 5   has_cr_card        5454 non-null   int64  \n",
            " 6   is_active_member   5454 non-null   int64  \n",
            " 7   estimated_salary   5454 non-null   float64\n",
            " 8   gender_Male        5454 non-null   float64\n",
            " 9   geography_Germany  5454 non-null   float64\n",
            " 10  geography_Spain    5454 non-null   float64\n",
            "dtypes: float64(6), int64(5)\n",
            "memory usage: 511.3 KB\n"
          ]
        }
      ],
      "source": [
        "features_train.info()"
      ]
    },
    {
      "cell_type": "markdown",
      "metadata": {
        "id": "YSZQ38HPPvvL"
      },
      "source": [
        "Масштабируем признаки методом стандартизации."
      ]
    },
    {
      "cell_type": "code",
      "execution_count": null,
      "metadata": {
        "id": "snGHhaNQPvvL"
      },
      "outputs": [],
      "source": [
        "numeric = ['credit_score', 'age', 'tenure', 'balance', 'num_of_products', 'estimated_salary']\n",
        "\n",
        "scaler = StandardScaler()\n",
        "scaler.fit(features_train[numeric])\n",
        "\n",
        "pd.options.mode.chained_assignment = None\n",
        "features_train[numeric] = scaler.transform(features_train[numeric])\n",
        "features_valid[numeric] = scaler.transform(features_valid[numeric])\n",
        "features_test[numeric] = scaler.transform(features_test[numeric])"
      ]
    },
    {
      "cell_type": "code",
      "execution_count": null,
      "metadata": {
        "id": "mkw2LbsTPvvL",
        "outputId": "34abd31a-1c56-4f9a-9e45-4256d5250c35"
      },
      "outputs": [
        {
          "data": {
            "text/html": [
              "<div>\n",
              "<style scoped>\n",
              "    .dataframe tbody tr th:only-of-type {\n",
              "        vertical-align: middle;\n",
              "    }\n",
              "\n",
              "    .dataframe tbody tr th {\n",
              "        vertical-align: top;\n",
              "    }\n",
              "\n",
              "    .dataframe thead th {\n",
              "        text-align: right;\n",
              "    }\n",
              "</style>\n",
              "<table border=\"1\" class=\"dataframe\">\n",
              "  <thead>\n",
              "    <tr style=\"text-align: right;\">\n",
              "      <th></th>\n",
              "      <th>credit_score</th>\n",
              "      <th>age</th>\n",
              "      <th>tenure</th>\n",
              "      <th>balance</th>\n",
              "      <th>num_of_products</th>\n",
              "      <th>has_cr_card</th>\n",
              "      <th>is_active_member</th>\n",
              "      <th>estimated_salary</th>\n",
              "      <th>gender_Male</th>\n",
              "      <th>geography_Germany</th>\n",
              "      <th>geography_Spain</th>\n",
              "    </tr>\n",
              "  </thead>\n",
              "  <tbody>\n",
              "    <tr>\n",
              "      <th>8425</th>\n",
              "      <td>0.229308</td>\n",
              "      <td>0.568647</td>\n",
              "      <td>0.343610</td>\n",
              "      <td>-0.064517</td>\n",
              "      <td>-0.922773</td>\n",
              "      <td>0</td>\n",
              "      <td>1</td>\n",
              "      <td>0.684000</td>\n",
              "      <td>0.0</td>\n",
              "      <td>0.0</td>\n",
              "      <td>0.0</td>\n",
              "    </tr>\n",
              "    <tr>\n",
              "      <th>2404</th>\n",
              "      <td>-0.533089</td>\n",
              "      <td>1.040674</td>\n",
              "      <td>-1.031839</td>\n",
              "      <td>0.627730</td>\n",
              "      <td>-0.922773</td>\n",
              "      <td>1</td>\n",
              "      <td>0</td>\n",
              "      <td>1.473778</td>\n",
              "      <td>1.0</td>\n",
              "      <td>0.0</td>\n",
              "      <td>0.0</td>\n",
              "    </tr>\n",
              "    <tr>\n",
              "      <th>3465</th>\n",
              "      <td>-0.564421</td>\n",
              "      <td>-1.508269</td>\n",
              "      <td>0.343610</td>\n",
              "      <td>-1.228064</td>\n",
              "      <td>0.804932</td>\n",
              "      <td>1</td>\n",
              "      <td>0</td>\n",
              "      <td>0.911338</td>\n",
              "      <td>0.0</td>\n",
              "      <td>0.0</td>\n",
              "      <td>1.0</td>\n",
              "    </tr>\n",
              "    <tr>\n",
              "      <th>5932</th>\n",
              "      <td>-0.313770</td>\n",
              "      <td>-1.130648</td>\n",
              "      <td>1.375197</td>\n",
              "      <td>1.016300</td>\n",
              "      <td>-0.922773</td>\n",
              "      <td>1</td>\n",
              "      <td>1</td>\n",
              "      <td>0.902799</td>\n",
              "      <td>1.0</td>\n",
              "      <td>0.0</td>\n",
              "      <td>1.0</td>\n",
              "    </tr>\n",
              "    <tr>\n",
              "      <th>8224</th>\n",
              "      <td>1.211024</td>\n",
              "      <td>0.757458</td>\n",
              "      <td>-0.000252</td>\n",
              "      <td>0.450016</td>\n",
              "      <td>-0.922773</td>\n",
              "      <td>1</td>\n",
              "      <td>0</td>\n",
              "      <td>-0.900346</td>\n",
              "      <td>0.0</td>\n",
              "      <td>1.0</td>\n",
              "      <td>0.0</td>\n",
              "    </tr>\n",
              "  </tbody>\n",
              "</table>\n",
              "</div>"
            ],
            "text/plain": [
              "      credit_score       age    tenure   balance  num_of_products  \\\n",
              "8425      0.229308  0.568647  0.343610 -0.064517        -0.922773   \n",
              "2404     -0.533089  1.040674 -1.031839  0.627730        -0.922773   \n",
              "3465     -0.564421 -1.508269  0.343610 -1.228064         0.804932   \n",
              "5932     -0.313770 -1.130648  1.375197  1.016300        -0.922773   \n",
              "8224      1.211024  0.757458 -0.000252  0.450016        -0.922773   \n",
              "\n",
              "      has_cr_card  is_active_member  estimated_salary  gender_Male  \\\n",
              "8425            0                 1          0.684000          0.0   \n",
              "2404            1                 0          1.473778          1.0   \n",
              "3465            1                 0          0.911338          0.0   \n",
              "5932            1                 1          0.902799          1.0   \n",
              "8224            1                 0         -0.900346          0.0   \n",
              "\n",
              "      geography_Germany  geography_Spain  \n",
              "8425                0.0              0.0  \n",
              "2404                0.0              0.0  \n",
              "3465                0.0              1.0  \n",
              "5932                0.0              1.0  \n",
              "8224                1.0              0.0  "
            ]
          },
          "execution_count": 19,
          "metadata": {},
          "output_type": "execute_result"
        }
      ],
      "source": [
        "features_train.head()"
      ]
    },
    {
      "cell_type": "markdown",
      "metadata": {
        "id": "4npKjjT9PvvN"
      },
      "source": [
        "По итогам предобработки:\n",
        "- Дубликаты в данных отсутствуют.\n",
        "- Все пропуски в данных были удалены.\n",
        "- Удалены колонки с индексом строки, идентификатором и фамилией клиентов. Они не понадобятся при обучении.\n",
        "- Данные разбиты на выборки.\n",
        "- Признаки перекодированны и отмасштабированы, и теперь готовы для обучения моделей."
      ]
    },
    {
      "cell_type": "markdown",
      "metadata": {
        "id": "B31bBK1-PvvN"
      },
      "source": [
        "## Исследование задачи"
      ]
    },
    {
      "cell_type": "code",
      "execution_count": null,
      "metadata": {
        "id": "ffaRl6wePvvN",
        "outputId": "e33112a3-237b-458a-95f4-df12269f2cdb"
      },
      "outputs": [
        {
          "data": {
            "text/html": [
              "<div>\n",
              "<style scoped>\n",
              "    .dataframe tbody tr th:only-of-type {\n",
              "        vertical-align: middle;\n",
              "    }\n",
              "\n",
              "    .dataframe tbody tr th {\n",
              "        vertical-align: top;\n",
              "    }\n",
              "\n",
              "    .dataframe thead th {\n",
              "        text-align: right;\n",
              "    }\n",
              "</style>\n",
              "<table border=\"1\" class=\"dataframe\">\n",
              "  <thead>\n",
              "    <tr style=\"text-align: right;\">\n",
              "      <th></th>\n",
              "      <th>count</th>\n",
              "      <th>fraction</th>\n",
              "    </tr>\n",
              "  </thead>\n",
              "  <tbody>\n",
              "    <tr>\n",
              "      <th>0</th>\n",
              "      <td>4350</td>\n",
              "      <td>0.79758</td>\n",
              "    </tr>\n",
              "    <tr>\n",
              "      <th>1</th>\n",
              "      <td>1104</td>\n",
              "      <td>0.20242</td>\n",
              "    </tr>\n",
              "  </tbody>\n",
              "</table>\n",
              "</div>"
            ],
            "text/plain": [
              "   count  fraction\n",
              "0   4350   0.79758\n",
              "1   1104   0.20242"
            ]
          },
          "execution_count": 20,
          "metadata": {},
          "output_type": "execute_result"
        }
      ],
      "source": [
        "pd.DataFrame({'count'   : target_train.value_counts(),\n",
        "              'fraction': target_train.value_counts(normalize=True)})"
      ]
    },
    {
      "cell_type": "code",
      "execution_count": null,
      "metadata": {
        "id": "1T9DlUStPvvO",
        "outputId": "6d9619c9-7712-4378-9b64-a895b3a1ba78"
      },
      "outputs": [
        {
          "name": "stdout",
          "output_type": "stream",
          "text": [
            "F1      : 0.3008130081300813\n",
            "AUC-ROC : 0.7737525632262474\n"
          ]
        }
      ],
      "source": [
        "model = LogisticRegression(solver='liblinear', random_state=seed)\n",
        "model.fit(features_train, target_train)\n",
        "proba = model.predict_proba(features_valid)[:, 1]\n",
        "pred = proba > 0.5\n",
        "print('F1      :', f1_score(target_valid, pred))\n",
        "print('AUC-ROC :', roc_auc_score(target_valid, proba))"
      ]
    },
    {
      "cell_type": "code",
      "execution_count": null,
      "metadata": {
        "id": "9rzDjqj5PvvP",
        "outputId": "121f6ac3-be7a-4aca-f89b-5f5cb81309b9"
      },
      "outputs": [
        {
          "name": "stdout",
          "output_type": "stream",
          "text": [
            "Depth   : 7\n",
            "F1      : 0.5758513931888545\n",
            "AUC-ROC : 0.8200619987869803\n"
          ]
        }
      ],
      "source": [
        "best_f1 = 0\n",
        "best_auc = 0\n",
        "best_depth = None\n",
        "for d in range(1, 21):\n",
        "    model = DecisionTreeClassifier(max_depth=d, random_state=seed)\n",
        "    model.fit(features_train, target_train)\n",
        "    proba = model.predict_proba(features_valid)[:, 1]\n",
        "    pred = proba > 0.5\n",
        "    f1 = f1_score(target_valid, pred)\n",
        "    if best_f1 < f1:\n",
        "        best_f1 = f1\n",
        "        best_auc = roc_auc_score(target_valid, proba)\n",
        "        best_depth = d\n",
        "\n",
        "print('Depth   :', best_depth)\n",
        "print('F1      :', best_f1)\n",
        "print('AUC-ROC :', best_auc)"
      ]
    },
    {
      "cell_type": "code",
      "execution_count": null,
      "metadata": {
        "id": "eq5BNtziPvvP",
        "outputId": "50a76f24-fe46-4484-fc81-c84a46c29d9f"
      },
      "outputs": [
        {
          "name": "stdout",
          "output_type": "stream",
          "text": [
            "Depth      : 10\n",
            "Estimators : 10\n",
            "F1         : 0.5728987993138935\n",
            "AUC-ROC    : 0.8421524361479883\n"
          ]
        }
      ],
      "source": [
        "best_f1 = 0\n",
        "best_auc = 0\n",
        "best_depth = None\n",
        "best_est = None\n",
        "for est in range(10, 51, 10):\n",
        "    for d in range(1, 11):\n",
        "        model = RandomForestClassifier(max_depth=d, n_estimators=est, random_state=seed)\n",
        "        model.fit(features_train, target_train)\n",
        "        proba = model.predict_proba(features_valid)[:, 1]\n",
        "        pred = proba > 0.5\n",
        "        f1 = f1_score(target_valid, pred)\n",
        "        if best_f1 < f1:\n",
        "            best_f1 = f1\n",
        "            best_auc = roc_auc_score(target_valid, proba)\n",
        "            best_depth = d\n",
        "            best_est = est\n",
        "\n",
        "print('Depth      :', best_depth)\n",
        "print('Estimators :', best_est)\n",
        "print('F1         :', best_f1)\n",
        "print('AUC-ROC    :', best_auc)"
      ]
    },
    {
      "cell_type": "markdown",
      "metadata": {
        "id": "FBLYG9A_PvvQ"
      },
      "source": [
        "Классы несбалансированы, 0-й класс занимает 80% выборки. Результаты моделей древа решений и случайного леса в условиях дисбаланса намного лучше чем у логистической регрессии, но всё ещё недостаточно."
      ]
    },
    {
      "cell_type": "markdown",
      "metadata": {
        "id": "r7s2DqZoPvvQ"
      },
      "source": [
        "## Борьба с дисбалансом"
      ]
    },
    {
      "cell_type": "markdown",
      "metadata": {
        "id": "SXHgSZp7PvvQ"
      },
      "source": [
        "### Взвешивание классов"
      ]
    },
    {
      "cell_type": "code",
      "execution_count": null,
      "metadata": {
        "id": "HEeXf9XQPvvR",
        "outputId": "6956ea29-7396-48c9-b0ce-fa4a6ec348fa"
      },
      "outputs": [
        {
          "name": "stdout",
          "output_type": "stream",
          "text": [
            "F1      : 0.5059055118110236\n",
            "AUC-ROC : 0.7766715123275539\n"
          ]
        }
      ],
      "source": [
        "model = LogisticRegression(solver='liblinear', random_state=seed, class_weight='balanced')\n",
        "model.fit(features_train, target_train)\n",
        "proba = model.predict_proba(features_valid)[:, 1]\n",
        "pred = proba > 0.5\n",
        "print('F1      :', f1_score(target_valid, pred))\n",
        "print('AUC-ROC :', roc_auc_score(target_valid, proba))"
      ]
    },
    {
      "cell_type": "code",
      "execution_count": null,
      "metadata": {
        "id": "SbqgXYNQPvvR",
        "outputId": "a7f41759-55df-43f4-c94c-b5fd86e8472d"
      },
      "outputs": [
        {
          "name": "stdout",
          "output_type": "stream",
          "text": [
            "Depth   : 7\n",
            "F1      : 0.5777262180974478\n",
            "AUC-ROC : 0.8290489347568665\n"
          ]
        }
      ],
      "source": [
        "best_f1 = 0\n",
        "best_auc = 0\n",
        "best_depth = None\n",
        "for d in range(1, 21):\n",
        "    model = DecisionTreeClassifier(max_depth=d, random_state=seed, class_weight='balanced')\n",
        "    model.fit(features_train, target_train)\n",
        "    proba = model.predict_proba(features_valid)[:, 1]\n",
        "    pred = proba > 0.5\n",
        "    f1 = f1_score(target_valid, pred)\n",
        "    if best_f1 < f1:\n",
        "        best_f1 = f1\n",
        "        best_auc = roc_auc_score(target_valid, proba)\n",
        "        best_depth = d\n",
        "\n",
        "print('Depth   :', best_depth)\n",
        "print('F1      :', best_f1)\n",
        "print('AUC-ROC :', best_auc)"
      ]
    },
    {
      "cell_type": "code",
      "execution_count": null,
      "metadata": {
        "id": "5bB_VgSlPvvR",
        "outputId": "c5d705fe-3bb8-4d07-cae1-456d95c09223"
      },
      "outputs": [
        {
          "name": "stdout",
          "output_type": "stream",
          "text": [
            "Depth      : 7\n",
            "Estimators : 20\n",
            "F1         : 0.6113861386138614\n",
            "AUC-ROC    : 0.863130938742503\n"
          ]
        }
      ],
      "source": [
        "best_f1 = 0\n",
        "best_auc = 0\n",
        "best_depth = None\n",
        "best_est = None\n",
        "for est in range(10, 51, 10):\n",
        "    for d in range(1, 11):\n",
        "        model = RandomForestClassifier(max_depth=d, n_estimators=est, random_state=seed,\n",
        "                                       class_weight='balanced')\n",
        "        model.fit(features_train, target_train)\n",
        "        proba = model.predict_proba(features_valid)[:, 1]\n",
        "        pred = proba > 0.5\n",
        "        f1 = f1_score(target_valid, pred)\n",
        "        if best_f1 < f1:\n",
        "            best_f1 = f1\n",
        "            best_auc = roc_auc_score(target_valid, proba)\n",
        "            best_depth = d\n",
        "            best_est = est\n",
        "\n",
        "print('Depth      :', best_depth)\n",
        "print('Estimators :', best_est)\n",
        "print('F1         :', best_f1)\n",
        "print('AUC-ROC    :', best_auc)"
      ]
    },
    {
      "cell_type": "markdown",
      "metadata": {
        "id": "7Z9n6JXbPvvS"
      },
      "source": [
        "### Увеличение выборки"
      ]
    },
    {
      "cell_type": "code",
      "execution_count": null,
      "metadata": {
        "id": "oUVGvjxNPvvS"
      },
      "outputs": [],
      "source": [
        "major = target_train == 0\n",
        "major_count = major.sum()\n",
        "\n",
        "features_upsampled = pd.concat(\n",
        "    [features_train[major],\n",
        "     features_train[~major].sample(major_count, replace=True, random_state=seed)],\n",
        "    ignore_index=True\n",
        ")\n",
        "target_upsampled = pd.concat(\n",
        "    [target_train[major],\n",
        "     target_train[~major].sample(major_count, replace=True, random_state=seed)],\n",
        "    ignore_index=True\n",
        ")\n",
        "features_upsampled, target_upsampled = shuffle(\n",
        "    features_upsampled, target_upsampled, random_state=seed)"
      ]
    },
    {
      "cell_type": "code",
      "execution_count": null,
      "metadata": {
        "scrolled": true,
        "id": "YAspx9YfPvvT",
        "outputId": "34c97062-ea51-44da-a0c2-7b2a0172ddaf"
      },
      "outputs": [
        {
          "data": {
            "text/plain": [
              "(8700, 4350, 4350)"
            ]
          },
          "execution_count": 28,
          "metadata": {},
          "output_type": "execute_result"
        }
      ],
      "source": [
        "target_upsampled.count(), (target_upsampled==1).sum(), (target_upsampled==0).sum()"
      ]
    },
    {
      "cell_type": "code",
      "execution_count": null,
      "metadata": {
        "id": "C6hbUB18PvvU"
      },
      "outputs": [],
      "source": []
    },
    {
      "cell_type": "code",
      "execution_count": null,
      "metadata": {
        "id": "GwjDYA6xPvvU",
        "outputId": "86a02621-aa4b-4332-881f-aceadc7af83e"
      },
      "outputs": [
        {
          "name": "stdout",
          "output_type": "stream",
          "text": [
            "F1      : 0.5\n",
            "AUC-ROC : 0.7744206868002272\n"
          ]
        }
      ],
      "source": [
        "model = LogisticRegression(solver='liblinear', random_state=seed)\n",
        "model.fit(features_upsampled, target_upsampled)\n",
        "proba = model.predict_proba(features_valid)[:, 1]\n",
        "pred = proba > 0.5\n",
        "print('F1      :', f1_score(target_valid, pred))\n",
        "print('AUC-ROC :', roc_auc_score(target_valid, proba))"
      ]
    },
    {
      "cell_type": "code",
      "execution_count": null,
      "metadata": {
        "id": "tweOJ8FOPvvU",
        "outputId": "f87b3f24-282a-49ad-8bbd-56e2a3a6f359"
      },
      "outputs": [
        {
          "name": "stdout",
          "output_type": "stream",
          "text": [
            "Depth   : 8\n",
            "F1      : 0.5778834720570749\n",
            "AUC-ROC : 0.8074254137263774\n"
          ]
        }
      ],
      "source": [
        "best_f1 = 0\n",
        "best_auc = 0\n",
        "best_depth = None\n",
        "for d in range(1, 21):\n",
        "    model = DecisionTreeClassifier(max_depth=d, random_state=seed)\n",
        "    model.fit(features_upsampled, target_upsampled)\n",
        "    proba = model.predict_proba(features_valid)[:, 1]\n",
        "    pred = proba > 0.5\n",
        "    f1 = f1_score(target_valid, pred)\n",
        "    if best_f1 < f1:\n",
        "        best_f1 = f1\n",
        "        best_auc = roc_auc_score(target_valid, proba)\n",
        "        best_depth = d\n",
        "\n",
        "print('Depth   :', best_depth)\n",
        "print('F1      :', best_f1)\n",
        "print('AUC-ROC :', best_auc)"
      ]
    },
    {
      "cell_type": "code",
      "execution_count": null,
      "metadata": {
        "id": "ktMEM4yBPvvV",
        "outputId": "8255eb08-ba29-40ee-c902-585ee6ac888b"
      },
      "outputs": [
        {
          "name": "stdout",
          "output_type": "stream",
          "text": [
            "Depth      : 7\n",
            "Estimators : 50\n",
            "F1         : 0.6102502979737784\n",
            "AUC-ROC    : 0.8631867761593485\n"
          ]
        }
      ],
      "source": [
        "best_f1 = 0\n",
        "best_auc = 0\n",
        "best_depth = None\n",
        "best_est = None\n",
        "for est in range(10, 51, 10):\n",
        "    for d in range(1, 11):\n",
        "        model = RandomForestClassifier(max_depth=d, n_estimators=est, random_state=seed)\n",
        "        model.fit(features_upsampled, target_upsampled)\n",
        "        proba = model.predict_proba(features_valid)[:, 1]\n",
        "        pred = proba > 0.5\n",
        "        f1 = f1_score(target_valid, pred)\n",
        "        if best_f1 < f1:\n",
        "            best_f1 = f1\n",
        "            best_auc = roc_auc_score(target_valid, proba)\n",
        "            best_depth = d\n",
        "            best_est = est\n",
        "\n",
        "print('Depth      :', best_depth)\n",
        "print('Estimators :', best_est)\n",
        "print('F1         :', best_f1)\n",
        "print('AUC-ROC    :', best_auc)"
      ]
    },
    {
      "cell_type": "markdown",
      "metadata": {
        "id": "4MhVJqiyPvvV"
      },
      "source": [
        "### Уменьшение выборки"
      ]
    },
    {
      "cell_type": "code",
      "execution_count": null,
      "metadata": {
        "id": "dKHS28Q0PvvW"
      },
      "outputs": [],
      "source": [
        "minor = target_train == 1\n",
        "minor_count = minor.sum()\n",
        "\n",
        "features_downsampled = pd.concat(\n",
        "    [features_train[minor],\n",
        "     features_train[~minor].sample(minor_count, random_state=seed)],\n",
        "    ignore_index=True\n",
        ")\n",
        "target_downsampled = pd.concat(\n",
        "    [target_train[minor],\n",
        "     target_train[~minor].sample(minor_count, random_state=seed)],\n",
        "    ignore_index=True\n",
        ")\n",
        "features_downsampled, target_downsampled = shuffle(\n",
        "    features_downsampled, target_downsampled, random_state=seed)"
      ]
    },
    {
      "cell_type": "code",
      "execution_count": null,
      "metadata": {
        "id": "MK38Yd7LPvvW",
        "outputId": "3c080d74-11db-4d7b-a46a-dce5e42475bd"
      },
      "outputs": [
        {
          "data": {
            "text/plain": [
              "(2208, 1104, 1104)"
            ]
          },
          "execution_count": 33,
          "metadata": {},
          "output_type": "execute_result"
        }
      ],
      "source": [
        "target_downsampled.count(), (target_downsampled==1).sum(), (target_downsampled==0).sum()"
      ]
    },
    {
      "cell_type": "code",
      "execution_count": null,
      "metadata": {
        "id": "2JxwOShtPvvX"
      },
      "outputs": [],
      "source": []
    },
    {
      "cell_type": "code",
      "execution_count": null,
      "metadata": {
        "id": "yws8rJGQPvvX",
        "outputId": "1661dd46-6e18-4985-cfe9-b1fc74a12ec0"
      },
      "outputs": [
        {
          "name": "stdout",
          "output_type": "stream",
          "text": [
            "F1      : 0.510934393638171\n",
            "AUC-ROC : 0.7760091650380754\n"
          ]
        }
      ],
      "source": [
        "model = LogisticRegression(solver='liblinear', random_state=seed)\n",
        "model.fit(features_downsampled, target_downsampled)\n",
        "proba = model.predict_proba(features_valid)[:, 1]\n",
        "pred = proba > 0.5\n",
        "print('F1      :', f1_score(target_valid, pred))\n",
        "print('AUC-ROC :', roc_auc_score(target_valid, proba))"
      ]
    },
    {
      "cell_type": "code",
      "execution_count": null,
      "metadata": {
        "id": "Z1V5MgosPvvX",
        "outputId": "cfc466a3-9bfd-4d57-fe04-ce3c82f1482a"
      },
      "outputs": [
        {
          "name": "stdout",
          "output_type": "stream",
          "text": [
            "Depth   : 5\n",
            "F1      : 0.586046511627907\n",
            "AUC-ROC : 0.8403261675315047\n"
          ]
        }
      ],
      "source": [
        "best_f1 = 0\n",
        "best_auc = 0\n",
        "best_depth = None\n",
        "for d in range(1, 21):\n",
        "    model = DecisionTreeClassifier(max_depth=d, random_state=seed)\n",
        "    model.fit(features_downsampled, target_downsampled)\n",
        "    proba = model.predict_proba(features_valid)[:, 1]\n",
        "    pred = proba > 0.5\n",
        "    f1 = f1_score(target_valid, pred)\n",
        "    if best_f1 < f1:\n",
        "        best_f1 = f1\n",
        "        best_auc = roc_auc_score(target_valid, proba)\n",
        "        best_depth = d\n",
        "\n",
        "print('Depth   :', best_depth)\n",
        "print('F1      :', best_f1)\n",
        "print('AUC-ROC :', best_auc)"
      ]
    },
    {
      "cell_type": "code",
      "execution_count": null,
      "metadata": {
        "id": "W2Jb-_msPvvY",
        "outputId": "0b5022f2-5d7c-4150-846c-92f2a2d48535"
      },
      "outputs": [
        {
          "name": "stdout",
          "output_type": "stream",
          "text": [
            "Depth      : 8\n",
            "Estimators : 40\n",
            "F1         : 0.5940594059405941\n",
            "AUC-ROC    : 0.8586485419695205\n"
          ]
        }
      ],
      "source": [
        "best_f1 = 0\n",
        "best_auc = 0\n",
        "best_depth = None\n",
        "best_est = None\n",
        "for est in range(10, 51, 10):\n",
        "    for d in range(1, 11):\n",
        "        model = RandomForestClassifier(max_depth=d, n_estimators=est, random_state=seed)\n",
        "        model.fit(features_downsampled, target_downsampled)\n",
        "        proba = model.predict_proba(features_valid)[:, 1]\n",
        "        pred = proba > 0.5\n",
        "        f1 = f1_score(target_valid, pred)\n",
        "        if best_f1 < f1:\n",
        "            best_f1 = f1\n",
        "            best_auc = roc_auc_score(target_valid, proba)\n",
        "            best_depth = d\n",
        "            best_est = est\n",
        "\n",
        "print('Depth      :', best_depth)\n",
        "print('Estimators :', best_est)\n",
        "print('F1         :', best_f1)\n",
        "print('AUC-ROC    :', best_auc)"
      ]
    },
    {
      "cell_type": "markdown",
      "metadata": {
        "id": "5s0LRBbZPvvZ"
      },
      "source": [
        "### Итоги"
      ]
    },
    {
      "cell_type": "markdown",
      "metadata": {
        "id": "vqucHgZwPvvZ"
      },
      "source": [
        "Самая высокая метрика F1 получилась у модели случайного леса с гиперпараметрами: `max_depth=7`, `n_estimators=20`, методом взвешивания классов.\n",
        "AUC-ROC лучшей модели около 0.86, что значит с шансом 86% модель правильно определит класс."
      ]
    },
    {
      "cell_type": "markdown",
      "metadata": {
        "id": "FaUOQoXlPvva"
      },
      "source": [
        "## Тестирование модели"
      ]
    },
    {
      "cell_type": "code",
      "execution_count": null,
      "metadata": {
        "id": "rv355rXiPvva",
        "outputId": "133c118e-2b27-452d-c9af-c4b1a82a17a3"
      },
      "outputs": [
        {
          "name": "stdout",
          "output_type": "stream",
          "text": [
            "F1      : 0.6120591581342434\n",
            "AUC-ROC : 0.8366733039396956\n",
            "Recall  : 0.6810126582278481\n"
          ]
        }
      ],
      "source": [
        "model = RandomForestClassifier(max_depth=7,\n",
        "                               n_estimators=20,\n",
        "                               random_state=seed,\n",
        "                               class_weight='balanced')\n",
        "model.fit(features_train, target_train)\n",
        "proba = model.predict_proba(features_test)[:, 1]\n",
        "pred = proba > 0.5\n",
        "print('F1      :', f1_score(target_test, pred))\n",
        "print('AUC-ROC :', roc_auc_score(target_test, proba))\n",
        "print('Recall  :', recall_score(target_test, pred))"
      ]
    },
    {
      "cell_type": "code",
      "execution_count": null,
      "metadata": {
        "id": "GXkdG-tWPvva",
        "outputId": "05700024-3a95-4124-a05a-ee15c1301c68"
      },
      "outputs": [
        {
          "name": "stdout",
          "output_type": "stream",
          "text": [
            "F1      : 0.3568202348690154\n",
            "AUC-ROC : 0.5\n"
          ]
        }
      ],
      "source": [
        "model = DummyClassifier(strategy='constant', constant=1)\n",
        "model.fit(features_train, target_train)\n",
        "proba = model.predict_proba(features_test)[:, 1]\n",
        "pred = proba > 0.5\n",
        "print('F1      :', f1_score(target_test, pred))\n",
        "print('AUC-ROC :', roc_auc_score(target_test, proba))"
      ]
    },
    {
      "cell_type": "markdown",
      "metadata": {
        "id": "5KBYgwl7Pvvb"
      },
      "source": [
        "Итоговая модель примерно на 70% лучше константной по метрике `F1`. В 68% случаев она правильно определяет клиентов на отток. По метрике `AUC-ROC` можно сказать что с 83% вероятностью модель правильно определит уйдет клиент или нет."
      ]
    },
    {
      "cell_type": "code",
      "execution_count": null,
      "metadata": {
        "id": "csvgriv7Pvvd"
      },
      "outputs": [],
      "source": []
    }
  ],
  "metadata": {
    "ExecuteTimeLog": [
      {
        "duration": 371,
        "start_time": "2023-02-22T10:19:57.859Z"
      },
      {
        "duration": 170,
        "start_time": "2023-02-22T10:19:58.232Z"
      },
      {
        "duration": 20,
        "start_time": "2023-02-22T10:20:09.113Z"
      },
      {
        "duration": 12,
        "start_time": "2023-02-22T10:20:24.464Z"
      },
      {
        "duration": 50,
        "start_time": "2023-02-24T04:44:56.936Z"
      },
      {
        "duration": 375,
        "start_time": "2023-02-24T04:45:00.692Z"
      },
      {
        "duration": 166,
        "start_time": "2023-02-24T04:45:01.069Z"
      },
      {
        "duration": 21,
        "start_time": "2023-02-24T04:45:01.237Z"
      },
      {
        "duration": 15,
        "start_time": "2023-02-24T04:45:01.964Z"
      },
      {
        "duration": 4,
        "start_time": "2023-02-24T04:45:02.564Z"
      },
      {
        "duration": 19,
        "start_time": "2023-02-24T04:45:07.540Z"
      },
      {
        "duration": 12,
        "start_time": "2023-02-24T04:45:12.093Z"
      },
      {
        "duration": 5,
        "start_time": "2023-02-24T05:44:48.306Z"
      },
      {
        "duration": 790,
        "start_time": "2023-02-24T05:46:46.824Z"
      },
      {
        "duration": 4,
        "start_time": "2023-02-24T05:47:42.541Z"
      },
      {
        "duration": 4,
        "start_time": "2023-02-24T05:48:51.228Z"
      },
      {
        "duration": 8,
        "start_time": "2023-02-24T05:48:52.588Z"
      },
      {
        "duration": 78,
        "start_time": "2023-02-24T05:49:08.925Z"
      },
      {
        "duration": 73,
        "start_time": "2023-02-24T05:49:15.501Z"
      },
      {
        "duration": 8,
        "start_time": "2023-02-24T05:49:33.320Z"
      },
      {
        "duration": 4,
        "start_time": "2023-02-24T05:50:04.639Z"
      },
      {
        "duration": 79,
        "start_time": "2023-02-24T05:50:15.945Z"
      },
      {
        "duration": 11,
        "start_time": "2023-02-24T07:06:52.528Z"
      },
      {
        "duration": 12,
        "start_time": "2023-02-24T07:07:02.713Z"
      },
      {
        "duration": 6,
        "start_time": "2023-02-24T07:07:45.724Z"
      },
      {
        "duration": 2,
        "start_time": "2023-02-24T07:07:46.174Z"
      },
      {
        "duration": 6,
        "start_time": "2023-02-24T07:07:46.419Z"
      },
      {
        "duration": 3,
        "start_time": "2023-02-24T07:07:47.012Z"
      },
      {
        "duration": 16,
        "start_time": "2023-02-24T07:08:04.964Z"
      },
      {
        "duration": 18,
        "start_time": "2023-02-24T07:08:56.868Z"
      },
      {
        "duration": 19,
        "start_time": "2023-02-24T07:09:12.677Z"
      },
      {
        "duration": 19,
        "start_time": "2023-02-24T07:09:22.644Z"
      },
      {
        "duration": 5,
        "start_time": "2023-02-24T07:09:40.701Z"
      },
      {
        "duration": 5,
        "start_time": "2023-02-24T07:15:13.432Z"
      },
      {
        "duration": 11,
        "start_time": "2023-02-24T07:15:13.768Z"
      },
      {
        "duration": 12,
        "start_time": "2023-02-24T07:15:14.393Z"
      },
      {
        "duration": 11,
        "start_time": "2023-02-24T07:15:31.377Z"
      },
      {
        "duration": 11,
        "start_time": "2023-02-24T07:15:31.712Z"
      },
      {
        "duration": 11,
        "start_time": "2023-02-24T07:15:35.728Z"
      },
      {
        "duration": 11,
        "start_time": "2023-02-24T07:15:45.224Z"
      },
      {
        "duration": 10,
        "start_time": "2023-02-24T07:15:57.457Z"
      },
      {
        "duration": 7,
        "start_time": "2023-02-24T07:16:23.664Z"
      },
      {
        "duration": 5,
        "start_time": "2023-02-24T07:16:41.040Z"
      },
      {
        "duration": 13,
        "start_time": "2023-02-24T07:16:43.678Z"
      },
      {
        "duration": 14,
        "start_time": "2023-02-24T07:16:44.142Z"
      },
      {
        "duration": 7,
        "start_time": "2023-02-24T07:18:31.837Z"
      },
      {
        "duration": 10,
        "start_time": "2023-02-24T07:18:32.381Z"
      },
      {
        "duration": 12,
        "start_time": "2023-02-24T07:18:32.789Z"
      },
      {
        "duration": 5,
        "start_time": "2023-02-24T07:18:53.356Z"
      },
      {
        "duration": 2,
        "start_time": "2023-02-24T07:18:53.876Z"
      },
      {
        "duration": 6,
        "start_time": "2023-02-24T07:18:54.188Z"
      },
      {
        "duration": 4,
        "start_time": "2023-02-24T07:18:54.965Z"
      },
      {
        "duration": 793,
        "start_time": "2023-02-24T07:18:57.653Z"
      },
      {
        "duration": 9,
        "start_time": "2023-02-24T07:20:01.819Z"
      },
      {
        "duration": 15,
        "start_time": "2023-02-24T07:20:23.907Z"
      },
      {
        "duration": 3,
        "start_time": "2023-02-24T07:20:29.274Z"
      },
      {
        "duration": 13,
        "start_time": "2023-02-24T07:20:32.355Z"
      },
      {
        "duration": 8,
        "start_time": "2023-02-24T07:24:00.248Z"
      },
      {
        "duration": 5,
        "start_time": "2023-02-24T07:24:02.192Z"
      },
      {
        "duration": 4,
        "start_time": "2023-02-24T07:24:11.918Z"
      },
      {
        "duration": 5,
        "start_time": "2023-02-24T07:24:28.080Z"
      },
      {
        "duration": 4,
        "start_time": "2023-02-24T07:24:32.565Z"
      },
      {
        "duration": 7,
        "start_time": "2023-02-24T07:25:02.712Z"
      },
      {
        "duration": 5,
        "start_time": "2023-02-24T07:25:03.024Z"
      },
      {
        "duration": 4,
        "start_time": "2023-02-24T07:25:05.041Z"
      },
      {
        "duration": 4,
        "start_time": "2023-02-24T07:25:09.968Z"
      },
      {
        "duration": 4,
        "start_time": "2023-02-24T07:25:12.696Z"
      },
      {
        "duration": 4,
        "start_time": "2023-02-24T07:25:15.120Z"
      },
      {
        "duration": 581,
        "start_time": "2023-02-24T07:25:22.072Z"
      },
      {
        "duration": 13,
        "start_time": "2023-02-24T07:25:23.369Z"
      },
      {
        "duration": 18,
        "start_time": "2023-02-24T07:27:57.925Z"
      },
      {
        "duration": 8,
        "start_time": "2023-02-24T07:29:13.037Z"
      },
      {
        "duration": 3,
        "start_time": "2023-02-24T07:29:40.038Z"
      },
      {
        "duration": 9,
        "start_time": "2023-02-24T07:29:46.445Z"
      },
      {
        "duration": 26,
        "start_time": "2023-02-24T07:30:05.886Z"
      },
      {
        "duration": 22,
        "start_time": "2023-02-24T07:30:22.845Z"
      },
      {
        "duration": 854,
        "start_time": "2023-02-24T07:30:38.693Z"
      },
      {
        "duration": 9,
        "start_time": "2023-02-24T07:30:39.829Z"
      },
      {
        "duration": 31,
        "start_time": "2023-02-24T07:31:02.390Z"
      },
      {
        "duration": 19,
        "start_time": "2023-02-24T07:31:03.788Z"
      },
      {
        "duration": 34,
        "start_time": "2023-02-24T07:32:57.837Z"
      },
      {
        "duration": 18,
        "start_time": "2023-02-24T07:32:58.485Z"
      },
      {
        "duration": 11,
        "start_time": "2023-02-24T07:33:05.732Z"
      },
      {
        "duration": 870,
        "start_time": "2023-02-24T07:33:09.980Z"
      },
      {
        "duration": 96,
        "start_time": "2023-02-24T07:33:10.853Z"
      },
      {
        "duration": 23,
        "start_time": "2023-02-24T07:34:58.188Z"
      },
      {
        "duration": 11,
        "start_time": "2023-02-24T07:35:03.659Z"
      },
      {
        "duration": 108,
        "start_time": "2023-02-24T07:48:52.039Z"
      },
      {
        "duration": 6,
        "start_time": "2023-02-24T07:49:26.982Z"
      },
      {
        "duration": 6,
        "start_time": "2023-02-24T07:49:42.182Z"
      },
      {
        "duration": 5,
        "start_time": "2023-02-24T07:49:53.038Z"
      },
      {
        "duration": 82,
        "start_time": "2023-02-24T07:55:06.467Z"
      },
      {
        "duration": 3,
        "start_time": "2023-02-24T07:55:11.767Z"
      },
      {
        "duration": 30,
        "start_time": "2023-02-24T07:55:16.235Z"
      },
      {
        "duration": 30,
        "start_time": "2023-02-24T07:55:26.031Z"
      },
      {
        "duration": 62,
        "start_time": "2023-02-24T07:55:34.983Z"
      },
      {
        "duration": 94,
        "start_time": "2023-02-24T07:55:46.407Z"
      },
      {
        "duration": 97,
        "start_time": "2023-02-24T07:55:50.952Z"
      },
      {
        "duration": 92,
        "start_time": "2023-02-24T07:55:55.206Z"
      },
      {
        "duration": 30,
        "start_time": "2023-02-24T07:55:58.711Z"
      },
      {
        "duration": 34,
        "start_time": "2023-02-24T07:56:06.886Z"
      },
      {
        "duration": 31,
        "start_time": "2023-02-24T07:56:13.239Z"
      },
      {
        "duration": 28,
        "start_time": "2023-02-24T07:56:41.541Z"
      },
      {
        "duration": 76,
        "start_time": "2023-02-24T07:57:37.782Z"
      },
      {
        "duration": 41,
        "start_time": "2023-02-24T07:57:56.207Z"
      },
      {
        "duration": 30,
        "start_time": "2023-02-24T07:58:07.983Z"
      },
      {
        "duration": 31,
        "start_time": "2023-02-24T07:58:29.377Z"
      },
      {
        "duration": 31,
        "start_time": "2023-02-24T07:58:34.495Z"
      },
      {
        "duration": 28,
        "start_time": "2023-02-24T07:58:45.047Z"
      },
      {
        "duration": 40,
        "start_time": "2023-02-24T08:00:34.116Z"
      },
      {
        "duration": 5,
        "start_time": "2023-02-24T08:03:23.885Z"
      },
      {
        "duration": 5,
        "start_time": "2023-02-24T08:03:39.822Z"
      },
      {
        "duration": 7,
        "start_time": "2023-02-24T08:04:16.559Z"
      },
      {
        "duration": 7,
        "start_time": "2023-02-24T08:04:34.902Z"
      },
      {
        "duration": 7,
        "start_time": "2023-02-24T08:04:38.831Z"
      },
      {
        "duration": 336,
        "start_time": "2023-02-24T08:08:17.636Z"
      },
      {
        "duration": 7,
        "start_time": "2023-02-24T08:08:30.189Z"
      },
      {
        "duration": 17,
        "start_time": "2023-02-24T08:08:37.044Z"
      },
      {
        "duration": 4,
        "start_time": "2023-02-24T08:08:56.990Z"
      },
      {
        "duration": 4,
        "start_time": "2023-02-24T08:09:11.102Z"
      },
      {
        "duration": 5,
        "start_time": "2023-02-24T08:09:14.038Z"
      },
      {
        "duration": 5,
        "start_time": "2023-02-24T08:09:19.670Z"
      },
      {
        "duration": 5,
        "start_time": "2023-02-24T08:09:24.063Z"
      },
      {
        "duration": 10,
        "start_time": "2023-02-24T08:09:44.908Z"
      },
      {
        "duration": 5,
        "start_time": "2023-02-24T08:09:45.461Z"
      },
      {
        "duration": 14,
        "start_time": "2023-02-24T08:10:38.340Z"
      },
      {
        "duration": 17,
        "start_time": "2023-02-24T08:10:59.243Z"
      },
      {
        "duration": 5,
        "start_time": "2023-02-24T08:11:01.215Z"
      },
      {
        "duration": 5,
        "start_time": "2023-02-24T08:11:08.156Z"
      },
      {
        "duration": 4,
        "start_time": "2023-02-24T08:11:14.181Z"
      },
      {
        "duration": 5,
        "start_time": "2023-02-24T08:11:16.485Z"
      },
      {
        "duration": 18,
        "start_time": "2023-02-24T08:12:05.397Z"
      },
      {
        "duration": 5,
        "start_time": "2023-02-24T08:12:05.981Z"
      },
      {
        "duration": 5,
        "start_time": "2023-02-24T08:12:14.765Z"
      },
      {
        "duration": 5,
        "start_time": "2023-02-24T08:12:20.893Z"
      },
      {
        "duration": 4,
        "start_time": "2023-02-24T08:12:26.022Z"
      },
      {
        "duration": 9,
        "start_time": "2023-02-24T08:12:34.516Z"
      },
      {
        "duration": 4,
        "start_time": "2023-02-24T08:12:34.989Z"
      },
      {
        "duration": 4,
        "start_time": "2023-02-24T08:12:39.334Z"
      },
      {
        "duration": 21,
        "start_time": "2023-02-24T08:18:08.922Z"
      },
      {
        "duration": 12,
        "start_time": "2023-02-24T08:19:32.475Z"
      },
      {
        "duration": 5,
        "start_time": "2023-02-24T08:19:34.307Z"
      },
      {
        "duration": 6,
        "start_time": "2023-02-24T08:19:37.404Z"
      },
      {
        "duration": 5,
        "start_time": "2023-02-24T08:19:47.035Z"
      },
      {
        "duration": 10,
        "start_time": "2023-02-24T08:20:07.760Z"
      },
      {
        "duration": 5,
        "start_time": "2023-02-24T08:20:08.779Z"
      },
      {
        "duration": 7,
        "start_time": "2023-02-24T08:20:16.457Z"
      },
      {
        "duration": 11,
        "start_time": "2023-02-24T08:20:49.800Z"
      },
      {
        "duration": 6,
        "start_time": "2023-02-24T08:20:50.564Z"
      },
      {
        "duration": 7,
        "start_time": "2023-02-24T08:21:23.843Z"
      },
      {
        "duration": 88,
        "start_time": "2023-02-24T08:21:35.660Z"
      },
      {
        "duration": 36,
        "start_time": "2023-02-24T08:22:00.697Z"
      },
      {
        "duration": 31,
        "start_time": "2023-02-24T08:22:08.474Z"
      },
      {
        "duration": 9,
        "start_time": "2023-02-24T08:22:44.202Z"
      },
      {
        "duration": 5,
        "start_time": "2023-02-24T08:22:44.396Z"
      },
      {
        "duration": 81,
        "start_time": "2023-02-24T08:22:46.063Z"
      },
      {
        "duration": 9,
        "start_time": "2023-02-24T08:23:48.993Z"
      },
      {
        "duration": 337,
        "start_time": "2023-02-24T08:23:54.665Z"
      },
      {
        "duration": 10,
        "start_time": "2023-02-24T08:23:56.874Z"
      },
      {
        "duration": 5,
        "start_time": "2023-02-24T08:23:59.723Z"
      },
      {
        "duration": 91,
        "start_time": "2023-02-24T08:24:01.755Z"
      },
      {
        "duration": 11,
        "start_time": "2023-02-24T08:24:02.424Z"
      },
      {
        "duration": 6,
        "start_time": "2023-02-24T08:24:10.139Z"
      },
      {
        "duration": 5,
        "start_time": "2023-02-24T08:24:19.571Z"
      },
      {
        "duration": 10,
        "start_time": "2023-02-24T08:24:31.296Z"
      },
      {
        "duration": 5,
        "start_time": "2023-02-24T08:24:32.662Z"
      },
      {
        "duration": 53,
        "start_time": "2023-02-24T08:24:47.891Z"
      },
      {
        "duration": 21,
        "start_time": "2023-02-24T08:24:59.804Z"
      },
      {
        "duration": 19,
        "start_time": "2023-02-24T08:25:38.870Z"
      },
      {
        "duration": 5,
        "start_time": "2023-02-24T08:26:23.083Z"
      },
      {
        "duration": 8,
        "start_time": "2023-02-24T08:26:27.748Z"
      },
      {
        "duration": 34,
        "start_time": "2023-02-24T08:44:37.873Z"
      },
      {
        "duration": 33,
        "start_time": "2023-02-24T08:45:08.098Z"
      },
      {
        "duration": 22,
        "start_time": "2023-02-24T08:45:26.593Z"
      },
      {
        "duration": 20,
        "start_time": "2023-02-24T08:45:32.897Z"
      },
      {
        "duration": 37,
        "start_time": "2023-02-24T08:45:40.705Z"
      },
      {
        "duration": 46,
        "start_time": "2023-02-24T08:45:48.713Z"
      },
      {
        "duration": 456,
        "start_time": "2023-02-24T08:48:30.547Z"
      },
      {
        "duration": 445,
        "start_time": "2023-02-24T08:49:40.559Z"
      },
      {
        "duration": 10232,
        "start_time": "2023-02-24T08:50:26.968Z"
      },
      {
        "duration": 295,
        "start_time": "2023-02-24T08:50:44.984Z"
      },
      {
        "duration": 6863,
        "start_time": "2023-02-24T08:50:46.058Z"
      },
      {
        "duration": 3134,
        "start_time": "2023-02-24T08:52:36.385Z"
      },
      {
        "duration": 505,
        "start_time": "2023-02-24T08:53:53.864Z"
      },
      {
        "duration": 528,
        "start_time": "2023-02-24T08:55:47.312Z"
      },
      {
        "duration": 5,
        "start_time": "2023-02-24T08:57:32.567Z"
      },
      {
        "duration": 12,
        "start_time": "2023-02-24T08:57:55.943Z"
      },
      {
        "duration": 10,
        "start_time": "2023-02-24T08:58:01.839Z"
      },
      {
        "duration": 10,
        "start_time": "2023-02-24T08:58:46.968Z"
      },
      {
        "duration": 4,
        "start_time": "2023-02-24T08:59:05.529Z"
      },
      {
        "duration": 4,
        "start_time": "2023-02-24T08:59:09.314Z"
      },
      {
        "duration": 4,
        "start_time": "2023-02-24T08:59:12.096Z"
      },
      {
        "duration": 4,
        "start_time": "2023-02-24T09:02:21.495Z"
      },
      {
        "duration": 4,
        "start_time": "2023-02-24T09:02:24.784Z"
      },
      {
        "duration": 304,
        "start_time": "2023-02-24T09:02:44.571Z"
      },
      {
        "duration": 4,
        "start_time": "2023-02-24T09:02:51.278Z"
      },
      {
        "duration": 6,
        "start_time": "2023-02-24T09:03:03.555Z"
      },
      {
        "duration": 4,
        "start_time": "2023-02-24T09:03:08.921Z"
      },
      {
        "duration": 9,
        "start_time": "2023-02-24T09:03:18.559Z"
      },
      {
        "duration": 5,
        "start_time": "2023-02-24T09:03:23.023Z"
      },
      {
        "duration": 21,
        "start_time": "2023-02-24T09:03:35.775Z"
      },
      {
        "duration": 9,
        "start_time": "2023-02-24T09:03:53.758Z"
      },
      {
        "duration": 9,
        "start_time": "2023-02-24T09:04:05.497Z"
      },
      {
        "duration": 11,
        "start_time": "2023-02-24T09:04:15.840Z"
      },
      {
        "duration": 10,
        "start_time": "2023-02-24T09:04:17.861Z"
      },
      {
        "duration": 8,
        "start_time": "2023-02-24T09:04:19.165Z"
      },
      {
        "duration": 9,
        "start_time": "2023-02-24T09:04:23.058Z"
      },
      {
        "duration": 3,
        "start_time": "2023-02-24T09:25:50.938Z"
      },
      {
        "duration": 14,
        "start_time": "2023-02-24T09:26:48.170Z"
      },
      {
        "duration": 6,
        "start_time": "2023-02-24T09:26:48.778Z"
      },
      {
        "duration": 35,
        "start_time": "2023-02-24T09:26:50.986Z"
      },
      {
        "duration": 10,
        "start_time": "2023-02-24T09:26:59.985Z"
      },
      {
        "duration": 7,
        "start_time": "2023-02-24T09:27:00.642Z"
      },
      {
        "duration": 30,
        "start_time": "2023-02-24T09:27:01.666Z"
      },
      {
        "duration": 12,
        "start_time": "2023-02-24T09:27:11.113Z"
      },
      {
        "duration": 5,
        "start_time": "2023-02-24T09:27:12.330Z"
      },
      {
        "duration": 79,
        "start_time": "2023-02-24T09:27:12.769Z"
      },
      {
        "duration": 10,
        "start_time": "2023-02-24T09:27:38.977Z"
      },
      {
        "duration": 5,
        "start_time": "2023-02-24T09:27:39.745Z"
      },
      {
        "duration": 23,
        "start_time": "2023-02-24T09:27:40.641Z"
      },
      {
        "duration": 10,
        "start_time": "2023-02-24T09:27:43.688Z"
      },
      {
        "duration": 5,
        "start_time": "2023-02-24T09:27:44.953Z"
      },
      {
        "duration": 53,
        "start_time": "2023-02-24T09:27:47.394Z"
      },
      {
        "duration": 5,
        "start_time": "2023-02-24T09:28:11.153Z"
      },
      {
        "duration": 10,
        "start_time": "2023-02-24T09:28:14.857Z"
      },
      {
        "duration": 6,
        "start_time": "2023-02-24T09:28:15.473Z"
      },
      {
        "duration": 5,
        "start_time": "2023-02-24T09:28:19.857Z"
      },
      {
        "duration": 11,
        "start_time": "2023-02-24T09:28:25.153Z"
      },
      {
        "duration": 5,
        "start_time": "2023-02-24T09:28:25.577Z"
      },
      {
        "duration": 5,
        "start_time": "2023-02-24T09:28:43.937Z"
      },
      {
        "duration": 67,
        "start_time": "2023-02-24T09:28:44.881Z"
      },
      {
        "duration": 11,
        "start_time": "2023-02-24T09:28:46.009Z"
      },
      {
        "duration": 5,
        "start_time": "2023-02-24T09:28:56.921Z"
      },
      {
        "duration": 12,
        "start_time": "2023-02-24T09:29:00.265Z"
      },
      {
        "duration": 7,
        "start_time": "2023-02-24T09:29:00.497Z"
      },
      {
        "duration": 14,
        "start_time": "2023-02-24T09:29:02.336Z"
      },
      {
        "duration": 5,
        "start_time": "2023-02-24T09:29:02.913Z"
      },
      {
        "duration": 14,
        "start_time": "2023-02-24T09:29:08.585Z"
      },
      {
        "duration": 7,
        "start_time": "2023-02-24T09:29:09.105Z"
      },
      {
        "duration": 111,
        "start_time": "2023-02-24T09:29:11.434Z"
      },
      {
        "duration": 6,
        "start_time": "2023-02-24T09:29:31.897Z"
      },
      {
        "duration": 120,
        "start_time": "2023-02-24T09:29:38.025Z"
      },
      {
        "duration": 74,
        "start_time": "2023-02-25T04:28:54.091Z"
      },
      {
        "duration": 1200,
        "start_time": "2023-02-25T04:28:57.568Z"
      },
      {
        "duration": 114,
        "start_time": "2023-02-25T04:28:58.770Z"
      },
      {
        "duration": 20,
        "start_time": "2023-02-25T04:28:58.885Z"
      },
      {
        "duration": 46,
        "start_time": "2023-02-25T04:28:58.907Z"
      },
      {
        "duration": 17,
        "start_time": "2023-02-25T04:28:59.840Z"
      },
      {
        "duration": 4,
        "start_time": "2023-02-25T04:29:05.486Z"
      },
      {
        "duration": 13,
        "start_time": "2023-02-25T04:29:07.040Z"
      },
      {
        "duration": 7,
        "start_time": "2023-02-25T04:29:08.159Z"
      },
      {
        "duration": 12,
        "start_time": "2023-02-25T04:29:09.155Z"
      },
      {
        "duration": 11,
        "start_time": "2023-02-25T04:29:09.558Z"
      },
      {
        "duration": 6,
        "start_time": "2023-02-25T04:29:12.462Z"
      },
      {
        "duration": 3,
        "start_time": "2023-02-25T04:29:13.470Z"
      },
      {
        "duration": 7,
        "start_time": "2023-02-25T04:29:14.071Z"
      },
      {
        "duration": 4,
        "start_time": "2023-02-25T04:29:14.470Z"
      },
      {
        "duration": 26,
        "start_time": "2023-02-25T04:29:28.855Z"
      },
      {
        "duration": 5,
        "start_time": "2023-02-25T04:29:59.270Z"
      },
      {
        "duration": 5,
        "start_time": "2023-02-25T04:30:04.190Z"
      },
      {
        "duration": 7,
        "start_time": "2023-02-25T04:30:12.340Z"
      },
      {
        "duration": 5,
        "start_time": "2023-02-25T04:30:44.685Z"
      },
      {
        "duration": 6,
        "start_time": "2023-02-25T04:30:46.758Z"
      },
      {
        "duration": 5,
        "start_time": "2023-02-25T04:31:38.303Z"
      },
      {
        "duration": 11,
        "start_time": "2023-02-25T04:31:38.840Z"
      },
      {
        "duration": 35,
        "start_time": "2023-02-25T04:31:51.140Z"
      },
      {
        "duration": 85,
        "start_time": "2023-02-25T04:31:57.552Z"
      },
      {
        "duration": 19,
        "start_time": "2023-02-25T04:32:07.632Z"
      },
      {
        "duration": 11,
        "start_time": "2023-02-25T04:32:31.373Z"
      },
      {
        "duration": 9,
        "start_time": "2023-02-25T04:32:31.839Z"
      },
      {
        "duration": 28,
        "start_time": "2023-02-25T04:33:06.966Z"
      },
      {
        "duration": 14,
        "start_time": "2023-02-25T04:33:16.902Z"
      },
      {
        "duration": 5,
        "start_time": "2023-02-25T04:33:18.353Z"
      },
      {
        "duration": 17,
        "start_time": "2023-02-25T04:33:19.451Z"
      },
      {
        "duration": 5,
        "start_time": "2023-02-25T06:51:59.100Z"
      },
      {
        "duration": 5,
        "start_time": "2023-02-25T11:03:55.570Z"
      },
      {
        "duration": 132,
        "start_time": "2023-02-25T11:04:03.232Z"
      },
      {
        "duration": 5,
        "start_time": "2023-02-25T11:04:11.789Z"
      },
      {
        "duration": 12,
        "start_time": "2023-02-25T11:04:23.310Z"
      },
      {
        "duration": 13,
        "start_time": "2023-02-25T11:04:43.963Z"
      },
      {
        "duration": 6,
        "start_time": "2023-02-25T11:05:16.972Z"
      },
      {
        "duration": 6,
        "start_time": "2023-02-25T11:05:27.268Z"
      },
      {
        "duration": 6,
        "start_time": "2023-02-25T11:05:35.401Z"
      },
      {
        "duration": 6,
        "start_time": "2023-02-25T11:05:52.199Z"
      },
      {
        "duration": 12,
        "start_time": "2023-02-25T11:07:22.059Z"
      },
      {
        "duration": 11,
        "start_time": "2023-02-25T11:07:25.928Z"
      },
      {
        "duration": 8,
        "start_time": "2023-02-25T11:07:37.463Z"
      },
      {
        "duration": 10,
        "start_time": "2023-02-25T11:07:41.660Z"
      },
      {
        "duration": 9,
        "start_time": "2023-02-25T11:07:47.595Z"
      },
      {
        "duration": 12,
        "start_time": "2023-02-25T11:07:54.100Z"
      },
      {
        "duration": 12,
        "start_time": "2023-02-25T11:08:10.366Z"
      },
      {
        "duration": 23,
        "start_time": "2023-02-25T11:08:16.602Z"
      },
      {
        "duration": 8,
        "start_time": "2023-02-25T11:10:04.481Z"
      },
      {
        "duration": 8,
        "start_time": "2023-02-25T11:11:19.070Z"
      },
      {
        "duration": 12,
        "start_time": "2023-02-25T11:11:25.255Z"
      },
      {
        "duration": 8,
        "start_time": "2023-02-25T11:11:42.479Z"
      },
      {
        "duration": 9,
        "start_time": "2023-02-25T11:12:41.134Z"
      },
      {
        "duration": 1296,
        "start_time": "2023-02-25T11:12:48.934Z"
      },
      {
        "duration": 55,
        "start_time": "2023-02-25T11:12:50.233Z"
      },
      {
        "duration": 27,
        "start_time": "2023-02-25T11:12:50.290Z"
      },
      {
        "duration": 18,
        "start_time": "2023-02-25T11:12:50.319Z"
      },
      {
        "duration": 51,
        "start_time": "2023-02-25T11:12:50.339Z"
      },
      {
        "duration": 4,
        "start_time": "2023-02-25T11:12:50.392Z"
      },
      {
        "duration": 8,
        "start_time": "2023-02-25T11:12:50.397Z"
      },
      {
        "duration": 45,
        "start_time": "2023-02-25T11:12:50.406Z"
      },
      {
        "duration": 19,
        "start_time": "2023-02-25T11:12:50.456Z"
      },
      {
        "duration": 11,
        "start_time": "2023-02-25T11:12:50.476Z"
      },
      {
        "duration": 13,
        "start_time": "2023-02-25T11:12:50.489Z"
      },
      {
        "duration": 4,
        "start_time": "2023-02-25T11:12:50.503Z"
      },
      {
        "duration": 57,
        "start_time": "2023-02-25T11:12:50.508Z"
      },
      {
        "duration": 9,
        "start_time": "2023-02-25T11:12:50.569Z"
      },
      {
        "duration": 28,
        "start_time": "2023-02-25T11:12:50.579Z"
      },
      {
        "duration": 23,
        "start_time": "2023-02-25T11:12:50.609Z"
      },
      {
        "duration": 91,
        "start_time": "2023-02-25T11:12:50.634Z"
      },
      {
        "duration": 104,
        "start_time": "2023-02-25T11:12:50.727Z"
      },
      {
        "duration": 60,
        "start_time": "2023-02-25T11:12:50.852Z"
      },
      {
        "duration": 61,
        "start_time": "2023-02-25T11:12:50.917Z"
      },
      {
        "duration": 6,
        "start_time": "2023-02-25T11:12:50.979Z"
      },
      {
        "duration": 44,
        "start_time": "2023-02-25T11:12:50.987Z"
      },
      {
        "duration": 90,
        "start_time": "2023-02-25T11:12:51.032Z"
      },
      {
        "duration": 42,
        "start_time": "2023-02-25T11:12:51.131Z"
      },
      {
        "duration": 57,
        "start_time": "2023-02-25T11:12:51.175Z"
      },
      {
        "duration": 684,
        "start_time": "2023-02-25T11:12:51.234Z"
      },
      {
        "duration": 8737,
        "start_time": "2023-02-25T11:12:51.919Z"
      },
      {
        "duration": 2866,
        "start_time": "2023-02-25T11:13:00.657Z"
      },
      {
        "duration": 696,
        "start_time": "2023-02-25T11:13:03.525Z"
      },
      {
        "duration": 710,
        "start_time": "2023-02-25T11:13:04.222Z"
      },
      {
        "duration": 13,
        "start_time": "2023-02-25T11:13:04.934Z"
      },
      {
        "duration": 22,
        "start_time": "2023-02-25T11:13:04.949Z"
      },
      {
        "duration": 7,
        "start_time": "2023-02-25T11:13:04.972Z"
      },
      {
        "duration": 691,
        "start_time": "2023-02-25T11:21:06.828Z"
      },
      {
        "duration": 26,
        "start_time": "2023-02-25T11:24:51.558Z"
      },
      {
        "duration": 328,
        "start_time": "2023-02-25T11:25:09.031Z"
      },
      {
        "duration": 5451,
        "start_time": "2023-02-25T11:25:26.253Z"
      },
      {
        "duration": 2117,
        "start_time": "2023-02-25T11:25:49.677Z"
      },
      {
        "duration": 636,
        "start_time": "2023-02-25T11:27:14.338Z"
      },
      {
        "duration": 632,
        "start_time": "2023-02-25T11:27:38.472Z"
      },
      {
        "duration": 824,
        "start_time": "2023-02-25T11:28:01.173Z"
      },
      {
        "duration": 796,
        "start_time": "2023-02-25T11:28:07.864Z"
      },
      {
        "duration": 408,
        "start_time": "2023-02-25T11:28:17.670Z"
      },
      {
        "duration": 346,
        "start_time": "2023-02-25T11:29:07.928Z"
      },
      {
        "duration": 8,
        "start_time": "2023-02-25T11:29:42.133Z"
      },
      {
        "duration": 9,
        "start_time": "2023-02-25T11:29:42.780Z"
      },
      {
        "duration": 9,
        "start_time": "2023-02-25T11:29:43.388Z"
      },
      {
        "duration": 26564,
        "start_time": "2023-02-25T11:33:26.100Z"
      },
      {
        "duration": 38410,
        "start_time": "2023-02-25T11:34:05.470Z"
      },
      {
        "duration": 49,
        "start_time": "2023-02-26T07:47:54.711Z"
      },
      {
        "duration": 1047,
        "start_time": "2023-02-26T07:47:58.700Z"
      },
      {
        "duration": 85,
        "start_time": "2023-02-26T07:47:59.749Z"
      },
      {
        "duration": 19,
        "start_time": "2023-02-26T07:47:59.835Z"
      },
      {
        "duration": 12,
        "start_time": "2023-02-26T07:47:59.856Z"
      },
      {
        "duration": 10,
        "start_time": "2023-02-26T07:48:02.163Z"
      },
      {
        "duration": 67,
        "start_time": "2023-02-26T07:48:02.304Z"
      },
      {
        "duration": 19,
        "start_time": "2023-02-26T07:48:16.806Z"
      },
      {
        "duration": 23,
        "start_time": "2023-02-26T08:12:32.100Z"
      },
      {
        "duration": 20,
        "start_time": "2023-02-26T08:12:49.643Z"
      },
      {
        "duration": 29,
        "start_time": "2023-02-26T08:13:32.472Z"
      },
      {
        "duration": 20,
        "start_time": "2023-02-26T08:13:43.744Z"
      },
      {
        "duration": 6,
        "start_time": "2023-02-26T08:14:15.685Z"
      },
      {
        "duration": 40,
        "start_time": "2023-02-26T08:14:16.175Z"
      },
      {
        "duration": 11,
        "start_time": "2023-02-26T08:14:16.450Z"
      },
      {
        "duration": 20,
        "start_time": "2023-02-26T08:14:17.188Z"
      },
      {
        "duration": 10,
        "start_time": "2023-02-26T08:14:20.501Z"
      },
      {
        "duration": 24,
        "start_time": "2023-02-26T08:14:21.084Z"
      },
      {
        "duration": 5,
        "start_time": "2023-02-26T08:14:33.749Z"
      },
      {
        "duration": 5,
        "start_time": "2023-02-26T08:15:16.305Z"
      },
      {
        "duration": 8,
        "start_time": "2023-02-26T08:15:17.071Z"
      },
      {
        "duration": 167,
        "start_time": "2023-02-26T08:15:19.668Z"
      },
      {
        "duration": 143,
        "start_time": "2023-02-26T08:15:19.837Z"
      },
      {
        "duration": 59,
        "start_time": "2023-02-26T08:15:25.940Z"
      },
      {
        "duration": 1151,
        "start_time": "2023-02-26T08:16:03.805Z"
      },
      {
        "duration": 39,
        "start_time": "2023-02-26T08:16:04.957Z"
      },
      {
        "duration": 27,
        "start_time": "2023-02-26T08:16:04.998Z"
      },
      {
        "duration": 14,
        "start_time": "2023-02-26T08:16:05.028Z"
      },
      {
        "duration": 46,
        "start_time": "2023-02-26T08:16:05.044Z"
      },
      {
        "duration": 21,
        "start_time": "2023-02-26T08:16:05.093Z"
      },
      {
        "duration": 9,
        "start_time": "2023-02-26T08:16:05.116Z"
      },
      {
        "duration": 8,
        "start_time": "2023-02-26T08:16:05.127Z"
      },
      {
        "duration": 11,
        "start_time": "2023-02-26T08:16:05.137Z"
      },
      {
        "duration": 10,
        "start_time": "2023-02-26T08:16:05.149Z"
      },
      {
        "duration": 29,
        "start_time": "2023-02-26T08:16:05.160Z"
      },
      {
        "duration": 23,
        "start_time": "2023-02-26T08:16:05.192Z"
      },
      {
        "duration": 20,
        "start_time": "2023-02-26T08:16:05.216Z"
      },
      {
        "duration": 11,
        "start_time": "2023-02-26T08:16:05.239Z"
      },
      {
        "duration": 17,
        "start_time": "2023-02-26T08:16:05.252Z"
      },
      {
        "duration": 41,
        "start_time": "2023-02-26T08:16:05.270Z"
      },
      {
        "duration": 10,
        "start_time": "2023-02-26T08:16:05.313Z"
      },
      {
        "duration": 66,
        "start_time": "2023-02-26T08:16:05.325Z"
      },
      {
        "duration": 176,
        "start_time": "2023-02-26T08:16:05.417Z"
      },
      {
        "duration": 121,
        "start_time": "2023-02-26T08:16:05.599Z"
      },
      {
        "duration": 23,
        "start_time": "2023-02-26T08:16:05.723Z"
      },
      {
        "duration": 12,
        "start_time": "2023-02-26T08:16:05.750Z"
      },
      {
        "duration": 56,
        "start_time": "2023-02-26T08:16:05.763Z"
      },
      {
        "duration": 193,
        "start_time": "2023-02-26T08:16:05.821Z"
      },
      {
        "duration": 20,
        "start_time": "2023-02-26T08:16:06.016Z"
      },
      {
        "duration": 26,
        "start_time": "2023-02-26T08:16:06.038Z"
      },
      {
        "duration": 123,
        "start_time": "2023-02-26T08:16:06.089Z"
      },
      {
        "duration": 412,
        "start_time": "2023-02-26T08:16:06.214Z"
      },
      {
        "duration": 3958,
        "start_time": "2023-02-26T08:16:06.628Z"
      },
      {
        "duration": 1465,
        "start_time": "2023-02-26T08:16:10.587Z"
      },
      {
        "duration": 274,
        "start_time": "2023-02-26T08:16:12.054Z"
      },
      {
        "duration": 275,
        "start_time": "2023-02-26T08:16:12.330Z"
      },
      {
        "duration": 8,
        "start_time": "2023-02-26T08:16:12.608Z"
      },
      {
        "duration": 18,
        "start_time": "2023-02-26T08:16:12.618Z"
      },
      {
        "duration": 7,
        "start_time": "2023-02-26T08:16:12.638Z"
      },
      {
        "duration": 102,
        "start_time": "2023-02-26T08:38:59.776Z"
      },
      {
        "duration": 420,
        "start_time": "2023-02-26T08:39:15.143Z"
      },
      {
        "duration": 8,
        "start_time": "2023-02-26T08:51:30.241Z"
      },
      {
        "duration": 4,
        "start_time": "2023-02-26T08:51:35.139Z"
      },
      {
        "duration": 12,
        "start_time": "2023-02-26T08:51:38.569Z"
      },
      {
        "duration": 40,
        "start_time": "2023-02-26T08:53:12.705Z"
      },
      {
        "duration": 13,
        "start_time": "2023-02-26T08:53:39.413Z"
      },
      {
        "duration": 7161,
        "start_time": "2023-02-26T08:54:33.110Z"
      },
      {
        "duration": 57286,
        "start_time": "2023-02-26T08:58:21.474Z"
      },
      {
        "duration": 117547,
        "start_time": "2023-02-26T09:12:04.833Z"
      },
      {
        "duration": 78166,
        "start_time": "2023-02-26T09:29:40.060Z"
      },
      {
        "duration": 81143,
        "start_time": "2023-02-26T09:33:46.999Z"
      },
      {
        "duration": 78339,
        "start_time": "2023-02-26T09:40:28.967Z"
      },
      {
        "duration": 75626,
        "start_time": "2023-02-26T09:44:15.200Z"
      },
      {
        "duration": 1339491,
        "start_time": "2023-02-26T09:46:18.274Z"
      },
      {
        "duration": 1015,
        "start_time": "2023-02-26T10:23:42.490Z"
      },
      {
        "duration": 1308449,
        "start_time": "2023-02-26T10:24:27.116Z"
      },
      {
        "duration": 258,
        "start_time": "2023-02-26T11:03:22.609Z"
      },
      {
        "duration": 303,
        "start_time": "2023-02-26T11:04:27.407Z"
      },
      {
        "duration": 271,
        "start_time": "2023-02-26T11:04:46.485Z"
      },
      {
        "duration": 542,
        "start_time": "2023-02-26T11:04:53.005Z"
      },
      {
        "duration": 242,
        "start_time": "2023-02-26T11:05:04.352Z"
      },
      {
        "duration": 447,
        "start_time": "2023-02-26T11:05:07.557Z"
      },
      {
        "duration": 323,
        "start_time": "2023-02-26T11:05:11.215Z"
      },
      {
        "duration": 285,
        "start_time": "2023-02-26T11:05:14.139Z"
      },
      {
        "duration": 267,
        "start_time": "2023-02-26T11:05:17.698Z"
      },
      {
        "duration": 302,
        "start_time": "2023-02-26T11:39:53.909Z"
      },
      {
        "duration": 311,
        "start_time": "2023-02-26T11:40:31.132Z"
      },
      {
        "duration": 267,
        "start_time": "2023-02-26T11:41:04.007Z"
      },
      {
        "duration": 280,
        "start_time": "2023-02-26T11:41:15.177Z"
      },
      {
        "duration": 303,
        "start_time": "2023-02-26T11:41:58.646Z"
      },
      {
        "duration": 269,
        "start_time": "2023-02-26T11:42:19.277Z"
      },
      {
        "duration": 280,
        "start_time": "2023-02-26T11:43:02.840Z"
      },
      {
        "duration": 5127,
        "start_time": "2023-02-26T11:43:53.183Z"
      },
      {
        "duration": 5049,
        "start_time": "2023-02-26T11:44:11.026Z"
      },
      {
        "duration": 5246,
        "start_time": "2023-02-26T11:45:22.661Z"
      },
      {
        "duration": 4852,
        "start_time": "2023-02-26T11:45:36.405Z"
      },
      {
        "duration": 15,
        "start_time": "2023-02-27T05:51:35.448Z"
      },
      {
        "duration": 4,
        "start_time": "2023-02-27T06:10:12.975Z"
      },
      {
        "duration": 1157,
        "start_time": "2023-02-27T06:10:17.699Z"
      },
      {
        "duration": 81,
        "start_time": "2023-02-27T06:10:18.858Z"
      },
      {
        "duration": 24,
        "start_time": "2023-02-27T06:10:18.941Z"
      },
      {
        "duration": 26,
        "start_time": "2023-02-27T06:10:18.968Z"
      },
      {
        "duration": 12,
        "start_time": "2023-02-27T06:10:18.996Z"
      },
      {
        "duration": 6,
        "start_time": "2023-02-27T06:10:19.010Z"
      },
      {
        "duration": 13,
        "start_time": "2023-02-27T06:10:19.018Z"
      },
      {
        "duration": 10,
        "start_time": "2023-02-27T06:10:19.033Z"
      },
      {
        "duration": 13,
        "start_time": "2023-02-27T06:10:19.045Z"
      },
      {
        "duration": 13,
        "start_time": "2023-02-27T06:10:19.061Z"
      },
      {
        "duration": 14,
        "start_time": "2023-02-27T06:10:19.076Z"
      },
      {
        "duration": 4,
        "start_time": "2023-02-27T06:10:19.092Z"
      },
      {
        "duration": 29,
        "start_time": "2023-02-27T06:10:19.098Z"
      },
      {
        "duration": 11,
        "start_time": "2023-02-27T06:10:19.129Z"
      },
      {
        "duration": 28,
        "start_time": "2023-02-27T06:10:19.141Z"
      },
      {
        "duration": 31,
        "start_time": "2023-02-27T06:10:19.171Z"
      },
      {
        "duration": 10,
        "start_time": "2023-02-27T06:10:19.204Z"
      },
      {
        "duration": 111,
        "start_time": "2023-02-27T06:10:19.215Z"
      },
      {
        "duration": 117,
        "start_time": "2023-02-27T06:10:19.329Z"
      },
      {
        "duration": 7,
        "start_time": "2023-02-27T06:10:19.528Z"
      },
      {
        "duration": 20,
        "start_time": "2023-02-27T06:10:19.627Z"
      },
      {
        "duration": 10,
        "start_time": "2023-02-27T06:10:19.649Z"
      },
      {
        "duration": 72,
        "start_time": "2023-02-27T06:10:19.661Z"
      },
      {
        "duration": 99,
        "start_time": "2023-02-27T06:10:19.735Z"
      },
      {
        "duration": 8,
        "start_time": "2023-02-27T06:10:19.835Z"
      },
      {
        "duration": 81,
        "start_time": "2023-02-27T06:10:19.845Z"
      },
      {
        "duration": 104,
        "start_time": "2023-02-27T06:10:19.929Z"
      },
      {
        "duration": 472,
        "start_time": "2023-02-27T06:10:20.036Z"
      },
      {
        "duration": 4183,
        "start_time": "2023-02-27T06:10:20.513Z"
      },
      {
        "duration": 1795,
        "start_time": "2023-02-27T06:10:24.698Z"
      },
      {
        "duration": 287,
        "start_time": "2023-02-27T06:10:26.494Z"
      },
      {
        "duration": 282,
        "start_time": "2023-02-27T06:10:26.783Z"
      },
      {
        "duration": 375,
        "start_time": "2023-02-27T06:10:27.066Z"
      },
      {
        "duration": 9,
        "start_time": "2023-02-27T06:10:27.443Z"
      },
      {
        "duration": 14,
        "start_time": "2023-02-27T06:10:27.453Z"
      },
      {
        "duration": 8,
        "start_time": "2023-02-27T06:10:27.468Z"
      },
      {
        "duration": 4,
        "start_time": "2023-02-27T06:12:01.410Z"
      },
      {
        "duration": 4,
        "start_time": "2023-02-27T06:12:21.999Z"
      },
      {
        "duration": 4,
        "start_time": "2023-02-27T06:12:25.533Z"
      },
      {
        "duration": 3,
        "start_time": "2023-02-27T06:13:01.572Z"
      },
      {
        "duration": 4,
        "start_time": "2023-02-27T06:13:26.260Z"
      },
      {
        "duration": 5,
        "start_time": "2023-02-27T07:30:01.957Z"
      },
      {
        "duration": 4,
        "start_time": "2023-02-27T07:30:24.780Z"
      },
      {
        "duration": 4,
        "start_time": "2023-02-27T07:30:43.420Z"
      },
      {
        "duration": 526,
        "start_time": "2023-02-27T09:50:40.326Z"
      },
      {
        "duration": 7056,
        "start_time": "2023-02-27T09:51:03.057Z"
      },
      {
        "duration": 3413,
        "start_time": "2023-02-27T09:51:28.432Z"
      },
      {
        "duration": 206,
        "start_time": "2023-02-27T09:52:03.862Z"
      },
      {
        "duration": 408,
        "start_time": "2023-02-27T09:52:27.212Z"
      },
      {
        "duration": 386,
        "start_time": "2023-02-27T09:52:47.174Z"
      },
      {
        "duration": 1220,
        "start_time": "2023-02-27T09:54:13.864Z"
      },
      {
        "duration": 37,
        "start_time": "2023-02-27T09:54:15.086Z"
      },
      {
        "duration": 28,
        "start_time": "2023-02-27T09:54:15.125Z"
      },
      {
        "duration": 13,
        "start_time": "2023-02-27T09:54:15.155Z"
      },
      {
        "duration": 14,
        "start_time": "2023-02-27T09:54:15.233Z"
      },
      {
        "duration": 7,
        "start_time": "2023-02-27T09:54:16.970Z"
      },
      {
        "duration": 5,
        "start_time": "2023-02-27T09:54:20.332Z"
      },
      {
        "duration": 6,
        "start_time": "2023-02-27T09:54:21.165Z"
      },
      {
        "duration": 9,
        "start_time": "2023-02-27T09:54:21.880Z"
      },
      {
        "duration": 14,
        "start_time": "2023-02-27T09:54:23.871Z"
      },
      {
        "duration": 15,
        "start_time": "2023-02-27T09:54:24.321Z"
      },
      {
        "duration": 5,
        "start_time": "2023-02-27T09:54:27.065Z"
      },
      {
        "duration": 6,
        "start_time": "2023-02-27T09:54:28.671Z"
      },
      {
        "duration": 8,
        "start_time": "2023-02-27T09:54:29.624Z"
      },
      {
        "duration": 5,
        "start_time": "2023-02-27T09:54:35.564Z"
      },
      {
        "duration": 27,
        "start_time": "2023-02-27T09:54:39.897Z"
      },
      {
        "duration": 11,
        "start_time": "2023-02-27T09:54:53.901Z"
      },
      {
        "duration": 28,
        "start_time": "2023-02-27T09:55:04.879Z"
      },
      {
        "duration": 51,
        "start_time": "2023-02-27T09:55:17.176Z"
      },
      {
        "duration": 6,
        "start_time": "2023-02-27T09:55:18.641Z"
      },
      {
        "duration": 15,
        "start_time": "2023-02-27T09:55:50.750Z"
      },
      {
        "duration": 7,
        "start_time": "2023-02-27T09:55:52.032Z"
      },
      {
        "duration": 75,
        "start_time": "2023-02-27T09:55:52.758Z"
      },
      {
        "duration": 12,
        "start_time": "2023-02-27T09:56:13.688Z"
      },
      {
        "duration": 6,
        "start_time": "2023-02-27T09:56:14.560Z"
      },
      {
        "duration": 64,
        "start_time": "2023-02-27T09:56:22.168Z"
      },
      {
        "duration": 15,
        "start_time": "2023-02-27T09:56:45.104Z"
      },
      {
        "duration": 229,
        "start_time": "2023-02-27T09:56:54.781Z"
      },
      {
        "duration": 4653,
        "start_time": "2023-02-27T09:57:13.509Z"
      },
      {
        "duration": 1680,
        "start_time": "2023-02-27T09:57:35.987Z"
      },
      {
        "duration": 1536,
        "start_time": "2023-02-27T09:57:52.721Z"
      },
      {
        "duration": 41,
        "start_time": "2023-02-27T09:58:17.970Z"
      },
      {
        "duration": 43,
        "start_time": "2023-02-27T09:58:34.955Z"
      },
      {
        "duration": 279,
        "start_time": "2023-02-27T09:58:55.653Z"
      },
      {
        "duration": 271,
        "start_time": "2023-02-27T09:59:18.051Z"
      },
      {
        "duration": 49,
        "start_time": "2023-02-27T09:59:22.599Z"
      },
      {
        "duration": 70,
        "start_time": "2023-02-27T09:59:48.936Z"
      },
      {
        "duration": 1205,
        "start_time": "2023-02-27T10:00:13.122Z"
      },
      {
        "duration": 38,
        "start_time": "2023-02-27T10:00:14.329Z"
      },
      {
        "duration": 20,
        "start_time": "2023-02-27T10:00:14.369Z"
      },
      {
        "duration": 12,
        "start_time": "2023-02-27T10:00:14.391Z"
      },
      {
        "duration": 15,
        "start_time": "2023-02-27T10:00:14.405Z"
      },
      {
        "duration": 7,
        "start_time": "2023-02-27T10:00:14.428Z"
      },
      {
        "duration": 11,
        "start_time": "2023-02-27T10:00:14.437Z"
      },
      {
        "duration": 10,
        "start_time": "2023-02-27T10:00:14.450Z"
      },
      {
        "duration": 11,
        "start_time": "2023-02-27T10:00:14.462Z"
      },
      {
        "duration": 12,
        "start_time": "2023-02-27T10:00:14.476Z"
      },
      {
        "duration": 13,
        "start_time": "2023-02-27T10:00:14.490Z"
      },
      {
        "duration": 27,
        "start_time": "2023-02-27T10:00:14.505Z"
      },
      {
        "duration": 3,
        "start_time": "2023-02-27T10:00:14.534Z"
      },
      {
        "duration": 11,
        "start_time": "2023-02-27T10:00:14.540Z"
      },
      {
        "duration": 5,
        "start_time": "2023-02-27T10:00:14.554Z"
      },
      {
        "duration": 30,
        "start_time": "2023-02-27T10:00:14.561Z"
      },
      {
        "duration": 42,
        "start_time": "2023-02-27T10:00:14.593Z"
      },
      {
        "duration": 90,
        "start_time": "2023-02-27T10:00:14.637Z"
      },
      {
        "duration": 111,
        "start_time": "2023-02-27T10:00:14.734Z"
      },
      {
        "duration": 92,
        "start_time": "2023-02-27T10:00:14.848Z"
      },
      {
        "duration": 105,
        "start_time": "2023-02-27T10:00:14.942Z"
      },
      {
        "duration": 36,
        "start_time": "2023-02-27T10:00:15.050Z"
      },
      {
        "duration": 50,
        "start_time": "2023-02-27T10:00:15.089Z"
      },
      {
        "duration": 89,
        "start_time": "2023-02-27T10:00:15.142Z"
      },
      {
        "duration": 23,
        "start_time": "2023-02-27T10:00:15.234Z"
      },
      {
        "duration": 173,
        "start_time": "2023-02-27T10:00:15.260Z"
      },
      {
        "duration": 346,
        "start_time": "2023-02-27T10:00:15.435Z"
      },
      {
        "duration": 4344,
        "start_time": "2023-02-27T10:00:15.785Z"
      },
      {
        "duration": 1618,
        "start_time": "2023-02-27T10:00:20.131Z"
      },
      {
        "duration": 42,
        "start_time": "2023-02-27T10:00:21.751Z"
      },
      {
        "duration": 57,
        "start_time": "2023-02-27T10:00:21.795Z"
      },
      {
        "duration": 14571,
        "start_time": "2023-02-27T12:02:16.104Z"
      },
      {
        "duration": 2589,
        "start_time": "2023-02-27T12:02:56.582Z"
      },
      {
        "duration": 1480,
        "start_time": "2023-02-27T12:03:14.279Z"
      },
      {
        "duration": 1132,
        "start_time": "2023-03-01T08:47:41.509Z"
      },
      {
        "duration": 78,
        "start_time": "2023-03-01T08:47:42.643Z"
      },
      {
        "duration": 19,
        "start_time": "2023-03-01T08:47:42.723Z"
      },
      {
        "duration": 18,
        "start_time": "2023-03-01T08:47:42.744Z"
      },
      {
        "duration": 10,
        "start_time": "2023-03-01T08:47:42.764Z"
      },
      {
        "duration": 10,
        "start_time": "2023-03-01T08:47:42.776Z"
      },
      {
        "duration": 11,
        "start_time": "2023-03-01T08:47:42.787Z"
      },
      {
        "duration": 15,
        "start_time": "2023-03-01T08:47:42.800Z"
      },
      {
        "duration": 25,
        "start_time": "2023-03-01T08:47:42.817Z"
      },
      {
        "duration": 16,
        "start_time": "2023-03-01T08:47:42.843Z"
      },
      {
        "duration": 24,
        "start_time": "2023-03-01T08:47:42.861Z"
      },
      {
        "duration": 19,
        "start_time": "2023-03-01T08:47:42.887Z"
      },
      {
        "duration": 36,
        "start_time": "2023-03-01T08:47:42.908Z"
      },
      {
        "duration": 32,
        "start_time": "2023-03-01T08:47:42.947Z"
      },
      {
        "duration": 10,
        "start_time": "2023-03-01T08:47:42.980Z"
      },
      {
        "duration": 39,
        "start_time": "2023-03-01T08:47:42.992Z"
      },
      {
        "duration": 8,
        "start_time": "2023-03-01T08:47:43.033Z"
      },
      {
        "duration": 80,
        "start_time": "2023-03-01T08:47:43.043Z"
      },
      {
        "duration": 117,
        "start_time": "2023-03-01T08:47:43.125Z"
      },
      {
        "duration": 187,
        "start_time": "2023-03-01T08:47:43.243Z"
      },
      {
        "duration": 8,
        "start_time": "2023-03-01T08:47:43.432Z"
      },
      {
        "duration": 82,
        "start_time": "2023-03-01T08:47:43.443Z"
      },
      {
        "duration": 99,
        "start_time": "2023-03-01T08:47:43.527Z"
      },
      {
        "duration": 4,
        "start_time": "2023-03-01T08:47:43.628Z"
      },
      {
        "duration": 32,
        "start_time": "2023-03-01T08:47:43.634Z"
      },
      {
        "duration": 137,
        "start_time": "2023-03-01T08:47:43.723Z"
      },
      {
        "duration": 392,
        "start_time": "2023-03-01T08:47:43.862Z"
      },
      {
        "duration": 4069,
        "start_time": "2023-03-01T08:47:44.256Z"
      },
      {
        "duration": 1455,
        "start_time": "2023-03-01T08:47:48.327Z"
      },
      {
        "duration": 44,
        "start_time": "2023-03-01T08:47:49.784Z"
      },
      {
        "duration": 53,
        "start_time": "2023-03-03T05:58:12.865Z"
      },
      {
        "duration": 1189,
        "start_time": "2023-03-03T05:58:26.615Z"
      },
      {
        "duration": 88,
        "start_time": "2023-03-03T05:58:27.807Z"
      },
      {
        "duration": 21,
        "start_time": "2023-03-03T05:58:27.896Z"
      },
      {
        "duration": 13,
        "start_time": "2023-03-03T05:58:27.919Z"
      },
      {
        "duration": 11,
        "start_time": "2023-03-03T05:58:27.933Z"
      },
      {
        "duration": 17,
        "start_time": "2023-03-03T05:58:27.946Z"
      },
      {
        "duration": 5,
        "start_time": "2023-03-03T05:58:29.069Z"
      },
      {
        "duration": 6,
        "start_time": "2023-03-03T05:58:29.511Z"
      },
      {
        "duration": 8,
        "start_time": "2023-03-03T05:58:29.670Z"
      },
      {
        "duration": 11,
        "start_time": "2023-03-03T05:58:30.146Z"
      },
      {
        "duration": 13,
        "start_time": "2023-03-03T05:58:30.579Z"
      },
      {
        "duration": 5,
        "start_time": "2023-03-03T05:58:30.916Z"
      },
      {
        "duration": 3,
        "start_time": "2023-03-03T05:58:31.252Z"
      },
      {
        "duration": 8,
        "start_time": "2023-03-03T05:58:31.420Z"
      },
      {
        "duration": 3,
        "start_time": "2023-03-03T05:58:31.575Z"
      },
      {
        "duration": 27,
        "start_time": "2023-03-03T05:58:32.086Z"
      },
      {
        "duration": 9,
        "start_time": "2023-03-03T05:58:32.764Z"
      },
      {
        "duration": 26,
        "start_time": "2023-03-03T05:58:33.107Z"
      },
      {
        "duration": 98,
        "start_time": "2023-03-03T05:58:33.293Z"
      },
      {
        "duration": 450,
        "start_time": "2023-03-03T05:58:46.632Z"
      },
      {
        "duration": 7613,
        "start_time": "2023-03-03T05:59:05.033Z"
      },
      {
        "duration": 7439,
        "start_time": "2023-03-03T05:59:36.107Z"
      },
      {
        "duration": 26,
        "start_time": "2023-03-03T06:07:04.504Z"
      },
      {
        "duration": 26,
        "start_time": "2023-03-03T06:07:06.118Z"
      },
      {
        "duration": 26,
        "start_time": "2023-03-03T06:07:11.482Z"
      },
      {
        "duration": 23,
        "start_time": "2023-03-03T06:07:21.136Z"
      },
      {
        "duration": 37,
        "start_time": "2023-03-03T06:07:33.808Z"
      },
      {
        "duration": 101,
        "start_time": "2023-03-03T06:07:54.351Z"
      },
      {
        "duration": 31,
        "start_time": "2023-03-03T06:08:03.284Z"
      },
      {
        "duration": 490,
        "start_time": "2023-03-03T06:08:26.971Z"
      },
      {
        "duration": 7370,
        "start_time": "2023-03-03T06:08:56.449Z"
      },
      {
        "duration": 2297,
        "start_time": "2023-03-03T06:09:56.691Z"
      },
      {
        "duration": 2398,
        "start_time": "2023-03-03T06:10:03.881Z"
      },
      {
        "duration": 38818,
        "start_time": "2023-03-03T06:10:20.306Z"
      },
      {
        "duration": 22447,
        "start_time": "2023-03-03T06:11:10.267Z"
      },
      {
        "duration": 21764,
        "start_time": "2023-03-03T06:13:13.498Z"
      },
      {
        "duration": 83,
        "start_time": "2023-03-03T06:13:35.264Z"
      },
      {
        "duration": 575,
        "start_time": "2023-03-03T06:13:35.348Z"
      },
      {
        "duration": 13,
        "start_time": "2023-03-03T06:14:35.028Z"
      },
      {
        "duration": 6,
        "start_time": "2023-03-03T06:14:35.972Z"
      },
      {
        "duration": 111,
        "start_time": "2023-03-03T06:14:38.037Z"
      },
      {
        "duration": 553,
        "start_time": "2023-03-03T06:14:38.893Z"
      },
      {
        "duration": 28686,
        "start_time": "2023-03-03T06:14:41.573Z"
      },
      {
        "duration": 11,
        "start_time": "2023-03-03T06:15:10.261Z"
      },
      {
        "duration": 5,
        "start_time": "2023-03-03T06:15:10.274Z"
      },
      {
        "duration": 20,
        "start_time": "2023-03-03T06:15:22.576Z"
      },
      {
        "duration": 234,
        "start_time": "2023-03-03T06:15:23.902Z"
      },
      {
        "duration": 13899,
        "start_time": "2023-03-03T06:15:24.903Z"
      },
      {
        "duration": 161,
        "start_time": "2023-03-03T07:55:18.641Z"
      },
      {
        "duration": 163,
        "start_time": "2023-03-03T07:55:35.400Z"
      },
      {
        "duration": 3,
        "start_time": "2023-03-03T08:51:59.469Z"
      },
      {
        "duration": 3,
        "start_time": "2023-03-03T09:02:38.224Z"
      },
      {
        "duration": 43,
        "start_time": "2023-03-03T09:02:38.362Z"
      },
      {
        "duration": 14,
        "start_time": "2023-03-03T09:02:38.506Z"
      },
      {
        "duration": 15,
        "start_time": "2023-03-03T09:02:39.432Z"
      },
      {
        "duration": 11,
        "start_time": "2023-03-03T09:02:40.060Z"
      },
      {
        "duration": 5,
        "start_time": "2023-03-03T09:02:41.260Z"
      },
      {
        "duration": 5,
        "start_time": "2023-03-03T09:02:44.553Z"
      },
      {
        "duration": 5,
        "start_time": "2023-03-03T09:02:48.913Z"
      },
      {
        "duration": 7,
        "start_time": "2023-03-03T09:02:49.756Z"
      },
      {
        "duration": 4,
        "start_time": "2023-03-03T09:02:59.393Z"
      },
      {
        "duration": 3,
        "start_time": "2023-03-03T09:03:00.132Z"
      },
      {
        "duration": 9,
        "start_time": "2023-03-03T09:03:00.353Z"
      },
      {
        "duration": 4,
        "start_time": "2023-03-03T09:03:01.044Z"
      },
      {
        "duration": 27,
        "start_time": "2023-03-03T09:03:06.671Z"
      },
      {
        "duration": 15,
        "start_time": "2023-03-03T09:05:07.501Z"
      },
      {
        "duration": 5,
        "start_time": "2023-03-03T09:05:42.057Z"
      },
      {
        "duration": 5,
        "start_time": "2023-03-03T09:06:06.558Z"
      },
      {
        "duration": 3,
        "start_time": "2023-03-03T09:06:07.256Z"
      },
      {
        "duration": 8,
        "start_time": "2023-03-03T09:06:07.509Z"
      },
      {
        "duration": 4,
        "start_time": "2023-03-03T09:06:08.365Z"
      },
      {
        "duration": 26,
        "start_time": "2023-03-03T09:06:11.837Z"
      },
      {
        "duration": 13,
        "start_time": "2023-03-03T09:06:13.373Z"
      },
      {
        "duration": 22,
        "start_time": "2023-03-03T09:06:30.302Z"
      },
      {
        "duration": 21,
        "start_time": "2023-03-03T09:06:51.153Z"
      },
      {
        "duration": 6894,
        "start_time": "2023-03-03T09:07:11.324Z"
      },
      {
        "duration": 4,
        "start_time": "2023-03-03T09:07:21.573Z"
      },
      {
        "duration": 27,
        "start_time": "2023-03-03T09:07:29.237Z"
      },
      {
        "duration": 20,
        "start_time": "2023-03-03T09:07:31.494Z"
      },
      {
        "duration": 4,
        "start_time": "2023-03-03T09:07:41.638Z"
      },
      {
        "duration": 2235,
        "start_time": "2023-03-03T09:09:21.882Z"
      },
      {
        "duration": 960,
        "start_time": "2023-03-03T09:09:27.150Z"
      },
      {
        "duration": 42,
        "start_time": "2023-03-03T09:09:29.030Z"
      },
      {
        "duration": 20,
        "start_time": "2023-03-03T09:09:29.398Z"
      },
      {
        "duration": 12,
        "start_time": "2023-03-03T09:09:29.945Z"
      },
      {
        "duration": 12,
        "start_time": "2023-03-03T09:09:30.678Z"
      },
      {
        "duration": 6,
        "start_time": "2023-03-03T09:09:32.086Z"
      },
      {
        "duration": 5,
        "start_time": "2023-03-03T09:09:33.077Z"
      },
      {
        "duration": 5,
        "start_time": "2023-03-03T09:09:35.582Z"
      },
      {
        "duration": 8,
        "start_time": "2023-03-03T09:09:35.885Z"
      },
      {
        "duration": 4,
        "start_time": "2023-03-03T09:09:40.413Z"
      },
      {
        "duration": 3,
        "start_time": "2023-03-03T09:09:41.597Z"
      },
      {
        "duration": 7,
        "start_time": "2023-03-03T09:09:41.782Z"
      },
      {
        "duration": 4,
        "start_time": "2023-03-03T09:09:42.357Z"
      },
      {
        "duration": 26,
        "start_time": "2023-03-03T09:09:49.773Z"
      },
      {
        "duration": 128,
        "start_time": "2023-03-03T09:09:51.390Z"
      },
      {
        "duration": 23,
        "start_time": "2023-03-03T09:10:18.134Z"
      },
      {
        "duration": 17,
        "start_time": "2023-03-03T09:13:43.377Z"
      },
      {
        "duration": 13,
        "start_time": "2023-03-03T09:14:07.038Z"
      },
      {
        "duration": 8,
        "start_time": "2023-03-03T09:14:10.953Z"
      },
      {
        "duration": 5,
        "start_time": "2023-03-03T09:14:11.173Z"
      },
      {
        "duration": 26,
        "start_time": "2023-03-03T09:14:12.837Z"
      },
      {
        "duration": 31,
        "start_time": "2023-03-03T09:14:13.614Z"
      },
      {
        "duration": 30,
        "start_time": "2023-03-03T09:14:56.078Z"
      },
      {
        "duration": 7,
        "start_time": "2023-03-03T09:15:04.142Z"
      },
      {
        "duration": 5,
        "start_time": "2023-03-03T09:15:04.301Z"
      },
      {
        "duration": 26,
        "start_time": "2023-03-03T09:15:04.789Z"
      },
      {
        "duration": 33,
        "start_time": "2023-03-03T09:15:06.269Z"
      },
      {
        "duration": 4,
        "start_time": "2023-03-03T09:15:10.030Z"
      },
      {
        "duration": 7,
        "start_time": "2023-03-03T09:16:32.509Z"
      },
      {
        "duration": 5,
        "start_time": "2023-03-03T09:16:32.677Z"
      },
      {
        "duration": 25,
        "start_time": "2023-03-03T09:16:33.380Z"
      },
      {
        "duration": 25,
        "start_time": "2023-03-03T09:16:38.356Z"
      },
      {
        "duration": 8,
        "start_time": "2023-03-03T09:16:44.049Z"
      },
      {
        "duration": 4,
        "start_time": "2023-03-03T09:16:44.196Z"
      },
      {
        "duration": 26,
        "start_time": "2023-03-03T09:16:45.101Z"
      },
      {
        "duration": 27,
        "start_time": "2023-03-03T09:16:47.868Z"
      },
      {
        "duration": 7,
        "start_time": "2023-03-03T09:16:53.621Z"
      },
      {
        "duration": 4,
        "start_time": "2023-03-03T09:16:53.765Z"
      },
      {
        "duration": 25,
        "start_time": "2023-03-03T09:16:54.196Z"
      },
      {
        "duration": 25,
        "start_time": "2023-03-03T09:16:54.693Z"
      },
      {
        "duration": 4,
        "start_time": "2023-03-03T09:16:54.852Z"
      },
      {
        "duration": 10,
        "start_time": "2023-03-03T09:18:24.701Z"
      },
      {
        "duration": 36,
        "start_time": "2023-03-03T09:18:30.709Z"
      },
      {
        "duration": 466,
        "start_time": "2023-03-03T09:18:35.421Z"
      },
      {
        "duration": 21862,
        "start_time": "2023-03-03T09:18:40.654Z"
      },
      {
        "duration": 26,
        "start_time": "2023-03-03T09:19:29.187Z"
      },
      {
        "duration": 475,
        "start_time": "2023-03-03T09:19:30.797Z"
      },
      {
        "duration": 6077,
        "start_time": "2023-03-03T09:19:35.835Z"
      },
      {
        "duration": 13,
        "start_time": "2023-03-03T09:19:51.292Z"
      },
      {
        "duration": 5,
        "start_time": "2023-03-03T09:19:53.700Z"
      },
      {
        "duration": 87,
        "start_time": "2023-03-03T09:20:03.261Z"
      },
      {
        "duration": 561,
        "start_time": "2023-03-03T09:20:06.949Z"
      },
      {
        "duration": 7852,
        "start_time": "2023-03-03T09:20:21.485Z"
      },
      {
        "duration": 12,
        "start_time": "2023-03-03T09:20:35.579Z"
      },
      {
        "duration": 6,
        "start_time": "2023-03-03T09:20:36.256Z"
      },
      {
        "duration": 20,
        "start_time": "2023-03-03T09:20:37.396Z"
      },
      {
        "duration": 250,
        "start_time": "2023-03-03T09:20:40.524Z"
      },
      {
        "duration": 3933,
        "start_time": "2023-03-03T09:20:49.500Z"
      },
      {
        "duration": 11,
        "start_time": "2023-03-03T09:22:44.452Z"
      },
      {
        "duration": 12,
        "start_time": "2023-03-03T09:22:50.692Z"
      },
      {
        "duration": 18,
        "start_time": "2023-03-03T09:22:57.913Z"
      },
      {
        "duration": 11,
        "start_time": "2023-03-03T09:23:10.254Z"
      },
      {
        "duration": 2319,
        "start_time": "2023-03-03T09:23:41.952Z"
      },
      {
        "duration": 923,
        "start_time": "2023-03-03T09:23:44.274Z"
      },
      {
        "duration": 43,
        "start_time": "2023-03-03T09:23:45.199Z"
      },
      {
        "duration": 20,
        "start_time": "2023-03-03T09:23:45.244Z"
      },
      {
        "duration": 20,
        "start_time": "2023-03-03T09:23:45.266Z"
      },
      {
        "duration": 19,
        "start_time": "2023-03-03T09:23:45.288Z"
      },
      {
        "duration": 6,
        "start_time": "2023-03-03T09:23:45.308Z"
      },
      {
        "duration": 13,
        "start_time": "2023-03-03T09:23:45.315Z"
      },
      {
        "duration": 21,
        "start_time": "2023-03-03T09:23:45.330Z"
      },
      {
        "duration": 9,
        "start_time": "2023-03-03T09:23:45.353Z"
      },
      {
        "duration": 3,
        "start_time": "2023-03-03T09:23:45.363Z"
      },
      {
        "duration": 8,
        "start_time": "2023-03-03T09:23:45.368Z"
      },
      {
        "duration": 16,
        "start_time": "2023-03-03T09:23:45.378Z"
      },
      {
        "duration": 13,
        "start_time": "2023-03-03T09:23:45.398Z"
      },
      {
        "duration": 22,
        "start_time": "2023-03-03T09:23:45.413Z"
      },
      {
        "duration": 25,
        "start_time": "2023-03-03T09:23:45.437Z"
      },
      {
        "duration": 30,
        "start_time": "2023-03-03T09:23:45.463Z"
      },
      {
        "duration": 26,
        "start_time": "2023-03-03T09:23:45.495Z"
      },
      {
        "duration": 11,
        "start_time": "2023-03-03T09:23:45.523Z"
      },
      {
        "duration": 24,
        "start_time": "2023-03-03T09:23:45.536Z"
      },
      {
        "duration": 86,
        "start_time": "2023-03-03T09:23:45.562Z"
      },
      {
        "duration": 561,
        "start_time": "2023-03-03T09:23:45.650Z"
      },
      {
        "duration": 21815,
        "start_time": "2023-03-03T09:23:46.213Z"
      },
      {
        "duration": 30,
        "start_time": "2023-03-03T09:24:08.030Z"
      },
      {
        "duration": 573,
        "start_time": "2023-03-03T09:24:08.148Z"
      },
      {
        "duration": 6212,
        "start_time": "2023-03-03T09:24:08.723Z"
      },
      {
        "duration": 18,
        "start_time": "2023-03-03T09:24:14.936Z"
      },
      {
        "duration": 12,
        "start_time": "2023-03-03T09:24:14.956Z"
      },
      {
        "duration": 76,
        "start_time": "2023-03-03T09:24:14.970Z"
      },
      {
        "duration": 682,
        "start_time": "2023-03-03T09:24:15.049Z"
      },
      {
        "duration": 7959,
        "start_time": "2023-03-03T09:24:15.733Z"
      },
      {
        "duration": 10,
        "start_time": "2023-03-03T09:24:23.693Z"
      },
      {
        "duration": 11,
        "start_time": "2023-03-03T09:24:23.705Z"
      },
      {
        "duration": 31,
        "start_time": "2023-03-03T09:24:23.718Z"
      },
      {
        "duration": 418,
        "start_time": "2023-03-03T09:24:23.752Z"
      },
      {
        "duration": 3936,
        "start_time": "2023-03-03T09:24:24.173Z"
      },
      {
        "duration": 38,
        "start_time": "2023-03-03T09:24:28.111Z"
      },
      {
        "duration": 374,
        "start_time": "2023-03-03T09:24:28.153Z"
      },
      {
        "duration": 4201,
        "start_time": "2023-03-03T09:24:28.529Z"
      },
      {
        "duration": 1593,
        "start_time": "2023-03-03T09:24:32.731Z"
      },
      {
        "duration": 163,
        "start_time": "2023-03-03T09:24:34.327Z"
      },
      {
        "duration": 122,
        "start_time": "2023-03-03T10:21:51.400Z"
      },
      {
        "duration": 30776,
        "start_time": "2023-03-03T10:22:53.426Z"
      },
      {
        "duration": 3923,
        "start_time": "2023-03-03T10:25:09.432Z"
      },
      {
        "duration": 22908,
        "start_time": "2023-03-03T10:25:43.006Z"
      },
      {
        "duration": 59709,
        "start_time": "2023-03-03T10:26:24.714Z"
      },
      {
        "duration": 3004,
        "start_time": "2023-03-03T10:27:33.591Z"
      },
      {
        "duration": 79980,
        "start_time": "2023-03-03T10:27:55.914Z"
      },
      {
        "duration": 1400,
        "start_time": "2023-03-03T10:29:33.043Z"
      },
      {
        "duration": 34901,
        "start_time": "2023-03-03T10:29:41.117Z"
      },
      {
        "duration": 460,
        "start_time": "2023-03-03T10:31:27.563Z"
      },
      {
        "duration": 8222,
        "start_time": "2023-03-03T10:32:51.688Z"
      },
      {
        "duration": 97,
        "start_time": "2023-03-03T10:33:50.654Z"
      },
      {
        "duration": 538,
        "start_time": "2023-03-03T10:33:50.847Z"
      },
      {
        "duration": 6302,
        "start_time": "2023-03-03T10:33:51.387Z"
      },
      {
        "duration": 2496,
        "start_time": "2023-03-03T10:34:14.062Z"
      },
      {
        "duration": 966,
        "start_time": "2023-03-03T10:34:16.560Z"
      },
      {
        "duration": 46,
        "start_time": "2023-03-03T10:34:17.527Z"
      },
      {
        "duration": 20,
        "start_time": "2023-03-03T10:34:17.575Z"
      },
      {
        "duration": 13,
        "start_time": "2023-03-03T10:34:17.597Z"
      },
      {
        "duration": 11,
        "start_time": "2023-03-03T10:34:17.612Z"
      },
      {
        "duration": 6,
        "start_time": "2023-03-03T10:34:17.624Z"
      },
      {
        "duration": 8,
        "start_time": "2023-03-03T10:34:17.650Z"
      },
      {
        "duration": 9,
        "start_time": "2023-03-03T10:34:17.660Z"
      },
      {
        "duration": 9,
        "start_time": "2023-03-03T10:34:17.671Z"
      },
      {
        "duration": 3,
        "start_time": "2023-03-03T10:34:17.682Z"
      },
      {
        "duration": 7,
        "start_time": "2023-03-03T10:34:17.686Z"
      },
      {
        "duration": 7,
        "start_time": "2023-03-03T10:34:17.695Z"
      },
      {
        "duration": 5,
        "start_time": "2023-03-03T10:34:17.705Z"
      },
      {
        "duration": 11,
        "start_time": "2023-03-03T10:34:17.712Z"
      },
      {
        "duration": 3,
        "start_time": "2023-03-03T10:34:17.725Z"
      },
      {
        "duration": 55,
        "start_time": "2023-03-03T10:34:17.730Z"
      },
      {
        "duration": 32,
        "start_time": "2023-03-03T10:34:17.787Z"
      },
      {
        "duration": 12,
        "start_time": "2023-03-03T10:34:17.821Z"
      },
      {
        "duration": 15,
        "start_time": "2023-03-03T10:34:17.856Z"
      },
      {
        "duration": 29,
        "start_time": "2023-03-03T10:34:17.873Z"
      },
      {
        "duration": 584,
        "start_time": "2023-03-03T10:34:17.952Z"
      },
      {
        "duration": 23670,
        "start_time": "2023-03-03T10:34:18.538Z"
      },
      {
        "duration": 46,
        "start_time": "2023-03-03T10:34:42.210Z"
      },
      {
        "duration": 634,
        "start_time": "2023-03-03T10:34:42.259Z"
      },
      {
        "duration": 6569,
        "start_time": "2023-03-03T10:34:42.895Z"
      },
      {
        "duration": 12,
        "start_time": "2023-03-03T10:34:49.466Z"
      },
      {
        "duration": 8,
        "start_time": "2023-03-03T10:34:49.480Z"
      },
      {
        "duration": 75,
        "start_time": "2023-03-03T10:34:49.490Z"
      },
      {
        "duration": 652,
        "start_time": "2023-03-03T10:34:49.646Z"
      },
      {
        "duration": 8618,
        "start_time": "2023-03-03T10:34:50.300Z"
      },
      {
        "duration": 10,
        "start_time": "2023-03-03T10:34:58.920Z"
      },
      {
        "duration": 27,
        "start_time": "2023-03-03T10:34:58.932Z"
      },
      {
        "duration": 95,
        "start_time": "2023-03-03T10:34:58.960Z"
      },
      {
        "duration": 330,
        "start_time": "2023-03-03T10:34:59.064Z"
      },
      {
        "duration": 4193,
        "start_time": "2023-03-03T10:34:59.396Z"
      },
      {
        "duration": 119,
        "start_time": "2023-03-03T10:35:03.591Z"
      },
      {
        "duration": 516,
        "start_time": "2023-03-03T10:35:03.712Z"
      },
      {
        "duration": 6818,
        "start_time": "2023-03-03T10:36:54.883Z"
      },
      {
        "duration": 2689,
        "start_time": "2023-03-03T10:37:50.082Z"
      },
      {
        "duration": 3197,
        "start_time": "2023-03-03T10:38:06.365Z"
      },
      {
        "duration": 1817,
        "start_time": "2023-03-03T10:38:15.742Z"
      },
      {
        "duration": 288,
        "start_time": "2023-03-03T10:38:48.290Z"
      },
      {
        "duration": 2393,
        "start_time": "2023-03-03T10:39:08.876Z"
      },
      {
        "duration": 939,
        "start_time": "2023-03-03T10:39:11.271Z"
      },
      {
        "duration": 47,
        "start_time": "2023-03-03T10:39:12.211Z"
      },
      {
        "duration": 21,
        "start_time": "2023-03-03T10:39:12.260Z"
      },
      {
        "duration": 13,
        "start_time": "2023-03-03T10:39:12.283Z"
      },
      {
        "duration": 11,
        "start_time": "2023-03-03T10:39:12.298Z"
      },
      {
        "duration": 8,
        "start_time": "2023-03-03T10:39:12.311Z"
      },
      {
        "duration": 40,
        "start_time": "2023-03-03T10:39:12.320Z"
      },
      {
        "duration": 9,
        "start_time": "2023-03-03T10:39:12.361Z"
      },
      {
        "duration": 12,
        "start_time": "2023-03-03T10:39:12.373Z"
      },
      {
        "duration": 3,
        "start_time": "2023-03-03T10:39:12.386Z"
      },
      {
        "duration": 6,
        "start_time": "2023-03-03T10:39:12.390Z"
      },
      {
        "duration": 8,
        "start_time": "2023-03-03T10:39:12.398Z"
      },
      {
        "duration": 6,
        "start_time": "2023-03-03T10:39:12.407Z"
      },
      {
        "duration": 12,
        "start_time": "2023-03-03T10:39:12.415Z"
      },
      {
        "duration": 31,
        "start_time": "2023-03-03T10:39:12.428Z"
      },
      {
        "duration": 27,
        "start_time": "2023-03-03T10:39:12.460Z"
      },
      {
        "duration": 27,
        "start_time": "2023-03-03T10:39:12.488Z"
      },
      {
        "duration": 11,
        "start_time": "2023-03-03T10:39:12.516Z"
      },
      {
        "duration": 26,
        "start_time": "2023-03-03T10:39:12.529Z"
      },
      {
        "duration": 90,
        "start_time": "2023-03-03T10:39:12.556Z"
      },
      {
        "duration": 562,
        "start_time": "2023-03-03T10:39:12.657Z"
      },
      {
        "duration": 6260,
        "start_time": "2023-03-03T10:39:13.220Z"
      },
      {
        "duration": 73,
        "start_time": "2023-03-03T10:39:19.482Z"
      },
      {
        "duration": 579,
        "start_time": "2023-03-03T10:39:19.557Z"
      },
      {
        "duration": 6376,
        "start_time": "2023-03-03T10:39:20.138Z"
      },
      {
        "duration": 12,
        "start_time": "2023-03-03T10:39:26.516Z"
      },
      {
        "duration": 37,
        "start_time": "2023-03-03T10:39:26.531Z"
      },
      {
        "duration": 87,
        "start_time": "2023-03-03T10:39:26.570Z"
      },
      {
        "duration": 693,
        "start_time": "2023-03-03T10:39:26.661Z"
      },
      {
        "duration": 8413,
        "start_time": "2023-03-03T10:39:27.356Z"
      },
      {
        "duration": 10,
        "start_time": "2023-03-03T10:39:35.771Z"
      },
      {
        "duration": 16,
        "start_time": "2023-03-03T10:39:35.783Z"
      },
      {
        "duration": 63,
        "start_time": "2023-03-03T10:39:35.801Z"
      },
      {
        "duration": 394,
        "start_time": "2023-03-03T10:39:35.868Z"
      },
      {
        "duration": 4071,
        "start_time": "2023-03-03T10:39:36.264Z"
      },
      {
        "duration": 125,
        "start_time": "2023-03-03T10:39:40.337Z"
      },
      {
        "duration": 304,
        "start_time": "2023-03-03T10:39:40.464Z"
      },
      {
        "duration": 108,
        "start_time": "2023-03-03T10:41:42.011Z"
      },
      {
        "duration": 3,
        "start_time": "2023-03-03T10:42:00.963Z"
      },
      {
        "duration": 10,
        "start_time": "2023-03-03T10:42:08.223Z"
      },
      {
        "duration": 9,
        "start_time": "2023-03-03T10:42:39.074Z"
      },
      {
        "duration": 9,
        "start_time": "2023-03-03T10:42:45.213Z"
      },
      {
        "duration": 13,
        "start_time": "2023-03-03T10:48:28.557Z"
      },
      {
        "duration": 12,
        "start_time": "2023-03-03T10:48:45.657Z"
      },
      {
        "duration": 9,
        "start_time": "2023-03-03T11:28:56.585Z"
      },
      {
        "duration": 9,
        "start_time": "2023-03-03T11:29:00.425Z"
      },
      {
        "duration": 9,
        "start_time": "2023-03-03T11:29:09.155Z"
      },
      {
        "duration": 8,
        "start_time": "2023-03-03T11:29:32.368Z"
      },
      {
        "duration": 9,
        "start_time": "2023-03-03T11:29:44.795Z"
      },
      {
        "duration": 9,
        "start_time": "2023-03-03T11:29:49.476Z"
      },
      {
        "duration": 10,
        "start_time": "2023-03-03T11:30:03.877Z"
      },
      {
        "duration": 9,
        "start_time": "2023-03-03T11:30:12.664Z"
      },
      {
        "duration": 10,
        "start_time": "2023-03-03T11:34:37.383Z"
      },
      {
        "duration": 133,
        "start_time": "2023-03-03T11:36:30.453Z"
      },
      {
        "duration": 109,
        "start_time": "2023-03-03T11:37:52.775Z"
      },
      {
        "duration": 105,
        "start_time": "2023-03-03T11:38:05.647Z"
      },
      {
        "duration": 106,
        "start_time": "2023-03-03T11:38:18.648Z"
      },
      {
        "duration": 110,
        "start_time": "2023-03-03T11:40:05.689Z"
      },
      {
        "duration": 100,
        "start_time": "2023-03-03T11:40:17.535Z"
      },
      {
        "duration": 111,
        "start_time": "2023-03-03T11:40:45.190Z"
      },
      {
        "duration": 114,
        "start_time": "2023-03-03T11:41:06.594Z"
      },
      {
        "duration": 71,
        "start_time": "2023-03-03T11:41:12.491Z"
      },
      {
        "duration": 110,
        "start_time": "2023-03-03T11:41:19.207Z"
      },
      {
        "duration": 126,
        "start_time": "2023-03-03T11:41:34.093Z"
      },
      {
        "duration": 118,
        "start_time": "2023-03-03T11:41:57.528Z"
      },
      {
        "duration": 108,
        "start_time": "2023-03-03T11:42:04.016Z"
      },
      {
        "duration": 106,
        "start_time": "2023-03-03T11:42:10.280Z"
      },
      {
        "duration": 102,
        "start_time": "2023-03-03T11:42:19.253Z"
      },
      {
        "duration": 120,
        "start_time": "2023-03-03T11:42:34.708Z"
      },
      {
        "duration": 107,
        "start_time": "2023-03-03T11:42:41.052Z"
      },
      {
        "duration": 115,
        "start_time": "2023-03-03T11:42:48.438Z"
      },
      {
        "duration": 107,
        "start_time": "2023-03-03T11:43:07.171Z"
      },
      {
        "duration": 107,
        "start_time": "2023-03-03T11:43:11.762Z"
      },
      {
        "duration": 113,
        "start_time": "2023-03-03T11:43:30.251Z"
      },
      {
        "duration": 105,
        "start_time": "2023-03-03T11:43:36.875Z"
      },
      {
        "duration": 106,
        "start_time": "2023-03-03T11:44:01.900Z"
      },
      {
        "duration": 103,
        "start_time": "2023-03-03T11:44:12.284Z"
      },
      {
        "duration": 109,
        "start_time": "2023-03-03T11:46:49.316Z"
      },
      {
        "duration": 106,
        "start_time": "2023-03-03T11:48:16.368Z"
      },
      {
        "duration": 10,
        "start_time": "2023-03-03T11:51:25.698Z"
      },
      {
        "duration": 14,
        "start_time": "2023-03-03T11:51:34.712Z"
      },
      {
        "duration": 9,
        "start_time": "2023-03-03T11:51:46.429Z"
      },
      {
        "duration": 111,
        "start_time": "2023-03-03T11:56:44.667Z"
      },
      {
        "duration": 13,
        "start_time": "2023-03-03T11:56:50.710Z"
      },
      {
        "duration": 9,
        "start_time": "2023-03-03T11:56:58.893Z"
      },
      {
        "duration": 122,
        "start_time": "2023-03-03T11:57:34.146Z"
      },
      {
        "duration": 115,
        "start_time": "2023-03-03T11:58:07.928Z"
      },
      {
        "duration": 123,
        "start_time": "2023-03-03T11:59:03.373Z"
      },
      {
        "duration": 109,
        "start_time": "2023-03-03T12:01:02.767Z"
      },
      {
        "duration": 108,
        "start_time": "2023-03-03T12:01:16.163Z"
      },
      {
        "duration": 110,
        "start_time": "2023-03-03T12:03:37.138Z"
      },
      {
        "duration": 44,
        "start_time": "2023-03-04T03:06:07.482Z"
      },
      {
        "duration": 6676,
        "start_time": "2023-03-04T03:06:30.797Z"
      },
      {
        "duration": 921,
        "start_time": "2023-03-04T03:06:37.476Z"
      },
      {
        "duration": 86,
        "start_time": "2023-03-04T03:06:38.399Z"
      },
      {
        "duration": 18,
        "start_time": "2023-03-04T03:06:38.487Z"
      },
      {
        "duration": 15,
        "start_time": "2023-03-04T03:06:38.507Z"
      },
      {
        "duration": 11,
        "start_time": "2023-03-04T03:06:38.523Z"
      },
      {
        "duration": 5,
        "start_time": "2023-03-04T03:06:38.535Z"
      },
      {
        "duration": 6,
        "start_time": "2023-03-04T03:06:38.542Z"
      },
      {
        "duration": 7,
        "start_time": "2023-03-04T03:06:38.550Z"
      },
      {
        "duration": 8,
        "start_time": "2023-03-04T03:06:38.558Z"
      },
      {
        "duration": 2,
        "start_time": "2023-03-04T03:06:38.568Z"
      },
      {
        "duration": 5,
        "start_time": "2023-03-04T03:06:38.571Z"
      },
      {
        "duration": 17,
        "start_time": "2023-03-04T03:06:38.578Z"
      },
      {
        "duration": 10,
        "start_time": "2023-03-04T03:06:38.598Z"
      },
      {
        "duration": 21,
        "start_time": "2023-03-04T03:06:38.609Z"
      },
      {
        "duration": 8,
        "start_time": "2023-03-04T03:06:38.632Z"
      },
      {
        "duration": 39,
        "start_time": "2023-03-04T03:06:38.642Z"
      },
      {
        "duration": 11,
        "start_time": "2023-03-04T03:06:38.684Z"
      },
      {
        "duration": 26,
        "start_time": "2023-03-04T03:06:38.696Z"
      },
      {
        "duration": 25,
        "start_time": "2023-03-04T03:06:38.724Z"
      },
      {
        "duration": 10,
        "start_time": "2023-03-04T03:06:38.751Z"
      },
      {
        "duration": 90,
        "start_time": "2023-03-04T03:06:38.763Z"
      },
      {
        "duration": 531,
        "start_time": "2023-03-04T03:06:38.855Z"
      },
      {
        "duration": 5750,
        "start_time": "2023-03-04T03:06:39.388Z"
      },
      {
        "duration": 110,
        "start_time": "2023-03-04T03:06:45.139Z"
      },
      {
        "duration": 568,
        "start_time": "2023-03-04T03:06:45.252Z"
      },
      {
        "duration": 5898,
        "start_time": "2023-03-04T03:06:45.822Z"
      },
      {
        "duration": 13,
        "start_time": "2023-03-04T03:06:51.722Z"
      },
      {
        "duration": 14,
        "start_time": "2023-03-04T03:06:51.736Z"
      },
      {
        "duration": 101,
        "start_time": "2023-03-04T03:06:51.751Z"
      },
      {
        "duration": 648,
        "start_time": "2023-03-04T03:06:51.854Z"
      },
      {
        "duration": 7633,
        "start_time": "2023-03-04T03:06:52.503Z"
      },
      {
        "duration": 14,
        "start_time": "2023-03-04T03:07:00.138Z"
      },
      {
        "duration": 6,
        "start_time": "2023-03-04T03:07:00.154Z"
      },
      {
        "duration": 87,
        "start_time": "2023-03-04T03:07:00.162Z"
      },
      {
        "duration": 322,
        "start_time": "2023-03-04T03:07:00.251Z"
      },
      {
        "duration": 3702,
        "start_time": "2023-03-04T03:07:00.575Z"
      },
      {
        "duration": 109,
        "start_time": "2023-03-04T03:07:04.279Z"
      },
      {
        "duration": 7,
        "start_time": "2023-03-04T03:07:04.390Z"
      },
      {
        "duration": 2214,
        "start_time": "2023-03-04T07:05:23.755Z"
      },
      {
        "duration": 1003,
        "start_time": "2023-03-04T07:05:25.972Z"
      },
      {
        "duration": 43,
        "start_time": "2023-03-04T07:05:26.977Z"
      },
      {
        "duration": 21,
        "start_time": "2023-03-04T07:05:27.022Z"
      },
      {
        "duration": 14,
        "start_time": "2023-03-04T07:05:27.046Z"
      },
      {
        "duration": 12,
        "start_time": "2023-03-04T07:05:27.062Z"
      },
      {
        "duration": 8,
        "start_time": "2023-03-04T07:05:27.076Z"
      },
      {
        "duration": 8,
        "start_time": "2023-03-04T07:05:27.086Z"
      },
      {
        "duration": 8,
        "start_time": "2023-03-04T07:05:27.097Z"
      },
      {
        "duration": 11,
        "start_time": "2023-03-04T07:05:27.107Z"
      },
      {
        "duration": 3,
        "start_time": "2023-03-04T07:05:27.120Z"
      },
      {
        "duration": 3,
        "start_time": "2023-03-04T07:05:27.150Z"
      },
      {
        "duration": 8,
        "start_time": "2023-03-04T07:05:27.155Z"
      },
      {
        "duration": 7,
        "start_time": "2023-03-04T07:05:27.166Z"
      },
      {
        "duration": 13,
        "start_time": "2023-03-04T07:05:27.175Z"
      },
      {
        "duration": 5,
        "start_time": "2023-03-04T07:05:27.190Z"
      },
      {
        "duration": 71,
        "start_time": "2023-03-04T07:05:27.197Z"
      },
      {
        "duration": 10,
        "start_time": "2023-03-04T07:05:27.271Z"
      },
      {
        "duration": 23,
        "start_time": "2023-03-04T07:05:27.283Z"
      },
      {
        "duration": 14,
        "start_time": "2023-03-04T07:05:27.307Z"
      },
      {
        "duration": 26,
        "start_time": "2023-03-04T07:05:27.323Z"
      },
      {
        "duration": 28,
        "start_time": "2023-03-04T07:05:27.351Z"
      },
      {
        "duration": 557,
        "start_time": "2023-03-04T07:05:27.451Z"
      },
      {
        "duration": 5855,
        "start_time": "2023-03-04T07:05:28.010Z"
      },
      {
        "duration": 93,
        "start_time": "2023-03-04T07:05:33.866Z"
      },
      {
        "duration": 484,
        "start_time": "2023-03-04T07:05:34.049Z"
      },
      {
        "duration": 5891,
        "start_time": "2023-03-04T07:05:34.535Z"
      },
      {
        "duration": 12,
        "start_time": "2023-03-04T07:05:40.428Z"
      },
      {
        "duration": 5,
        "start_time": "2023-03-04T07:05:40.448Z"
      },
      {
        "duration": 97,
        "start_time": "2023-03-04T07:05:40.455Z"
      },
      {
        "duration": 656,
        "start_time": "2023-03-04T07:05:40.554Z"
      },
      {
        "duration": 7971,
        "start_time": "2023-03-04T07:05:41.213Z"
      },
      {
        "duration": 10,
        "start_time": "2023-03-04T07:05:49.186Z"
      },
      {
        "duration": 5,
        "start_time": "2023-03-04T07:05:49.197Z"
      },
      {
        "duration": 60,
        "start_time": "2023-03-04T07:05:49.203Z"
      },
      {
        "duration": 343,
        "start_time": "2023-03-04T07:05:49.265Z"
      },
      {
        "duration": 4002,
        "start_time": "2023-03-04T07:05:49.610Z"
      },
      {
        "duration": 115,
        "start_time": "2023-03-04T07:05:53.614Z"
      },
      {
        "duration": 9,
        "start_time": "2023-03-04T07:05:53.731Z"
      },
      {
        "duration": 203,
        "start_time": "2023-03-04T08:44:18.705Z"
      },
      {
        "duration": 110,
        "start_time": "2023-03-04T08:44:27.190Z"
      },
      {
        "duration": 116,
        "start_time": "2023-03-04T08:44:54.286Z"
      },
      {
        "duration": 111,
        "start_time": "2023-03-04T08:45:00.028Z"
      },
      {
        "duration": 97,
        "start_time": "2023-03-04T08:45:16.796Z"
      },
      {
        "duration": 127,
        "start_time": "2023-03-04T08:45:47.045Z"
      },
      {
        "duration": 108,
        "start_time": "2023-03-04T08:46:08.816Z"
      },
      {
        "duration": 114,
        "start_time": "2023-03-04T08:46:14.607Z"
      },
      {
        "duration": 121,
        "start_time": "2023-03-04T08:46:23.808Z"
      },
      {
        "duration": 114,
        "start_time": "2023-03-04T08:46:35.047Z"
      },
      {
        "duration": 113,
        "start_time": "2023-03-04T08:46:38.912Z"
      },
      {
        "duration": 130,
        "start_time": "2023-03-04T08:46:43.986Z"
      },
      {
        "duration": 147,
        "start_time": "2023-03-04T08:46:46.305Z"
      },
      {
        "duration": 123,
        "start_time": "2023-03-04T08:46:54.441Z"
      },
      {
        "duration": 111,
        "start_time": "2023-03-04T08:47:36.930Z"
      },
      {
        "duration": 4,
        "start_time": "2023-03-04T08:52:23.035Z"
      },
      {
        "duration": 114,
        "start_time": "2023-03-04T09:05:42.166Z"
      },
      {
        "duration": 152,
        "start_time": "2023-03-04T09:06:21.094Z"
      },
      {
        "duration": 14,
        "start_time": "2023-03-04T09:06:34.066Z"
      },
      {
        "duration": 66,
        "start_time": "2023-03-04T09:06:41.267Z"
      },
      {
        "duration": 103,
        "start_time": "2023-03-04T09:06:52.233Z"
      },
      {
        "duration": 7,
        "start_time": "2023-03-04T09:06:59.678Z"
      },
      {
        "duration": 4,
        "start_time": "2023-03-04T09:08:54.982Z"
      },
      {
        "duration": 113,
        "start_time": "2023-03-04T09:11:28.059Z"
      },
      {
        "duration": 118,
        "start_time": "2023-03-04T09:12:18.470Z"
      },
      {
        "duration": 18,
        "start_time": "2023-03-04T09:20:11.545Z"
      },
      {
        "duration": 2185,
        "start_time": "2023-03-04T10:16:20.432Z"
      },
      {
        "duration": 941,
        "start_time": "2023-03-04T10:16:22.620Z"
      },
      {
        "duration": 42,
        "start_time": "2023-03-04T10:16:23.563Z"
      },
      {
        "duration": 19,
        "start_time": "2023-03-04T10:16:23.608Z"
      },
      {
        "duration": 15,
        "start_time": "2023-03-04T10:16:23.628Z"
      },
      {
        "duration": 18,
        "start_time": "2023-03-04T10:16:23.644Z"
      },
      {
        "duration": 5,
        "start_time": "2023-03-04T10:16:23.664Z"
      },
      {
        "duration": 6,
        "start_time": "2023-03-04T10:16:23.671Z"
      },
      {
        "duration": 6,
        "start_time": "2023-03-04T10:16:23.679Z"
      },
      {
        "duration": 10,
        "start_time": "2023-03-04T10:16:23.688Z"
      },
      {
        "duration": 4,
        "start_time": "2023-03-04T10:16:23.699Z"
      },
      {
        "duration": 7,
        "start_time": "2023-03-04T10:16:23.705Z"
      },
      {
        "duration": 5,
        "start_time": "2023-03-04T10:16:23.713Z"
      },
      {
        "duration": 10,
        "start_time": "2023-03-04T10:16:23.719Z"
      },
      {
        "duration": 3,
        "start_time": "2023-03-04T10:16:23.731Z"
      },
      {
        "duration": 43,
        "start_time": "2023-03-04T10:16:23.736Z"
      },
      {
        "duration": 11,
        "start_time": "2023-03-04T10:16:23.781Z"
      },
      {
        "duration": 32,
        "start_time": "2023-03-04T10:16:23.793Z"
      },
      {
        "duration": 26,
        "start_time": "2023-03-04T10:16:23.827Z"
      },
      {
        "duration": 15,
        "start_time": "2023-03-04T10:16:23.862Z"
      },
      {
        "duration": 71,
        "start_time": "2023-03-04T10:16:23.879Z"
      },
      {
        "duration": 550,
        "start_time": "2023-03-04T10:16:23.953Z"
      },
      {
        "duration": 6187,
        "start_time": "2023-03-04T10:16:24.505Z"
      },
      {
        "duration": 159,
        "start_time": "2023-03-04T10:16:30.693Z"
      },
      {
        "duration": 1088,
        "start_time": "2023-03-04T10:16:30.864Z"
      },
      {
        "duration": 6949,
        "start_time": "2023-03-04T10:16:31.954Z"
      },
      {
        "duration": 12,
        "start_time": "2023-03-04T10:16:38.905Z"
      },
      {
        "duration": 5,
        "start_time": "2023-03-04T10:16:38.920Z"
      },
      {
        "duration": 49,
        "start_time": "2023-03-04T10:16:38.927Z"
      },
      {
        "duration": 756,
        "start_time": "2023-03-04T10:16:38.978Z"
      },
      {
        "duration": 8328,
        "start_time": "2023-03-04T10:16:39.736Z"
      },
      {
        "duration": 9,
        "start_time": "2023-03-04T10:16:48.066Z"
      },
      {
        "duration": 4,
        "start_time": "2023-03-04T10:16:48.077Z"
      },
      {
        "duration": 70,
        "start_time": "2023-03-04T10:16:48.083Z"
      },
      {
        "duration": 336,
        "start_time": "2023-03-04T10:16:48.157Z"
      },
      {
        "duration": 3920,
        "start_time": "2023-03-04T10:16:48.495Z"
      },
      {
        "duration": 107,
        "start_time": "2023-03-04T10:16:52.416Z"
      },
      {
        "duration": 8,
        "start_time": "2023-03-04T10:16:52.524Z"
      },
      {
        "duration": 4,
        "start_time": "2023-03-04T10:17:32.614Z"
      },
      {
        "duration": 2491,
        "start_time": "2023-03-04T10:22:45.067Z"
      },
      {
        "duration": 949,
        "start_time": "2023-03-04T10:22:47.561Z"
      },
      {
        "duration": 48,
        "start_time": "2023-03-04T10:22:48.511Z"
      },
      {
        "duration": 21,
        "start_time": "2023-03-04T10:22:48.562Z"
      },
      {
        "duration": 13,
        "start_time": "2023-03-04T10:22:48.585Z"
      },
      {
        "duration": 12,
        "start_time": "2023-03-04T10:22:48.600Z"
      },
      {
        "duration": 6,
        "start_time": "2023-03-04T10:22:48.614Z"
      },
      {
        "duration": 47,
        "start_time": "2023-03-04T10:22:48.622Z"
      },
      {
        "duration": 8,
        "start_time": "2023-03-04T10:22:48.671Z"
      },
      {
        "duration": 13,
        "start_time": "2023-03-04T10:22:48.682Z"
      },
      {
        "duration": 3,
        "start_time": "2023-03-04T10:22:48.697Z"
      },
      {
        "duration": 15,
        "start_time": "2023-03-04T10:22:48.702Z"
      },
      {
        "duration": 7,
        "start_time": "2023-03-04T10:22:48.719Z"
      },
      {
        "duration": 10,
        "start_time": "2023-03-04T10:22:48.727Z"
      },
      {
        "duration": 3,
        "start_time": "2023-03-04T10:22:48.739Z"
      },
      {
        "duration": 49,
        "start_time": "2023-03-04T10:22:48.743Z"
      },
      {
        "duration": 14,
        "start_time": "2023-03-04T10:22:48.794Z"
      },
      {
        "duration": 32,
        "start_time": "2023-03-04T10:22:48.809Z"
      },
      {
        "duration": 15,
        "start_time": "2023-03-04T10:22:48.842Z"
      },
      {
        "duration": 20,
        "start_time": "2023-03-04T10:22:48.862Z"
      },
      {
        "duration": 81,
        "start_time": "2023-03-04T10:22:48.884Z"
      },
      {
        "duration": 576,
        "start_time": "2023-03-04T10:22:48.967Z"
      },
      {
        "duration": 6380,
        "start_time": "2023-03-04T10:22:49.548Z"
      },
      {
        "duration": 123,
        "start_time": "2023-03-04T10:22:55.931Z"
      },
      {
        "duration": 647,
        "start_time": "2023-03-04T10:22:56.056Z"
      },
      {
        "duration": 6422,
        "start_time": "2023-03-04T10:22:56.705Z"
      },
      {
        "duration": 12,
        "start_time": "2023-03-04T10:23:03.129Z"
      },
      {
        "duration": 14,
        "start_time": "2023-03-04T10:23:03.149Z"
      },
      {
        "duration": 92,
        "start_time": "2023-03-04T10:23:03.165Z"
      },
      {
        "duration": 687,
        "start_time": "2023-03-04T10:23:03.259Z"
      },
      {
        "duration": 8070,
        "start_time": "2023-03-04T10:23:03.948Z"
      },
      {
        "duration": 10,
        "start_time": "2023-03-04T10:23:12.019Z"
      },
      {
        "duration": 47,
        "start_time": "2023-03-04T10:23:12.030Z"
      },
      {
        "duration": 76,
        "start_time": "2023-03-04T10:23:12.079Z"
      },
      {
        "duration": 317,
        "start_time": "2023-03-04T10:23:12.157Z"
      },
      {
        "duration": 4030,
        "start_time": "2023-03-04T10:23:12.476Z"
      },
      {
        "duration": 121,
        "start_time": "2023-03-04T10:23:16.508Z"
      },
      {
        "duration": 7,
        "start_time": "2023-03-04T10:23:16.630Z"
      }
    ],
    "kernelspec": {
      "display_name": "Python 3 (ipykernel)",
      "language": "python",
      "name": "python3"
    },
    "language_info": {
      "codemirror_mode": {
        "name": "ipython",
        "version": 3
      },
      "file_extension": ".py",
      "mimetype": "text/x-python",
      "name": "python",
      "nbconvert_exporter": "python",
      "pygments_lexer": "ipython3",
      "version": "3.9.5"
    },
    "toc": {
      "base_numbering": 1,
      "nav_menu": {},
      "number_sections": true,
      "sideBar": true,
      "skip_h1_title": true,
      "title_cell": "Содержание",
      "title_sidebar": "Contents",
      "toc_cell": true,
      "toc_position": {
        "height": "calc(100% - 180px)",
        "left": "10px",
        "top": "150px",
        "width": "238.2px"
      },
      "toc_section_display": true,
      "toc_window_display": false
    },
    "colab": {
      "provenance": [],
      "toc_visible": true
    }
  },
  "nbformat": 4,
  "nbformat_minor": 0
}